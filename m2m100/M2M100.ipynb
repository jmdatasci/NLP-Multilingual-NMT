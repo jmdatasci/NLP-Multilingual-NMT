{
  "cells": [
    {
      "cell_type": "markdown",
      "metadata": {
        "id": "i_NC7vYn9PRe"
      },
      "source": [
        "## 1. Set Up"
      ]
    },
    {
      "cell_type": "code",
      "execution_count": null,
      "metadata": {
        "id": "vfSd9LFl4YO1",
        "colab": {
          "base_uri": "https://localhost:8080/"
        },
        "outputId": "aea49e4d-89a8-44a5-81e8-174514fc163c"
      },
      "outputs": [
        {
          "output_type": "stream",
          "name": "stdout",
          "text": [
            "\u001b[K     |████████████████████████████████| 1.3 MB 14.2 MB/s \n",
            "\u001b[K     |████████████████████████████████| 5.5 MB 11.6 MB/s \n",
            "\u001b[K     |████████████████████████████████| 182 kB 53.8 MB/s \n",
            "\u001b[K     |████████████████████████████████| 7.6 MB 72.7 MB/s \n",
            "\u001b[K     |████████████████████████████████| 451 kB 14.4 MB/s \n",
            "\u001b[K     |████████████████████████████████| 212 kB 89.3 MB/s \n",
            "\u001b[K     |████████████████████████████████| 115 kB 88.8 MB/s \n",
            "\u001b[K     |████████████████████████████████| 127 kB 90.0 MB/s \n",
            "\u001b[?25h"
          ]
        }
      ],
      "source": [
        "!pip install -q sentencepiece\n",
        "!pip install -q transformers\n",
        "!pip install -q datasets\n",
        "!pip install pydot --quiet"
      ]
    },
    {
      "cell_type": "code",
      "source": [
        "!pip install git+https://github.com/google-research/bleurt.git -q\n",
        "# !wget -N https://storage.googleapis.com/bleurt-oss-21/BLEURT-20.zip . -q\n",
        "# !unzip -q -n BLEURT-20.zip\n",
        "\n",
        "!wget https://storage.googleapis.com/bleurt-oss-21/BLEURT-20-D12.zip . -q\n",
        "!unzip -q -n BLEURT-20-D12.zip"
      ],
      "metadata": {
        "id": "NCMevqvgoict",
        "colab": {
          "base_uri": "https://localhost:8080/"
        },
        "outputId": "4d05068c-eb20-47f2-a583-a8dab2f89e8e"
      },
      "execution_count": null,
      "outputs": [
        {
          "output_type": "stream",
          "name": "stdout",
          "text": [
            "\u001b[?25l\r\u001b[K     |█                               | 10 kB 36.1 MB/s eta 0:00:01\r\u001b[K     |█▉                              | 20 kB 15.8 MB/s eta 0:00:01\r\u001b[K     |██▉                             | 30 kB 21.5 MB/s eta 0:00:01\r\u001b[K     |███▊                            | 40 kB 12.9 MB/s eta 0:00:01\r\u001b[K     |████▋                           | 51 kB 13.5 MB/s eta 0:00:01\r\u001b[K     |█████▋                          | 61 kB 15.8 MB/s eta 0:00:01\r\u001b[K     |██████▌                         | 71 kB 14.1 MB/s eta 0:00:01\r\u001b[K     |███████▌                        | 81 kB 15.7 MB/s eta 0:00:01\r\u001b[K     |████████▍                       | 92 kB 13.7 MB/s eta 0:00:01\r\u001b[K     |█████████▎                      | 102 kB 15.0 MB/s eta 0:00:01\r\u001b[K     |██████████▎                     | 112 kB 15.0 MB/s eta 0:00:01\r\u001b[K     |███████████▏                    | 122 kB 15.0 MB/s eta 0:00:01\r\u001b[K     |████████████                    | 133 kB 15.0 MB/s eta 0:00:01\r\u001b[K     |█████████████                   | 143 kB 15.0 MB/s eta 0:00:01\r\u001b[K     |██████████████                  | 153 kB 15.0 MB/s eta 0:00:01\r\u001b[K     |███████████████                 | 163 kB 15.0 MB/s eta 0:00:01\r\u001b[K     |███████████████▉                | 174 kB 15.0 MB/s eta 0:00:01\r\u001b[K     |████████████████▊               | 184 kB 15.0 MB/s eta 0:00:01\r\u001b[K     |█████████████████▊              | 194 kB 15.0 MB/s eta 0:00:01\r\u001b[K     |██████████████████▋             | 204 kB 15.0 MB/s eta 0:00:01\r\u001b[K     |███████████████████▌            | 215 kB 15.0 MB/s eta 0:00:01\r\u001b[K     |████████████████████▌           | 225 kB 15.0 MB/s eta 0:00:01\r\u001b[K     |█████████████████████▍          | 235 kB 15.0 MB/s eta 0:00:01\r\u001b[K     |██████████████████████▍         | 245 kB 15.0 MB/s eta 0:00:01\r\u001b[K     |███████████████████████▎        | 256 kB 15.0 MB/s eta 0:00:01\r\u001b[K     |████████████████████████▏       | 266 kB 15.0 MB/s eta 0:00:01\r\u001b[K     |█████████████████████████▏      | 276 kB 15.0 MB/s eta 0:00:01\r\u001b[K     |██████████████████████████      | 286 kB 15.0 MB/s eta 0:00:01\r\u001b[K     |███████████████████████████     | 296 kB 15.0 MB/s eta 0:00:01\r\u001b[K     |████████████████████████████    | 307 kB 15.0 MB/s eta 0:00:01\r\u001b[K     |████████████████████████████▉   | 317 kB 15.0 MB/s eta 0:00:01\r\u001b[K     |█████████████████████████████▉  | 327 kB 15.0 MB/s eta 0:00:01\r\u001b[K     |██████████████████████████████▊ | 337 kB 15.0 MB/s eta 0:00:01\r\u001b[K     |███████████████████████████████▋| 348 kB 15.0 MB/s eta 0:00:01\r\u001b[K     |████████████████████████████████| 352 kB 15.0 MB/s \n",
            "\u001b[?25h  Building wheel for BLEURT (setup.py) ... \u001b[?25l\u001b[?25hdone\n"
          ]
        }
      ]
    },
    {
      "cell_type": "code",
      "execution_count": null,
      "metadata": {
        "id": "faK8YpSh9o4l"
      },
      "outputs": [],
      "source": [
        "import re\n",
        "import os\n",
        "import sklearn as sk\n",
        "import numpy as np\n",
        "\n",
        "import pandas as pd\n",
        "import ast\n",
        "import matplotlib.pyplot as plt\n",
        "\n",
        "import torch  # Only if you use a pytorch model, both options are shown below\n",
        "from transformers import M2M100Config, M2M100Tokenizer, M2M100ForConditionalGeneration\n",
        "from transformers import Seq2SeqTrainingArguments, Seq2SeqTrainer\n",
        "\n",
        "import nltk\n",
        "from nltk.data import find\n",
        "\n",
        "import tensorflow as tf\n",
        "from tensorflow import keras\n",
        "\n",
        "import datasets\n",
        "from datasets import list_datasets, list_metrics, load_dataset, load_metric\n",
        "from pprint import pprint\n",
        "from bleurt import score\n",
        "import csv\n",
        "import random"
      ]
    },
    {
      "cell_type": "markdown",
      "metadata": {
        "id": "AJaiRveN91U4"
      },
      "source": [
        "#### 1.1 M2M100"
      ]
    },
    {
      "cell_type": "code",
      "source": [
        "MODEL_CHECKPOINT = 'facebook/m2m100_418M'\n",
        "m2m_tokenizer = M2M100Tokenizer.from_pretrained(MODEL_CHECKPOINT)\n",
        "m2m_model = M2M100ForConditionalGeneration.from_pretrained(MODEL_CHECKPOINT)\n",
        "# bleurt_metric = score.BleurtScorer(BLEURT_CHECKPOINT)"
      ],
      "metadata": {
        "id": "cI-8nFegi4EH",
        "colab": {
          "base_uri": "https://localhost:8080/",
          "height": 209,
          "referenced_widgets": [
            "957fb2a9eb284a1da9518f432d022192",
            "0054b158ee8249828019c4daea0073b6",
            "bc83fd66eef14f6999706f42cf429e4e",
            "02f50d43eb1841609fefcb8a9e571478",
            "c12fbd5b6e004795a518a4a4d863c054",
            "d8f93f7413174e0983512d2f8f0e9898",
            "d02e718c35d146cd8f746ba0c253ca4f",
            "7b6951d324534cb9a2478f9b71fd7448",
            "5bd3a7529bef4fc58e83d8df50e40561",
            "7e7b88a76aef4999af95da4cd7d3162b",
            "9757524fa5574be8a1198736aaa2bc7c",
            "9a209192e13b4be18f08637a35aebf14",
            "c9798dab454d4a0da54cd119641f9f75",
            "ac227d5fff8c4065bb57ce2bf3de0d82",
            "47527e920ee04c59be80a19ce31959f9",
            "37f2888ba1f04e3baf3e95c6da6b57d3",
            "7aa2a6aa33c34470a65df04fd797e0af",
            "dd20da3cd7da41c7847f788658bedf9f",
            "77ed8985d9c5445fa4896c047888de76",
            "72dc15971d154f459bbc87015aa99d41",
            "d02a2b006d41453090b936967c9e10af",
            "e4d0b23ccab8458bb2ecc50e5c2ce523",
            "6006f7a44dd042fd8aab3b62b53ded70",
            "2fd4ef8aeca84aaba5350d6c88a0b4ec",
            "4b5764feec984a84b0d568056e7f92be",
            "83be2fc80da64dc4b0b05a1b7f6be19e",
            "34f2084049114ce99c5a2500d718dfbf",
            "bab04cd5043a4c6fa9507ab172f608ed",
            "f0beb72ef92044d39570abf39387fab0",
            "00df05d7f9f84f72a8bab2884b85605f",
            "1113344f953b48cf95cbb88af509702b",
            "b6eab4eb9e02471087549bb9ac8926da",
            "dd6def8929ae47d8b062606ee5fa53e0",
            "736198f915d34b11b96f7d1204f883e2",
            "f3609d8c27f2419f84caf4a0305b81f4",
            "04b4465fe5ad4694ba46da2362e9d315",
            "159216888bc84ce09aa9ce55738becf1",
            "d8d1406f8ee04c9a81047b00e3548d65",
            "675208a170fc41a2bc78e8dd0cf12503",
            "c3d43876baa44d7f9c2c27ec58120761",
            "19ab30c455464e54b16e6303a1670ee1",
            "be96e3491ac841ff81b9877af3a2c365",
            "923a1d40e6324f6ca7f80ea4d2a9259d",
            "fff85ed148ef43ec9045306039b83165",
            "3bf73141f6914e70b815cb8f0c848a9b",
            "c69798bcf12448cb837e0157357b3dc6",
            "c766356b1d274905afbc81fa05c3ff34",
            "ec88f47bb2a14f1d90f839683e024d44",
            "d6bbaba02fb64ea891cccb36972fa7f5",
            "3409b98803414f6691aee1431bc96272",
            "a9778741d24041cfbb04417b531b6645",
            "609ebefb8ecd477f8752077add96a85c",
            "a1a21a0a6b344133b72c5fe75e89b66d",
            "07f342991b814bcb9f9832c9f7f9c972",
            "c7f32eb9bdc1458a8aa3d443363144af",
            "429ee9ab4d234cc5b337a69c30e66518",
            "11e5a37b065941c78281044997a1a0e6",
            "4bb5f8bc0ca14a6c94e0a736603e4ae3",
            "f39a19a8b6c74eaf9ef8f20401992a71",
            "f0c380247d8f4702b4fd9eb24fcf526e",
            "3e8dd644690548f08d6ea325e2c2a968",
            "79a14e2b2e424e55bdc67b432f89baf9",
            "5ae549c7950645b8b4ca22460ea84763",
            "48370dd7af4e445da71c8ed39b88c41e",
            "7743f7a8b1db4c7c88807f735eca8f53",
            "fee094e836044e6d8d69c4785388ade9"
          ]
        },
        "outputId": "c60cfe94-2b8c-4932-b67d-e953fd5461ef"
      },
      "execution_count": null,
      "outputs": [
        {
          "output_type": "display_data",
          "data": {
            "text/plain": [
              "Downloading:   0%|          | 0.00/3.71M [00:00<?, ?B/s]"
            ],
            "application/vnd.jupyter.widget-view+json": {
              "version_major": 2,
              "version_minor": 0,
              "model_id": "957fb2a9eb284a1da9518f432d022192"
            }
          },
          "metadata": {}
        },
        {
          "output_type": "display_data",
          "data": {
            "text/plain": [
              "Downloading:   0%|          | 0.00/2.42M [00:00<?, ?B/s]"
            ],
            "application/vnd.jupyter.widget-view+json": {
              "version_major": 2,
              "version_minor": 0,
              "model_id": "9a209192e13b4be18f08637a35aebf14"
            }
          },
          "metadata": {}
        },
        {
          "output_type": "display_data",
          "data": {
            "text/plain": [
              "Downloading:   0%|          | 0.00/272 [00:00<?, ?B/s]"
            ],
            "application/vnd.jupyter.widget-view+json": {
              "version_major": 2,
              "version_minor": 0,
              "model_id": "6006f7a44dd042fd8aab3b62b53ded70"
            }
          },
          "metadata": {}
        },
        {
          "output_type": "display_data",
          "data": {
            "text/plain": [
              "Downloading:   0%|          | 0.00/1.14k [00:00<?, ?B/s]"
            ],
            "application/vnd.jupyter.widget-view+json": {
              "version_major": 2,
              "version_minor": 0,
              "model_id": "736198f915d34b11b96f7d1204f883e2"
            }
          },
          "metadata": {}
        },
        {
          "output_type": "display_data",
          "data": {
            "text/plain": [
              "Downloading:   0%|          | 0.00/908 [00:00<?, ?B/s]"
            ],
            "application/vnd.jupyter.widget-view+json": {
              "version_major": 2,
              "version_minor": 0,
              "model_id": "3bf73141f6914e70b815cb8f0c848a9b"
            }
          },
          "metadata": {}
        },
        {
          "output_type": "display_data",
          "data": {
            "text/plain": [
              "Downloading:   0%|          | 0.00/1.94G [00:00<?, ?B/s]"
            ],
            "application/vnd.jupyter.widget-view+json": {
              "version_major": 2,
              "version_minor": 0,
              "model_id": "429ee9ab4d234cc5b337a69c30e66518"
            }
          },
          "metadata": {}
        }
      ]
    },
    {
      "cell_type": "code",
      "source": [
        "from google.colab import drive\n",
        "drive.mount('/content/drive')\n",
        "!ls drive/MyDrive"
      ],
      "metadata": {
        "id": "sITDKc3Qm7Cz",
        "colab": {
          "base_uri": "https://localhost:8080/"
        },
        "outputId": "6aaa2f77-134b-4d98-c576-9ff5be46694e"
      },
      "execution_count": null,
      "outputs": [
        {
          "output_type": "stream",
          "name": "stdout",
          "text": [
            "Mounted at /content/drive\n",
            "'bert2bert_en_zh (1).ipynb'   Final_project_FJ.ipynb\t  W266\n",
            "'Colab Notebooks'\t      MBart_Mini_Tuner.ipynb\n",
            " Final_project_FJ_2.ipynb     Text_classification.ipynb\n"
          ]
        }
      ]
    },
    {
      "cell_type": "code",
      "source": [
        "# bleu_metric = datasets.load_metric(\"bleu\")\n",
        "bleurt_metric = datasets.load_metric('bleurt', 'bleurt-20-d12')"
      ],
      "metadata": {
        "id": "BGT07GjY2TzH",
        "colab": {
          "base_uri": "https://localhost:8080/",
          "height": 136,
          "referenced_widgets": [
            "32adf869f0934216b3c7d6ae303df55f",
            "e0dc5ec31fe144e0a2f8e9d0da935947",
            "d725ff5c5598420aa5611b7c016340f6",
            "a7c551d5fa3d4c1c8cb636ba9093df48",
            "2d9952fcf70841c29555d5939032be26",
            "28b08cefdaeb4089a2c75e742bc648ec",
            "2243b76e17b444a68fb39f047ffabb4f",
            "bf02797161934a1cb88598c1b281f002",
            "858bf682eaac49cc9b7c2c307c0e2ebc",
            "74b969efd869485fb96412bcbb1b9eed",
            "cfcf32dc8ddd4cfd805501c6501af66c",
            "c7460dff745b4c148f61276383c70b96",
            "236bfc82b94b4bcab76a24c6baac0af8",
            "ff12765534a94cf0a9c6c483267ae410",
            "3a97f4c2937f460f847eaef4207d033c",
            "ce5c10e4be174bf187192496e1296830",
            "6a9ab193490f4b2799249e7c6e4854c8",
            "75c366a467d142fda169c57442380abe",
            "d2084f12282c4b8c8dbc2b4739e9a5e7",
            "d9ca20e527864e38ae7c3153b43ae317",
            "43dc284f1b4945ec95c321f2f816f9d5",
            "559435b728c042bbb9c49dd66697df11"
          ]
        },
        "outputId": "66929609-df3a-413a-866b-8dad6a86e4ef"
      },
      "execution_count": null,
      "outputs": [
        {
          "output_type": "stream",
          "name": "stderr",
          "text": [
            "/usr/local/lib/python3.7/dist-packages/ipykernel_launcher.py:2: FutureWarning: load_metric is deprecated and will be removed in the next major version of datasets. Use 'evaluate.load' instead, from the new library 🤗 Evaluate: https://huggingface.co/docs/evaluate\n",
            "  \n"
          ]
        },
        {
          "output_type": "display_data",
          "data": {
            "text/plain": [
              "Downloading builder script:   0%|          | 0.00/1.97k [00:00<?, ?B/s]"
            ],
            "application/vnd.jupyter.widget-view+json": {
              "version_major": 2,
              "version_minor": 0,
              "model_id": "32adf869f0934216b3c7d6ae303df55f"
            }
          },
          "metadata": {}
        },
        {
          "output_type": "display_data",
          "data": {
            "text/plain": [
              "Downloading data:   0%|          | 0.00/625M [00:00<?, ?B/s]"
            ],
            "application/vnd.jupyter.widget-view+json": {
              "version_major": 2,
              "version_minor": 0,
              "model_id": "c7460dff745b4c148f61276383c70b96"
            }
          },
          "metadata": {}
        }
      ]
    },
    {
      "cell_type": "code",
      "source": [
        "random.seed(55)"
      ],
      "metadata": {
        "id": "wnZdVtTKqpcs"
      },
      "execution_count": null,
      "outputs": []
    },
    {
      "cell_type": "markdown",
      "metadata": {
        "id": "tWbQ8ACS9YkG"
      },
      "source": [
        "## 2. Baseline"
      ]
    },
    {
      "cell_type": "markdown",
      "source": [
        "### 2.1 Streaming Method"
      ],
      "metadata": {
        "id": "DYlGGIyS21nD"
      }
    },
    {
      "cell_type": "code",
      "source": [
        "MODEL_CHECKPOINT = 'facebook/m2m100_418M'\n",
        "\n",
        "\n",
        "PAIRS = [    \n",
        "    'en-zh',\n",
        "    'zh-en',\n",
        "    'en-es',\n",
        "    'es-zh',\n",
        "    'es-en',\n",
        "    'zh-es',\n",
        "    ]\n",
        "m2m_DATA = {\n",
        "     'en-zh': {\n",
        "        'size': 69020,\n",
        "        'src': 'en',\n",
        "        'tgt': 'zh',\n",
        "        'tkn': 'zh_CN',\n",
        "        },\n",
        "    'zh-en': {\n",
        "        'size': 69020,\n",
        "        'src': 'zh',\n",
        "        'tgt': 'en',\n",
        "        'tkn': 'en_XX',\n",
        "        },\n",
        "    'en-es': {\n",
        "        'size': 238511,\n",
        "        'src': 'en',\n",
        "        'tgt': 'es',\n",
        "        'tkn': 'es_XX',\n",
        "        },\n",
        "    'es-zh': {\n",
        "        'size': 65408,\n",
        "        'src': 'es',\n",
        "        'tgt': 'zh',\n",
        "        'tkn': 'zh_CN',\n",
        "        },\n",
        "    'es-en': {\n",
        "        'size': 238511,\n",
        "        'src': 'es',\n",
        "        'tgt': 'en',\n",
        "        'tkn': 'en_XX',\n",
        "        },\n",
        "    'zh-es': {\n",
        "        'size': 65408,\n",
        "        'src': 'zh',\n",
        "        'tgt': 'es',\n",
        "        'tkn': 'es_XX',\n",
        "        },\n",
        "    }\n",
        "\n",
        "DATASET = 'news_commentary'\n",
        "MAX_LENGTH = 50\n",
        "MAX_NEW_TOKENS = 50\n",
        "TRUNCATION = True\n",
        "PADDING = True\n",
        "RETURN_TENSORS = \"pt\"\n",
        "# BLEURT_CHECKPOINT = \"./BLEURT-20\"\n",
        "N_EXAMPLES = 200"
      ],
      "metadata": {
        "id": "ZFOFYefmnmrs"
      },
      "execution_count": null,
      "outputs": []
    },
    {
      "cell_type": "code",
      "execution_count": null,
      "metadata": {
        "id": "z3PYMsqu4JUh",
        "colab": {
          "base_uri": "https://localhost:8080/",
          "height": 201
        },
        "outputId": "185f530d-6ac1-44fa-c121-4d1499b05ced"
      },
      "outputs": [
        {
          "output_type": "error",
          "ename": "NameError",
          "evalue": "ignored",
          "traceback": [
            "\u001b[0;31m---------------------------------------------------------------------------\u001b[0m",
            "\u001b[0;31mNameError\u001b[0m                                 Traceback (most recent call last)",
            "\u001b[0;32m<ipython-input-7-4d7c7af40fa3>\u001b[0m in \u001b[0;36m<module>\u001b[0;34m\u001b[0m\n\u001b[1;32m      1\u001b[0m \u001b[0;31m# m2m_tokenizer = M2M100Tokenizer.from_pretrained(MODEL_CHECKPOINT)\u001b[0m\u001b[0;34m\u001b[0m\u001b[0;34m\u001b[0m\u001b[0;34m\u001b[0m\u001b[0m\n\u001b[1;32m      2\u001b[0m \u001b[0;31m# m2m_model = M2M100ForConditionalGeneration.from_pretrained(MODEL_CHECKPOINT)\u001b[0m\u001b[0;34m\u001b[0m\u001b[0;34m\u001b[0m\u001b[0;34m\u001b[0m\u001b[0m\n\u001b[0;32m----> 3\u001b[0;31m \u001b[0mbleurt_metric\u001b[0m \u001b[0;34m=\u001b[0m \u001b[0mscore\u001b[0m\u001b[0;34m.\u001b[0m\u001b[0mBleurtScorer\u001b[0m\u001b[0;34m(\u001b[0m\u001b[0mBLEURT_CHECKPOINT\u001b[0m\u001b[0;34m)\u001b[0m\u001b[0;34m\u001b[0m\u001b[0;34m\u001b[0m\u001b[0m\n\u001b[0m",
            "\u001b[0;31mNameError\u001b[0m: name 'BLEURT_CHECKPOINT' is not defined"
          ]
        }
      ],
      "source": [
        "# m2m_tokenizer = M2M100Tokenizer.from_pretrained(MODEL_CHECKPOINT)\n",
        "# m2m_model = M2M100ForConditionalGeneration.from_pretrained(MODEL_CHECKPOINT)\n",
        "bleurt_metric = score.BleurtScorer(BLEURT_CHECKPOINT)"
      ]
    },
    {
      "cell_type": "code",
      "source": [
        "shuffled =  load_dataset('news_commentary',\n",
        "                    'en-es',\n",
        "                    streaming=True)"
      ],
      "metadata": {
        "id": "uKOM2pebvzK3"
      },
      "execution_count": null,
      "outputs": []
    },
    {
      "cell_type": "code",
      "source": [
        "shuffled['train']"
      ],
      "metadata": {
        "id": "opQgfieAwHSk"
      },
      "execution_count": null,
      "outputs": []
    },
    {
      "cell_type": "code",
      "source": [
        "#Function to generate dataset stream, select first n samples, generate predictions and return score and n samples used \n",
        "def score_dataset(pair_index=0, starting_iter=1, end_iter = 9999, n_examples=N_EXAMPLES, \n",
        "                  dataset=DATASET, model=m2m_model, tokenizer=m2m_tokenizer, bleurt_metric=bleurt_metric):\n",
        "    model = model\n",
        "    tokenizer = tokenizer\n",
        "    bleurt_metric = bleurt_metric\n",
        "    pair_score = []\n",
        "\n",
        "    pair = PAIRS[pair_index]\n",
        "    src = m2m_DATA[PAIRS[pair_index]]['src']\n",
        "    tgt = m2m_DATA[PAIRS[pair_index]]['tgt']\n",
        "    # tkn = m2m_DATA[PAIRS[pair_index]]['tkn']\n",
        "    size = m2m_DATA[PAIRS[pair_index]]['size']\n",
        "    eval = size * 0.15\n",
        "    loops = int(eval // n_examples)-starting_iter\n",
        "    extra = int(round(eval % n_examples))\n",
        "    prev_iter = 0\n",
        "    curr_iter = prev_iter + 1\n",
        "\n",
        "    if end_iter == 9999:\n",
        "      end_iter = loops\n",
        "    else:\n",
        "      loops = end_iter - starting_iter\n",
        "\n",
        "    tokenizer.src_lang = src\n",
        "    tokenizer.tgt_lang = tgt\n",
        "\n",
        "    shuffled =  load_dataset(DATASET,\n",
        "                    pair,\n",
        "                    streaming=True)\n",
        "    \n",
        "    with open(f'{pair}.csv', 'a', newline='') as myfile:\n",
        "      wr = csv.writer(myfile, quoting=csv.QUOTE_ALL)\n",
        "      wr.writerow([f'starting iter {prev_iter} ending at {end_iter}'])\n",
        "    \n",
        "    if (starting_iter > 0):\n",
        "      prev_iter = starting_iter\n",
        "    \n",
        "    for run in range(loops+1):\n",
        "      start = prev_iter * n_examples\n",
        "\n",
        "      if run == loops:\n",
        "        score_set = shuffled['train'].skip(start).take(extra)\n",
        "      else:\n",
        "        score_set = shuffled['train'].skip(start).take(n_examples)\n",
        "\n",
        "      src_data = [p['translation'][src] for p in score_set]\n",
        "      tgt_data = [p['translation'][tgt] for p in score_set]\n",
        "\n",
        "      print(f'Now scoring iteration {run+1} of {loops+1}.')\n",
        "      inputs = tokenizer(src_data,\n",
        "                        padding=PADDING,\n",
        "                        return_tensors=RETURN_TENSORS,\n",
        "                        truncation=TRUNCATION,\n",
        "                        max_length=MAX_LENGTH)\n",
        "      \n",
        "      generated_tokens = m2m_model.generate(\n",
        "                        **inputs,\n",
        "                        forced_bos_token_id=m2m_tokenizer.get_lang_id(tgt))\n",
        "      \n",
        "      generated_translations = m2m_tokenizer.batch_decode(generated_tokens, skip_special_tokens=True)\n",
        "      actual_translations = tgt_data   \n",
        "\n",
        "      bleurt_score = bleurt_metric.score(references=actual_translations, candidates=generated_translations)\n",
        "      pair_score.append(bleurt_score)\n",
        "      with open(f'{pair}.csv', 'a', newline='') as myfile:\n",
        "        wr = csv.writer(myfile, quoting=csv.QUOTE_ALL)\n",
        "        wr.writerow(bleurt_score)\n",
        "      prev_iter += 1\n",
        "\n",
        "    return pair_score"
      ],
      "metadata": {
        "id": "Znv2kGD1rCZg"
      },
      "execution_count": null,
      "outputs": []
    },
    {
      "cell_type": "code",
      "source": [
        "scores = dict()\n",
        "for p in range(3,len(PAIRS)):\n",
        "  print (f'Evaluating translation {PAIRS[p]}')\n",
        "  scores[PAIRS[p]] = dict()\n",
        "  scores[PAIRS[p]]['bleurt_score'] = score_dataset(\n",
        "      pair_index=p, \n",
        "      starting_iter=0,\n",
        "      n_examples=N_EXAMPLES,\n",
        "      dataset=DATASET,\n",
        "      model=m2m_model, \n",
        "      tokenizer=m2m_tokenizer, \n",
        "      bleurt_metric=bleurt_metric)"
      ],
      "metadata": {
        "id": "TjreYlLa0-1F"
      },
      "execution_count": null,
      "outputs": []
    },
    {
      "cell_type": "markdown",
      "source": [
        "### 2.2 Loop Method"
      ],
      "metadata": {
        "id": "bLXJZD372Ccg"
      }
    },
    {
      "cell_type": "code",
      "execution_count": null,
      "metadata": {
        "colab": {
          "base_uri": "https://localhost:8080/",
          "height": 265,
          "referenced_widgets": [
            "47e0981efe314d5e8a843dbe04f91391",
            "4f43d3b5129447849c746b81a26e0ab6",
            "d397c8005b4c4c188f1338d942ae410b",
            "b9ec95d430cf42a6ba436b1b37c45b73",
            "4d90962c7c684f7fbcb99565e59bd2e5",
            "bf1fff9f12b744a08f841ed8786e64f2",
            "a20ffb4249754b1ea4af58fc2177ce77",
            "b79b570727774f23923df301ead19b00",
            "9f49179eca194da6bc543b16e47dc158",
            "f52d62a30afc4bfda0f65dc0b6ed2ca4",
            "0c92368545e149e89b8fd1c622049134",
            "39e7718727e54be4a58d00432813ad11",
            "d1c161b84f3143218cb1cfe326b48c4b",
            "2914c08453954e7eb835bf4ef8aa7dc3",
            "f55970e95fa24e22a0dedf1cdaabf856",
            "c393cb56f411468b9076cf5b9f835e3d",
            "074dec61c3ce4947a48c34b4d9398473",
            "e21b8677853d4266a6235e30ab61b058",
            "bb2b54a982474d9d89e4f1bc02b4ffe4",
            "60dcd23f40c64c1fa582446b59fe69be",
            "a4c2f3ab59af4676ab52a05eb32f9a8b",
            "f7b02fa5be3b4b308a0c47835a0bed24",
            "292eeb50c4474ea3a91a5bbbe8d1cdef",
            "b6349e4285ae413e910bb39bd8c77916",
            "c440a0bab15b4745881f90f53296152f",
            "351b5f1199e44da1bbad68294c1e8105",
            "9678ce1a2ff84591a90903ce09b407f8",
            "8768b987c07f432b9fc7bd084eb471bc",
            "e6bd57e357844776b280c27ce6b74d77",
            "47077f795ac84f7a9459ea3eeb2b8e84",
            "2a19e24306304bc0bb63e85dd8b95726",
            "13715682415c410f9c2cefb4e9115924",
            "bd5f8dbe62ed43e18c54da2ce9ee3ac5",
            "279b0aae21354045b26a3e3125822a1e",
            "40647e89ec35440a883b0e7bdb89a527",
            "c4994498661449b0a6d753138ac38079",
            "5c0959329ec34153a8a3a9b5daeff0f9",
            "bb150b48958642d6be5d61e66d7d81aa",
            "ae091c27ea904c7cb775c7e7f995eacb",
            "fb845eb7b43540aaae59e017c9062fc3",
            "b663c8ea9a834543bdcf6bb3625d7950",
            "9205cf151517408a8e4a3b1be61a084b",
            "7be132353d78434b9785951cfb5f1894",
            "69be865a79ea4b91ac0fd31ed4bf267a",
            "b0c1e841aa35464b87854f26e0b4c545",
            "2a5eb0e126014d02b70005fe91a98292",
            "4afa12d126f341a69e5e089566d51557",
            "d7286cad33df4140b58c28fe4137e48a",
            "1857609d7e8a43aeb292d2a279840634",
            "fd9e8817ae1c4c88913a91d4356922f7",
            "3f7923cf778c4a43843a2218b85a00ff",
            "f25d8572e4b743559b9c2943b19e72b6",
            "1fd22a311c5e43fcb20ef4506c92e001",
            "3b7bd46755cf4304973567410ff26a59",
            "085bda1c86864586bd082a91e9459929",
            "a41887610db8424490c1da3ccbee2422",
            "8030b9ffdb12403fabfed9958db7f21e",
            "dc069832ce2448069180fe823b13d69e",
            "0f95fa23e4c24de2b3925822bd89e3c9",
            "15a8aebb012b4a05b251783b6da16c4a",
            "21d5168e6bd9478bb00b786228153196",
            "1d4942dfa1584437922ef1d71efb6027",
            "61e84496b75344aeab1b3387136bc21f",
            "1f0540e31403470c9d735d5e29e1e7ec",
            "dfd03f1f09054516b06bd04ab3b1dbcb",
            "f472046029984d5c8b4d9002de75bd7e"
          ]
        },
        "id": "dnQHy7WjAXqE",
        "outputId": "b1459479-9bc7-4142-95c5-76c1d52580d1"
      },
      "outputs": [
        {
          "output_type": "display_data",
          "data": {
            "text/plain": [
              "Downloading builder script:   0%|          | 0.00/5.36k [00:00<?, ?B/s]"
            ],
            "application/vnd.jupyter.widget-view+json": {
              "version_major": 2,
              "version_minor": 0,
              "model_id": "47e0981efe314d5e8a843dbe04f91391"
            }
          },
          "metadata": {}
        },
        {
          "output_type": "display_data",
          "data": {
            "text/plain": [
              "Downloading metadata:   0%|          | 0.00/116k [00:00<?, ?B/s]"
            ],
            "application/vnd.jupyter.widget-view+json": {
              "version_major": 2,
              "version_minor": 0,
              "model_id": "39e7718727e54be4a58d00432813ad11"
            }
          },
          "metadata": {}
        },
        {
          "output_type": "display_data",
          "data": {
            "text/plain": [
              "Downloading readme:   0%|          | 0.00/20.9k [00:00<?, ?B/s]"
            ],
            "application/vnd.jupyter.widget-view+json": {
              "version_major": 2,
              "version_minor": 0,
              "model_id": "292eeb50c4474ea3a91a5bbbe8d1cdef"
            }
          },
          "metadata": {}
        },
        {
          "output_type": "stream",
          "name": "stdout",
          "text": [
            "Downloading and preparing dataset news_commentary/en-zh to /root/.cache/huggingface/datasets/news_commentary/en-zh/11.0.0/cfab724ce975dc2da51cdae45302389860badc88b74db8570d561ced6004f8b4...\n"
          ]
        },
        {
          "output_type": "display_data",
          "data": {
            "text/plain": [
              "Downloading data:   0%|          | 0.00/18.1M [00:00<?, ?B/s]"
            ],
            "application/vnd.jupyter.widget-view+json": {
              "version_major": 2,
              "version_minor": 0,
              "model_id": "279b0aae21354045b26a3e3125822a1e"
            }
          },
          "metadata": {}
        },
        {
          "output_type": "display_data",
          "data": {
            "text/plain": [
              "Generating train split:   0%|          | 0/69206 [00:00<?, ? examples/s]"
            ],
            "application/vnd.jupyter.widget-view+json": {
              "version_major": 2,
              "version_minor": 0,
              "model_id": "b0c1e841aa35464b87854f26e0b4c545"
            }
          },
          "metadata": {}
        },
        {
          "output_type": "stream",
          "name": "stdout",
          "text": [
            "Dataset news_commentary downloaded and prepared to /root/.cache/huggingface/datasets/news_commentary/en-zh/11.0.0/cfab724ce975dc2da51cdae45302389860badc88b74db8570d561ced6004f8b4. Subsequent calls will reuse this data.\n"
          ]
        },
        {
          "output_type": "display_data",
          "data": {
            "text/plain": [
              "  0%|          | 0/1 [00:00<?, ?it/s]"
            ],
            "application/vnd.jupyter.widget-view+json": {
              "version_major": 2,
              "version_minor": 0,
              "model_id": "a41887610db8424490c1da3ccbee2422"
            }
          },
          "metadata": {}
        }
      ],
      "source": [
        "dataset = load_dataset('news_commentary','en-zh')"
      ]
    },
    {
      "cell_type": "code",
      "execution_count": null,
      "metadata": {
        "id": "zJVHzInJDzuz",
        "colab": {
          "base_uri": "https://localhost:8080/"
        },
        "outputId": "0af534e7-fb0b-4721-efac-24d6d7c91ecb"
      },
      "outputs": [
        {
          "output_type": "stream",
          "name": "stdout",
          "text": [
            "DatasetDict({\n",
            "    train: Dataset({\n",
            "        features: ['id', 'translation'],\n",
            "        num_rows: 69206\n",
            "    })\n",
            "})\n"
          ]
        }
      ],
      "source": [
        "print(dataset)"
      ]
    },
    {
      "cell_type": "code",
      "source": [
        "en_zh_baseline = load_dataset('news_commentary','en-zh',split='train[:15%]')['translation']\n",
        "baseline_file = '/content/sample_data/en_zh_baseline.csv'\n",
        "pd.DataFrame(en_zh_baseline).to_csv(baseline_file)\n",
        "df_baseline = pd.read_csv(baseline_file)"
      ],
      "metadata": {
        "colab": {
          "base_uri": "https://localhost:8080/"
        },
        "id": "OU9teI-agzFK",
        "outputId": "5897b291-e8a1-4763-ecb2-f9c5d594dfcd"
      },
      "execution_count": null,
      "outputs": [
        {
          "output_type": "stream",
          "name": "stderr",
          "text": [
            "WARNING:datasets.builder:Found cached dataset news_commentary (/root/.cache/huggingface/datasets/news_commentary/en-zh/11.0.0/cfab724ce975dc2da51cdae45302389860badc88b74db8570d561ced6004f8b4)\n"
          ]
        }
      ]
    },
    {
      "cell_type": "code",
      "source": [
        "df_baseline_list = df_baseline['en'].tolist()\n",
        "df_baseline_label = df_baseline['zh'].tolist()"
      ],
      "metadata": {
        "id": "EVR9EYfs4qtr"
      },
      "execution_count": null,
      "outputs": []
    },
    {
      "cell_type": "code",
      "source": [
        "df_baseline_label[:5]"
      ],
      "metadata": {
        "id": "E-HhjnUSWDpV",
        "colab": {
          "base_uri": "https://localhost:8080/"
        },
        "outputId": "9b1c845b-dd44-4ac0-a131-25a3728def0d"
      },
      "execution_count": null,
      "outputs": [
        {
          "output_type": "execute_result",
          "data": {
            "text/plain": [
              "['1929年还是1989年?',\n",
              " '巴黎-随着经济危机不断加深和蔓延，整个世界一直在寻找历史上的类似事件希望有助于我们了解目前正在发生的情况。一开始，很多人把这次危机比作1982年或1973年所发生的情况，这样得类比是令人宽心的，因为这两段时期意味着典型的周期性衰退。',\n",
              " '如今人们的心情却是沉重多了，许多人开始把这次危机与1929年和1931年相比，即使一些国家政府的表现仍然似乎把视目前的情况为是典型的而看见的衰退。目前的趋势是，要么是过度的克制（欧洲），要么是努力的扩展（美国）。欧洲在避免债务和捍卫欧元的名义下正变得谨慎，而美国已经在许多方面行动起来，以利用这一理想的时机来实行急需的结构性改革。',\n",
              " '然而，作为地域战略学家，无论是从政治意义还是从经济意义上，让我自然想到的年份是1989年。当然，雷曼兄弟公司的倒闭和柏林墙的倒塌没有任何关系。事实上，从表面上看，两者似乎是完全是相反的：一个是象征着压抑和人为分裂的柏林墙的倒塌，而另一个是看似坚不可摧的并令人安心的金融资本主义机构的倒塌。',\n",
              " '然而，和1989年一样，2008-2009年很可能也能被视为一个划时代的改变，其带来的发人深省的后果将在几十年后仍能让我们感受得到。东西方意识形态鸿沟的结束，以及对市场绝对信心的后果，都是历史的转折点。而2009年所发生的事情可能会威胁1989年革命所带来的积极成果，包括欧洲的和平统一和民主制度战胜了民族主义倾向，如果不是恐外倾向的话。']"
            ]
          },
          "metadata": {},
          "execution_count": 12
        }
      ]
    },
    {
      "cell_type": "code",
      "source": [
        "eval_score = []\n",
        "step = 100\n",
        "\n",
        "for row_index in range(0,len(df_baseline_list),step):\n",
        "  curr_input = df_baseline_list[row_index: row_index + step]\n",
        "  curr_label = df_baseline_label[row_index: row_index + step]\n",
        "\n",
        "  curr_loop = row_index/step\n",
        "  print(\"Begin current loop:\", curr_loop)\n",
        "\n",
        "  encoded_en = m2m_tokenizer(curr_input, \n",
        "                        padding = True,\n",
        "                        max_length=50,\n",
        "                        truncation=True,\n",
        "                        return_tensors='pt')\n",
        "  generated_tokens = m2m_model.generate(**encoded_en, forced_bos_token_id=m2m_tokenizer.get_lang_id(\"zh\"))\n",
        "  curr_output = m2m_tokenizer.batch_decode(generated_tokens, skip_special_tokens=True)\n",
        "\n",
        "  ### Compute BLEU score\n",
        "  # bleu_score = []\n",
        "  # for sentence, label in zip(curr_output, curr_label):\n",
        "  #   ### BLEU - Convert decoded into list\n",
        "  #   curr_predict = [sentence.split()]\n",
        "  #   curr_label_list = [[label.split()]]\n",
        "\n",
        "  #   curr_bleu_score = bleu_metric.compute(predictions=curr_predict, references=curr_label_list)\n",
        "  \n",
        "  #   bleu_score.append(curr_bleu_score['bleu'])\n",
        "\n",
        "  ### Compute BLEURT score\n",
        "  bleurt_label = [[label] for label in curr_label]\n",
        "  curr_bleurt_score = bleurt_metric.compute(predictions=curr_output, references=bleurt_label)\n",
        "\n",
        "  eval_score.append(curr_bleurt_score['scores'])\n",
        "\n",
        "  \n",
        "  df_output = pd.DataFrame(eval_score)\n",
        "  df_output.to_csv('drive/MyDrive/W266/en_zh_bleurt_distilled_output.csv', sep=',', index=False)\n",
        "  "
      ],
      "metadata": {
        "colab": {
          "base_uri": "https://localhost:8080/"
        },
        "id": "jQ515SnsS1H5",
        "outputId": "ce0cc989-7a82-46b2-a57a-6c8edbf5baf0"
      },
      "execution_count": null,
      "outputs": [
        {
          "output_type": "stream",
          "name": "stdout",
          "text": [
            "Begin current loop: 0.0\n",
            "Begin current loop: 1.0\n",
            "Begin current loop: 2.0\n",
            "Begin current loop: 3.0\n",
            "Begin current loop: 4.0\n",
            "Begin current loop: 5.0\n",
            "Begin current loop: 6.0\n",
            "Begin current loop: 7.0\n",
            "Begin current loop: 8.0\n",
            "Begin current loop: 9.0\n",
            "Begin current loop: 10.0\n",
            "Begin current loop: 11.0\n",
            "Begin current loop: 12.0\n",
            "Begin current loop: 13.0\n",
            "Begin current loop: 14.0\n",
            "Begin current loop: 15.0\n",
            "Begin current loop: 16.0\n",
            "Begin current loop: 17.0\n",
            "Begin current loop: 18.0\n",
            "Begin current loop: 19.0\n",
            "Begin current loop: 20.0\n",
            "Begin current loop: 21.0\n",
            "Begin current loop: 22.0\n",
            "Begin current loop: 23.0\n",
            "Begin current loop: 24.0\n",
            "Begin current loop: 25.0\n",
            "Begin current loop: 26.0\n",
            "Begin current loop: 27.0\n",
            "Begin current loop: 28.0\n",
            "Begin current loop: 29.0\n",
            "Begin current loop: 30.0\n",
            "Begin current loop: 31.0\n",
            "Begin current loop: 32.0\n",
            "Begin current loop: 33.0\n",
            "Begin current loop: 34.0\n",
            "Begin current loop: 35.0\n",
            "Begin current loop: 36.0\n",
            "Begin current loop: 37.0\n",
            "Begin current loop: 38.0\n",
            "Begin current loop: 39.0\n",
            "Begin current loop: 40.0\n",
            "Begin current loop: 41.0\n",
            "Begin current loop: 42.0\n",
            "Begin current loop: 43.0\n",
            "Begin current loop: 44.0\n",
            "Begin current loop: 45.0\n",
            "Begin current loop: 46.0\n",
            "Begin current loop: 47.0\n",
            "Begin current loop: 48.0\n",
            "Begin current loop: 49.0\n",
            "Begin current loop: 50.0\n",
            "Begin current loop: 51.0\n",
            "Begin current loop: 52.0\n",
            "Begin current loop: 53.0\n",
            "Begin current loop: 54.0\n",
            "Begin current loop: 55.0\n",
            "Begin current loop: 56.0\n",
            "Begin current loop: 57.0\n",
            "Begin current loop: 58.0\n",
            "Begin current loop: 59.0\n",
            "Begin current loop: 60.0\n",
            "Begin current loop: 61.0\n",
            "Begin current loop: 62.0\n",
            "Begin current loop: 63.0\n",
            "Begin current loop: 64.0\n",
            "Begin current loop: 65.0\n",
            "Begin current loop: 66.0\n",
            "Begin current loop: 67.0\n",
            "Begin current loop: 68.0\n",
            "Begin current loop: 69.0\n",
            "Begin current loop: 70.0\n",
            "Begin current loop: 71.0\n",
            "Begin current loop: 72.0\n",
            "Begin current loop: 73.0\n",
            "Begin current loop: 74.0\n",
            "Begin current loop: 75.0\n",
            "Begin current loop: 76.0\n",
            "Begin current loop: 77.0\n",
            "Begin current loop: 78.0\n",
            "Begin current loop: 79.0\n",
            "Begin current loop: 80.0\n",
            "Begin current loop: 81.0\n",
            "Begin current loop: 82.0\n",
            "Begin current loop: 83.0\n",
            "Begin current loop: 84.0\n",
            "Begin current loop: 85.0\n",
            "Begin current loop: 86.0\n",
            "Begin current loop: 87.0\n",
            "Begin current loop: 88.0\n",
            "Begin current loop: 89.0\n",
            "Begin current loop: 90.0\n",
            "Begin current loop: 91.0\n",
            "Begin current loop: 92.0\n",
            "Begin current loop: 93.0\n",
            "Begin current loop: 94.0\n",
            "Begin current loop: 95.0\n",
            "Begin current loop: 96.0\n",
            "Begin current loop: 97.0\n",
            "Begin current loop: 98.0\n",
            "Begin current loop: 99.0\n",
            "Begin current loop: 100.0\n",
            "Begin current loop: 101.0\n",
            "Begin current loop: 102.0\n",
            "Begin current loop: 103.0\n"
          ]
        }
      ]
    },
    {
      "cell_type": "markdown",
      "source": [
        "## 3. Fine Tune Model"
      ],
      "metadata": {
        "id": "pdUDT8hYixy4"
      }
    },
    {
      "cell_type": "markdown",
      "source": [
        "### 3.1 ZH-ES"
      ],
      "metadata": {
        "id": "sxRA1E-nyTTt"
      }
    },
    {
      "cell_type": "code",
      "execution_count": null,
      "metadata": {
        "colab": {
          "base_uri": "https://localhost:8080/"
        },
        "id": "8CK_35GIDX8p",
        "outputId": "c3ed3523-4147-43f3-b76b-c340e7a92686"
      },
      "outputs": [
        {
          "output_type": "stream",
          "name": "stderr",
          "text": [
            "WARNING:datasets.builder:Found cached dataset news_commentary (/root/.cache/huggingface/datasets/news_commentary/es-zh/11.0.0/cfab724ce975dc2da51cdae45302389860badc88b74db8570d561ced6004f8b4)\n",
            "WARNING:datasets.builder:Found cached dataset news_commentary (/root/.cache/huggingface/datasets/news_commentary/es-zh/11.0.0/cfab724ce975dc2da51cdae45302389860badc88b74db8570d561ced6004f8b4)\n"
          ]
        }
      ],
      "source": [
        "zh_es_train = load_dataset('news_commentary','es-zh',split='train[:70%]')['translation']\n",
        "zh_es_validation = load_dataset('news_commentary','es-zh',split='train[70%:]')['translation']\n",
        "zh_es_val = random.sample(zh_es_validation,5000)\n",
        "# zh_es_test = load_dataset('news_commentary','es-zh',split='train[120:140]')['translation']"
      ]
    },
    {
      "cell_type": "code",
      "execution_count": null,
      "metadata": {
        "id": "i8d03PnwuXSS"
      },
      "outputs": [],
      "source": [
        "train_file = 'drive/MyDrive/W266/zh_es_train.csv'\n",
        "valid_file = 'drive/MyDrive/W266/zh_es_val.csv'\n",
        "# test_file = 'drive/MyDrive/W266/zh_es_test.csv'\n",
        "\n",
        "\n",
        "pd.DataFrame(zh_es_train).to_csv(train_file)\n",
        "pd.DataFrame(zh_es_val).to_csv(valid_file)\n",
        "# pd.DataFrame(zh_es_test).to_csv(test_file)"
      ]
    },
    {
      "cell_type": "code",
      "source": [
        "df_train = pd.read_csv(train_file)\n",
        "df_valid = pd.read_csv(valid_file)\n",
        "# df_test = pd.read_csv(test_file)"
      ],
      "metadata": {
        "id": "mNg1VCcv4X10"
      },
      "execution_count": null,
      "outputs": []
    },
    {
      "cell_type": "code",
      "source": [
        "def preprocess_data(text_pair, tokenizer, max_length=50):\n",
        "    # For reversed sequence\n",
        "    target_text, orig_text = text_pair\n",
        "    \n",
        "    orig_encoded = tokenizer.batch_encode_plus(\n",
        "        [orig_text],\n",
        "        max_length=max_length,\n",
        "        padding='max_length',\n",
        "        truncation=True,\n",
        "        return_attention_mask=True,\n",
        "        return_tensors='pt'\n",
        "    )\n",
        "\n",
        "    orig_input_ids = orig_encoded['input_ids'][0]\n",
        "    orig_attention_mask = orig_encoded['attention_mask'][0]\n",
        "    \n",
        "    target_encoded = tokenizer.batch_encode_plus(\n",
        "        [target_text],\n",
        "        max_length=max_length,\n",
        "        padding='max_length',\n",
        "        truncation=True,\n",
        "        return_attention_mask=True,\n",
        "        return_tensors='pt'\n",
        "    )\n",
        "    \n",
        "    label_ids = target_encoded['input_ids'][0]\n",
        "    \n",
        "    return {'input_ids': orig_input_ids,\n",
        "            'attention_mask': orig_attention_mask,\n",
        "            'labels': label_ids}"
      ],
      "metadata": {
        "id": "o4cCUcPkJDYw"
      },
      "execution_count": null,
      "outputs": []
    },
    {
      "cell_type": "code",
      "execution_count": null,
      "metadata": {
        "id": "QsV21JKmUejK"
      },
      "outputs": [],
      "source": [
        "# For normal sequence \n",
        "# def preprocess_data(text_pair, tokenizer, max_length=50):\n",
        "#     orig_text, target_text = text_pair\n",
        "#     orig_encoded = tokenizer.batch_encode_plus(\n",
        "#         [orig_text],\n",
        "#         max_length=max_length,\n",
        "#         padding='max_length',\n",
        "#         truncation=True,\n",
        "#         return_attention_mask=True,\n",
        "#         return_tensors='pt'\n",
        "#     )\n",
        "\n",
        "#     # not sure if the below two lines are needed for m2m100\n",
        "#     orig_input_ids = orig_encoded['input_ids'][0]\n",
        "#     orig_attention_mask = orig_encoded['attention_mask'][0]\n",
        "    \n",
        "#     target_encoded = tokenizer.batch_encode_plus(\n",
        "#         [target_text],\n",
        "#         max_length=max_length,\n",
        "#         padding='max_length',\n",
        "#         truncation=True,\n",
        "#         return_attention_mask=True,\n",
        "#         return_tensors='pt'\n",
        "#     )\n",
        "    \n",
        "#     label_ids = target_encoded['input_ids'][0]\n",
        "    \n",
        "#     return {'input_ids': orig_input_ids,\n",
        "#             'attention_mask': orig_attention_mask,\n",
        "#             'labels': label_ids}"
      ]
    },
    {
      "cell_type": "code",
      "execution_count": null,
      "metadata": {
        "id": "wxT1-MvskhLY"
      },
      "outputs": [],
      "source": [
        "class TranslationDataIterator:\n",
        "    \n",
        "    def __init__(self,\n",
        "                 tokenizer,\n",
        "                 n_examples,\n",
        "                 data_filename,\n",
        "                 max_length=128,\n",
        "                 shuffle=True):\n",
        "        \n",
        "        self.tokenizer = tokenizer\n",
        "        self.n_examples = n_examples\n",
        "        self.data_filename = data_filename\n",
        "        self.max_length = max_length\n",
        "        self.shuffle = shuffle\n",
        "        \n",
        "        # Initialize row order, call on_epoch_end to shuffle row indices\n",
        "        self.row_order = np.arange(1, self.n_examples+1)\n",
        "        self.on_epoch_end()\n",
        "    \n",
        "    def __len__(self):\n",
        "        return self.n_examples\n",
        "    \n",
        "    def __getitem__(self, idx):\n",
        "        row_to_load = self.row_order[idx]\n",
        "        df = pd.read_csv(self.data_filename,\n",
        "                         skiprows=range(1, row_to_load),\n",
        "                         nrows=1)\n",
        "        \n",
        "        text_pair = df[['es', 'zh']].values.astype(str)[0]\n",
        "        \n",
        "        item_data = preprocess_data(\n",
        "            text_pair,\n",
        "            self.tokenizer,\n",
        "            self.max_length\n",
        "        )\n",
        "\n",
        "        return item_data\n",
        "    \n",
        "    def __call__(self):\n",
        "        for i in range(self.__len__()):\n",
        "            yield self.__getitem__(i)\n",
        "            \n",
        "            if i == self.__len__()-1:\n",
        "                self.on_epoch_end()\n",
        "    \n",
        "    def on_epoch_end(self):\n",
        "        if self.shuffle:\n",
        "            self.row_order = list(np.random.permutation(self.row_order))"
      ]
    },
    {
      "cell_type": "code",
      "execution_count": null,
      "metadata": {
        "id": "NVWCmQIarDtB"
      },
      "outputs": [],
      "source": [
        "max_length = 128\n",
        "\n",
        "train_data_iterator = TranslationDataIterator(\n",
        "    tokenizer=m2m_tokenizer,\n",
        "    n_examples=len(zh_es_train),\n",
        "    data_filename=train_file,\n",
        "    max_length=max_length\n",
        ")\n",
        "\n",
        "valid_data_iterator = TranslationDataIterator(\n",
        "    tokenizer=m2m_tokenizer,\n",
        "    n_examples=len(zh_es_validation),\n",
        "    data_filename=valid_file,\n",
        "    max_length=max_length\n",
        ")"
      ]
    },
    {
      "cell_type": "code",
      "source": [
        "srg_lang = 'zh'\n",
        "tgt_lang = 'es'\n",
        "\n",
        "# Modify this filepath to where you want to save the model after fine-tuning\n",
        "dir_path = 'drive/MyDrive/W266/'\n",
        "file_path = dir_path + f'M2M100_news_commentary_{srg_lang}_{tgt_lang}'"
      ],
      "metadata": {
        "id": "OcPcWI5bO8Wg"
      },
      "execution_count": null,
      "outputs": []
    },
    {
      "cell_type": "code",
      "execution_count": null,
      "metadata": {
        "id": "cOp1tW1fmUXD"
      },
      "outputs": [],
      "source": [
        "# Specify batch size and other training arguments\n",
        "\n",
        "batch_size = 32\n",
        "\n",
        "args = Seq2SeqTrainingArguments(\n",
        "    file_path,\n",
        "    evaluation_strategy='epoch',\n",
        "    per_device_train_batch_size=batch_size,\n",
        "    per_device_eval_batch_size=batch_size,\n",
        "    num_train_epochs=1,\n",
        ")"
      ]
    },
    {
      "cell_type": "code",
      "execution_count": null,
      "metadata": {
        "id": "xCwPzvmtmUT7"
      },
      "outputs": [],
      "source": [
        "# Define the trainer, passing in the model, training args, and data generators\n",
        "\n",
        "trainer = Seq2SeqTrainer(\n",
        "    m2m_model,\n",
        "    args,\n",
        "    train_dataset=train_data_iterator,\n",
        "    eval_dataset=valid_data_iterator\n",
        ")"
      ]
    },
    {
      "cell_type": "code",
      "execution_count": null,
      "metadata": {
        "colab": {
          "base_uri": "https://localhost:8080/",
          "height": 627
        },
        "id": "PhRScje9mUOU",
        "outputId": "69002737-afcd-46a3-fb2b-482d55c49aa5"
      },
      "outputs": [
        {
          "output_type": "stream",
          "name": "stderr",
          "text": [
            "/usr/local/lib/python3.7/dist-packages/transformers/optimization.py:310: FutureWarning: This implementation of AdamW is deprecated and will be removed in a future version. Use the PyTorch implementation torch.optim.AdamW instead, or set `no_deprecation_warning=True` to disable this warning\n",
            "  FutureWarning,\n",
            "***** Running training *****\n",
            "  Num examples = 45797\n",
            "  Num Epochs = 1\n",
            "  Instantaneous batch size per device = 32\n",
            "  Total train batch size (w. parallel, distributed & accumulation) = 32\n",
            "  Gradient Accumulation steps = 1\n",
            "  Total optimization steps = 1432\n",
            "  Number of trainable parameters = 483905536\n"
          ]
        },
        {
          "output_type": "display_data",
          "data": {
            "text/plain": [
              "<IPython.core.display.HTML object>"
            ],
            "text/html": [
              "\n",
              "    <div>\n",
              "      \n",
              "      <progress value='1432' max='1432' style='width:300px; height:20px; vertical-align: middle;'></progress>\n",
              "      [1432/1432 2:14:34, Epoch 1/1]\n",
              "    </div>\n",
              "    <table border=\"1\" class=\"dataframe\">\n",
              "  <thead>\n",
              " <tr style=\"text-align: left;\">\n",
              "      <th>Epoch</th>\n",
              "      <th>Training Loss</th>\n",
              "      <th>Validation Loss</th>\n",
              "    </tr>\n",
              "  </thead>\n",
              "  <tbody>\n",
              "    <tr>\n",
              "      <td>1</td>\n",
              "      <td>1.130400</td>\n",
              "      <td>1.028982</td>\n",
              "    </tr>\n",
              "  </tbody>\n",
              "</table><p>"
            ]
          },
          "metadata": {}
        },
        {
          "output_type": "stream",
          "name": "stderr",
          "text": [
            "Saving model checkpoint to drive/MyDrive/W266/M2M100_news_commentary_zh_es/checkpoint-500\n",
            "Configuration saved in drive/MyDrive/W266/M2M100_news_commentary_zh_es/checkpoint-500/config.json\n",
            "Model weights saved in drive/MyDrive/W266/M2M100_news_commentary_zh_es/checkpoint-500/pytorch_model.bin\n",
            "Saving model checkpoint to drive/MyDrive/W266/M2M100_news_commentary_zh_es/checkpoint-1000\n",
            "Configuration saved in drive/MyDrive/W266/M2M100_news_commentary_zh_es/checkpoint-1000/config.json\n",
            "Model weights saved in drive/MyDrive/W266/M2M100_news_commentary_zh_es/checkpoint-1000/pytorch_model.bin\n",
            "***** Running Evaluation *****\n",
            "  Num examples = 19627\n",
            "  Batch size = 32\n",
            "\n",
            "\n",
            "Training completed. Do not forget to share your model on huggingface.co/models =)\n",
            "\n",
            "\n"
          ]
        },
        {
          "output_type": "execute_result",
          "data": {
            "text/plain": [
              "TrainOutput(global_step=1432, training_loss=1.2718614546280333, metrics={'train_runtime': 8081.7575, 'train_samples_per_second': 5.667, 'train_steps_per_second': 0.177, 'total_flos': 1.2405861182865408e+16, 'train_loss': 1.2718614546280333, 'epoch': 1.0})"
            ]
          },
          "metadata": {},
          "execution_count": 15
        }
      ],
      "source": [
        "# Call train\n",
        "\n",
        "trainer.train()"
      ]
    },
    {
      "cell_type": "code",
      "source": [
        "trainer.save_model('drive/MyDrive/W266/M2M100_news_commentary_zh_es/checkpoint-1')"
      ],
      "metadata": {
        "colab": {
          "base_uri": "https://localhost:8080/"
        },
        "id": "jg_PUnqap3pH",
        "outputId": "6f4bdb35-d2a8-4137-bd31-feb9b03f4c33"
      },
      "execution_count": null,
      "outputs": [
        {
          "output_type": "stream",
          "name": "stderr",
          "text": [
            "Saving model checkpoint to drive/MyDrive/W266/M2M100_news_commentary_zh_es/checkpoint-1\n",
            "Configuration saved in drive/MyDrive/W266/M2M100_news_commentary_zh_es/checkpoint-1/config.json\n",
            "Model weights saved in drive/MyDrive/W266/M2M100_news_commentary_zh_es/checkpoint-1/pytorch_model.bin\n"
          ]
        }
      ]
    },
    {
      "cell_type": "code",
      "execution_count": null,
      "metadata": {
        "id": "hFQZaRDAmUHP",
        "colab": {
          "base_uri": "https://localhost:8080/"
        },
        "outputId": "97e2aba1-a341-4e86-a719-90fd74f02202"
      },
      "outputs": [
        {
          "output_type": "stream",
          "name": "stderr",
          "text": [
            "/usr/local/lib/python3.7/dist-packages/transformers/generation_utils.py:1364: UserWarning: Neither `max_length` nor `max_new_tokens` has been set, `max_length` will default to 200 (`self.config.max_length`). Controlling `max_length` via the config is deprecated and `max_length` will be removed from the config in v5 of Transformers -- we recommend using `max_new_tokens` to control the maximum length of the generation.\n",
            "  UserWarning,\n"
          ]
        },
        {
          "output_type": "stream",
          "name": "stdout",
          "text": [
            "[['La novia de Bollywood de Sarkozy']]\n",
            "[['Resistencia a la racionalidad']]\n"
          ]
        }
      ],
      "source": [
        "for test_input_text in ['萨尔科奇的宝莱坞新娘',\n",
        "                        '对理性的抵制']:\n",
        "    test_inputs = m2m_tokenizer([test_input_text], return_tensors='pt')\n",
        "    test_output_ids = m2m_model.generate(test_inputs['input_ids'].cuda(),\n",
        "                                         forced_bos_token_id=m2m_tokenizer.get_lang_id(\"es\"))\n",
        "\n",
        "    print([m2m_tokenizer.batch_decode(test_output_ids, skip_special_tokens=True)])"
      ]
    },
    {
      "cell_type": "code",
      "source": [
        "m2m_model_saved = M2M100ForConditionalGeneration.from_pretrained(file_path + '/checkpoint-1')"
      ],
      "metadata": {
        "id": "VRla9wh9gzEc"
      },
      "execution_count": null,
      "outputs": []
    },
    {
      "cell_type": "code",
      "source": [
        "for test_input_text in ['萨尔科奇的宝莱坞新娘',\n",
        "                        '对理性的抵制']:\n",
        "    test_inputs = m2m_tokenizer([test_input_text], return_tensors='pt')\n",
        "    test_output_ids = m2m_model_saved.generate(test_inputs['input_ids'],\n",
        "                                         forced_bos_token_id=m2m_tokenizer.get_lang_id(\"es\"))\n",
        "\n",
        "    print([m2m_tokenizer.batch_decode(test_output_ids, skip_special_tokens=True)])"
      ],
      "metadata": {
        "id": "gSgCdE266WXJ",
        "colab": {
          "base_uri": "https://localhost:8080/"
        },
        "outputId": "eb37393f-adb5-406c-b4c3-66689f85181d"
      },
      "execution_count": null,
      "outputs": [
        {
          "output_type": "stream",
          "name": "stderr",
          "text": [
            "/usr/local/lib/python3.7/dist-packages/transformers/generation_utils.py:1364: UserWarning: Neither `max_length` nor `max_new_tokens` has been set, `max_length` will default to 200 (`self.config.max_length`). Controlling `max_length` via the config is deprecated and `max_length` will be removed from the config in v5 of Transformers -- we recommend using `max_new_tokens` to control the maximum length of the generation.\n",
            "  UserWarning,\n"
          ]
        },
        {
          "output_type": "stream",
          "name": "stdout",
          "text": [
            "[['La novia de Bollywood de Sarkozy']]\n",
            "[['Resistencia a la racionalidad']]\n"
          ]
        }
      ]
    },
    {
      "cell_type": "code",
      "source": [
        "df_valid_list = df_valid[f'{srg_lang}'].tolist()\n",
        "df_valid_label= df_valid[f'{tgt_lang}'].tolist()"
      ],
      "metadata": {
        "id": "OShMlXYz6ME_"
      },
      "execution_count": null,
      "outputs": []
    },
    {
      "cell_type": "code",
      "source": [
        "eval_score = []\n",
        "step = 100\n",
        "\n",
        "for row_index in range(0,len(df_valid_list),step):\n",
        "  curr_input = df_valid_list[row_index: row_index + step]\n",
        "  curr_label = df_valid_label[row_index: row_index + step]\n",
        "\n",
        "  curr_loop = row_index/step\n",
        "  print(\"Begin current loop:\", curr_loop)\n",
        "\n",
        "  encoded_en = m2m_tokenizer(curr_input, \n",
        "                        padding = True,\n",
        "                        max_length=50,\n",
        "                        truncation=True,\n",
        "                        return_tensors='pt')\n",
        "  generated_tokens = m2m_model_saved.generate(**encoded_en, forced_bos_token_id=m2m_tokenizer.get_lang_id(f'{tgt_lang}'))\n",
        "  curr_output = m2m_tokenizer.batch_decode(generated_tokens, skip_special_tokens=True)\n",
        "\n",
        "  ### Compute BLEURT score\n",
        "  bleurt_label = [[label] for label in curr_label]\n",
        "  curr_bleurt_score = bleurt_metric.compute(predictions=curr_output, references=bleurt_label)\n",
        "\n",
        "  eval_score.append(curr_bleurt_score['scores'])\n",
        "\n",
        "  \n",
        "  df_output = pd.DataFrame(eval_score)\n",
        "  df_output.to_csv('drive/MyDrive/W266/zh_es_bleurt_validation.csv', sep=',', index=False)\n",
        "  "
      ],
      "metadata": {
        "id": "Ys-a2c5kqxCK",
        "colab": {
          "base_uri": "https://localhost:8080/"
        },
        "outputId": "d4f50df6-e250-446f-91a9-de551c6fce1a"
      },
      "execution_count": null,
      "outputs": [
        {
          "metadata": {
            "tags": null
          },
          "name": "stdout",
          "output_type": "stream",
          "text": [
            "Begin current loop: 0.0\n"
          ]
        },
        {
          "metadata": {
            "tags": null
          },
          "name": "stderr",
          "output_type": "stream",
          "text": [
            "/usr/local/lib/python3.7/dist-packages/transformers/generation_utils.py:1364: UserWarning: Neither `max_length` nor `max_new_tokens` has been set, `max_length` will default to 200 (`self.config.max_length`). Controlling `max_length` via the config is deprecated and `max_length` will be removed from the config in v5 of Transformers -- we recommend using `max_new_tokens` to control the maximum length of the generation.\n",
            "  UserWarning,\n"
          ]
        },
        {
          "metadata": {
            "tags": null
          },
          "name": "stdout",
          "output_type": "stream",
          "text": [
            "Begin current loop: 1.0\n",
            "Begin current loop: 2.0\n",
            "Begin current loop: 3.0\n",
            "Begin current loop: 4.0\n",
            "Begin current loop: 5.0\n",
            "Begin current loop: 6.0\n",
            "Begin current loop: 7.0\n",
            "Begin current loop: 8.0\n",
            "Begin current loop: 9.0\n",
            "Begin current loop: 10.0\n",
            "Begin current loop: 11.0\n",
            "Begin current loop: 12.0\n",
            "Begin current loop: 13.0\n",
            "Begin current loop: 14.0\n",
            "Begin current loop: 15.0\n",
            "Begin current loop: 16.0\n",
            "Begin current loop: 17.0\n",
            "Begin current loop: 18.0\n",
            "Begin current loop: 19.0\n",
            "Begin current loop: 20.0\n",
            "Begin current loop: 21.0\n",
            "Begin current loop: 22.0\n",
            "Begin current loop: 23.0\n",
            "Begin current loop: 24.0\n",
            "Begin current loop: 25.0\n",
            "Begin current loop: 26.0\n",
            "Begin current loop: 27.0\n",
            "Begin current loop: 28.0\n",
            "Begin current loop: 29.0\n",
            "Begin current loop: 30.0\n",
            "Begin current loop: 31.0\n",
            "Begin current loop: 32.0\n",
            "Begin current loop: 33.0\n",
            "Begin current loop: 34.0\n",
            "Begin current loop: 35.0\n",
            "Begin current loop: 36.0\n",
            "Begin current loop: 37.0\n",
            "Begin current loop: 38.0\n",
            "Begin current loop: 39.0\n",
            "Begin current loop: 40.0\n",
            "Begin current loop: 41.0\n",
            "Begin current loop: 42.0\n",
            "Begin current loop: 43.0\n",
            "Begin current loop: 44.0\n",
            "Begin current loop: 45.0\n",
            "Begin current loop: 46.0\n",
            "Begin current loop: 47.0\n",
            "Begin current loop: 48.0\n",
            "Begin current loop: 49.0\n"
          ]
        }
      ]
    },
    {
      "cell_type": "markdown",
      "source": [
        "### 3.2 ES-ZH"
      ],
      "metadata": {
        "id": "sdjFTh0uoBH7"
      }
    },
    {
      "cell_type": "code",
      "execution_count": null,
      "metadata": {
        "colab": {
          "base_uri": "https://localhost:8080/",
          "height": 153,
          "referenced_widgets": [
            "07a1b5f936784f4f82482aa0bead59f1",
            "91836768c9404a63bd5294508a747b49",
            "9456ccad74fc458c8e318fa7f69dc48e",
            "8471d2d9f7c54eafa52b8fe3a05aa52d",
            "e28a2fd7bf26443c86c628b8e08e433f",
            "e108fba1ad5240669676259445d57e99",
            "ba2ed08c3f254e7b8a8816c80e132a62",
            "6f719c27f6a44f8db9681c9df39a782f",
            "2b498ec2044042ab968ae8d00b25082b",
            "27ee94727ea04490b3062b436d376d44",
            "d87de60979234396924fa2ccda892b3d",
            "1da6c94a824549eba7102133a83bcac8",
            "dd1bc93022574e1cac690238490dd715",
            "8f423f9efd6d4621bb0d92a192542eae",
            "2a2e288840f94abf9e2d91ae0a559b94",
            "912bb25379fb40d8b28d73ab257882c9",
            "5681dbe73edf4cd5a067d219266ce60c",
            "d48b00332c804618a95086dd83fe4f0f",
            "0c4df5812e4548229e55ac06ab285bd0",
            "8bd76005a7e64a158c9660df6cb791b0",
            "17441e04319c4da4b5f614908f81a61b",
            "151c182a1869451781b51db2d0609653"
          ]
        },
        "outputId": "d28b601a-85b0-4d28-ca93-9bbe375af858",
        "id": "hKuixRh4oBIH"
      },
      "outputs": [
        {
          "output_type": "stream",
          "name": "stdout",
          "text": [
            "Downloading and preparing dataset news_commentary/es-zh to /root/.cache/huggingface/datasets/news_commentary/es-zh/11.0.0/cfab724ce975dc2da51cdae45302389860badc88b74db8570d561ced6004f8b4...\n"
          ]
        },
        {
          "output_type": "display_data",
          "data": {
            "text/plain": [
              "Downloading data:   0%|          | 0.00/17.4M [00:00<?, ?B/s]"
            ],
            "application/vnd.jupyter.widget-view+json": {
              "version_major": 2,
              "version_minor": 0,
              "model_id": "07a1b5f936784f4f82482aa0bead59f1"
            }
          },
          "metadata": {}
        },
        {
          "output_type": "display_data",
          "data": {
            "text/plain": [
              "Generating train split:   0%|          | 0/65424 [00:00<?, ? examples/s]"
            ],
            "application/vnd.jupyter.widget-view+json": {
              "version_major": 2,
              "version_minor": 0,
              "model_id": "1da6c94a824549eba7102133a83bcac8"
            }
          },
          "metadata": {}
        },
        {
          "output_type": "stream",
          "name": "stdout",
          "text": [
            "Dataset news_commentary downloaded and prepared to /root/.cache/huggingface/datasets/news_commentary/es-zh/11.0.0/cfab724ce975dc2da51cdae45302389860badc88b74db8570d561ced6004f8b4. Subsequent calls will reuse this data.\n"
          ]
        },
        {
          "output_type": "stream",
          "name": "stderr",
          "text": [
            "WARNING:datasets.builder:Found cached dataset news_commentary (/root/.cache/huggingface/datasets/news_commentary/es-zh/11.0.0/cfab724ce975dc2da51cdae45302389860badc88b74db8570d561ced6004f8b4)\n"
          ]
        }
      ],
      "source": [
        "es_zh_train = load_dataset('news_commentary','es-zh',split='train[:70%]')['translation']\n",
        "es_zh_validation = load_dataset('news_commentary','es-zh',split='train[70%:]')['translation']\n",
        "es_zh_val = random.sample(es_zh_validation,5000)"
      ]
    },
    {
      "cell_type": "code",
      "execution_count": null,
      "metadata": {
        "id": "oHAGtfOOoBIH"
      },
      "outputs": [],
      "source": [
        "train_file = 'drive/MyDrive/W266/es_zh_train.csv'\n",
        "valid_file = 'drive/MyDrive/W266/es_zh_val.csv'\n",
        "# test_file = 'drive/MyDrive/W266/zh_es_test.csv'\n",
        "\n",
        "\n",
        "pd.DataFrame(es_zh_train).to_csv(train_file)\n",
        "pd.DataFrame(es_zh_val).to_csv(valid_file)\n",
        "# pd.DataFrame(zh_es_test).to_csv(test_file)"
      ]
    },
    {
      "cell_type": "code",
      "source": [
        "df_train = pd.read_csv(train_file)\n",
        "df_valid = pd.read_csv(valid_file)\n",
        "# df_test = pd.read_csv(test_file)"
      ],
      "metadata": {
        "id": "sKdSdLXKoBII"
      },
      "execution_count": null,
      "outputs": []
    },
    {
      "cell_type": "code",
      "execution_count": null,
      "metadata": {
        "id": "23Yye-c5oBII"
      },
      "outputs": [],
      "source": [
        "# For normal sequence \n",
        "def preprocess_data(text_pair, tokenizer, max_length=50):\n",
        "    orig_text, target_text = text_pair\n",
        "    orig_encoded = tokenizer.batch_encode_plus(\n",
        "        [orig_text],\n",
        "        max_length=max_length,\n",
        "        padding='max_length',\n",
        "        truncation=True,\n",
        "        return_attention_mask=True,\n",
        "        return_tensors='pt'\n",
        "    )\n",
        "\n",
        "    # not sure if the below two lines are needed for m2m100\n",
        "    orig_input_ids = orig_encoded['input_ids'][0]\n",
        "    orig_attention_mask = orig_encoded['attention_mask'][0]\n",
        "    \n",
        "    target_encoded = tokenizer.batch_encode_plus(\n",
        "        [target_text],\n",
        "        max_length=max_length,\n",
        "        padding='max_length',\n",
        "        truncation=True,\n",
        "        return_attention_mask=True,\n",
        "        return_tensors='pt'\n",
        "    )\n",
        "    \n",
        "    label_ids = target_encoded['input_ids'][0]\n",
        "    \n",
        "    return {'input_ids': orig_input_ids,\n",
        "            'attention_mask': orig_attention_mask,\n",
        "            'labels': label_ids}"
      ]
    },
    {
      "cell_type": "code",
      "execution_count": null,
      "metadata": {
        "id": "M1UkjQsLoBII"
      },
      "outputs": [],
      "source": [
        "class TranslationDataIterator:\n",
        "    \n",
        "    def __init__(self,\n",
        "                 tokenizer,\n",
        "                 n_examples,\n",
        "                 data_filename,\n",
        "                 max_length=128,\n",
        "                 shuffle=True):\n",
        "        \n",
        "        self.tokenizer = tokenizer\n",
        "        self.n_examples = n_examples\n",
        "        self.data_filename = data_filename\n",
        "        self.max_length = max_length\n",
        "        self.shuffle = shuffle\n",
        "        \n",
        "        # Initialize row order, call on_epoch_end to shuffle row indices\n",
        "        self.row_order = np.arange(1, self.n_examples+1)\n",
        "        self.on_epoch_end()\n",
        "    \n",
        "    def __len__(self):\n",
        "        return self.n_examples\n",
        "    \n",
        "    def __getitem__(self, idx):\n",
        "        row_to_load = self.row_order[idx]\n",
        "        df = pd.read_csv(self.data_filename,\n",
        "                         skiprows=range(1, row_to_load),\n",
        "                         nrows=1)\n",
        "        # check the text pair\n",
        "        text_pair = df[['es', 'zh']].values.astype(str)[0]\n",
        "        \n",
        "        item_data = preprocess_data(\n",
        "            text_pair,\n",
        "            self.tokenizer,\n",
        "            self.max_length\n",
        "        )\n",
        "\n",
        "        return item_data\n",
        "    \n",
        "    def __call__(self):\n",
        "        for i in range(self.__len__()):\n",
        "            yield self.__getitem__(i)\n",
        "            \n",
        "            if i == self.__len__()-1:\n",
        "                self.on_epoch_end()\n",
        "    \n",
        "    def on_epoch_end(self):\n",
        "        if self.shuffle:\n",
        "            self.row_order = list(np.random.permutation(self.row_order))"
      ]
    },
    {
      "cell_type": "code",
      "execution_count": null,
      "metadata": {
        "id": "E_oydcfQoBII"
      },
      "outputs": [],
      "source": [
        "max_length = 128\n",
        "\n",
        "train_data_iterator = TranslationDataIterator(\n",
        "    tokenizer=m2m_tokenizer,\n",
        "    n_examples=len(es_zh_train),\n",
        "    data_filename=train_file,\n",
        "    max_length=max_length\n",
        ")\n",
        "\n",
        "valid_data_iterator = TranslationDataIterator(\n",
        "    tokenizer=m2m_tokenizer,\n",
        "    n_examples=len(es_zh_val),\n",
        "    data_filename=valid_file,\n",
        "    max_length=max_length\n",
        ")"
      ]
    },
    {
      "cell_type": "code",
      "source": [
        "srg_lang = 'es'\n",
        "tgt_lang = 'zh'\n",
        "\n",
        "# Modify this filepath to where you want to save the model after fine-tuning\n",
        "dir_path = 'drive/MyDrive/W266/'\n",
        "file_path = dir_path + f'M2M100_news_commentary_{srg_lang}_{tgt_lang}'"
      ],
      "metadata": {
        "id": "jMS6iSaZoBII"
      },
      "execution_count": null,
      "outputs": []
    },
    {
      "cell_type": "code",
      "execution_count": null,
      "metadata": {
        "id": "rekq3wCGoBII"
      },
      "outputs": [],
      "source": [
        "# Specify batch size and other training arguments\n",
        "\n",
        "batch_size = 5\n",
        "\n",
        "args = Seq2SeqTrainingArguments(\n",
        "    file_path,\n",
        "    evaluation_strategy='epoch',\n",
        "    per_device_train_batch_size=batch_size,\n",
        "    per_device_eval_batch_size=batch_size,\n",
        "    num_train_epochs=1,\n",
        ")"
      ]
    },
    {
      "cell_type": "code",
      "execution_count": null,
      "metadata": {
        "id": "ZVbJnkmRoBII"
      },
      "outputs": [],
      "source": [
        "# Define the trainer, passing in the model, training args, and data generators\n",
        "\n",
        "trainer = Seq2SeqTrainer(\n",
        "    m2m_model,\n",
        "    args,\n",
        "    train_dataset=train_data_iterator,\n",
        "    eval_dataset=valid_data_iterator\n",
        ")"
      ]
    },
    {
      "cell_type": "code",
      "execution_count": null,
      "metadata": {
        "colab": {
          "base_uri": "https://localhost:8080/",
          "height": 1000
        },
        "outputId": "67e3589c-5ea4-476f-8697-d17dc9848979",
        "id": "uUD0324soBII"
      },
      "outputs": [
        {
          "output_type": "stream",
          "name": "stderr",
          "text": [
            "/usr/local/lib/python3.7/dist-packages/transformers/optimization.py:310: FutureWarning: This implementation of AdamW is deprecated and will be removed in a future version. Use the PyTorch implementation torch.optim.AdamW instead, or set `no_deprecation_warning=True` to disable this warning\n",
            "  FutureWarning,\n",
            "***** Running training *****\n",
            "  Num examples = 45797\n",
            "  Num Epochs = 1\n",
            "  Instantaneous batch size per device = 5\n",
            "  Total train batch size (w. parallel, distributed & accumulation) = 5\n",
            "  Gradient Accumulation steps = 1\n",
            "  Total optimization steps = 9160\n",
            "  Number of trainable parameters = 483905536\n"
          ]
        },
        {
          "output_type": "display_data",
          "data": {
            "text/plain": [
              "<IPython.core.display.HTML object>"
            ],
            "text/html": [
              "\n",
              "    <div>\n",
              "      \n",
              "      <progress value='9160' max='9160' style='width:300px; height:20px; vertical-align: middle;'></progress>\n",
              "      [9160/9160 3:41:30, Epoch 1/1]\n",
              "    </div>\n",
              "    <table border=\"1\" class=\"dataframe\">\n",
              "  <thead>\n",
              " <tr style=\"text-align: left;\">\n",
              "      <th>Epoch</th>\n",
              "      <th>Training Loss</th>\n",
              "      <th>Validation Loss</th>\n",
              "    </tr>\n",
              "  </thead>\n",
              "  <tbody>\n",
              "    <tr>\n",
              "      <td>1</td>\n",
              "      <td>1.708900</td>\n",
              "      <td>1.688322</td>\n",
              "    </tr>\n",
              "  </tbody>\n",
              "</table><p>"
            ]
          },
          "metadata": {}
        },
        {
          "output_type": "stream",
          "name": "stderr",
          "text": [
            "Saving model checkpoint to drive/MyDrive/W266/M2M100_news_commentary_es_zh/checkpoint-500\n",
            "Configuration saved in drive/MyDrive/W266/M2M100_news_commentary_es_zh/checkpoint-500/config.json\n",
            "Model weights saved in drive/MyDrive/W266/M2M100_news_commentary_es_zh/checkpoint-500/pytorch_model.bin\n",
            "Saving model checkpoint to drive/MyDrive/W266/M2M100_news_commentary_es_zh/checkpoint-1000\n",
            "Configuration saved in drive/MyDrive/W266/M2M100_news_commentary_es_zh/checkpoint-1000/config.json\n",
            "Model weights saved in drive/MyDrive/W266/M2M100_news_commentary_es_zh/checkpoint-1000/pytorch_model.bin\n",
            "Saving model checkpoint to drive/MyDrive/W266/M2M100_news_commentary_es_zh/checkpoint-1500\n",
            "Configuration saved in drive/MyDrive/W266/M2M100_news_commentary_es_zh/checkpoint-1500/config.json\n",
            "Model weights saved in drive/MyDrive/W266/M2M100_news_commentary_es_zh/checkpoint-1500/pytorch_model.bin\n",
            "Saving model checkpoint to drive/MyDrive/W266/M2M100_news_commentary_es_zh/checkpoint-2000\n",
            "Configuration saved in drive/MyDrive/W266/M2M100_news_commentary_es_zh/checkpoint-2000/config.json\n",
            "Model weights saved in drive/MyDrive/W266/M2M100_news_commentary_es_zh/checkpoint-2000/pytorch_model.bin\n",
            "Saving model checkpoint to drive/MyDrive/W266/M2M100_news_commentary_es_zh/checkpoint-2500\n",
            "Configuration saved in drive/MyDrive/W266/M2M100_news_commentary_es_zh/checkpoint-2500/config.json\n",
            "Model weights saved in drive/MyDrive/W266/M2M100_news_commentary_es_zh/checkpoint-2500/pytorch_model.bin\n",
            "Saving model checkpoint to drive/MyDrive/W266/M2M100_news_commentary_es_zh/checkpoint-3000\n",
            "Configuration saved in drive/MyDrive/W266/M2M100_news_commentary_es_zh/checkpoint-3000/config.json\n",
            "Model weights saved in drive/MyDrive/W266/M2M100_news_commentary_es_zh/checkpoint-3000/pytorch_model.bin\n",
            "Saving model checkpoint to drive/MyDrive/W266/M2M100_news_commentary_es_zh/checkpoint-3500\n",
            "Configuration saved in drive/MyDrive/W266/M2M100_news_commentary_es_zh/checkpoint-3500/config.json\n",
            "Model weights saved in drive/MyDrive/W266/M2M100_news_commentary_es_zh/checkpoint-3500/pytorch_model.bin\n",
            "Saving model checkpoint to drive/MyDrive/W266/M2M100_news_commentary_es_zh/checkpoint-4000\n",
            "Configuration saved in drive/MyDrive/W266/M2M100_news_commentary_es_zh/checkpoint-4000/config.json\n",
            "Model weights saved in drive/MyDrive/W266/M2M100_news_commentary_es_zh/checkpoint-4000/pytorch_model.bin\n",
            "Saving model checkpoint to drive/MyDrive/W266/M2M100_news_commentary_es_zh/checkpoint-4500\n",
            "Configuration saved in drive/MyDrive/W266/M2M100_news_commentary_es_zh/checkpoint-4500/config.json\n",
            "Model weights saved in drive/MyDrive/W266/M2M100_news_commentary_es_zh/checkpoint-4500/pytorch_model.bin\n",
            "Saving model checkpoint to drive/MyDrive/W266/M2M100_news_commentary_es_zh/checkpoint-5000\n",
            "Configuration saved in drive/MyDrive/W266/M2M100_news_commentary_es_zh/checkpoint-5000/config.json\n",
            "Model weights saved in drive/MyDrive/W266/M2M100_news_commentary_es_zh/checkpoint-5000/pytorch_model.bin\n",
            "Saving model checkpoint to drive/MyDrive/W266/M2M100_news_commentary_es_zh/checkpoint-5500\n",
            "Configuration saved in drive/MyDrive/W266/M2M100_news_commentary_es_zh/checkpoint-5500/config.json\n",
            "Model weights saved in drive/MyDrive/W266/M2M100_news_commentary_es_zh/checkpoint-5500/pytorch_model.bin\n",
            "Saving model checkpoint to drive/MyDrive/W266/M2M100_news_commentary_es_zh/checkpoint-6000\n",
            "Configuration saved in drive/MyDrive/W266/M2M100_news_commentary_es_zh/checkpoint-6000/config.json\n",
            "Model weights saved in drive/MyDrive/W266/M2M100_news_commentary_es_zh/checkpoint-6000/pytorch_model.bin\n",
            "Saving model checkpoint to drive/MyDrive/W266/M2M100_news_commentary_es_zh/checkpoint-6500\n",
            "Configuration saved in drive/MyDrive/W266/M2M100_news_commentary_es_zh/checkpoint-6500/config.json\n",
            "Model weights saved in drive/MyDrive/W266/M2M100_news_commentary_es_zh/checkpoint-6500/pytorch_model.bin\n",
            "Saving model checkpoint to drive/MyDrive/W266/M2M100_news_commentary_es_zh/checkpoint-7000\n",
            "Configuration saved in drive/MyDrive/W266/M2M100_news_commentary_es_zh/checkpoint-7000/config.json\n",
            "Model weights saved in drive/MyDrive/W266/M2M100_news_commentary_es_zh/checkpoint-7000/pytorch_model.bin\n",
            "Saving model checkpoint to drive/MyDrive/W266/M2M100_news_commentary_es_zh/checkpoint-7500\n",
            "Configuration saved in drive/MyDrive/W266/M2M100_news_commentary_es_zh/checkpoint-7500/config.json\n",
            "Model weights saved in drive/MyDrive/W266/M2M100_news_commentary_es_zh/checkpoint-7500/pytorch_model.bin\n",
            "Saving model checkpoint to drive/MyDrive/W266/M2M100_news_commentary_es_zh/checkpoint-8000\n",
            "Configuration saved in drive/MyDrive/W266/M2M100_news_commentary_es_zh/checkpoint-8000/config.json\n",
            "Model weights saved in drive/MyDrive/W266/M2M100_news_commentary_es_zh/checkpoint-8000/pytorch_model.bin\n",
            "Saving model checkpoint to drive/MyDrive/W266/M2M100_news_commentary_es_zh/checkpoint-8500\n",
            "Configuration saved in drive/MyDrive/W266/M2M100_news_commentary_es_zh/checkpoint-8500/config.json\n",
            "Model weights saved in drive/MyDrive/W266/M2M100_news_commentary_es_zh/checkpoint-8500/pytorch_model.bin\n",
            "Saving model checkpoint to drive/MyDrive/W266/M2M100_news_commentary_es_zh/checkpoint-9000\n",
            "Configuration saved in drive/MyDrive/W266/M2M100_news_commentary_es_zh/checkpoint-9000/config.json\n",
            "Model weights saved in drive/MyDrive/W266/M2M100_news_commentary_es_zh/checkpoint-9000/pytorch_model.bin\n",
            "***** Running Evaluation *****\n",
            "  Num examples = 5000\n",
            "  Batch size = 5\n",
            "\n",
            "\n",
            "Training completed. Do not forget to share your model on huggingface.co/models =)\n",
            "\n",
            "\n"
          ]
        },
        {
          "output_type": "execute_result",
          "data": {
            "text/plain": [
              "TrainOutput(global_step=9160, training_loss=1.8592834705869183, metrics={'train_runtime': 13294.0811, 'train_samples_per_second': 3.445, 'train_steps_per_second': 0.689, 'total_flos': 1.2405861182865408e+16, 'train_loss': 1.8592834705869183, 'epoch': 1.0})"
            ]
          },
          "metadata": {},
          "execution_count": 22
        }
      ],
      "source": [
        "# Call train\n",
        "\n",
        "trainer.train()"
      ]
    },
    {
      "cell_type": "code",
      "source": [
        "trainer.save_model('drive/MyDrive/W266/M2M100_news_commentary_es_zh/checkpoint-001')"
      ],
      "metadata": {
        "colab": {
          "base_uri": "https://localhost:8080/"
        },
        "outputId": "14b18bc4-0d42-44f0-ac58-06855ceed244",
        "id": "o8AaQADJoBIJ"
      },
      "execution_count": null,
      "outputs": [
        {
          "output_type": "stream",
          "name": "stderr",
          "text": [
            "Saving model checkpoint to drive/MyDrive/W266/M2M100_news_commentary_es_zh/checkpoint-001\n",
            "Configuration saved in drive/MyDrive/W266/M2M100_news_commentary_es_zh/checkpoint-001/config.json\n",
            "Model weights saved in drive/MyDrive/W266/M2M100_news_commentary_es_zh/checkpoint-001/pytorch_model.bin\n"
          ]
        }
      ]
    },
    {
      "cell_type": "code",
      "source": [
        "m2m_model_es_zh = M2M100ForConditionalGeneration.from_pretrained(file_path + '/checkpoint-001')"
      ],
      "metadata": {
        "id": "U-ujza47oBIJ",
        "colab": {
          "base_uri": "https://localhost:8080/"
        },
        "outputId": "7e44d278-fe96-4508-f0aa-de29e36b8106"
      },
      "execution_count": null,
      "outputs": [
        {
          "output_type": "stream",
          "name": "stderr",
          "text": [
            "loading configuration file drive/MyDrive/W266/M2M100_news_commentary_es_zh/checkpoint-001/config.json\n",
            "Model config M2M100Config {\n",
            "  \"_name_or_path\": \"facebook/m2m100_418M\",\n",
            "  \"activation_dropout\": 0.0,\n",
            "  \"activation_function\": \"relu\",\n",
            "  \"architectures\": [\n",
            "    \"M2M100ForConditionalGeneration\"\n",
            "  ],\n",
            "  \"attention_dropout\": 0.1,\n",
            "  \"bos_token_id\": 0,\n",
            "  \"d_model\": 1024,\n",
            "  \"decoder_attention_heads\": 16,\n",
            "  \"decoder_ffn_dim\": 4096,\n",
            "  \"decoder_layerdrop\": 0.05,\n",
            "  \"decoder_layers\": 12,\n",
            "  \"decoder_start_token_id\": 2,\n",
            "  \"dropout\": 0.1,\n",
            "  \"early_stopping\": true,\n",
            "  \"encoder_attention_heads\": 16,\n",
            "  \"encoder_ffn_dim\": 4096,\n",
            "  \"encoder_layerdrop\": 0.05,\n",
            "  \"encoder_layers\": 12,\n",
            "  \"eos_token_id\": 2,\n",
            "  \"gradient_checkpointing\": false,\n",
            "  \"init_std\": 0.02,\n",
            "  \"is_encoder_decoder\": true,\n",
            "  \"max_length\": 200,\n",
            "  \"max_position_embeddings\": 1024,\n",
            "  \"model_type\": \"m2m_100\",\n",
            "  \"num_beams\": 5,\n",
            "  \"num_hidden_layers\": 12,\n",
            "  \"pad_token_id\": 1,\n",
            "  \"scale_embedding\": true,\n",
            "  \"torch_dtype\": \"float32\",\n",
            "  \"transformers_version\": \"4.24.0\",\n",
            "  \"use_cache\": true,\n",
            "  \"vocab_size\": 128112\n",
            "}\n",
            "\n",
            "loading weights file drive/MyDrive/W266/M2M100_news_commentary_es_zh/checkpoint-001/pytorch_model.bin\n",
            "All model checkpoint weights were used when initializing M2M100ForConditionalGeneration.\n",
            "\n",
            "All the weights of M2M100ForConditionalGeneration were initialized from the model checkpoint at drive/MyDrive/W266/M2M100_news_commentary_es_zh/checkpoint-001.\n",
            "If your task is similar to the task the model of the checkpoint was trained on, you can already use M2M100ForConditionalGeneration for predictions without further training.\n"
          ]
        }
      ]
    },
    {
      "cell_type": "code",
      "source": [
        "df_valid_list = df_valid[f'{srg_lang}'].tolist()\n",
        "df_valid_label= df_valid[f'{tgt_lang}'].tolist()"
      ],
      "metadata": {
        "id": "_59uT297oBIJ"
      },
      "execution_count": null,
      "outputs": []
    },
    {
      "cell_type": "code",
      "source": [
        "eval_score = []\n",
        "step = 100\n",
        "\n",
        "for row_index in range(0,len(df_valid_list),step):\n",
        "  curr_input = df_valid_list[row_index: row_index + step]\n",
        "  curr_label = df_valid_label[row_index: row_index + step]\n",
        "\n",
        "  curr_loop = row_index/step\n",
        "  print(\"Begin current loop:\", curr_loop)\n",
        "\n",
        "  encoded_en = m2m_tokenizer(curr_input, \n",
        "                        padding = True,\n",
        "                        max_length=50,\n",
        "                        truncation=True,\n",
        "                        return_tensors='pt')\n",
        "  generated_tokens = m2m_model_es_zh.generate(**encoded_en, forced_bos_token_id=m2m_tokenizer.get_lang_id(f'{tgt_lang}'))\n",
        "  curr_output = m2m_tokenizer.batch_decode(generated_tokens, skip_special_tokens=True)\n",
        "\n",
        "  ### Compute BLEURT score\n",
        "  bleurt_label = [[label] for label in curr_label]\n",
        "  curr_bleurt_score = bleurt_metric.compute(predictions=curr_output, references=bleurt_label)\n",
        "\n",
        "  eval_score.append(curr_bleurt_score['scores'])\n",
        "\n",
        "  \n",
        "  df_output = pd.DataFrame(eval_score)\n",
        "  df_output.to_csv('drive/MyDrive/W266/es_zh_bleurt_validation.csv', sep=',', index=False)\n",
        "  "
      ],
      "metadata": {
        "colab": {
          "base_uri": "https://localhost:8080/",
          "height": 801
        },
        "outputId": "de4abdaf-4352-453a-be8e-406093bb74c7",
        "id": "5Df32jE5oBIJ"
      },
      "execution_count": null,
      "outputs": [
        {
          "output_type": "stream",
          "name": "stdout",
          "text": [
            "Begin current loop: 0.0\n"
          ]
        },
        {
          "output_type": "stream",
          "name": "stderr",
          "text": [
            "/usr/local/lib/python3.7/dist-packages/transformers/generation_utils.py:1364: UserWarning: Neither `max_length` nor `max_new_tokens` has been set, `max_length` will default to 200 (`self.config.max_length`). Controlling `max_length` via the config is deprecated and `max_length` will be removed from the config in v5 of Transformers -- we recommend using `max_new_tokens` to control the maximum length of the generation.\n",
            "  UserWarning,\n"
          ]
        },
        {
          "output_type": "stream",
          "name": "stdout",
          "text": [
            "Begin current loop: 1.0\n",
            "Begin current loop: 2.0\n",
            "Begin current loop: 3.0\n",
            "Begin current loop: 4.0\n",
            "Begin current loop: 5.0\n",
            "Begin current loop: 6.0\n",
            "Begin current loop: 7.0\n",
            "Begin current loop: 8.0\n",
            "Begin current loop: 9.0\n",
            "Begin current loop: 10.0\n",
            "Begin current loop: 11.0\n",
            "Begin current loop: 12.0\n",
            "Begin current loop: 13.0\n",
            "Begin current loop: 14.0\n",
            "Begin current loop: 15.0\n",
            "Begin current loop: 16.0\n",
            "Begin current loop: 17.0\n",
            "Begin current loop: 18.0\n",
            "Begin current loop: 19.0\n",
            "Begin current loop: 20.0\n",
            "Begin current loop: 21.0\n",
            "Begin current loop: 22.0\n",
            "Begin current loop: 23.0\n",
            "Begin current loop: 24.0\n",
            "Begin current loop: 25.0\n",
            "Begin current loop: 26.0\n",
            "Begin current loop: 27.0\n",
            "Begin current loop: 28.0\n",
            "Begin current loop: 29.0\n",
            "Begin current loop: 30.0\n",
            "Begin current loop: 31.0\n",
            "Begin current loop: 32.0\n",
            "Begin current loop: 33.0\n",
            "Begin current loop: 34.0\n",
            "Begin current loop: 35.0\n",
            "Begin current loop: 36.0\n",
            "Begin current loop: 37.0\n",
            "Begin current loop: 38.0\n",
            "Begin current loop: 39.0\n",
            "Begin current loop: 40.0\n",
            "Begin current loop: 41.0\n"
          ]
        }
      ]
    },
    {
      "cell_type": "markdown",
      "source": [
        "### 3.3 ZH-EN"
      ],
      "metadata": {
        "id": "nggh906KioPb"
      }
    },
    {
      "cell_type": "code",
      "execution_count": null,
      "metadata": {
        "colab": {
          "base_uri": "https://localhost:8080/",
          "height": 217,
          "referenced_widgets": [
            "b6293f6812d34b0fbebba862a98f28d9",
            "21416ee3ac1b474cbc650e79591682e7",
            "3d5796adc1094ae8acb3198f7c8c7c96",
            "06fe4bc259254f9f82e5978155775297",
            "47ca58c79de04db5acec647c381e0492",
            "8aca3868f71d46b58a3d8e24cf2d1959",
            "a52155fea8c54b9a9dd6206f0d6e0a78",
            "d47e6279aa8845adacb93d033183a5d9",
            "1c65ed63ca6447b08a18093a2d58d327",
            "871d30158b1249aeafee15a72dd3b14a",
            "2e15502c90a2460191001f740799c4f3",
            "69ff93b229d641b8ad19f46b8e53486e",
            "b812029fda9d4483be111ac9a732365f",
            "ef78d568a5a84856a2e44aced39aba12",
            "b86338cd9519401c9dd9f6c7cdc9db8f",
            "99f061b59db74ba99b92b27308d73424",
            "688d5e09662b4e01937feb79c3e9bc7e",
            "71faff8a80c44bf19313fa4d51c8bbb4",
            "e59cf4fddc2b4880b3b5af9052856bfa",
            "7c0449de4aa94f5aba3b59460ef55aab",
            "6523a90dc9ff4f3a98a8f297d12021b8",
            "6e07549b10fd4cdea3788c7e70d86d6b",
            "5a53fc196edd44cda348878033cce8cf",
            "238e4728bd64419f975ead8e367ec170",
            "1908831a943e476ca61e2d331589ff9e",
            "bab2e9c1ad964ba1878bd0545a51a16c",
            "ec38409d94e748228bc6d8f3b8a31889",
            "7b42b7e3cb2a4cfa8fcb1c257d18ec9b",
            "ef9b8b1cb60f49ed8f6be57cb202c2cb",
            "45e1c48fcb224e41bd8776b5f1c895e0",
            "fab969b918ab488895927c39caedbf22",
            "954ecd817bf841af99e640a8eced1c26",
            "1052c8fb5219481da1717e73b06d066f",
            "f593b911e5824ebcb3ff38679237a33a",
            "9beb3a4dcd654542918b920906b69c84",
            "8516eb4cf1984d9aade685226bbf8939",
            "6aed97536e204a34ba3d9efa96aac1b3",
            "a178a7da6e484cd3bd4577e37e541830",
            "299a828ad5014f99aa23789176af56b0",
            "bdfffc63a8f546c888d6c358ddc6d2d1",
            "92bfec745fdb448db1080a6a8ae52704",
            "c16bbc82788a467e8e875ff412211766",
            "418b36744ea04efcbd3fda4ae4ccfd98",
            "46d942d262144e3fafeaf352b3665caa",
            "2ae7b98d91ff451a92e5c9761f7ad70c",
            "bedef02e0db147cb82e45531b5e1012d",
            "14addfbb2ab74a48ab7f0872b672860f",
            "162c44286d7841d2ac576f4ec3c13a5d",
            "eb16242ea2b04137a27e3833a5ffb7c1",
            "58834f632b7d4e23a8ebec4ab2a06769",
            "d6847674b6454e45a3d57103c16c7b3a",
            "f8e85d1ca74d41e091965a731e2dc88f",
            "f28a42117239411d973c00a1949db490",
            "5802fdade84e48a2a0a375d40adca998",
            "06408922677b43f09d94a4e01fc94b4b"
          ]
        },
        "outputId": "4a211377-2eba-4734-a185-1cfc2e95165e",
        "id": "KR-FJFIWioPo"
      },
      "outputs": [
        {
          "output_type": "display_data",
          "data": {
            "text/plain": [
              "Downloading builder script:   0%|          | 0.00/5.36k [00:00<?, ?B/s]"
            ],
            "application/vnd.jupyter.widget-view+json": {
              "version_major": 2,
              "version_minor": 0,
              "model_id": "b6293f6812d34b0fbebba862a98f28d9"
            }
          },
          "metadata": {}
        },
        {
          "output_type": "display_data",
          "data": {
            "text/plain": [
              "Downloading metadata:   0%|          | 0.00/116k [00:00<?, ?B/s]"
            ],
            "application/vnd.jupyter.widget-view+json": {
              "version_major": 2,
              "version_minor": 0,
              "model_id": "69ff93b229d641b8ad19f46b8e53486e"
            }
          },
          "metadata": {}
        },
        {
          "output_type": "display_data",
          "data": {
            "text/plain": [
              "Downloading readme:   0%|          | 0.00/20.9k [00:00<?, ?B/s]"
            ],
            "application/vnd.jupyter.widget-view+json": {
              "version_major": 2,
              "version_minor": 0,
              "model_id": "5a53fc196edd44cda348878033cce8cf"
            }
          },
          "metadata": {}
        },
        {
          "output_type": "stream",
          "name": "stdout",
          "text": [
            "Downloading and preparing dataset news_commentary/en-zh to /root/.cache/huggingface/datasets/news_commentary/en-zh/11.0.0/cfab724ce975dc2da51cdae45302389860badc88b74db8570d561ced6004f8b4...\n"
          ]
        },
        {
          "output_type": "display_data",
          "data": {
            "text/plain": [
              "Downloading data:   0%|          | 0.00/18.1M [00:00<?, ?B/s]"
            ],
            "application/vnd.jupyter.widget-view+json": {
              "version_major": 2,
              "version_minor": 0,
              "model_id": "f593b911e5824ebcb3ff38679237a33a"
            }
          },
          "metadata": {}
        },
        {
          "output_type": "display_data",
          "data": {
            "text/plain": [
              "Generating train split:   0%|          | 0/69206 [00:00<?, ? examples/s]"
            ],
            "application/vnd.jupyter.widget-view+json": {
              "version_major": 2,
              "version_minor": 0,
              "model_id": "2ae7b98d91ff451a92e5c9761f7ad70c"
            }
          },
          "metadata": {}
        },
        {
          "output_type": "stream",
          "name": "stdout",
          "text": [
            "Dataset news_commentary downloaded and prepared to /root/.cache/huggingface/datasets/news_commentary/en-zh/11.0.0/cfab724ce975dc2da51cdae45302389860badc88b74db8570d561ced6004f8b4. Subsequent calls will reuse this data.\n"
          ]
        },
        {
          "output_type": "stream",
          "name": "stderr",
          "text": [
            "WARNING:datasets.builder:Found cached dataset news_commentary (/root/.cache/huggingface/datasets/news_commentary/en-zh/11.0.0/cfab724ce975dc2da51cdae45302389860badc88b74db8570d561ced6004f8b4)\n"
          ]
        }
      ],
      "source": [
        "zh_en_train = load_dataset('news_commentary','en-zh',split='train[:70%]')['translation']\n",
        "zh_en_validation = load_dataset('news_commentary','en-zh',split='train[70%:]')['translation']\n",
        "zh_en_val = random.sample(zh_en_validation,5000)\n",
        "# zh_es_test = load_dataset('news_commentary','es-zh',split='train[120:140]')['translation']"
      ]
    },
    {
      "cell_type": "code",
      "execution_count": null,
      "metadata": {
        "id": "qdFS8ssIioPo"
      },
      "outputs": [],
      "source": [
        "train_file = 'drive/MyDrive/W266/zh_en_train.csv'\n",
        "valid_file = 'drive/MyDrive/W266/zh_en_val.csv'\n",
        "# test_file = 'drive/MyDrive/W266/zh_es_test.csv'\n",
        "\n",
        "\n",
        "pd.DataFrame(zh_en_train).to_csv(train_file)\n",
        "pd.DataFrame(zh_en_val).to_csv(valid_file)\n",
        "# pd.DataFrame(zh_es_test).to_csv(test_file)"
      ]
    },
    {
      "cell_type": "code",
      "source": [
        "df_train = pd.read_csv(train_file)\n",
        "df_valid = pd.read_csv(valid_file)\n",
        "# df_test = pd.read_csv(test_file)"
      ],
      "metadata": {
        "id": "WKrQMlbAioPo"
      },
      "execution_count": null,
      "outputs": []
    },
    {
      "cell_type": "code",
      "source": [
        "def preprocess_data(text_pair, tokenizer, max_length=50):\n",
        "    # For reversed sequence\n",
        "    target_text, orig_text = text_pair\n",
        "    \n",
        "    orig_encoded = tokenizer.batch_encode_plus(\n",
        "        [orig_text],\n",
        "        max_length=max_length,\n",
        "        padding='max_length',\n",
        "        truncation=True,\n",
        "        return_attention_mask=True,\n",
        "        return_tensors='pt'\n",
        "    )\n",
        "\n",
        "    orig_input_ids = orig_encoded['input_ids'][0]\n",
        "    orig_attention_mask = orig_encoded['attention_mask'][0]\n",
        "    \n",
        "    target_encoded = tokenizer.batch_encode_plus(\n",
        "        [target_text],\n",
        "        max_length=max_length,\n",
        "        padding='max_length',\n",
        "        truncation=True,\n",
        "        return_attention_mask=True,\n",
        "        return_tensors='pt'\n",
        "    )\n",
        "    \n",
        "    label_ids = target_encoded['input_ids'][0]\n",
        "    \n",
        "    return {'input_ids': orig_input_ids,\n",
        "            'attention_mask': orig_attention_mask,\n",
        "            'labels': label_ids}"
      ],
      "metadata": {
        "id": "UAVZLXGfioPo"
      },
      "execution_count": null,
      "outputs": []
    },
    {
      "cell_type": "code",
      "execution_count": null,
      "metadata": {
        "id": "laa9VQNOioPp"
      },
      "outputs": [],
      "source": [
        "class TranslationDataIterator:\n",
        "    \n",
        "    def __init__(self,\n",
        "                 tokenizer,\n",
        "                 n_examples,\n",
        "                 data_filename,\n",
        "                 max_length=128,\n",
        "                 shuffle=True):\n",
        "        \n",
        "        self.tokenizer = tokenizer\n",
        "        self.n_examples = n_examples\n",
        "        self.data_filename = data_filename\n",
        "        self.max_length = max_length\n",
        "        self.shuffle = shuffle\n",
        "        \n",
        "        # Initialize row order, call on_epoch_end to shuffle row indices\n",
        "        self.row_order = np.arange(1, self.n_examples+1)\n",
        "        self.on_epoch_end()\n",
        "    \n",
        "    def __len__(self):\n",
        "        return self.n_examples\n",
        "    \n",
        "    def __getitem__(self, idx):\n",
        "        row_to_load = self.row_order[idx]\n",
        "        df = pd.read_csv(self.data_filename,\n",
        "                         skiprows=range(1, row_to_load),\n",
        "                         nrows=1)\n",
        "        \n",
        "        text_pair = df[['en', 'zh']].values.astype(str)[0]\n",
        "        \n",
        "        item_data = preprocess_data(\n",
        "            text_pair,\n",
        "            self.tokenizer,\n",
        "            self.max_length\n",
        "        )\n",
        "\n",
        "        return item_data\n",
        "    \n",
        "    def __call__(self):\n",
        "        for i in range(self.__len__()):\n",
        "            yield self.__getitem__(i)\n",
        "            \n",
        "            if i == self.__len__()-1:\n",
        "                self.on_epoch_end()\n",
        "    \n",
        "    def on_epoch_end(self):\n",
        "        if self.shuffle:\n",
        "            self.row_order = list(np.random.permutation(self.row_order))"
      ]
    },
    {
      "cell_type": "markdown",
      "source": [
        "#### 3.3.1 Baseline"
      ],
      "metadata": {
        "id": "5TLdSX7CnDS0"
      }
    },
    {
      "cell_type": "code",
      "source": [
        "df_baseline_list = df_valid['zh'].tolist()\n",
        "df_baseline_label = df_valid['en'].tolist()"
      ],
      "metadata": {
        "id": "ULYMNiIAnCJA"
      },
      "execution_count": null,
      "outputs": []
    },
    {
      "cell_type": "code",
      "source": [
        "eval_score = []\n",
        "step = 100\n",
        "\n",
        "for row_index in range(0,len(df_baseline_list),step):\n",
        "  curr_input = df_baseline_list[row_index: row_index + step]\n",
        "  curr_label = df_baseline_label[row_index: row_index + step]\n",
        "\n",
        "  curr_loop = row_index/step\n",
        "  print(\"Begin current loop:\", curr_loop)\n",
        "\n",
        "  encoded_en = m2m_tokenizer(curr_input, \n",
        "                        padding = True,\n",
        "                        max_length=50,\n",
        "                        truncation=True,\n",
        "                        return_tensors='pt')\n",
        "  generated_tokens = m2m_model.generate(**encoded_en, forced_bos_token_id=m2m_tokenizer.get_lang_id(\"en\"))\n",
        "  curr_output = m2m_tokenizer.batch_decode(generated_tokens, skip_special_tokens=True)\n",
        "\n",
        "  ### Compute BLEURT score\n",
        "  bleurt_label = [[label] for label in curr_label]\n",
        "  curr_bleurt_score = bleurt_metric.compute(predictions=curr_output, references=bleurt_label)\n",
        "\n",
        "  eval_score.append(curr_bleurt_score['scores'])\n",
        "\n",
        "  \n",
        "  df_output = pd.DataFrame(eval_score)\n",
        "  df_output.to_csv('drive/MyDrive/W266/zh_en_bleurt_baseline.csv', sep=',', index=False)"
      ],
      "metadata": {
        "colab": {
          "base_uri": "https://localhost:8080/"
        },
        "id": "jEICrKeencY6",
        "outputId": "35d21a78-f8ff-413f-a6ee-4e19b7013640"
      },
      "execution_count": null,
      "outputs": [
        {
          "output_type": "stream",
          "name": "stdout",
          "text": [
            "Begin current loop: 0.0\n"
          ]
        },
        {
          "output_type": "stream",
          "name": "stderr",
          "text": [
            "/usr/local/lib/python3.7/dist-packages/transformers/generation_utils.py:1364: UserWarning: Neither `max_length` nor `max_new_tokens` has been set, `max_length` will default to 200 (`self.config.max_length`). Controlling `max_length` via the config is deprecated and `max_length` will be removed from the config in v5 of Transformers -- we recommend using `max_new_tokens` to control the maximum length of the generation.\n",
            "  UserWarning,\n"
          ]
        },
        {
          "output_type": "stream",
          "name": "stdout",
          "text": [
            "Begin current loop: 1.0\n",
            "Begin current loop: 2.0\n",
            "Begin current loop: 3.0\n",
            "Begin current loop: 4.0\n",
            "Begin current loop: 5.0\n",
            "Begin current loop: 6.0\n",
            "Begin current loop: 7.0\n",
            "Begin current loop: 8.0\n",
            "Begin current loop: 9.0\n",
            "Begin current loop: 10.0\n",
            "Begin current loop: 11.0\n",
            "Begin current loop: 12.0\n",
            "Begin current loop: 13.0\n",
            "Begin current loop: 14.0\n",
            "Begin current loop: 15.0\n",
            "Begin current loop: 16.0\n",
            "Begin current loop: 17.0\n",
            "Begin current loop: 18.0\n",
            "Begin current loop: 19.0\n",
            "Begin current loop: 20.0\n",
            "Begin current loop: 21.0\n",
            "Begin current loop: 22.0\n",
            "Begin current loop: 23.0\n",
            "Begin current loop: 24.0\n",
            "Begin current loop: 25.0\n",
            "Begin current loop: 26.0\n",
            "Begin current loop: 27.0\n",
            "Begin current loop: 28.0\n",
            "Begin current loop: 29.0\n",
            "Begin current loop: 30.0\n",
            "Begin current loop: 31.0\n",
            "Begin current loop: 32.0\n",
            "Begin current loop: 33.0\n",
            "Begin current loop: 34.0\n",
            "Begin current loop: 35.0\n",
            "Begin current loop: 36.0\n",
            "Begin current loop: 37.0\n",
            "Begin current loop: 38.0\n",
            "Begin current loop: 39.0\n",
            "Begin current loop: 40.0\n",
            "Begin current loop: 41.0\n",
            "Begin current loop: 42.0\n",
            "Begin current loop: 43.0\n",
            "Begin current loop: 44.0\n",
            "Begin current loop: 45.0\n",
            "Begin current loop: 46.0\n",
            "Begin current loop: 47.0\n",
            "Begin current loop: 48.0\n",
            "Begin current loop: 49.0\n"
          ]
        }
      ]
    },
    {
      "cell_type": "markdown",
      "source": [
        "#### 3.3.2 Fine tune model"
      ],
      "metadata": {
        "id": "OpZt4-eZOBYr"
      }
    },
    {
      "cell_type": "code",
      "execution_count": null,
      "metadata": {
        "id": "4kCtRQIkioPp"
      },
      "outputs": [],
      "source": [
        "max_length = 128\n",
        "\n",
        "train_data_iterator = TranslationDataIterator(\n",
        "    tokenizer=m2m_tokenizer,\n",
        "    n_examples=len(zh_en_train),\n",
        "    data_filename=train_file,\n",
        "    max_length=max_length\n",
        ")\n",
        "\n",
        "valid_data_iterator = TranslationDataIterator(\n",
        "    tokenizer=m2m_tokenizer,\n",
        "    n_examples=len(zh_en_val),\n",
        "    data_filename=valid_file,\n",
        "    max_length=max_length\n",
        ")"
      ]
    },
    {
      "cell_type": "code",
      "source": [
        "srg_lang = 'zh'\n",
        "tgt_lang = 'en'\n",
        "\n",
        "# Modify this filepath to where you want to save the model after fine-tuning\n",
        "dir_path = 'drive/MyDrive/W266/'\n",
        "file_path = dir_path + f'M2M100_news_commentary_{srg_lang}_{tgt_lang}'"
      ],
      "metadata": {
        "id": "RqW7AYvwioPp"
      },
      "execution_count": null,
      "outputs": []
    },
    {
      "cell_type": "code",
      "execution_count": null,
      "metadata": {
        "id": "O3galQ5WioPp"
      },
      "outputs": [],
      "source": [
        "# Specify batch size and other training arguments\n",
        "\n",
        "batch_size = 8\n",
        "\n",
        "args = Seq2SeqTrainingArguments(\n",
        "    file_path,\n",
        "    evaluation_strategy='epoch',\n",
        "    per_device_train_batch_size=batch_size,\n",
        "    per_device_eval_batch_size=batch_size,\n",
        "    num_train_epochs=1,\n",
        ")"
      ]
    },
    {
      "cell_type": "code",
      "execution_count": null,
      "metadata": {
        "id": "AAIPS5YqioPp"
      },
      "outputs": [],
      "source": [
        "# Define the trainer, passing in the model, training args, and data generators\n",
        "\n",
        "trainer = Seq2SeqTrainer(\n",
        "    m2m_model,\n",
        "    args,\n",
        "    train_dataset=train_data_iterator,\n",
        "    eval_dataset=valid_data_iterator\n",
        ")"
      ]
    },
    {
      "cell_type": "code",
      "execution_count": null,
      "metadata": {
        "id": "jafIOR7wioPp",
        "colab": {
          "base_uri": "https://localhost:8080/",
          "height": 1000
        },
        "outputId": "5d47e515-f682-4064-b19a-cc37657fd0b6"
      },
      "outputs": [
        {
          "output_type": "stream",
          "name": "stderr",
          "text": [
            "/usr/local/lib/python3.7/dist-packages/transformers/optimization.py:310: FutureWarning: This implementation of AdamW is deprecated and will be removed in a future version. Use the PyTorch implementation torch.optim.AdamW instead, or set `no_deprecation_warning=True` to disable this warning\n",
            "  FutureWarning,\n",
            "***** Running training *****\n",
            "  Num examples = 48444\n",
            "  Num Epochs = 1\n",
            "  Instantaneous batch size per device = 8\n",
            "  Total train batch size (w. parallel, distributed & accumulation) = 8\n",
            "  Gradient Accumulation steps = 1\n",
            "  Total optimization steps = 6056\n",
            "  Number of trainable parameters = 483905536\n"
          ]
        },
        {
          "output_type": "display_data",
          "data": {
            "text/plain": [
              "<IPython.core.display.HTML object>"
            ],
            "text/html": [
              "\n",
              "    <div>\n",
              "      \n",
              "      <progress value='6056' max='6056' style='width:300px; height:20px; vertical-align: middle;'></progress>\n",
              "      [6056/6056 3:23:54, Epoch 1/1]\n",
              "    </div>\n",
              "    <table border=\"1\" class=\"dataframe\">\n",
              "  <thead>\n",
              " <tr style=\"text-align: left;\">\n",
              "      <th>Epoch</th>\n",
              "      <th>Training Loss</th>\n",
              "      <th>Validation Loss</th>\n",
              "    </tr>\n",
              "  </thead>\n",
              "  <tbody>\n",
              "    <tr>\n",
              "      <td>1</td>\n",
              "      <td>0.934200</td>\n",
              "      <td>0.904434</td>\n",
              "    </tr>\n",
              "  </tbody>\n",
              "</table><p>"
            ]
          },
          "metadata": {}
        },
        {
          "output_type": "stream",
          "name": "stderr",
          "text": [
            "Saving model checkpoint to drive/MyDrive/W266/M2M100_news_commentary_zh_en/checkpoint-500\n",
            "Configuration saved in drive/MyDrive/W266/M2M100_news_commentary_zh_en/checkpoint-500/config.json\n",
            "Model weights saved in drive/MyDrive/W266/M2M100_news_commentary_zh_en/checkpoint-500/pytorch_model.bin\n",
            "Saving model checkpoint to drive/MyDrive/W266/M2M100_news_commentary_zh_en/checkpoint-1000\n",
            "Configuration saved in drive/MyDrive/W266/M2M100_news_commentary_zh_en/checkpoint-1000/config.json\n",
            "Model weights saved in drive/MyDrive/W266/M2M100_news_commentary_zh_en/checkpoint-1000/pytorch_model.bin\n",
            "Saving model checkpoint to drive/MyDrive/W266/M2M100_news_commentary_zh_en/checkpoint-1500\n",
            "Configuration saved in drive/MyDrive/W266/M2M100_news_commentary_zh_en/checkpoint-1500/config.json\n",
            "Model weights saved in drive/MyDrive/W266/M2M100_news_commentary_zh_en/checkpoint-1500/pytorch_model.bin\n",
            "Saving model checkpoint to drive/MyDrive/W266/M2M100_news_commentary_zh_en/checkpoint-2000\n",
            "Configuration saved in drive/MyDrive/W266/M2M100_news_commentary_zh_en/checkpoint-2000/config.json\n",
            "Model weights saved in drive/MyDrive/W266/M2M100_news_commentary_zh_en/checkpoint-2000/pytorch_model.bin\n",
            "Saving model checkpoint to drive/MyDrive/W266/M2M100_news_commentary_zh_en/checkpoint-2500\n",
            "Configuration saved in drive/MyDrive/W266/M2M100_news_commentary_zh_en/checkpoint-2500/config.json\n",
            "Model weights saved in drive/MyDrive/W266/M2M100_news_commentary_zh_en/checkpoint-2500/pytorch_model.bin\n",
            "Saving model checkpoint to drive/MyDrive/W266/M2M100_news_commentary_zh_en/checkpoint-3000\n",
            "Configuration saved in drive/MyDrive/W266/M2M100_news_commentary_zh_en/checkpoint-3000/config.json\n",
            "Model weights saved in drive/MyDrive/W266/M2M100_news_commentary_zh_en/checkpoint-3000/pytorch_model.bin\n",
            "Saving model checkpoint to drive/MyDrive/W266/M2M100_news_commentary_zh_en/checkpoint-3500\n",
            "Configuration saved in drive/MyDrive/W266/M2M100_news_commentary_zh_en/checkpoint-3500/config.json\n",
            "Model weights saved in drive/MyDrive/W266/M2M100_news_commentary_zh_en/checkpoint-3500/pytorch_model.bin\n",
            "Saving model checkpoint to drive/MyDrive/W266/M2M100_news_commentary_zh_en/checkpoint-4000\n",
            "Configuration saved in drive/MyDrive/W266/M2M100_news_commentary_zh_en/checkpoint-4000/config.json\n",
            "Model weights saved in drive/MyDrive/W266/M2M100_news_commentary_zh_en/checkpoint-4000/pytorch_model.bin\n",
            "Saving model checkpoint to drive/MyDrive/W266/M2M100_news_commentary_zh_en/checkpoint-4500\n",
            "Configuration saved in drive/MyDrive/W266/M2M100_news_commentary_zh_en/checkpoint-4500/config.json\n",
            "Model weights saved in drive/MyDrive/W266/M2M100_news_commentary_zh_en/checkpoint-4500/pytorch_model.bin\n",
            "Saving model checkpoint to drive/MyDrive/W266/M2M100_news_commentary_zh_en/checkpoint-5000\n",
            "Configuration saved in drive/MyDrive/W266/M2M100_news_commentary_zh_en/checkpoint-5000/config.json\n",
            "Model weights saved in drive/MyDrive/W266/M2M100_news_commentary_zh_en/checkpoint-5000/pytorch_model.bin\n",
            "Saving model checkpoint to drive/MyDrive/W266/M2M100_news_commentary_zh_en/checkpoint-5500\n",
            "Configuration saved in drive/MyDrive/W266/M2M100_news_commentary_zh_en/checkpoint-5500/config.json\n",
            "Model weights saved in drive/MyDrive/W266/M2M100_news_commentary_zh_en/checkpoint-5500/pytorch_model.bin\n",
            "Saving model checkpoint to drive/MyDrive/W266/M2M100_news_commentary_zh_en/checkpoint-6000\n",
            "Configuration saved in drive/MyDrive/W266/M2M100_news_commentary_zh_en/checkpoint-6000/config.json\n",
            "Model weights saved in drive/MyDrive/W266/M2M100_news_commentary_zh_en/checkpoint-6000/pytorch_model.bin\n",
            "***** Running Evaluation *****\n",
            "  Num examples = 5000\n",
            "  Batch size = 8\n",
            "\n",
            "\n",
            "Training completed. Do not forget to share your model on huggingface.co/models =)\n",
            "\n",
            "\n"
          ]
        },
        {
          "output_type": "execute_result",
          "data": {
            "text/plain": [
              "TrainOutput(global_step=6056, training_loss=1.0712783698834076, metrics={'train_runtime': 12239.1281, 'train_samples_per_second': 3.958, 'train_steps_per_second': 0.495, 'total_flos': 1.3122901918089216e+16, 'train_loss': 1.0712783698834076, 'epoch': 1.0})"
            ]
          },
          "metadata": {},
          "execution_count": 23
        }
      ],
      "source": [
        "# Call train\n",
        "\n",
        "trainer.train()"
      ]
    },
    {
      "cell_type": "code",
      "source": [
        "trainer.save_model('drive/MyDrive/W266/M2M100_news_commentary_zh_en/checkpoint-001')"
      ],
      "metadata": {
        "colab": {
          "base_uri": "https://localhost:8080/"
        },
        "outputId": "f6a93385-a51d-4484-a4de-0f41bd7440d3",
        "id": "sKBpKD6xioPp"
      },
      "execution_count": null,
      "outputs": [
        {
          "output_type": "stream",
          "name": "stderr",
          "text": [
            "Saving model checkpoint to drive/MyDrive/W266/M2M100_news_commentary_zh_en/checkpoint-001\n",
            "Configuration saved in drive/MyDrive/W266/M2M100_news_commentary_zh_en/checkpoint-001/config.json\n",
            "Model weights saved in drive/MyDrive/W266/M2M100_news_commentary_zh_en/checkpoint-001/pytorch_model.bin\n"
          ]
        }
      ]
    },
    {
      "cell_type": "code",
      "source": [
        "m2m_model_saved = M2M100ForConditionalGeneration.from_pretrained(file_path + '/checkpoint-001')"
      ],
      "metadata": {
        "id": "Ui1Kev7zioPp",
        "colab": {
          "base_uri": "https://localhost:8080/"
        },
        "outputId": "a24f2899-5858-4363-da88-62c1fee2fedb"
      },
      "execution_count": null,
      "outputs": [
        {
          "output_type": "stream",
          "name": "stderr",
          "text": [
            "loading configuration file drive/MyDrive/W266/M2M100_news_commentary_zh_en/checkpoint-001/config.json\n",
            "Model config M2M100Config {\n",
            "  \"_name_or_path\": \"facebook/m2m100_418M\",\n",
            "  \"activation_dropout\": 0.0,\n",
            "  \"activation_function\": \"relu\",\n",
            "  \"architectures\": [\n",
            "    \"M2M100ForConditionalGeneration\"\n",
            "  ],\n",
            "  \"attention_dropout\": 0.1,\n",
            "  \"bos_token_id\": 0,\n",
            "  \"d_model\": 1024,\n",
            "  \"decoder_attention_heads\": 16,\n",
            "  \"decoder_ffn_dim\": 4096,\n",
            "  \"decoder_layerdrop\": 0.05,\n",
            "  \"decoder_layers\": 12,\n",
            "  \"decoder_start_token_id\": 2,\n",
            "  \"dropout\": 0.1,\n",
            "  \"early_stopping\": true,\n",
            "  \"encoder_attention_heads\": 16,\n",
            "  \"encoder_ffn_dim\": 4096,\n",
            "  \"encoder_layerdrop\": 0.05,\n",
            "  \"encoder_layers\": 12,\n",
            "  \"eos_token_id\": 2,\n",
            "  \"gradient_checkpointing\": false,\n",
            "  \"init_std\": 0.02,\n",
            "  \"is_encoder_decoder\": true,\n",
            "  \"max_length\": 200,\n",
            "  \"max_position_embeddings\": 1024,\n",
            "  \"model_type\": \"m2m_100\",\n",
            "  \"num_beams\": 5,\n",
            "  \"num_hidden_layers\": 12,\n",
            "  \"pad_token_id\": 1,\n",
            "  \"scale_embedding\": true,\n",
            "  \"torch_dtype\": \"float32\",\n",
            "  \"transformers_version\": \"4.24.0\",\n",
            "  \"use_cache\": true,\n",
            "  \"vocab_size\": 128112\n",
            "}\n",
            "\n",
            "loading weights file drive/MyDrive/W266/M2M100_news_commentary_zh_en/checkpoint-001/pytorch_model.bin\n",
            "All model checkpoint weights were used when initializing M2M100ForConditionalGeneration.\n",
            "\n",
            "All the weights of M2M100ForConditionalGeneration were initialized from the model checkpoint at drive/MyDrive/W266/M2M100_news_commentary_zh_en/checkpoint-001.\n",
            "If your task is similar to the task the model of the checkpoint was trained on, you can already use M2M100ForConditionalGeneration for predictions without further training.\n"
          ]
        }
      ]
    },
    {
      "cell_type": "code",
      "source": [
        "df_valid_list = df_valid[f'{srg_lang}'].tolist()\n",
        "df_valid_label= df_valid[f'{tgt_lang}'].tolist()"
      ],
      "metadata": {
        "id": "y1yk2MqQioPq"
      },
      "execution_count": null,
      "outputs": []
    },
    {
      "cell_type": "code",
      "source": [
        "len(df_valid_list)"
      ],
      "metadata": {
        "colab": {
          "base_uri": "https://localhost:8080/"
        },
        "id": "dksIig4HVYi7",
        "outputId": "6a404d28-6b99-4a93-bb95-c2fd05dee834"
      },
      "execution_count": null,
      "outputs": [
        {
          "output_type": "execute_result",
          "data": {
            "text/plain": [
              "5000"
            ]
          },
          "metadata": {},
          "execution_count": 29
        }
      ]
    },
    {
      "cell_type": "code",
      "source": [
        "eval_score = []\n",
        "step = 100\n",
        "\n",
        "\n",
        "for row_index in range(700,len(df_valid_list),step):\n",
        "\n",
        "  print(f\"Processing row_index: {row_index}\")\n",
        "\n",
        "  if os.path.isfile(f\"drive/MyDrive/W266/zh_en_bleurt_validation_{row_index}.csv\"):\n",
        "    print(f\"  row_index {row_index} exist, continue...\")\n",
        "    continue\n",
        "  else:\n",
        "\n",
        "    curr_input = df_valid_list[row_index: row_index + step]\n",
        "    curr_label = df_valid_label[row_index: row_index + step]\n",
        "\n",
        "\n",
        "    # curr_loop = row_index/step\n",
        "    print(f\"  Processing row_index: {row_index}\")\n",
        "\n",
        "    encoded_en = m2m_tokenizer(curr_input, \n",
        "                          padding = True,\n",
        "                          max_length=50,\n",
        "                          truncation=True,\n",
        "                          return_tensors='pt')\n",
        "    generated_tokens = m2m_model_saved.generate(**encoded_en, forced_bos_token_id=m2m_tokenizer.get_lang_id(f'{tgt_lang}'))\n",
        "    curr_output = m2m_tokenizer.batch_decode(generated_tokens, skip_special_tokens=True)\n",
        "\n",
        "    ### Compute BLEURT score\n",
        "    bleurt_label = [[label] for label in curr_label]\n",
        "    curr_bleurt_score = bleurt_metric.compute(predictions=curr_output, references=bleurt_label)\n",
        "\n",
        "    eval_score.append(curr_bleurt_score['scores'])\n",
        "\n",
        "    \n",
        "    df_output = pd.DataFrame(eval_score)\n",
        "    df_output.to_csv(f'drive/MyDrive/W266/zh_en_bleurt_validation_{row_index}.csv', sep=',', index=False)\n",
        "  "
      ],
      "metadata": {
        "colab": {
          "base_uri": "https://localhost:8080/"
        },
        "outputId": "815478d3-899a-432d-8eb6-78c99cccd738",
        "id": "nzSBlG2EioPq"
      },
      "execution_count": null,
      "outputs": [
        {
          "output_type": "stream",
          "name": "stdout",
          "text": [
            "Processing row_index: 700\n",
            "  Processing row_index: 700\n"
          ]
        },
        {
          "output_type": "stream",
          "name": "stderr",
          "text": [
            "/usr/local/lib/python3.7/dist-packages/transformers/generation_utils.py:1364: UserWarning: Neither `max_length` nor `max_new_tokens` has been set, `max_length` will default to 200 (`self.config.max_length`). Controlling `max_length` via the config is deprecated and `max_length` will be removed from the config in v5 of Transformers -- we recommend using `max_new_tokens` to control the maximum length of the generation.\n",
            "  UserWarning,\n"
          ]
        },
        {
          "output_type": "stream",
          "name": "stdout",
          "text": [
            "Processing row_index: 800\n",
            "  Processing row_index: 800\n",
            "Processing row_index: 900\n",
            "  Processing row_index: 900\n",
            "Processing row_index: 1000\n",
            "  Processing row_index: 1000\n",
            "Processing row_index: 1100\n",
            "  Processing row_index: 1100\n",
            "Processing row_index: 1200\n",
            "  Processing row_index: 1200\n",
            "Processing row_index: 1300\n",
            "  Processing row_index: 1300\n",
            "Processing row_index: 1400\n",
            "  Processing row_index: 1400\n",
            "Processing row_index: 1500\n",
            "  Processing row_index: 1500\n",
            "Processing row_index: 1600\n",
            "  Processing row_index: 1600\n",
            "Processing row_index: 1700\n",
            "  Processing row_index: 1700\n",
            "Processing row_index: 1800\n",
            "  Processing row_index: 1800\n",
            "Processing row_index: 1900\n",
            "  Processing row_index: 1900\n",
            "Processing row_index: 2000\n",
            "  Processing row_index: 2000\n",
            "Processing row_index: 2100\n",
            "  Processing row_index: 2100\n",
            "Processing row_index: 2200\n",
            "  Processing row_index: 2200\n",
            "Processing row_index: 2300\n",
            "  Processing row_index: 2300\n",
            "Processing row_index: 2400\n",
            "  Processing row_index: 2400\n",
            "Processing row_index: 2500\n",
            "  Processing row_index: 2500\n",
            "Processing row_index: 2600\n",
            "  Processing row_index: 2600\n",
            "Processing row_index: 2700\n",
            "  Processing row_index: 2700\n",
            "Processing row_index: 2800\n",
            "  Processing row_index: 2800\n",
            "Processing row_index: 2900\n",
            "  Processing row_index: 2900\n",
            "Processing row_index: 3000\n",
            "  Processing row_index: 3000\n",
            "Processing row_index: 3100\n",
            "  Processing row_index: 3100\n",
            "Processing row_index: 3200\n",
            "  Processing row_index: 3200\n",
            "Processing row_index: 3300\n",
            "  Processing row_index: 3300\n",
            "Processing row_index: 3400\n",
            "  Processing row_index: 3400\n",
            "Processing row_index: 3500\n",
            "  Processing row_index: 3500\n",
            "Processing row_index: 3600\n",
            "  Processing row_index: 3600\n",
            "Processing row_index: 3700\n",
            "  Processing row_index: 3700\n",
            "Processing row_index: 3800\n",
            "  Processing row_index: 3800\n",
            "Processing row_index: 3900\n",
            "  Processing row_index: 3900\n",
            "Processing row_index: 4000\n",
            "  Processing row_index: 4000\n",
            "Processing row_index: 4100\n",
            "  Processing row_index: 4100\n",
            "Processing row_index: 4200\n",
            "  Processing row_index: 4200\n",
            "Processing row_index: 4300\n",
            "  Processing row_index: 4300\n"
          ]
        }
      ]
    },
    {
      "cell_type": "markdown",
      "source": [
        "### 3.4 EN-ZH"
      ],
      "metadata": {
        "id": "Pnw1YFq4Tsh7"
      }
    },
    {
      "cell_type": "code",
      "execution_count": null,
      "metadata": {
        "colab": {
          "base_uri": "https://localhost:8080/",
          "referenced_widgets": [
            "f7f56deebb7d4b1888d1b98af6740cd0",
            "cd2e5d40c98b4b22b0946b0915418074",
            "73a63de3af8f40a3bfb2b3d3a961e1e4",
            "6148d2bb3e2043d186cd9ffd11fcc3f6",
            "63daffa0dadd4054a1dd4c873e2f3926",
            "7f356992755c4965bee6e7a13055b9ce",
            "6cd1673535f141eea73907372b10bd2f",
            "5d60a7b20050427cb5c6dbaadcfd6e34",
            "4379e6fe4fbf412a8936fd6e04bf9f62",
            "3f5bdb3253884d84b1c7e4713ba90e6b",
            "d381ebb39e764700b265c1df19b19f63",
            "166fc51236ca496c817f901018afc698",
            "6bfb6e10936d4d29bd2eb655b5b7b61c",
            "52ff28bb86f9490f8edfb267dcfff086",
            "f0afc9ebca024620aab5deab175ed4ed",
            "5a1f3cf6f6ce458db3d9ef54851fc28b",
            "d05b07747bde41719db40377284d14db",
            "f6e14dda08064664bc99886f00fc4743",
            "f3ede1fd8b4944d3bcd4d1c190afe1c0",
            "6b34a07bcd03433f8582b30de22688e9",
            "eb83e47c2de44126afc2835ef9a09fce",
            "e0797e6b04714ab6ae29ccaa0341769e",
            "093a5df4103049d39c5a5bd09cd82a96",
            "ea98af12dd074026b4d2a89ffa52ea42",
            "dd2bd5c30fd34928af61e1a993f9de61",
            "e934b8d0869d48bcabf5ac4c2802dd1d",
            "8823168e895546b79d01fa9c007285ff",
            "c27c415623124d268a6a94e166f583ea",
            "d5ab142be2c24bfe84a77cb7a1ce8be5",
            "ee89d15e327f4772bc9e096585048f3e",
            "8b28775e70eb4422aee6043698c1af27",
            "b2b304fee35f44c9a5dcfb1714512d73",
            "1db1e2b5794a4ac2be8f7dd2d153b3e6",
            "404807ec0dbe4089bec4723bb7726726",
            "e50c666a2ac54f53abe9db0fd2b404ad",
            "aa961c9af96e47c5a27a90eda917aca5",
            "9b7a0d6b0cb44882ae922ceb7dbd3332",
            "272aba8d6aee442aa129224256619e04",
            "5ef3396b5ed84cfbae99d6d4209bc856",
            "f52d940f81a04b57a13f6f7c0e020232",
            "bfcf150b7bac46f1b1adcb34f731f0ca",
            "03c368f6dde44513ba5d88e012ed0b18",
            "4c92e446aa524c73817eb743618d290e",
            "49d634b2228d4ea7ab02446ef1717d70",
            "639f7c4af7ef4b30a2976e8816d8049b",
            "0655b62c5f6c404ea3bed9b315d489f5",
            "386831922a324da3a5b644a0acc2b582",
            "ab16f27c226f4969ab45d3cf3ff29e40",
            "a7f014885cc24a1288ba15f791a368cd",
            "dfc234d0337c43e2a7eca4870e4dde17",
            "fb9e701f15b24a3d869fc4777e0ce839",
            "bcc7972bc4de478cb908f60ee46edce0",
            "7d484624ea2046db970bf236a16c1fe0",
            "f6a28956902b420d93f19bd9ed822aca",
            "b4e2eac9de094c6fa0cc32a9870afba5"
          ],
          "height": 249
        },
        "outputId": "64914326-7fe4-4675-9398-2f10b46c8ff4",
        "id": "1qbONvMHTsh8"
      },
      "outputs": [
        {
          "output_type": "display_data",
          "data": {
            "text/plain": [
              "Downloading builder script:   0%|          | 0.00/5.36k [00:00<?, ?B/s]"
            ],
            "application/vnd.jupyter.widget-view+json": {
              "version_major": 2,
              "version_minor": 0,
              "model_id": "f7f56deebb7d4b1888d1b98af6740cd0"
            }
          },
          "metadata": {}
        },
        {
          "output_type": "display_data",
          "data": {
            "text/plain": [
              "Downloading metadata:   0%|          | 0.00/116k [00:00<?, ?B/s]"
            ],
            "application/vnd.jupyter.widget-view+json": {
              "version_major": 2,
              "version_minor": 0,
              "model_id": "166fc51236ca496c817f901018afc698"
            }
          },
          "metadata": {}
        },
        {
          "output_type": "display_data",
          "data": {
            "text/plain": [
              "Downloading readme:   0%|          | 0.00/20.9k [00:00<?, ?B/s]"
            ],
            "application/vnd.jupyter.widget-view+json": {
              "version_major": 2,
              "version_minor": 0,
              "model_id": "093a5df4103049d39c5a5bd09cd82a96"
            }
          },
          "metadata": {}
        },
        {
          "output_type": "stream",
          "name": "stdout",
          "text": [
            "Downloading and preparing dataset news_commentary/en-zh to /root/.cache/huggingface/datasets/news_commentary/en-zh/11.0.0/cfab724ce975dc2da51cdae45302389860badc88b74db8570d561ced6004f8b4...\n"
          ]
        },
        {
          "output_type": "display_data",
          "data": {
            "text/plain": [
              "Downloading data:   0%|          | 0.00/18.1M [00:00<?, ?B/s]"
            ],
            "application/vnd.jupyter.widget-view+json": {
              "version_major": 2,
              "version_minor": 0,
              "model_id": "404807ec0dbe4089bec4723bb7726726"
            }
          },
          "metadata": {}
        },
        {
          "output_type": "display_data",
          "data": {
            "text/plain": [
              "Generating train split:   0%|          | 0/69206 [00:00<?, ? examples/s]"
            ],
            "application/vnd.jupyter.widget-view+json": {
              "version_major": 2,
              "version_minor": 0,
              "model_id": "639f7c4af7ef4b30a2976e8816d8049b"
            }
          },
          "metadata": {}
        },
        {
          "output_type": "stream",
          "name": "stdout",
          "text": [
            "Dataset news_commentary downloaded and prepared to /root/.cache/huggingface/datasets/news_commentary/en-zh/11.0.0/cfab724ce975dc2da51cdae45302389860badc88b74db8570d561ced6004f8b4. Subsequent calls will reuse this data.\n"
          ]
        },
        {
          "output_type": "stream",
          "name": "stderr",
          "text": [
            "WARNING:datasets.builder:Found cached dataset news_commentary (/root/.cache/huggingface/datasets/news_commentary/en-zh/11.0.0/cfab724ce975dc2da51cdae45302389860badc88b74db8570d561ced6004f8b4)\n"
          ]
        }
      ],
      "source": [
        "en_zh_train = load_dataset('news_commentary','en-zh',split='train[:70%]')['translation']\n",
        "en_zh_validation = load_dataset('news_commentary','en-zh',split='train[70%:]')['translation']\n",
        "en_zh_val = random.sample(en_zh_validation,5000)\n",
        "# zh_es_test = load_dataset('news_commentary','es-zh',split='train[120:140]')['translation']"
      ]
    },
    {
      "cell_type": "code",
      "execution_count": null,
      "metadata": {
        "id": "xmGB7NlkTsh8"
      },
      "outputs": [],
      "source": [
        "train_file = 'drive/MyDrive/W266/en_zh_train.csv'\n",
        "valid_file = 'drive/MyDrive/W266/en_zh_val.csv'\n",
        "# # test_file = 'drive/MyDrive/W266/zh_es_test.csv'\n",
        "\n",
        "\n",
        "pd.DataFrame(en_zh_train).to_csv(train_file)\n",
        "pd.DataFrame(en_zh_val).to_csv(valid_file)\n",
        "# pd.DataFrame(zh_es_test).to_csv(test_file)"
      ]
    },
    {
      "cell_type": "code",
      "source": [
        "df_train = pd.read_csv('drive/MyDrive/W266/en_zh_train.csv')\n",
        "df_valid = pd.read_csv('drive/MyDrive/W266/en_zh_val.csv')\n",
        "# df_test = pd.read_csv(test_file)"
      ],
      "metadata": {
        "id": "Nalq8tyRTsh8"
      },
      "execution_count": null,
      "outputs": []
    },
    {
      "cell_type": "code",
      "source": [
        "example_pair = df_valid[['en', 'zh']].values.astype(str)[8]\n",
        "example_input, example_label = example_pair\n",
        "example_input"
      ],
      "metadata": {
        "colab": {
          "base_uri": "https://localhost:8080/",
          "height": 52
        },
        "id": "TN2jTBK8pC19",
        "outputId": "5e07a12f-92ee-4589-c92a-cfb9e0ffc22e"
      },
      "execution_count": null,
      "outputs": [
        {
          "output_type": "execute_result",
          "data": {
            "text/plain": [
              "'With the stakes so high, the Russian-US initiative to organize a peace conference has not only been welcomed, but is seen as an indispensable initiative that must be planned with excruciating care. We are likely to hear of delay after delay in the coming days, as various sides try to choose their representatives.'"
            ],
            "application/vnd.google.colaboratory.intrinsic+json": {
              "type": "string"
            }
          },
          "metadata": {},
          "execution_count": 35
        }
      ]
    },
    {
      "cell_type": "code",
      "source": [
        "# For normal sequence \n",
        "def preprocess_data(text_pair, tokenizer, max_length=50):\n",
        "    orig_text, target_text = text_pair\n",
        "    orig_encoded = tokenizer.batch_encode_plus(\n",
        "        [orig_text],\n",
        "        max_length=max_length,\n",
        "        padding='max_length',\n",
        "        truncation=True,\n",
        "        return_attention_mask=True,\n",
        "        return_tensors='pt'\n",
        "    )\n",
        "\n",
        "    # not sure if the below two lines are needed for m2m100\n",
        "    orig_input_ids = orig_encoded['input_ids'][0]\n",
        "    orig_attention_mask = orig_encoded['attention_mask'][0]\n",
        "    \n",
        "    target_encoded = tokenizer.batch_encode_plus(\n",
        "        [target_text],\n",
        "        max_length=max_length,\n",
        "        padding='max_length',\n",
        "        truncation=True,\n",
        "        return_attention_mask=True,\n",
        "        return_tensors='pt'\n",
        "    )\n",
        "    \n",
        "    label_ids = target_encoded['input_ids'][0]\n",
        "    \n",
        "    return {'input_ids': orig_input_ids,\n",
        "            'attention_mask': orig_attention_mask,\n",
        "            'labels': label_ids}"
      ],
      "metadata": {
        "id": "vmMht0x6ZOEg"
      },
      "execution_count": null,
      "outputs": []
    },
    {
      "cell_type": "code",
      "execution_count": null,
      "metadata": {
        "id": "gV54lvEoTsh9"
      },
      "outputs": [],
      "source": [
        "class TranslationDataIterator:\n",
        "    \n",
        "    def __init__(self,\n",
        "                 tokenizer,\n",
        "                 n_examples,\n",
        "                 data_filename,\n",
        "                 max_length=128,\n",
        "                 shuffle=True):\n",
        "        \n",
        "        self.tokenizer = tokenizer\n",
        "        self.n_examples = n_examples\n",
        "        self.data_filename = data_filename\n",
        "        self.max_length = max_length\n",
        "        self.shuffle = shuffle\n",
        "        \n",
        "        # Initialize row order, call on_epoch_end to shuffle row indices\n",
        "        self.row_order = np.arange(1, self.n_examples+1)\n",
        "        self.on_epoch_end()\n",
        "    \n",
        "    def __len__(self):\n",
        "        return self.n_examples\n",
        "    \n",
        "    def __getitem__(self, idx):\n",
        "        row_to_load = self.row_order[idx]\n",
        "        df = pd.read_csv(self.data_filename,\n",
        "                         skiprows=range(1, row_to_load),\n",
        "                         nrows=1)\n",
        "        \n",
        "        text_pair = df[['en', 'zh']].values.astype(str)[0]\n",
        "        \n",
        "        item_data = preprocess_data(\n",
        "            text_pair,\n",
        "            self.tokenizer,\n",
        "            self.max_length\n",
        "        )\n",
        "\n",
        "        return item_data\n",
        "    \n",
        "    def __call__(self):\n",
        "        for i in range(self.__len__()):\n",
        "            yield self.__getitem__(i)\n",
        "            \n",
        "            if i == self.__len__()-1:\n",
        "                self.on_epoch_end()\n",
        "    \n",
        "    def on_epoch_end(self):\n",
        "        if self.shuffle:\n",
        "            self.row_order = list(np.random.permutation(self.row_order))"
      ]
    },
    {
      "cell_type": "markdown",
      "source": [
        "#### 3.4.1 Baseline"
      ],
      "metadata": {
        "id": "XInLhMmbTsh9"
      }
    },
    {
      "cell_type": "code",
      "source": [
        "df_baseline_list = df_valid['en'].tolist()\n",
        "df_baseline_label = df_valid['zh'].tolist()"
      ],
      "metadata": {
        "id": "9HyFzpEeTsh9"
      },
      "execution_count": null,
      "outputs": []
    },
    {
      "cell_type": "code",
      "source": [
        "eval_score = []\n",
        "step = 100\n",
        "\n",
        "for row_index in range(0,len(df_baseline_list),step):\n",
        "  \n",
        "  print(f\"Processing row_index: {row_index}\")\n",
        "\n",
        "  if os.path.isfile(f\"drive/MyDrive/W266/en_zh/en_zh_baseline_{row_index}.csv\"):\n",
        "    print(f\"  row_index {row_index} exist, continue...\")\n",
        "    continue\n",
        "  else:\n",
        "\n",
        "    curr_input = df_baseline_list[row_index: row_index + step]\n",
        "    curr_label = df_baseline_label[row_index: row_index + step]\n",
        "\n",
        "    print(\"Begin current loop:\", row_index)\n",
        "\n",
        "    encoded_en = m2m_tokenizer(curr_input, \n",
        "                          padding = True,\n",
        "                          max_length=50,\n",
        "                          truncation=True,\n",
        "                          return_tensors='pt')\n",
        "    generated_tokens = m2m_model.generate(**encoded_en, forced_bos_token_id=m2m_tokenizer.get_lang_id(\"zh\"))\n",
        "    curr_output = m2m_tokenizer.batch_decode(generated_tokens, skip_special_tokens=True)\n",
        "\n",
        "    ### Compute BLEURT score\n",
        "    bleurt_label = [[label] for label in curr_label]\n",
        "    curr_bleurt_score = bleurt_metric.compute(predictions=curr_output, references=bleurt_label)\n",
        "\n",
        "    eval_score.append(curr_bleurt_score['scores'])\n",
        "\n",
        "    \n",
        "    df_output = pd.DataFrame(eval_score)\n",
        "    df_output.to_csv(f'drive/MyDrive/W266/en_zh/en_zh_baseline_{row_index}.csv', sep=',', index=False)\n",
        "  "
      ],
      "metadata": {
        "colab": {
          "base_uri": "https://localhost:8080/"
        },
        "outputId": "f5c61a28-792d-4650-c2fb-b036cf326aa3",
        "id": "hscV2ECjTsh9"
      },
      "execution_count": null,
      "outputs": [
        {
          "output_type": "stream",
          "name": "stdout",
          "text": [
            "Processing row_index: 0\n",
            "Begin current loop: 0\n"
          ]
        },
        {
          "output_type": "stream",
          "name": "stderr",
          "text": [
            "/usr/local/lib/python3.7/dist-packages/transformers/generation_utils.py:1364: UserWarning: Neither `max_length` nor `max_new_tokens` has been set, `max_length` will default to 200 (`self.config.max_length`). Controlling `max_length` via the config is deprecated and `max_length` will be removed from the config in v5 of Transformers -- we recommend using `max_new_tokens` to control the maximum length of the generation.\n",
            "  UserWarning,\n"
          ]
        },
        {
          "output_type": "stream",
          "name": "stdout",
          "text": [
            "Processing row_index: 100\n",
            "Begin current loop: 100\n",
            "Processing row_index: 200\n",
            "Begin current loop: 200\n",
            "Processing row_index: 300\n",
            "Begin current loop: 300\n",
            "Processing row_index: 400\n",
            "Begin current loop: 400\n",
            "Processing row_index: 500\n",
            "Begin current loop: 500\n",
            "Processing row_index: 600\n",
            "Begin current loop: 600\n",
            "Processing row_index: 700\n",
            "Begin current loop: 700\n",
            "Processing row_index: 800\n",
            "Begin current loop: 800\n",
            "Processing row_index: 900\n",
            "Begin current loop: 900\n",
            "Processing row_index: 1000\n",
            "Begin current loop: 1000\n",
            "Processing row_index: 1100\n",
            "Begin current loop: 1100\n",
            "Processing row_index: 1200\n",
            "Begin current loop: 1200\n",
            "Processing row_index: 1300\n",
            "Begin current loop: 1300\n",
            "Processing row_index: 1400\n",
            "Begin current loop: 1400\n",
            "Processing row_index: 1500\n",
            "Begin current loop: 1500\n",
            "Processing row_index: 1600\n",
            "Begin current loop: 1600\n",
            "Processing row_index: 1700\n",
            "Begin current loop: 1700\n",
            "Processing row_index: 1800\n",
            "Begin current loop: 1800\n",
            "Processing row_index: 1900\n",
            "Begin current loop: 1900\n",
            "Processing row_index: 2000\n",
            "Begin current loop: 2000\n",
            "Processing row_index: 2100\n",
            "Begin current loop: 2100\n",
            "Processing row_index: 2200\n",
            "Begin current loop: 2200\n",
            "Processing row_index: 2300\n",
            "Begin current loop: 2300\n",
            "Processing row_index: 2400\n",
            "Begin current loop: 2400\n",
            "Processing row_index: 2500\n",
            "Begin current loop: 2500\n",
            "Processing row_index: 2600\n",
            "Begin current loop: 2600\n",
            "Processing row_index: 2700\n",
            "Begin current loop: 2700\n",
            "Processing row_index: 2800\n",
            "Begin current loop: 2800\n",
            "Processing row_index: 2900\n",
            "Begin current loop: 2900\n",
            "Processing row_index: 3000\n",
            "Begin current loop: 3000\n"
          ]
        }
      ]
    },
    {
      "cell_type": "markdown",
      "source": [
        "#### 3.4.2 Fine tune model"
      ],
      "metadata": {
        "id": "rRzbmdHmTsh-"
      }
    },
    {
      "cell_type": "code",
      "execution_count": null,
      "metadata": {
        "id": "NLvGaLegTsh-"
      },
      "outputs": [],
      "source": [
        "max_length = 128\n",
        "\n",
        "train_data_iterator = TranslationDataIterator(\n",
        "    tokenizer=m2m_tokenizer,\n",
        "    n_examples=len(en_zh_train),\n",
        "    data_filename=train_file,\n",
        "    max_length=max_length\n",
        ")\n",
        "\n",
        "valid_data_iterator = TranslationDataIterator(\n",
        "    tokenizer=m2m_tokenizer,\n",
        "    n_examples=len(en_zh_val),\n",
        "    data_filename=valid_file,\n",
        "    max_length=max_length\n",
        ")"
      ]
    },
    {
      "cell_type": "code",
      "source": [
        "srg_lang = 'en'\n",
        "tgt_lang = 'zh'\n",
        "\n",
        "# Modify this filepath to where you want to save the model after fine-tuning\n",
        "dir_path = 'drive/MyDrive/W266/en_zh/new_model/'\n",
        "file_path = dir_path + f'M2M100_news_commentary_{srg_lang}_{tgt_lang}'"
      ],
      "metadata": {
        "id": "2TzrO1u1Tsh-"
      },
      "execution_count": null,
      "outputs": []
    },
    {
      "cell_type": "code",
      "execution_count": null,
      "metadata": {
        "id": "u2u4SebPTsh-"
      },
      "outputs": [],
      "source": [
        "# Specify batch size and other training arguments\n",
        "\n",
        "batch_size = 8\n",
        "\n",
        "args = Seq2SeqTrainingArguments(\n",
        "    file_path,\n",
        "    evaluation_strategy='epoch',\n",
        "    per_device_train_batch_size=batch_size,\n",
        "    per_device_eval_batch_size=batch_size,\n",
        "    num_train_epochs=1,\n",
        ")"
      ]
    },
    {
      "cell_type": "code",
      "execution_count": null,
      "metadata": {
        "id": "b0-pbqJqTsh-"
      },
      "outputs": [],
      "source": [
        "# Define the trainer, passing in the model, training args, and data generators\n",
        "\n",
        "trainer = Seq2SeqTrainer(\n",
        "    m2m_model,\n",
        "    args,\n",
        "    train_dataset=train_data_iterator,\n",
        "    eval_dataset=valid_data_iterator\n",
        ")"
      ]
    },
    {
      "cell_type": "code",
      "execution_count": null,
      "metadata": {
        "colab": {
          "base_uri": "https://localhost:8080/",
          "height": 1000
        },
        "outputId": "86293b94-e944-4b4f-ce6f-66bab814a09f",
        "id": "1SA0QiLZTsh-"
      },
      "outputs": [
        {
          "output_type": "stream",
          "name": "stderr",
          "text": [
            "/usr/local/lib/python3.7/dist-packages/transformers/optimization.py:310: FutureWarning: This implementation of AdamW is deprecated and will be removed in a future version. Use the PyTorch implementation torch.optim.AdamW instead, or set `no_deprecation_warning=True` to disable this warning\n",
            "  FutureWarning,\n",
            "***** Running training *****\n",
            "  Num examples = 48444\n",
            "  Num Epochs = 1\n",
            "  Instantaneous batch size per device = 8\n",
            "  Total train batch size (w. parallel, distributed & accumulation) = 8\n",
            "  Gradient Accumulation steps = 1\n",
            "  Total optimization steps = 6056\n",
            "  Number of trainable parameters = 483905536\n"
          ]
        },
        {
          "output_type": "display_data",
          "data": {
            "text/plain": [
              "<IPython.core.display.HTML object>"
            ],
            "text/html": [
              "\n",
              "    <div>\n",
              "      \n",
              "      <progress value='6056' max='6056' style='width:300px; height:20px; vertical-align: middle;'></progress>\n",
              "      [6056/6056 3:14:24, Epoch 1/1]\n",
              "    </div>\n",
              "    <table border=\"1\" class=\"dataframe\">\n",
              "  <thead>\n",
              " <tr style=\"text-align: left;\">\n",
              "      <th>Epoch</th>\n",
              "      <th>Training Loss</th>\n",
              "      <th>Validation Loss</th>\n",
              "    </tr>\n",
              "  </thead>\n",
              "  <tbody>\n",
              "    <tr>\n",
              "      <td>1</td>\n",
              "      <td>1.574800</td>\n",
              "      <td>1.564497</td>\n",
              "    </tr>\n",
              "  </tbody>\n",
              "</table><p>"
            ]
          },
          "metadata": {}
        },
        {
          "output_type": "stream",
          "name": "stderr",
          "text": [
            "Saving model checkpoint to drive/MyDrive/W266/en_zh/new_model/M2M100_news_commentary_en_zh/checkpoint-500\n",
            "Configuration saved in drive/MyDrive/W266/en_zh/new_model/M2M100_news_commentary_en_zh/checkpoint-500/config.json\n",
            "Model weights saved in drive/MyDrive/W266/en_zh/new_model/M2M100_news_commentary_en_zh/checkpoint-500/pytorch_model.bin\n",
            "Saving model checkpoint to drive/MyDrive/W266/en_zh/new_model/M2M100_news_commentary_en_zh/checkpoint-1000\n",
            "Configuration saved in drive/MyDrive/W266/en_zh/new_model/M2M100_news_commentary_en_zh/checkpoint-1000/config.json\n",
            "Model weights saved in drive/MyDrive/W266/en_zh/new_model/M2M100_news_commentary_en_zh/checkpoint-1000/pytorch_model.bin\n",
            "Saving model checkpoint to drive/MyDrive/W266/en_zh/new_model/M2M100_news_commentary_en_zh/checkpoint-1500\n",
            "Configuration saved in drive/MyDrive/W266/en_zh/new_model/M2M100_news_commentary_en_zh/checkpoint-1500/config.json\n",
            "Model weights saved in drive/MyDrive/W266/en_zh/new_model/M2M100_news_commentary_en_zh/checkpoint-1500/pytorch_model.bin\n",
            "Saving model checkpoint to drive/MyDrive/W266/en_zh/new_model/M2M100_news_commentary_en_zh/checkpoint-2000\n",
            "Configuration saved in drive/MyDrive/W266/en_zh/new_model/M2M100_news_commentary_en_zh/checkpoint-2000/config.json\n",
            "Model weights saved in drive/MyDrive/W266/en_zh/new_model/M2M100_news_commentary_en_zh/checkpoint-2000/pytorch_model.bin\n",
            "Saving model checkpoint to drive/MyDrive/W266/en_zh/new_model/M2M100_news_commentary_en_zh/checkpoint-2500\n",
            "Configuration saved in drive/MyDrive/W266/en_zh/new_model/M2M100_news_commentary_en_zh/checkpoint-2500/config.json\n",
            "Model weights saved in drive/MyDrive/W266/en_zh/new_model/M2M100_news_commentary_en_zh/checkpoint-2500/pytorch_model.bin\n",
            "Saving model checkpoint to drive/MyDrive/W266/en_zh/new_model/M2M100_news_commentary_en_zh/checkpoint-3000\n",
            "Configuration saved in drive/MyDrive/W266/en_zh/new_model/M2M100_news_commentary_en_zh/checkpoint-3000/config.json\n",
            "Model weights saved in drive/MyDrive/W266/en_zh/new_model/M2M100_news_commentary_en_zh/checkpoint-3000/pytorch_model.bin\n",
            "Saving model checkpoint to drive/MyDrive/W266/en_zh/new_model/M2M100_news_commentary_en_zh/checkpoint-3500\n",
            "Configuration saved in drive/MyDrive/W266/en_zh/new_model/M2M100_news_commentary_en_zh/checkpoint-3500/config.json\n",
            "Model weights saved in drive/MyDrive/W266/en_zh/new_model/M2M100_news_commentary_en_zh/checkpoint-3500/pytorch_model.bin\n",
            "Saving model checkpoint to drive/MyDrive/W266/en_zh/new_model/M2M100_news_commentary_en_zh/checkpoint-4000\n",
            "Configuration saved in drive/MyDrive/W266/en_zh/new_model/M2M100_news_commentary_en_zh/checkpoint-4000/config.json\n",
            "Model weights saved in drive/MyDrive/W266/en_zh/new_model/M2M100_news_commentary_en_zh/checkpoint-4000/pytorch_model.bin\n",
            "Saving model checkpoint to drive/MyDrive/W266/en_zh/new_model/M2M100_news_commentary_en_zh/checkpoint-4500\n",
            "Configuration saved in drive/MyDrive/W266/en_zh/new_model/M2M100_news_commentary_en_zh/checkpoint-4500/config.json\n",
            "Model weights saved in drive/MyDrive/W266/en_zh/new_model/M2M100_news_commentary_en_zh/checkpoint-4500/pytorch_model.bin\n",
            "Saving model checkpoint to drive/MyDrive/W266/en_zh/new_model/M2M100_news_commentary_en_zh/checkpoint-5000\n",
            "Configuration saved in drive/MyDrive/W266/en_zh/new_model/M2M100_news_commentary_en_zh/checkpoint-5000/config.json\n",
            "Model weights saved in drive/MyDrive/W266/en_zh/new_model/M2M100_news_commentary_en_zh/checkpoint-5000/pytorch_model.bin\n",
            "Saving model checkpoint to drive/MyDrive/W266/en_zh/new_model/M2M100_news_commentary_en_zh/checkpoint-5500\n",
            "Configuration saved in drive/MyDrive/W266/en_zh/new_model/M2M100_news_commentary_en_zh/checkpoint-5500/config.json\n",
            "Model weights saved in drive/MyDrive/W266/en_zh/new_model/M2M100_news_commentary_en_zh/checkpoint-5500/pytorch_model.bin\n",
            "Saving model checkpoint to drive/MyDrive/W266/en_zh/new_model/M2M100_news_commentary_en_zh/checkpoint-6000\n",
            "Configuration saved in drive/MyDrive/W266/en_zh/new_model/M2M100_news_commentary_en_zh/checkpoint-6000/config.json\n",
            "Model weights saved in drive/MyDrive/W266/en_zh/new_model/M2M100_news_commentary_en_zh/checkpoint-6000/pytorch_model.bin\n",
            "***** Running Evaluation *****\n",
            "  Num examples = 5000\n",
            "  Batch size = 8\n",
            "\n",
            "\n",
            "Training completed. Do not forget to share your model on huggingface.co/models =)\n",
            "\n",
            "\n"
          ]
        },
        {
          "output_type": "execute_result",
          "data": {
            "text/plain": [
              "TrainOutput(global_step=6056, training_loss=1.7123450262858342, metrics={'train_runtime': 11670.3874, 'train_samples_per_second': 4.151, 'train_steps_per_second': 0.519, 'total_flos': 1.3122901918089216e+16, 'train_loss': 1.7123450262858342, 'epoch': 1.0})"
            ]
          },
          "metadata": {},
          "execution_count": 18
        }
      ],
      "source": [
        "# Call train\n",
        "\n",
        "trainer.train()"
      ]
    },
    {
      "cell_type": "code",
      "source": [
        "trainer.save_model('drive/MyDrive/W266/M2M100_news_commentary_en_zh/checkpoint-001')"
      ],
      "metadata": {
        "colab": {
          "base_uri": "https://localhost:8080/"
        },
        "outputId": "09a1b2e8-2ac4-4722-8069-d8ad896eb971",
        "id": "DoHAts38Tsh_"
      },
      "execution_count": null,
      "outputs": [
        {
          "output_type": "stream",
          "name": "stderr",
          "text": [
            "Saving model checkpoint to drive/MyDrive/W266/M2M100_news_commentary_en_zh/checkpoint-001\n",
            "Configuration saved in drive/MyDrive/W266/M2M100_news_commentary_en_zh/checkpoint-001/config.json\n",
            "Model weights saved in drive/MyDrive/W266/M2M100_news_commentary_en_zh/checkpoint-001/pytorch_model.bin\n"
          ]
        }
      ]
    },
    {
      "cell_type": "code",
      "source": [
        "m2m_model_saved = M2M100ForConditionalGeneration.from_pretrained('drive/MyDrive/W266/M2M100_news_commentary_en_zh/checkpoint-001')"
      ],
      "metadata": {
        "id": "hQiDpOJXTsh_"
      },
      "execution_count": null,
      "outputs": []
    },
    {
      "cell_type": "code",
      "source": [
        "m2m_tokenizer.src_lang = \"en\"\n",
        "encoded_en = m2m_tokenizer(example_input, return_tensors=\"pt\")\n",
        "generated_tokens = m2m_model_saved.generate(**encoded_en, forced_bos_token_id=m2m_tokenizer.get_lang_id(\"zh\"))\n",
        "m2m_tokenizer.batch_decode(generated_tokens, skip_special_tokens=True)"
      ],
      "metadata": {
        "colab": {
          "base_uri": "https://localhost:8080/"
        },
        "id": "13eX-Qyapg9f",
        "outputId": "fd479e16-8357-41b5-a45e-785e4fc415db"
      },
      "execution_count": null,
      "outputs": [
        {
          "output_type": "execute_result",
          "data": {
            "text/plain": [
              "['因此,俄罗斯-美国组织和平会议的意图不但得到了欢迎,也被视为一个不可或缺的计划,必须以谨慎的态度进行规划。我们很可能会在未来几天中听到延迟之后的延迟,因为各方试图选择代表。']"
            ]
          },
          "metadata": {},
          "execution_count": 36
        }
      ]
    },
    {
      "cell_type": "code",
      "source": [
        "example_output = m2m_tokenizer.batch_decode(generated_tokens, skip_special_tokens=True)\n",
        "example_output"
      ],
      "metadata": {
        "colab": {
          "base_uri": "https://localhost:8080/"
        },
        "id": "dgttbudaq0UR",
        "outputId": "9fec2098-647a-4a9c-bf70-1a1a11fac436"
      },
      "execution_count": null,
      "outputs": [
        {
          "output_type": "execute_result",
          "data": {
            "text/plain": [
              "['因此,俄罗斯-美国组织和平会议的意图不但得到了欢迎,也被视为一个不可或缺的计划,必须以谨慎的态度进行规划。我们很可能会在未来几天中听到延迟之后的延迟,因为各方试图选择代表。']"
            ]
          },
          "metadata": {},
          "execution_count": 37
        }
      ]
    },
    {
      "cell_type": "code",
      "source": [
        "bleurt_label = [example_label]\n",
        "bleurt_label"
      ],
      "metadata": {
        "colab": {
          "base_uri": "https://localhost:8080/"
        },
        "id": "QNZr3mqcrO5h",
        "outputId": "2648bafd-0782-4a16-9a3e-fcde0d2bae8d"
      },
      "execution_count": null,
      "outputs": [
        {
          "output_type": "execute_result",
          "data": {
            "text/plain": [
              "['因为利害攸关，俄美组织和平会议的计划不仅颇受欢迎，而且被视为不可或缺的行动而受到慎重对待。因为各方都力争选定代表，和平会议的日程可能一推再推。但我们必须保持耐心，因为会议一旦开始除成功外就没有别的选择。没有结果的努力不会有任何用处。']"
            ]
          },
          "metadata": {},
          "execution_count": 38
        }
      ]
    },
    {
      "cell_type": "code",
      "source": [
        "bleurt_metric.compute(predictions=example_output, references=bleurt_label)"
      ],
      "metadata": {
        "colab": {
          "base_uri": "https://localhost:8080/"
        },
        "id": "HqDdWi5GqrWN",
        "outputId": "8bd147ea-a50e-4db0-8411-6164d1f47827"
      },
      "execution_count": null,
      "outputs": [
        {
          "output_type": "execute_result",
          "data": {
            "text/plain": [
              "{'scores': [0.29573166370391846]}"
            ]
          },
          "metadata": {},
          "execution_count": 39
        }
      ]
    },
    {
      "cell_type": "code",
      "source": [
        "df_valid_list = df_valid[f'{srg_lang}'].tolist()\n",
        "df_valid_label= df_valid[f'{tgt_lang}'].tolist()"
      ],
      "metadata": {
        "id": "1BKnhflcTsiA"
      },
      "execution_count": null,
      "outputs": []
    },
    {
      "cell_type": "code",
      "source": [
        "eval_score = []\n",
        "step = 100\n",
        "\n",
        "\n",
        "for row_index in range(2500,len(df_valid_list),step):\n",
        "\n",
        "  print(f\"Processing row_index: {row_index}\")\n",
        "\n",
        "  if os.path.isfile(f\"drive/MyDrive/W266/en_zh/new_model/zh_en_bleurt_validation_{row_index}.csv\"):\n",
        "    print(f\"  row_index {row_index} exist, continue...\")\n",
        "    continue\n",
        "  else:\n",
        "\n",
        "    curr_input = df_valid_list[row_index: row_index + step]\n",
        "    curr_label = df_valid_label[row_index: row_index + step]\n",
        "\n",
        "\n",
        "    # curr_loop = row_index/step\n",
        "    print(f\"  Processing row_index: {row_index}\")\n",
        "\n",
        "    encoded_en = m2m_tokenizer(curr_input, \n",
        "                          padding = True,\n",
        "                          max_length=50,\n",
        "                          truncation=True,\n",
        "                          return_tensors='pt')\n",
        "    generated_tokens = m2m_model_saved.generate(**encoded_en, forced_bos_token_id=m2m_tokenizer.get_lang_id(f'{tgt_lang}'))\n",
        "    curr_output = m2m_tokenizer.batch_decode(generated_tokens, skip_special_tokens=True)\n",
        "\n",
        "    ### Compute BLEURT score\n",
        "    bleurt_label = [[label] for label in curr_label]\n",
        "    curr_bleurt_score = bleurt_metric.compute(predictions=curr_output, references=bleurt_label)\n",
        "\n",
        "    eval_score.append(curr_bleurt_score['scores'])\n",
        "\n",
        "    \n",
        "    df_output = pd.DataFrame(eval_score)\n",
        "    df_output.to_csv(f'drive/MyDrive/W266/en_zh/new_model/zh_en_bleurt_validation_{row_index}.csv', sep=',', index=False)\n",
        "  "
      ],
      "metadata": {
        "colab": {
          "base_uri": "https://localhost:8080/"
        },
        "outputId": "c64f845a-9a24-4d53-8bb3-12c8f098887f",
        "id": "W-N9UDR2TsiA"
      },
      "execution_count": null,
      "outputs": [
        {
          "output_type": "stream",
          "name": "stdout",
          "text": [
            "Processing row_index: 2500\n",
            "  Processing row_index: 2500\n"
          ]
        },
        {
          "output_type": "stream",
          "name": "stderr",
          "text": [
            "/usr/local/lib/python3.7/dist-packages/transformers/generation_utils.py:1364: UserWarning: Neither `max_length` nor `max_new_tokens` has been set, `max_length` will default to 200 (`self.config.max_length`). Controlling `max_length` via the config is deprecated and `max_length` will be removed from the config in v5 of Transformers -- we recommend using `max_new_tokens` to control the maximum length of the generation.\n",
            "  UserWarning,\n"
          ]
        },
        {
          "output_type": "stream",
          "name": "stdout",
          "text": [
            "Processing row_index: 2600\n",
            "  Processing row_index: 2600\n",
            "Processing row_index: 2700\n",
            "  Processing row_index: 2700\n",
            "Processing row_index: 2800\n",
            "  Processing row_index: 2800\n",
            "Processing row_index: 2900\n",
            "  Processing row_index: 2900\n",
            "Processing row_index: 3000\n",
            "  Processing row_index: 3000\n",
            "Processing row_index: 3100\n",
            "  Processing row_index: 3100\n",
            "Processing row_index: 3200\n",
            "  Processing row_index: 3200\n",
            "Processing row_index: 3300\n",
            "  Processing row_index: 3300\n",
            "Processing row_index: 3400\n",
            "  Processing row_index: 3400\n",
            "Processing row_index: 3500\n",
            "  Processing row_index: 3500\n",
            "Processing row_index: 3600\n",
            "  Processing row_index: 3600\n",
            "Processing row_index: 3700\n",
            "  Processing row_index: 3700\n",
            "Processing row_index: 3800\n",
            "  Processing row_index: 3800\n",
            "Processing row_index: 3900\n",
            "  Processing row_index: 3900\n",
            "Processing row_index: 4000\n",
            "  Processing row_index: 4000\n",
            "Processing row_index: 4100\n",
            "  Processing row_index: 4100\n",
            "Processing row_index: 4200\n",
            "  Processing row_index: 4200\n",
            "Processing row_index: 4300\n",
            "  Processing row_index: 4300\n",
            "Processing row_index: 4400\n",
            "  Processing row_index: 4400\n",
            "Processing row_index: 4500\n",
            "  Processing row_index: 4500\n",
            "Processing row_index: 4600\n",
            "  Processing row_index: 4600\n",
            "Processing row_index: 4700\n",
            "  Processing row_index: 4700\n",
            "Processing row_index: 4800\n",
            "  Processing row_index: 4800\n",
            "Processing row_index: 4900\n",
            "  Processing row_index: 4900\n"
          ]
        }
      ]
    },
    {
      "cell_type": "code",
      "execution_count": null,
      "metadata": {
        "colab": {
          "base_uri": "https://localhost:8080/",
          "referenced_widgets": [
            "f7f56deebb7d4b1888d1b98af6740cd0",
            "cd2e5d40c98b4b22b0946b0915418074",
            "73a63de3af8f40a3bfb2b3d3a961e1e4",
            "6148d2bb3e2043d186cd9ffd11fcc3f6",
            "63daffa0dadd4054a1dd4c873e2f3926",
            "7f356992755c4965bee6e7a13055b9ce",
            "6cd1673535f141eea73907372b10bd2f",
            "5d60a7b20050427cb5c6dbaadcfd6e34",
            "4379e6fe4fbf412a8936fd6e04bf9f62",
            "3f5bdb3253884d84b1c7e4713ba90e6b",
            "d381ebb39e764700b265c1df19b19f63",
            "166fc51236ca496c817f901018afc698",
            "6bfb6e10936d4d29bd2eb655b5b7b61c",
            "52ff28bb86f9490f8edfb267dcfff086",
            "f0afc9ebca024620aab5deab175ed4ed",
            "5a1f3cf6f6ce458db3d9ef54851fc28b",
            "d05b07747bde41719db40377284d14db",
            "f6e14dda08064664bc99886f00fc4743",
            "f3ede1fd8b4944d3bcd4d1c190afe1c0",
            "6b34a07bcd03433f8582b30de22688e9",
            "eb83e47c2de44126afc2835ef9a09fce",
            "e0797e6b04714ab6ae29ccaa0341769e",
            "093a5df4103049d39c5a5bd09cd82a96",
            "ea98af12dd074026b4d2a89ffa52ea42",
            "dd2bd5c30fd34928af61e1a993f9de61",
            "e934b8d0869d48bcabf5ac4c2802dd1d",
            "8823168e895546b79d01fa9c007285ff",
            "c27c415623124d268a6a94e166f583ea",
            "d5ab142be2c24bfe84a77cb7a1ce8be5",
            "ee89d15e327f4772bc9e096585048f3e",
            "8b28775e70eb4422aee6043698c1af27",
            "b2b304fee35f44c9a5dcfb1714512d73",
            "1db1e2b5794a4ac2be8f7dd2d153b3e6",
            "404807ec0dbe4089bec4723bb7726726",
            "e50c666a2ac54f53abe9db0fd2b404ad",
            "aa961c9af96e47c5a27a90eda917aca5",
            "9b7a0d6b0cb44882ae922ceb7dbd3332",
            "272aba8d6aee442aa129224256619e04",
            "5ef3396b5ed84cfbae99d6d4209bc856",
            "f52d940f81a04b57a13f6f7c0e020232",
            "bfcf150b7bac46f1b1adcb34f731f0ca",
            "03c368f6dde44513ba5d88e012ed0b18",
            "4c92e446aa524c73817eb743618d290e",
            "49d634b2228d4ea7ab02446ef1717d70",
            "639f7c4af7ef4b30a2976e8816d8049b",
            "0655b62c5f6c404ea3bed9b315d489f5",
            "386831922a324da3a5b644a0acc2b582",
            "ab16f27c226f4969ab45d3cf3ff29e40",
            "a7f014885cc24a1288ba15f791a368cd",
            "dfc234d0337c43e2a7eca4870e4dde17",
            "fb9e701f15b24a3d869fc4777e0ce839",
            "bcc7972bc4de478cb908f60ee46edce0",
            "7d484624ea2046db970bf236a16c1fe0",
            "f6a28956902b420d93f19bd9ed822aca",
            "b4e2eac9de094c6fa0cc32a9870afba5"
          ],
          "height": 249
        },
        "outputId": "64914326-7fe4-4675-9398-2f10b46c8ff4",
        "id": "Lg6tSpRQTyv_"
      },
      "outputs": [
        {
          "output_type": "display_data",
          "data": {
            "text/plain": [
              "Downloading builder script:   0%|          | 0.00/5.36k [00:00<?, ?B/s]"
            ],
            "application/vnd.jupyter.widget-view+json": {
              "version_major": 2,
              "version_minor": 0,
              "model_id": "f7f56deebb7d4b1888d1b98af6740cd0"
            }
          },
          "metadata": {}
        },
        {
          "output_type": "display_data",
          "data": {
            "text/plain": [
              "Downloading metadata:   0%|          | 0.00/116k [00:00<?, ?B/s]"
            ],
            "application/vnd.jupyter.widget-view+json": {
              "version_major": 2,
              "version_minor": 0,
              "model_id": "166fc51236ca496c817f901018afc698"
            }
          },
          "metadata": {}
        },
        {
          "output_type": "display_data",
          "data": {
            "text/plain": [
              "Downloading readme:   0%|          | 0.00/20.9k [00:00<?, ?B/s]"
            ],
            "application/vnd.jupyter.widget-view+json": {
              "version_major": 2,
              "version_minor": 0,
              "model_id": "093a5df4103049d39c5a5bd09cd82a96"
            }
          },
          "metadata": {}
        },
        {
          "output_type": "stream",
          "name": "stdout",
          "text": [
            "Downloading and preparing dataset news_commentary/en-zh to /root/.cache/huggingface/datasets/news_commentary/en-zh/11.0.0/cfab724ce975dc2da51cdae45302389860badc88b74db8570d561ced6004f8b4...\n"
          ]
        },
        {
          "output_type": "display_data",
          "data": {
            "text/plain": [
              "Downloading data:   0%|          | 0.00/18.1M [00:00<?, ?B/s]"
            ],
            "application/vnd.jupyter.widget-view+json": {
              "version_major": 2,
              "version_minor": 0,
              "model_id": "404807ec0dbe4089bec4723bb7726726"
            }
          },
          "metadata": {}
        },
        {
          "output_type": "display_data",
          "data": {
            "text/plain": [
              "Generating train split:   0%|          | 0/69206 [00:00<?, ? examples/s]"
            ],
            "application/vnd.jupyter.widget-view+json": {
              "version_major": 2,
              "version_minor": 0,
              "model_id": "639f7c4af7ef4b30a2976e8816d8049b"
            }
          },
          "metadata": {}
        },
        {
          "output_type": "stream",
          "name": "stdout",
          "text": [
            "Dataset news_commentary downloaded and prepared to /root/.cache/huggingface/datasets/news_commentary/en-zh/11.0.0/cfab724ce975dc2da51cdae45302389860badc88b74db8570d561ced6004f8b4. Subsequent calls will reuse this data.\n"
          ]
        },
        {
          "output_type": "stream",
          "name": "stderr",
          "text": [
            "WARNING:datasets.builder:Found cached dataset news_commentary (/root/.cache/huggingface/datasets/news_commentary/en-zh/11.0.0/cfab724ce975dc2da51cdae45302389860badc88b74db8570d561ced6004f8b4)\n"
          ]
        }
      ],
      "source": [
        "en_zh_train = load_dataset('news_commentary','en-zh',split='train[:70%]')['translation']\n",
        "en_zh_validation = load_dataset('news_commentary','en-zh',split='train[70%:]')['translation']\n",
        "en_zh_val = random.sample(en_zh_validation,5000)\n",
        "# zh_es_test = load_dataset('news_commentary','es-zh',split='train[120:140]')['translation']"
      ]
    },
    {
      "cell_type": "code",
      "execution_count": null,
      "metadata": {
        "id": "eqkIcOxBTyv_"
      },
      "outputs": [],
      "source": [
        "train_file = 'drive/MyDrive/W266/en_zh_train.csv'\n",
        "valid_file = 'drive/MyDrive/W266/en_zh_val.csv'\n",
        "# # test_file = 'drive/MyDrive/W266/zh_es_test.csv'\n",
        "\n",
        "\n",
        "pd.DataFrame(en_zh_train).to_csv(train_file)\n",
        "pd.DataFrame(en_zh_val).to_csv(valid_file)\n",
        "# pd.DataFrame(zh_es_test).to_csv(test_file)"
      ]
    },
    {
      "cell_type": "code",
      "source": [
        "df_train = pd.read_csv('drive/MyDrive/W266/en_zh_train.csv')\n",
        "df_valid = pd.read_csv('drive/MyDrive/W266/en_zh_val.csv')\n",
        "# df_test = pd.read_csv(test_file)"
      ],
      "metadata": {
        "id": "m0Y3KrpVTywA"
      },
      "execution_count": null,
      "outputs": []
    },
    {
      "cell_type": "code",
      "source": [
        "example_pair = df_valid[['en', 'zh']].values.astype(str)[8]\n",
        "example_input, example_label = example_pair\n",
        "example_input"
      ],
      "metadata": {
        "colab": {
          "base_uri": "https://localhost:8080/",
          "height": 52
        },
        "outputId": "5e07a12f-92ee-4589-c92a-cfb9e0ffc22e",
        "id": "LXKWUdh_TywA"
      },
      "execution_count": null,
      "outputs": [
        {
          "output_type": "execute_result",
          "data": {
            "text/plain": [
              "'With the stakes so high, the Russian-US initiative to organize a peace conference has not only been welcomed, but is seen as an indispensable initiative that must be planned with excruciating care. We are likely to hear of delay after delay in the coming days, as various sides try to choose their representatives.'"
            ],
            "application/vnd.google.colaboratory.intrinsic+json": {
              "type": "string"
            }
          },
          "metadata": {},
          "execution_count": 35
        }
      ]
    },
    {
      "cell_type": "code",
      "source": [
        "# For normal sequence \n",
        "def preprocess_data(text_pair, tokenizer, max_length=50):\n",
        "    orig_text, target_text = text_pair\n",
        "    orig_encoded = tokenizer.batch_encode_plus(\n",
        "        [orig_text],\n",
        "        max_length=max_length,\n",
        "        padding='max_length',\n",
        "        truncation=True,\n",
        "        return_attention_mask=True,\n",
        "        return_tensors='pt'\n",
        "    )\n",
        "\n",
        "    # not sure if the below two lines are needed for m2m100\n",
        "    orig_input_ids = orig_encoded['input_ids'][0]\n",
        "    orig_attention_mask = orig_encoded['attention_mask'][0]\n",
        "    \n",
        "    target_encoded = tokenizer.batch_encode_plus(\n",
        "        [target_text],\n",
        "        max_length=max_length,\n",
        "        padding='max_length',\n",
        "        truncation=True,\n",
        "        return_attention_mask=True,\n",
        "        return_tensors='pt'\n",
        "    )\n",
        "    \n",
        "    label_ids = target_encoded['input_ids'][0]\n",
        "    \n",
        "    return {'input_ids': orig_input_ids,\n",
        "            'attention_mask': orig_attention_mask,\n",
        "            'labels': label_ids}"
      ],
      "metadata": {
        "id": "2B8Q6NCGTywA"
      },
      "execution_count": null,
      "outputs": []
    },
    {
      "cell_type": "code",
      "execution_count": null,
      "metadata": {
        "id": "zpIx39n3TywA"
      },
      "outputs": [],
      "source": [
        "class TranslationDataIterator:\n",
        "    \n",
        "    def __init__(self,\n",
        "                 tokenizer,\n",
        "                 n_examples,\n",
        "                 data_filename,\n",
        "                 max_length=128,\n",
        "                 shuffle=True):\n",
        "        \n",
        "        self.tokenizer = tokenizer\n",
        "        self.n_examples = n_examples\n",
        "        self.data_filename = data_filename\n",
        "        self.max_length = max_length\n",
        "        self.shuffle = shuffle\n",
        "        \n",
        "        # Initialize row order, call on_epoch_end to shuffle row indices\n",
        "        self.row_order = np.arange(1, self.n_examples+1)\n",
        "        self.on_epoch_end()\n",
        "    \n",
        "    def __len__(self):\n",
        "        return self.n_examples\n",
        "    \n",
        "    def __getitem__(self, idx):\n",
        "        row_to_load = self.row_order[idx]\n",
        "        df = pd.read_csv(self.data_filename,\n",
        "                         skiprows=range(1, row_to_load),\n",
        "                         nrows=1)\n",
        "        \n",
        "        text_pair = df[['en', 'zh']].values.astype(str)[0]\n",
        "        \n",
        "        item_data = preprocess_data(\n",
        "            text_pair,\n",
        "            self.tokenizer,\n",
        "            self.max_length\n",
        "        )\n",
        "\n",
        "        return item_data\n",
        "    \n",
        "    def __call__(self):\n",
        "        for i in range(self.__len__()):\n",
        "            yield self.__getitem__(i)\n",
        "            \n",
        "            if i == self.__len__()-1:\n",
        "                self.on_epoch_end()\n",
        "    \n",
        "    def on_epoch_end(self):\n",
        "        if self.shuffle:\n",
        "            self.row_order = list(np.random.permutation(self.row_order))"
      ]
    },
    {
      "cell_type": "markdown",
      "source": [
        "#### 3.4.1 Baseline"
      ],
      "metadata": {
        "id": "xg-ySCpzTywA"
      }
    },
    {
      "cell_type": "code",
      "source": [
        "df_baseline_list = df_valid['en'].tolist()\n",
        "df_baseline_label = df_valid['zh'].tolist()"
      ],
      "metadata": {
        "id": "VopKidM5TywB"
      },
      "execution_count": null,
      "outputs": []
    },
    {
      "cell_type": "code",
      "source": [
        "eval_score = []\n",
        "step = 100\n",
        "\n",
        "for row_index in range(0,len(df_baseline_list),step):\n",
        "  \n",
        "  print(f\"Processing row_index: {row_index}\")\n",
        "\n",
        "  if os.path.isfile(f\"drive/MyDrive/W266/en_zh/en_zh_baseline_{row_index}.csv\"):\n",
        "    print(f\"  row_index {row_index} exist, continue...\")\n",
        "    continue\n",
        "  else:\n",
        "\n",
        "    curr_input = df_baseline_list[row_index: row_index + step]\n",
        "    curr_label = df_baseline_label[row_index: row_index + step]\n",
        "\n",
        "    print(\"Begin current loop:\", row_index)\n",
        "\n",
        "    encoded_en = m2m_tokenizer(curr_input, \n",
        "                          padding = True,\n",
        "                          max_length=50,\n",
        "                          truncation=True,\n",
        "                          return_tensors='pt')\n",
        "    generated_tokens = m2m_model.generate(**encoded_en, forced_bos_token_id=m2m_tokenizer.get_lang_id(\"zh\"))\n",
        "    curr_output = m2m_tokenizer.batch_decode(generated_tokens, skip_special_tokens=True)\n",
        "\n",
        "    ### Compute BLEURT score\n",
        "    bleurt_label = [[label] for label in curr_label]\n",
        "    curr_bleurt_score = bleurt_metric.compute(predictions=curr_output, references=bleurt_label)\n",
        "\n",
        "    eval_score.append(curr_bleurt_score['scores'])\n",
        "\n",
        "    \n",
        "    df_output = pd.DataFrame(eval_score)\n",
        "    df_output.to_csv(f'drive/MyDrive/W266/en_zh/en_zh_baseline_{row_index}.csv', sep=',', index=False)\n",
        "  "
      ],
      "metadata": {
        "colab": {
          "base_uri": "https://localhost:8080/"
        },
        "outputId": "f5c61a28-792d-4650-c2fb-b036cf326aa3",
        "id": "D_ymT_gWTywB"
      },
      "execution_count": null,
      "outputs": [
        {
          "output_type": "stream",
          "name": "stdout",
          "text": [
            "Processing row_index: 0\n",
            "Begin current loop: 0\n"
          ]
        },
        {
          "output_type": "stream",
          "name": "stderr",
          "text": [
            "/usr/local/lib/python3.7/dist-packages/transformers/generation_utils.py:1364: UserWarning: Neither `max_length` nor `max_new_tokens` has been set, `max_length` will default to 200 (`self.config.max_length`). Controlling `max_length` via the config is deprecated and `max_length` will be removed from the config in v5 of Transformers -- we recommend using `max_new_tokens` to control the maximum length of the generation.\n",
            "  UserWarning,\n"
          ]
        },
        {
          "output_type": "stream",
          "name": "stdout",
          "text": [
            "Processing row_index: 100\n",
            "Begin current loop: 100\n",
            "Processing row_index: 200\n",
            "Begin current loop: 200\n",
            "Processing row_index: 300\n",
            "Begin current loop: 300\n",
            "Processing row_index: 400\n",
            "Begin current loop: 400\n",
            "Processing row_index: 500\n",
            "Begin current loop: 500\n",
            "Processing row_index: 600\n",
            "Begin current loop: 600\n",
            "Processing row_index: 700\n",
            "Begin current loop: 700\n",
            "Processing row_index: 800\n",
            "Begin current loop: 800\n",
            "Processing row_index: 900\n",
            "Begin current loop: 900\n",
            "Processing row_index: 1000\n",
            "Begin current loop: 1000\n",
            "Processing row_index: 1100\n",
            "Begin current loop: 1100\n",
            "Processing row_index: 1200\n",
            "Begin current loop: 1200\n",
            "Processing row_index: 1300\n",
            "Begin current loop: 1300\n",
            "Processing row_index: 1400\n",
            "Begin current loop: 1400\n",
            "Processing row_index: 1500\n",
            "Begin current loop: 1500\n",
            "Processing row_index: 1600\n",
            "Begin current loop: 1600\n",
            "Processing row_index: 1700\n",
            "Begin current loop: 1700\n",
            "Processing row_index: 1800\n",
            "Begin current loop: 1800\n",
            "Processing row_index: 1900\n",
            "Begin current loop: 1900\n",
            "Processing row_index: 2000\n",
            "Begin current loop: 2000\n",
            "Processing row_index: 2100\n",
            "Begin current loop: 2100\n",
            "Processing row_index: 2200\n",
            "Begin current loop: 2200\n",
            "Processing row_index: 2300\n",
            "Begin current loop: 2300\n",
            "Processing row_index: 2400\n",
            "Begin current loop: 2400\n",
            "Processing row_index: 2500\n",
            "Begin current loop: 2500\n",
            "Processing row_index: 2600\n",
            "Begin current loop: 2600\n",
            "Processing row_index: 2700\n",
            "Begin current loop: 2700\n",
            "Processing row_index: 2800\n",
            "Begin current loop: 2800\n",
            "Processing row_index: 2900\n",
            "Begin current loop: 2900\n",
            "Processing row_index: 3000\n",
            "Begin current loop: 3000\n"
          ]
        }
      ]
    },
    {
      "cell_type": "markdown",
      "source": [
        "#### 3.4.2 Fine tune model"
      ],
      "metadata": {
        "id": "WAcwi-r7TywB"
      }
    },
    {
      "cell_type": "code",
      "execution_count": null,
      "metadata": {
        "id": "k2YBYJXNTywB"
      },
      "outputs": [],
      "source": [
        "max_length = 128\n",
        "\n",
        "train_data_iterator = TranslationDataIterator(\n",
        "    tokenizer=m2m_tokenizer,\n",
        "    n_examples=len(en_zh_train),\n",
        "    data_filename=train_file,\n",
        "    max_length=max_length\n",
        ")\n",
        "\n",
        "valid_data_iterator = TranslationDataIterator(\n",
        "    tokenizer=m2m_tokenizer,\n",
        "    n_examples=len(en_zh_val),\n",
        "    data_filename=valid_file,\n",
        "    max_length=max_length\n",
        ")"
      ]
    },
    {
      "cell_type": "code",
      "source": [
        "srg_lang = 'en'\n",
        "tgt_lang = 'zh'\n",
        "\n",
        "# Modify this filepath to where you want to save the model after fine-tuning\n",
        "dir_path = 'drive/MyDrive/W266/en_zh/new_model/'\n",
        "file_path = dir_path + f'M2M100_news_commentary_{srg_lang}_{tgt_lang}'"
      ],
      "metadata": {
        "id": "n9lsIPzITywB"
      },
      "execution_count": null,
      "outputs": []
    },
    {
      "cell_type": "code",
      "execution_count": null,
      "metadata": {
        "id": "DZ9m5TEtTywB"
      },
      "outputs": [],
      "source": [
        "# Specify batch size and other training arguments\n",
        "\n",
        "batch_size = 8\n",
        "\n",
        "args = Seq2SeqTrainingArguments(\n",
        "    file_path,\n",
        "    evaluation_strategy='epoch',\n",
        "    per_device_train_batch_size=batch_size,\n",
        "    per_device_eval_batch_size=batch_size,\n",
        "    num_train_epochs=1,\n",
        ")"
      ]
    },
    {
      "cell_type": "code",
      "execution_count": null,
      "metadata": {
        "id": "9NN5nPzoTywB"
      },
      "outputs": [],
      "source": [
        "# Define the trainer, passing in the model, training args, and data generators\n",
        "\n",
        "trainer = Seq2SeqTrainer(\n",
        "    m2m_model,\n",
        "    args,\n",
        "    train_dataset=train_data_iterator,\n",
        "    eval_dataset=valid_data_iterator\n",
        ")"
      ]
    },
    {
      "cell_type": "code",
      "execution_count": null,
      "metadata": {
        "colab": {
          "base_uri": "https://localhost:8080/",
          "height": 1000
        },
        "outputId": "86293b94-e944-4b4f-ce6f-66bab814a09f",
        "id": "x_j88s5RTywB"
      },
      "outputs": [
        {
          "output_type": "stream",
          "name": "stderr",
          "text": [
            "/usr/local/lib/python3.7/dist-packages/transformers/optimization.py:310: FutureWarning: This implementation of AdamW is deprecated and will be removed in a future version. Use the PyTorch implementation torch.optim.AdamW instead, or set `no_deprecation_warning=True` to disable this warning\n",
            "  FutureWarning,\n",
            "***** Running training *****\n",
            "  Num examples = 48444\n",
            "  Num Epochs = 1\n",
            "  Instantaneous batch size per device = 8\n",
            "  Total train batch size (w. parallel, distributed & accumulation) = 8\n",
            "  Gradient Accumulation steps = 1\n",
            "  Total optimization steps = 6056\n",
            "  Number of trainable parameters = 483905536\n"
          ]
        },
        {
          "output_type": "display_data",
          "data": {
            "text/plain": [
              "<IPython.core.display.HTML object>"
            ],
            "text/html": [
              "\n",
              "    <div>\n",
              "      \n",
              "      <progress value='6056' max='6056' style='width:300px; height:20px; vertical-align: middle;'></progress>\n",
              "      [6056/6056 3:14:24, Epoch 1/1]\n",
              "    </div>\n",
              "    <table border=\"1\" class=\"dataframe\">\n",
              "  <thead>\n",
              " <tr style=\"text-align: left;\">\n",
              "      <th>Epoch</th>\n",
              "      <th>Training Loss</th>\n",
              "      <th>Validation Loss</th>\n",
              "    </tr>\n",
              "  </thead>\n",
              "  <tbody>\n",
              "    <tr>\n",
              "      <td>1</td>\n",
              "      <td>1.574800</td>\n",
              "      <td>1.564497</td>\n",
              "    </tr>\n",
              "  </tbody>\n",
              "</table><p>"
            ]
          },
          "metadata": {}
        },
        {
          "output_type": "stream",
          "name": "stderr",
          "text": [
            "Saving model checkpoint to drive/MyDrive/W266/en_zh/new_model/M2M100_news_commentary_en_zh/checkpoint-500\n",
            "Configuration saved in drive/MyDrive/W266/en_zh/new_model/M2M100_news_commentary_en_zh/checkpoint-500/config.json\n",
            "Model weights saved in drive/MyDrive/W266/en_zh/new_model/M2M100_news_commentary_en_zh/checkpoint-500/pytorch_model.bin\n",
            "Saving model checkpoint to drive/MyDrive/W266/en_zh/new_model/M2M100_news_commentary_en_zh/checkpoint-1000\n",
            "Configuration saved in drive/MyDrive/W266/en_zh/new_model/M2M100_news_commentary_en_zh/checkpoint-1000/config.json\n",
            "Model weights saved in drive/MyDrive/W266/en_zh/new_model/M2M100_news_commentary_en_zh/checkpoint-1000/pytorch_model.bin\n",
            "Saving model checkpoint to drive/MyDrive/W266/en_zh/new_model/M2M100_news_commentary_en_zh/checkpoint-1500\n",
            "Configuration saved in drive/MyDrive/W266/en_zh/new_model/M2M100_news_commentary_en_zh/checkpoint-1500/config.json\n",
            "Model weights saved in drive/MyDrive/W266/en_zh/new_model/M2M100_news_commentary_en_zh/checkpoint-1500/pytorch_model.bin\n",
            "Saving model checkpoint to drive/MyDrive/W266/en_zh/new_model/M2M100_news_commentary_en_zh/checkpoint-2000\n",
            "Configuration saved in drive/MyDrive/W266/en_zh/new_model/M2M100_news_commentary_en_zh/checkpoint-2000/config.json\n",
            "Model weights saved in drive/MyDrive/W266/en_zh/new_model/M2M100_news_commentary_en_zh/checkpoint-2000/pytorch_model.bin\n",
            "Saving model checkpoint to drive/MyDrive/W266/en_zh/new_model/M2M100_news_commentary_en_zh/checkpoint-2500\n",
            "Configuration saved in drive/MyDrive/W266/en_zh/new_model/M2M100_news_commentary_en_zh/checkpoint-2500/config.json\n",
            "Model weights saved in drive/MyDrive/W266/en_zh/new_model/M2M100_news_commentary_en_zh/checkpoint-2500/pytorch_model.bin\n",
            "Saving model checkpoint to drive/MyDrive/W266/en_zh/new_model/M2M100_news_commentary_en_zh/checkpoint-3000\n",
            "Configuration saved in drive/MyDrive/W266/en_zh/new_model/M2M100_news_commentary_en_zh/checkpoint-3000/config.json\n",
            "Model weights saved in drive/MyDrive/W266/en_zh/new_model/M2M100_news_commentary_en_zh/checkpoint-3000/pytorch_model.bin\n",
            "Saving model checkpoint to drive/MyDrive/W266/en_zh/new_model/M2M100_news_commentary_en_zh/checkpoint-3500\n",
            "Configuration saved in drive/MyDrive/W266/en_zh/new_model/M2M100_news_commentary_en_zh/checkpoint-3500/config.json\n",
            "Model weights saved in drive/MyDrive/W266/en_zh/new_model/M2M100_news_commentary_en_zh/checkpoint-3500/pytorch_model.bin\n",
            "Saving model checkpoint to drive/MyDrive/W266/en_zh/new_model/M2M100_news_commentary_en_zh/checkpoint-4000\n",
            "Configuration saved in drive/MyDrive/W266/en_zh/new_model/M2M100_news_commentary_en_zh/checkpoint-4000/config.json\n",
            "Model weights saved in drive/MyDrive/W266/en_zh/new_model/M2M100_news_commentary_en_zh/checkpoint-4000/pytorch_model.bin\n",
            "Saving model checkpoint to drive/MyDrive/W266/en_zh/new_model/M2M100_news_commentary_en_zh/checkpoint-4500\n",
            "Configuration saved in drive/MyDrive/W266/en_zh/new_model/M2M100_news_commentary_en_zh/checkpoint-4500/config.json\n",
            "Model weights saved in drive/MyDrive/W266/en_zh/new_model/M2M100_news_commentary_en_zh/checkpoint-4500/pytorch_model.bin\n",
            "Saving model checkpoint to drive/MyDrive/W266/en_zh/new_model/M2M100_news_commentary_en_zh/checkpoint-5000\n",
            "Configuration saved in drive/MyDrive/W266/en_zh/new_model/M2M100_news_commentary_en_zh/checkpoint-5000/config.json\n",
            "Model weights saved in drive/MyDrive/W266/en_zh/new_model/M2M100_news_commentary_en_zh/checkpoint-5000/pytorch_model.bin\n",
            "Saving model checkpoint to drive/MyDrive/W266/en_zh/new_model/M2M100_news_commentary_en_zh/checkpoint-5500\n",
            "Configuration saved in drive/MyDrive/W266/en_zh/new_model/M2M100_news_commentary_en_zh/checkpoint-5500/config.json\n",
            "Model weights saved in drive/MyDrive/W266/en_zh/new_model/M2M100_news_commentary_en_zh/checkpoint-5500/pytorch_model.bin\n",
            "Saving model checkpoint to drive/MyDrive/W266/en_zh/new_model/M2M100_news_commentary_en_zh/checkpoint-6000\n",
            "Configuration saved in drive/MyDrive/W266/en_zh/new_model/M2M100_news_commentary_en_zh/checkpoint-6000/config.json\n",
            "Model weights saved in drive/MyDrive/W266/en_zh/new_model/M2M100_news_commentary_en_zh/checkpoint-6000/pytorch_model.bin\n",
            "***** Running Evaluation *****\n",
            "  Num examples = 5000\n",
            "  Batch size = 8\n",
            "\n",
            "\n",
            "Training completed. Do not forget to share your model on huggingface.co/models =)\n",
            "\n",
            "\n"
          ]
        },
        {
          "output_type": "execute_result",
          "data": {
            "text/plain": [
              "TrainOutput(global_step=6056, training_loss=1.7123450262858342, metrics={'train_runtime': 11670.3874, 'train_samples_per_second': 4.151, 'train_steps_per_second': 0.519, 'total_flos': 1.3122901918089216e+16, 'train_loss': 1.7123450262858342, 'epoch': 1.0})"
            ]
          },
          "metadata": {},
          "execution_count": 18
        }
      ],
      "source": [
        "# Call train\n",
        "\n",
        "trainer.train()"
      ]
    },
    {
      "cell_type": "code",
      "source": [
        "trainer.save_model('drive/MyDrive/W266/M2M100_news_commentary_en_zh/checkpoint-001')"
      ],
      "metadata": {
        "colab": {
          "base_uri": "https://localhost:8080/"
        },
        "outputId": "09a1b2e8-2ac4-4722-8069-d8ad896eb971",
        "id": "kBHYx-95TywC"
      },
      "execution_count": null,
      "outputs": [
        {
          "output_type": "stream",
          "name": "stderr",
          "text": [
            "Saving model checkpoint to drive/MyDrive/W266/M2M100_news_commentary_en_zh/checkpoint-001\n",
            "Configuration saved in drive/MyDrive/W266/M2M100_news_commentary_en_zh/checkpoint-001/config.json\n",
            "Model weights saved in drive/MyDrive/W266/M2M100_news_commentary_en_zh/checkpoint-001/pytorch_model.bin\n"
          ]
        }
      ]
    },
    {
      "cell_type": "code",
      "source": [
        "m2m_model_saved = M2M100ForConditionalGeneration.from_pretrained('drive/MyDrive/W266/M2M100_news_commentary_en_zh/checkpoint-001')"
      ],
      "metadata": {
        "id": "sYnPr7I1TywC"
      },
      "execution_count": null,
      "outputs": []
    },
    {
      "cell_type": "code",
      "source": [
        "m2m_tokenizer.src_lang = \"en\"\n",
        "encoded_en = m2m_tokenizer(example_input, return_tensors=\"pt\")\n",
        "generated_tokens = m2m_model_saved.generate(**encoded_en, forced_bos_token_id=m2m_tokenizer.get_lang_id(\"zh\"))\n",
        "m2m_tokenizer.batch_decode(generated_tokens, skip_special_tokens=True)"
      ],
      "metadata": {
        "colab": {
          "base_uri": "https://localhost:8080/"
        },
        "outputId": "fd479e16-8357-41b5-a45e-785e4fc415db",
        "id": "esS158f7TywC"
      },
      "execution_count": null,
      "outputs": [
        {
          "output_type": "execute_result",
          "data": {
            "text/plain": [
              "['因此,俄罗斯-美国组织和平会议的意图不但得到了欢迎,也被视为一个不可或缺的计划,必须以谨慎的态度进行规划。我们很可能会在未来几天中听到延迟之后的延迟,因为各方试图选择代表。']"
            ]
          },
          "metadata": {},
          "execution_count": 36
        }
      ]
    },
    {
      "cell_type": "code",
      "source": [
        "example_output = m2m_tokenizer.batch_decode(generated_tokens, skip_special_tokens=True)\n",
        "example_output"
      ],
      "metadata": {
        "colab": {
          "base_uri": "https://localhost:8080/"
        },
        "outputId": "9fec2098-647a-4a9c-bf70-1a1a11fac436",
        "id": "0TazICL3TywC"
      },
      "execution_count": null,
      "outputs": [
        {
          "output_type": "execute_result",
          "data": {
            "text/plain": [
              "['因此,俄罗斯-美国组织和平会议的意图不但得到了欢迎,也被视为一个不可或缺的计划,必须以谨慎的态度进行规划。我们很可能会在未来几天中听到延迟之后的延迟,因为各方试图选择代表。']"
            ]
          },
          "metadata": {},
          "execution_count": 37
        }
      ]
    },
    {
      "cell_type": "code",
      "source": [
        "bleurt_label = [example_label]\n",
        "bleurt_label"
      ],
      "metadata": {
        "colab": {
          "base_uri": "https://localhost:8080/"
        },
        "outputId": "2648bafd-0782-4a16-9a3e-fcde0d2bae8d",
        "id": "koqOa8nhTywC"
      },
      "execution_count": null,
      "outputs": [
        {
          "output_type": "execute_result",
          "data": {
            "text/plain": [
              "['因为利害攸关，俄美组织和平会议的计划不仅颇受欢迎，而且被视为不可或缺的行动而受到慎重对待。因为各方都力争选定代表，和平会议的日程可能一推再推。但我们必须保持耐心，因为会议一旦开始除成功外就没有别的选择。没有结果的努力不会有任何用处。']"
            ]
          },
          "metadata": {},
          "execution_count": 38
        }
      ]
    },
    {
      "cell_type": "code",
      "source": [
        "bleurt_metric.compute(predictions=example_output, references=bleurt_label)"
      ],
      "metadata": {
        "colab": {
          "base_uri": "https://localhost:8080/"
        },
        "outputId": "8bd147ea-a50e-4db0-8411-6164d1f47827",
        "id": "vY25PNd4TywC"
      },
      "execution_count": null,
      "outputs": [
        {
          "output_type": "execute_result",
          "data": {
            "text/plain": [
              "{'scores': [0.29573166370391846]}"
            ]
          },
          "metadata": {},
          "execution_count": 39
        }
      ]
    },
    {
      "cell_type": "code",
      "source": [
        "df_valid_list = df_valid[f'{srg_lang}'].tolist()\n",
        "df_valid_label= df_valid[f'{tgt_lang}'].tolist()"
      ],
      "metadata": {
        "id": "OHZylTsPTywC"
      },
      "execution_count": null,
      "outputs": []
    },
    {
      "cell_type": "code",
      "source": [
        "eval_score = []\n",
        "step = 100\n",
        "\n",
        "\n",
        "for row_index in range(2500,len(df_valid_list),step):\n",
        "\n",
        "  print(f\"Processing row_index: {row_index}\")\n",
        "\n",
        "  if os.path.isfile(f\"drive/MyDrive/W266/en_zh/new_model/zh_en_bleurt_validation_{row_index}.csv\"):\n",
        "    print(f\"  row_index {row_index} exist, continue...\")\n",
        "    continue\n",
        "  else:\n",
        "\n",
        "    curr_input = df_valid_list[row_index: row_index + step]\n",
        "    curr_label = df_valid_label[row_index: row_index + step]\n",
        "\n",
        "\n",
        "    # curr_loop = row_index/step\n",
        "    print(f\"  Processing row_index: {row_index}\")\n",
        "\n",
        "    encoded_en = m2m_tokenizer(curr_input, \n",
        "                          padding = True,\n",
        "                          max_length=50,\n",
        "                          truncation=True,\n",
        "                          return_tensors='pt')\n",
        "    generated_tokens = m2m_model_saved.generate(**encoded_en, forced_bos_token_id=m2m_tokenizer.get_lang_id(f'{tgt_lang}'))\n",
        "    curr_output = m2m_tokenizer.batch_decode(generated_tokens, skip_special_tokens=True)\n",
        "\n",
        "    ### Compute BLEURT score\n",
        "    bleurt_label = [[label] for label in curr_label]\n",
        "    curr_bleurt_score = bleurt_metric.compute(predictions=curr_output, references=bleurt_label)\n",
        "\n",
        "    eval_score.append(curr_bleurt_score['scores'])\n",
        "\n",
        "    \n",
        "    df_output = pd.DataFrame(eval_score)\n",
        "    df_output.to_csv(f'drive/MyDrive/W266/en_zh/new_model/zh_en_bleurt_validation_{row_index}.csv', sep=',', index=False)\n",
        "  "
      ],
      "metadata": {
        "colab": {
          "base_uri": "https://localhost:8080/"
        },
        "outputId": "c64f845a-9a24-4d53-8bb3-12c8f098887f",
        "id": "rVe5_6EOTywC"
      },
      "execution_count": null,
      "outputs": [
        {
          "output_type": "stream",
          "name": "stdout",
          "text": [
            "Processing row_index: 2500\n",
            "  Processing row_index: 2500\n"
          ]
        },
        {
          "output_type": "stream",
          "name": "stderr",
          "text": [
            "/usr/local/lib/python3.7/dist-packages/transformers/generation_utils.py:1364: UserWarning: Neither `max_length` nor `max_new_tokens` has been set, `max_length` will default to 200 (`self.config.max_length`). Controlling `max_length` via the config is deprecated and `max_length` will be removed from the config in v5 of Transformers -- we recommend using `max_new_tokens` to control the maximum length of the generation.\n",
            "  UserWarning,\n"
          ]
        },
        {
          "output_type": "stream",
          "name": "stdout",
          "text": [
            "Processing row_index: 2600\n",
            "  Processing row_index: 2600\n",
            "Processing row_index: 2700\n",
            "  Processing row_index: 2700\n",
            "Processing row_index: 2800\n",
            "  Processing row_index: 2800\n",
            "Processing row_index: 2900\n",
            "  Processing row_index: 2900\n",
            "Processing row_index: 3000\n",
            "  Processing row_index: 3000\n",
            "Processing row_index: 3100\n",
            "  Processing row_index: 3100\n",
            "Processing row_index: 3200\n",
            "  Processing row_index: 3200\n",
            "Processing row_index: 3300\n",
            "  Processing row_index: 3300\n",
            "Processing row_index: 3400\n",
            "  Processing row_index: 3400\n",
            "Processing row_index: 3500\n",
            "  Processing row_index: 3500\n",
            "Processing row_index: 3600\n",
            "  Processing row_index: 3600\n",
            "Processing row_index: 3700\n",
            "  Processing row_index: 3700\n",
            "Processing row_index: 3800\n",
            "  Processing row_index: 3800\n",
            "Processing row_index: 3900\n",
            "  Processing row_index: 3900\n",
            "Processing row_index: 4000\n",
            "  Processing row_index: 4000\n",
            "Processing row_index: 4100\n",
            "  Processing row_index: 4100\n",
            "Processing row_index: 4200\n",
            "  Processing row_index: 4200\n",
            "Processing row_index: 4300\n",
            "  Processing row_index: 4300\n",
            "Processing row_index: 4400\n",
            "  Processing row_index: 4400\n",
            "Processing row_index: 4500\n",
            "  Processing row_index: 4500\n",
            "Processing row_index: 4600\n",
            "  Processing row_index: 4600\n",
            "Processing row_index: 4700\n",
            "  Processing row_index: 4700\n",
            "Processing row_index: 4800\n",
            "  Processing row_index: 4800\n",
            "Processing row_index: 4900\n",
            "  Processing row_index: 4900\n"
          ]
        }
      ]
    },
    {
      "cell_type": "markdown",
      "source": [
        "### 3.5 EN-ES"
      ],
      "metadata": {
        "id": "hCPjMPu37ibw"
      }
    },
    {
      "cell_type": "code",
      "execution_count": null,
      "metadata": {
        "colab": {
          "base_uri": "https://localhost:8080/",
          "height": 217,
          "referenced_widgets": [
            "4f570b1da9c749abac568fc3133b074d",
            "488923acf0f34871a002d03673667cd1",
            "d8acdd4693db43d98b01a32463f15279",
            "0352b8839a494ed58376374886832f3c",
            "25084fecf2b947a185ec308028675ccd",
            "45d528030af24962abcec981b5a56f0f",
            "054b099a6c534cfd9ead2b0b5b20bd09",
            "10eba9369e0b47ba960601893035b1ea",
            "29163186bf8a4e6bb006db93aadbf0a1",
            "c2f09f5f2a1149cfa64e3a6440699e9c",
            "67d31bcb652b4c69ba02f13d3caa231e",
            "dbf0039e0ebb41319b0bfcf68282f99f",
            "96e57a3f76ac474e8c1899afc629fd6f",
            "445f455c22944bbda7ca1f1a5f865503",
            "759dd46e09844ef3a8df0a13dd5f694b",
            "1502024ff3f64b9285226457d40023df",
            "ba977ed7d2974916aa354cda5c11df7e",
            "a6e1b152b2b44320a702e0c80a201651",
            "15b35921cb834e1c962e80da486c0546",
            "75aedd5d1bba441795a0366db0b646af",
            "6eaf564892984cbb9ef8df6f1b1324fa",
            "aea613e3332d4ab0a3f0f41557d9e2b1",
            "701b5ff5e5b64264acf6d3f2027c82da",
            "3d2ebe71414a46b6a6cf50335126ace5",
            "7ded75fb725e4ef68933ab319394d3b0",
            "e530becd63ee4115b5f4cb7039d0ed9f",
            "02f4acb37f0e40ba86136eed12e27114",
            "2439875ed8f245e8880f8a8d56f937af",
            "1ebcbacc56994cb6912eebeb6fd3c1de",
            "5b0682ef42924d72882c0d7606a5ad96",
            "db140f4dbcb8482589a0cf7fb743d68c",
            "6145b3c5000d4b2c8d28e4e78c615f2e",
            "79c410d4c6c643c99238594ad6de986d",
            "c5976f20913741989f616ea53ab7aeea",
            "327b8f9a7f3248ff88f0f44962058bd9",
            "8aeca1bf54d443df9740687a26621646",
            "ecfe81590eb84e319e6478bd6d2c24bc",
            "f50713bb4f104ed0b3b1dccbcf2dfbe9",
            "838c2a40e6d741799c668c3253d22cef",
            "2c9cb26c57914f308f8431a191a0cc8a",
            "1635c35a4f8e47f3bc1897ad0136a44d",
            "1cad5490fcb640bab78de9492b27db54",
            "6be2fe91d5af47a1a3919e90a4ac0db2",
            "25681610260649e1a8f1f852061d36f0",
            "2b1db9c9617a439b8f6f12a148d98f3e",
            "6619ed7abc4d46b8bda0904833e04bac",
            "c9cda8f10e444cf493350e87e1a4be3d",
            "8666e5137403425ca0705e5738069f57",
            "c5b33e31a78c4091920f46fb88d7d08c",
            "1c8ba23e2fb24dae980fbb25191d358f",
            "740f95c73803468c8ff10f4198f25616",
            "584ea95959354735aeda78fef34e3b09",
            "3678eb4dcb484f8bb44f6d1ab1f9d622",
            "10af9b7d0a2e4524a7822282eece73b8",
            "1c6b807d24b94e7ab0387b050f8cc72d"
          ]
        },
        "outputId": "060c92f9-1be6-467c-d0b6-de5ccb8c8911",
        "id": "a-TXayzh7ib8"
      },
      "outputs": [
        {
          "output_type": "display_data",
          "data": {
            "text/plain": [
              "Downloading builder script:   0%|          | 0.00/5.36k [00:00<?, ?B/s]"
            ],
            "application/vnd.jupyter.widget-view+json": {
              "version_major": 2,
              "version_minor": 0,
              "model_id": "4f570b1da9c749abac568fc3133b074d"
            }
          },
          "metadata": {}
        },
        {
          "output_type": "display_data",
          "data": {
            "text/plain": [
              "Downloading metadata:   0%|          | 0.00/116k [00:00<?, ?B/s]"
            ],
            "application/vnd.jupyter.widget-view+json": {
              "version_major": 2,
              "version_minor": 0,
              "model_id": "dbf0039e0ebb41319b0bfcf68282f99f"
            }
          },
          "metadata": {}
        },
        {
          "output_type": "display_data",
          "data": {
            "text/plain": [
              "Downloading readme:   0%|          | 0.00/20.9k [00:00<?, ?B/s]"
            ],
            "application/vnd.jupyter.widget-view+json": {
              "version_major": 2,
              "version_minor": 0,
              "model_id": "701b5ff5e5b64264acf6d3f2027c82da"
            }
          },
          "metadata": {}
        },
        {
          "output_type": "stream",
          "name": "stdout",
          "text": [
            "Downloading and preparing dataset news_commentary/en-es to /root/.cache/huggingface/datasets/news_commentary/en-es/11.0.0/cfab724ce975dc2da51cdae45302389860badc88b74db8570d561ced6004f8b4...\n"
          ]
        },
        {
          "output_type": "display_data",
          "data": {
            "text/plain": [
              "Downloading data:   0%|          | 0.00/28.1M [00:00<?, ?B/s]"
            ],
            "application/vnd.jupyter.widget-view+json": {
              "version_major": 2,
              "version_minor": 0,
              "model_id": "c5976f20913741989f616ea53ab7aeea"
            }
          },
          "metadata": {}
        },
        {
          "output_type": "display_data",
          "data": {
            "text/plain": [
              "Generating train split:   0%|          | 0/238872 [00:00<?, ? examples/s]"
            ],
            "application/vnd.jupyter.widget-view+json": {
              "version_major": 2,
              "version_minor": 0,
              "model_id": "2b1db9c9617a439b8f6f12a148d98f3e"
            }
          },
          "metadata": {}
        },
        {
          "output_type": "stream",
          "name": "stdout",
          "text": [
            "Dataset news_commentary downloaded and prepared to /root/.cache/huggingface/datasets/news_commentary/en-es/11.0.0/cfab724ce975dc2da51cdae45302389860badc88b74db8570d561ced6004f8b4. Subsequent calls will reuse this data.\n"
          ]
        },
        {
          "output_type": "stream",
          "name": "stderr",
          "text": [
            "WARNING:datasets.builder:Found cached dataset news_commentary (/root/.cache/huggingface/datasets/news_commentary/en-es/11.0.0/cfab724ce975dc2da51cdae45302389860badc88b74db8570d561ced6004f8b4)\n"
          ]
        }
      ],
      "source": [
        "en_es_train = load_dataset('news_commentary','en-es',split='train[:50%]')['translation']\n",
        "en_es_validation = load_dataset('news_commentary','en-es',split='train[50%:]')['translation']\n",
        "en_es_val = random.sample(en_es_validation,5000)"
      ]
    },
    {
      "cell_type": "code",
      "execution_count": null,
      "metadata": {
        "id": "nveutzkC7ib8"
      },
      "outputs": [],
      "source": [
        "train_file = 'drive/MyDrive/W266/en_es/en_es_train.csv'\n",
        "valid_file = 'drive/MyDrive/W266/en_es/en_es_val.csv'\n",
        "# test_file = 'drive/MyDrive/W266/zh_es_test.csv'\n",
        "\n",
        "\n",
        "pd.DataFrame(en_es_train).to_csv(train_file)\n",
        "pd.DataFrame(en_es_val).to_csv(valid_file)\n",
        "# pd.DataFrame(zh_es_test).to_csv(test_file)"
      ]
    },
    {
      "cell_type": "code",
      "source": [
        "df_train = pd.read_csv(train_file)\n",
        "df_valid = pd.read_csv(valid_file)\n",
        "# df_test = pd.read_csv(test_file)"
      ],
      "metadata": {
        "id": "pq5rYFQg7ib8"
      },
      "execution_count": null,
      "outputs": []
    },
    {
      "cell_type": "code",
      "source": [
        "df_train.shape"
      ],
      "metadata": {
        "colab": {
          "base_uri": "https://localhost:8080/"
        },
        "id": "D_2K4OAZ89Vh",
        "outputId": "0c34f3b8-a48f-4f14-a1ab-c2bd5b6bdb58"
      },
      "execution_count": null,
      "outputs": [
        {
          "output_type": "execute_result",
          "data": {
            "text/plain": [
              "(119436, 3)"
            ]
          },
          "metadata": {},
          "execution_count": 10
        }
      ]
    },
    {
      "cell_type": "code",
      "source": [
        "def preprocess_data(text_pair, tokenizer, max_length=50):\n",
        "    # For normal sequence\n",
        "    orig_text,target_text = text_pair\n",
        "    \n",
        "    orig_encoded = tokenizer.batch_encode_plus(\n",
        "        [orig_text],\n",
        "        max_length=max_length,\n",
        "        padding='max_length',\n",
        "        truncation=True,\n",
        "        return_attention_mask=True,\n",
        "        return_tensors='pt'\n",
        "    )\n",
        "\n",
        "    orig_input_ids = orig_encoded['input_ids'][0]\n",
        "    orig_attention_mask = orig_encoded['attention_mask'][0]\n",
        "    \n",
        "    target_encoded = tokenizer.batch_encode_plus(\n",
        "        [target_text],\n",
        "        max_length=max_length,\n",
        "        padding='max_length',\n",
        "        truncation=True,\n",
        "        return_attention_mask=True,\n",
        "        return_tensors='pt'\n",
        "    )\n",
        "    \n",
        "    label_ids = target_encoded['input_ids'][0]\n",
        "    \n",
        "    return {'input_ids': orig_input_ids,\n",
        "            'attention_mask': orig_attention_mask,\n",
        "            'labels': label_ids}"
      ],
      "metadata": {
        "id": "Nth64sxd7ib8"
      },
      "execution_count": null,
      "outputs": []
    },
    {
      "cell_type": "code",
      "execution_count": null,
      "metadata": {
        "id": "h8S2oCmM7ib8"
      },
      "outputs": [],
      "source": [
        "class TranslationDataIterator:\n",
        "    \n",
        "    def __init__(self,\n",
        "                 tokenizer,\n",
        "                 n_examples,\n",
        "                 data_filename,\n",
        "                 max_length=128,\n",
        "                 shuffle=True):\n",
        "        \n",
        "        self.tokenizer = tokenizer\n",
        "        self.n_examples = n_examples\n",
        "        self.data_filename = data_filename\n",
        "        self.max_length = max_length\n",
        "        self.shuffle = shuffle\n",
        "        \n",
        "        # Initialize row order, call on_epoch_end to shuffle row indices\n",
        "        self.row_order = np.arange(1, self.n_examples+1)\n",
        "        self.on_epoch_end()\n",
        "    \n",
        "    def __len__(self):\n",
        "        return self.n_examples\n",
        "    \n",
        "    def __getitem__(self, idx):\n",
        "        row_to_load = self.row_order[idx]\n",
        "        df = pd.read_csv(self.data_filename,\n",
        "                         skiprows=range(1, row_to_load),\n",
        "                         nrows=1)\n",
        "        \n",
        "        text_pair = df[['en', 'es']].values.astype(str)[0]\n",
        "        \n",
        "        item_data = preprocess_data(\n",
        "            text_pair,\n",
        "            self.tokenizer,\n",
        "            self.max_length\n",
        "        )\n",
        "\n",
        "        return item_data\n",
        "    \n",
        "    def __call__(self):\n",
        "        for i in range(self.__len__()):\n",
        "            yield self.__getitem__(i)\n",
        "            \n",
        "            if i == self.__len__()-1:\n",
        "                self.on_epoch_end()\n",
        "    \n",
        "    def on_epoch_end(self):\n",
        "        if self.shuffle:\n",
        "            self.row_order = list(np.random.permutation(self.row_order))"
      ]
    },
    {
      "cell_type": "markdown",
      "source": [
        "#### 3.5.1 Baseline"
      ],
      "metadata": {
        "id": "nohUGqjq7ib8"
      }
    },
    {
      "cell_type": "code",
      "source": [
        "df_baseline_list = df_valid['en'].tolist()\n",
        "df_baseline_label = df_valid['es'].tolist()"
      ],
      "metadata": {
        "id": "s11MFqAo7ib9"
      },
      "execution_count": null,
      "outputs": []
    },
    {
      "cell_type": "code",
      "source": [
        "eval_score = []\n",
        "step = 100\n",
        "\n",
        "for row_index in range(4000,len(df_baseline_list),step):\n",
        "  \n",
        "  print(f\"Processing row_index: {row_index}\")\n",
        "\n",
        "  if os.path.isfile(f\"drive/MyDrive/W266/en_es/baseline/en_es_baseline_{row_index}.csv\"):\n",
        "    print(f\"  row_index {row_index} exist, continue...\")\n",
        "    continue\n",
        "  else:\n",
        "\n",
        "    curr_input = df_baseline_list[row_index: row_index + step]\n",
        "    curr_label = df_baseline_label[row_index: row_index + step]\n",
        "\n",
        "    print(\"Begin current loop:\", row_index)\n",
        "\n",
        "    encoded_en = m2m_tokenizer(curr_input, \n",
        "                          padding = True,\n",
        "                          max_length=50,\n",
        "                          truncation=True,\n",
        "                          return_tensors='pt')\n",
        "    generated_tokens = m2m_model.generate(**encoded_en, forced_bos_token_id=m2m_tokenizer.get_lang_id(\"es\"))\n",
        "    curr_output = m2m_tokenizer.batch_decode(generated_tokens, skip_special_tokens=True)\n",
        "\n",
        "    ### Compute BLEURT score\n",
        "    bleurt_label = [[label] for label in curr_label]\n",
        "    curr_bleurt_score = bleurt_metric.compute(predictions=curr_output, references=bleurt_label)\n",
        "\n",
        "    eval_score.append(curr_bleurt_score['scores'])\n",
        "\n",
        "    \n",
        "    df_output = pd.DataFrame(eval_score)\n",
        "    df_output.to_csv(f'drive/MyDrive/W266/en_es/baseline/en_es_baseline_{row_index}.csv', sep=',', index=False)"
      ],
      "metadata": {
        "colab": {
          "base_uri": "https://localhost:8080/"
        },
        "outputId": "783d2f56-2dfc-4e1b-e2fd-1ec992a200ae",
        "id": "XvaIQLMu7ib9"
      },
      "execution_count": null,
      "outputs": [
        {
          "output_type": "stream",
          "name": "stdout",
          "text": [
            "Processing row_index: 4000\n",
            "Begin current loop: 4000\n"
          ]
        },
        {
          "output_type": "stream",
          "name": "stderr",
          "text": [
            "/usr/local/lib/python3.7/dist-packages/transformers/generation_utils.py:1364: UserWarning: Neither `max_length` nor `max_new_tokens` has been set, `max_length` will default to 200 (`self.config.max_length`). Controlling `max_length` via the config is deprecated and `max_length` will be removed from the config in v5 of Transformers -- we recommend using `max_new_tokens` to control the maximum length of the generation.\n",
            "  UserWarning,\n"
          ]
        },
        {
          "output_type": "stream",
          "name": "stdout",
          "text": [
            "Processing row_index: 4100\n",
            "Begin current loop: 4100\n",
            "Processing row_index: 4200\n",
            "Begin current loop: 4200\n",
            "Processing row_index: 4300\n",
            "Begin current loop: 4300\n",
            "Processing row_index: 4400\n",
            "Begin current loop: 4400\n",
            "Processing row_index: 4500\n",
            "Begin current loop: 4500\n",
            "Processing row_index: 4600\n",
            "Begin current loop: 4600\n",
            "Processing row_index: 4700\n",
            "Begin current loop: 4700\n",
            "Processing row_index: 4800\n",
            "Begin current loop: 4800\n",
            "Processing row_index: 4900\n",
            "Begin current loop: 4900\n"
          ]
        }
      ]
    },
    {
      "cell_type": "markdown",
      "source": [
        "#### 3.5.2 Fine tune model"
      ],
      "metadata": {
        "id": "Iklas9U-7ib9"
      }
    },
    {
      "cell_type": "code",
      "execution_count": null,
      "metadata": {
        "id": "0BCz0Rn87ib9"
      },
      "outputs": [],
      "source": [
        "max_length = 128\n",
        "\n",
        "train_data_iterator = TranslationDataIterator(\n",
        "    tokenizer=m2m_tokenizer,\n",
        "    n_examples=len(en_es_train),\n",
        "    data_filename=train_file,\n",
        "    max_length=max_length\n",
        ")\n",
        "\n",
        "valid_data_iterator = TranslationDataIterator(\n",
        "    tokenizer=m2m_tokenizer,\n",
        "    n_examples=len(en_es_val),\n",
        "    data_filename=valid_file,\n",
        "    max_length=max_length\n",
        ")"
      ]
    },
    {
      "cell_type": "code",
      "source": [
        "srg_lang = 'en'\n",
        "tgt_lang = 'es'\n",
        "\n",
        "# Modify this filepath to where you want to save the model after fine-tuning\n",
        "dir_path = 'drive/MyDrive/W266/en_es/new_model/'\n",
        "file_path = dir_path + f'M2M100_news_commentary_{srg_lang}_{tgt_lang}'"
      ],
      "metadata": {
        "id": "10j2wrZR7ib9"
      },
      "execution_count": null,
      "outputs": []
    },
    {
      "cell_type": "code",
      "execution_count": null,
      "metadata": {
        "id": "o7awHVdm7ib9"
      },
      "outputs": [],
      "source": [
        "# Specify batch size and other training arguments\n",
        "\n",
        "batch_size = 8\n",
        "\n",
        "args = Seq2SeqTrainingArguments(\n",
        "    file_path,\n",
        "    evaluation_strategy='epoch',\n",
        "    per_device_train_batch_size=batch_size,\n",
        "    per_device_eval_batch_size=batch_size,\n",
        "    num_train_epochs=1,\n",
        ")"
      ]
    },
    {
      "cell_type": "code",
      "execution_count": null,
      "metadata": {
        "id": "S5-xsLg17ib9"
      },
      "outputs": [],
      "source": [
        "# Define the trainer, passing in the model, training args, and data generators\n",
        "\n",
        "trainer = Seq2SeqTrainer(\n",
        "    m2m_model,\n",
        "    args,\n",
        "    train_dataset=train_data_iterator,\n",
        "    eval_dataset=valid_data_iterator\n",
        ")"
      ]
    },
    {
      "cell_type": "code",
      "execution_count": null,
      "metadata": {
        "id": "M0T4BvZh7ib9",
        "colab": {
          "base_uri": "https://localhost:8080/",
          "height": 1000
        },
        "outputId": "c1072e49-4b19-434c-ebc8-a512b4919f11"
      },
      "outputs": [
        {
          "output_type": "stream",
          "name": "stderr",
          "text": [
            "/usr/local/lib/python3.7/dist-packages/transformers/optimization.py:310: FutureWarning: This implementation of AdamW is deprecated and will be removed in a future version. Use the PyTorch implementation torch.optim.AdamW instead, or set `no_deprecation_warning=True` to disable this warning\n",
            "  FutureWarning,\n",
            "***** Running training *****\n",
            "  Num examples = 119436\n",
            "  Num Epochs = 1\n",
            "  Instantaneous batch size per device = 8\n",
            "  Total train batch size (w. parallel, distributed & accumulation) = 8\n",
            "  Gradient Accumulation steps = 1\n",
            "  Total optimization steps = 14930\n",
            "  Number of trainable parameters = 483905536\n"
          ]
        },
        {
          "output_type": "display_data",
          "data": {
            "text/plain": [
              "<IPython.core.display.HTML object>"
            ],
            "text/html": [
              "\n",
              "    <div>\n",
              "      \n",
              "      <progress value='14930' max='14930' style='width:300px; height:20px; vertical-align: middle;'></progress>\n",
              "      [14930/14930 5:43:52, Epoch 1/1]\n",
              "    </div>\n",
              "    <table border=\"1\" class=\"dataframe\">\n",
              "  <thead>\n",
              " <tr style=\"text-align: left;\">\n",
              "      <th>Epoch</th>\n",
              "      <th>Training Loss</th>\n",
              "      <th>Validation Loss</th>\n",
              "    </tr>\n",
              "  </thead>\n",
              "  <tbody>\n",
              "    <tr>\n",
              "      <td>1</td>\n",
              "      <td>0.298000</td>\n",
              "      <td>0.290281</td>\n",
              "    </tr>\n",
              "  </tbody>\n",
              "</table><p>"
            ]
          },
          "metadata": {}
        },
        {
          "output_type": "stream",
          "name": "stderr",
          "text": [
            "Saving model checkpoint to drive/MyDrive/W266/en_es/new_model/M2M100_news_commentary_en_es/checkpoint-500\n",
            "Configuration saved in drive/MyDrive/W266/en_es/new_model/M2M100_news_commentary_en_es/checkpoint-500/config.json\n",
            "Model weights saved in drive/MyDrive/W266/en_es/new_model/M2M100_news_commentary_en_es/checkpoint-500/pytorch_model.bin\n",
            "Saving model checkpoint to drive/MyDrive/W266/en_es/new_model/M2M100_news_commentary_en_es/checkpoint-1000\n",
            "Configuration saved in drive/MyDrive/W266/en_es/new_model/M2M100_news_commentary_en_es/checkpoint-1000/config.json\n",
            "Model weights saved in drive/MyDrive/W266/en_es/new_model/M2M100_news_commentary_en_es/checkpoint-1000/pytorch_model.bin\n",
            "Saving model checkpoint to drive/MyDrive/W266/en_es/new_model/M2M100_news_commentary_en_es/checkpoint-1500\n",
            "Configuration saved in drive/MyDrive/W266/en_es/new_model/M2M100_news_commentary_en_es/checkpoint-1500/config.json\n",
            "Model weights saved in drive/MyDrive/W266/en_es/new_model/M2M100_news_commentary_en_es/checkpoint-1500/pytorch_model.bin\n",
            "Saving model checkpoint to drive/MyDrive/W266/en_es/new_model/M2M100_news_commentary_en_es/checkpoint-2000\n",
            "Configuration saved in drive/MyDrive/W266/en_es/new_model/M2M100_news_commentary_en_es/checkpoint-2000/config.json\n",
            "Model weights saved in drive/MyDrive/W266/en_es/new_model/M2M100_news_commentary_en_es/checkpoint-2000/pytorch_model.bin\n",
            "Saving model checkpoint to drive/MyDrive/W266/en_es/new_model/M2M100_news_commentary_en_es/checkpoint-2500\n",
            "Configuration saved in drive/MyDrive/W266/en_es/new_model/M2M100_news_commentary_en_es/checkpoint-2500/config.json\n",
            "Model weights saved in drive/MyDrive/W266/en_es/new_model/M2M100_news_commentary_en_es/checkpoint-2500/pytorch_model.bin\n",
            "Saving model checkpoint to drive/MyDrive/W266/en_es/new_model/M2M100_news_commentary_en_es/checkpoint-3000\n",
            "Configuration saved in drive/MyDrive/W266/en_es/new_model/M2M100_news_commentary_en_es/checkpoint-3000/config.json\n",
            "Model weights saved in drive/MyDrive/W266/en_es/new_model/M2M100_news_commentary_en_es/checkpoint-3000/pytorch_model.bin\n",
            "Saving model checkpoint to drive/MyDrive/W266/en_es/new_model/M2M100_news_commentary_en_es/checkpoint-3500\n",
            "Configuration saved in drive/MyDrive/W266/en_es/new_model/M2M100_news_commentary_en_es/checkpoint-3500/config.json\n",
            "Model weights saved in drive/MyDrive/W266/en_es/new_model/M2M100_news_commentary_en_es/checkpoint-3500/pytorch_model.bin\n",
            "Saving model checkpoint to drive/MyDrive/W266/en_es/new_model/M2M100_news_commentary_en_es/checkpoint-4000\n",
            "Configuration saved in drive/MyDrive/W266/en_es/new_model/M2M100_news_commentary_en_es/checkpoint-4000/config.json\n",
            "Model weights saved in drive/MyDrive/W266/en_es/new_model/M2M100_news_commentary_en_es/checkpoint-4000/pytorch_model.bin\n",
            "Saving model checkpoint to drive/MyDrive/W266/en_es/new_model/M2M100_news_commentary_en_es/checkpoint-4500\n",
            "Configuration saved in drive/MyDrive/W266/en_es/new_model/M2M100_news_commentary_en_es/checkpoint-4500/config.json\n",
            "Model weights saved in drive/MyDrive/W266/en_es/new_model/M2M100_news_commentary_en_es/checkpoint-4500/pytorch_model.bin\n",
            "Saving model checkpoint to drive/MyDrive/W266/en_es/new_model/M2M100_news_commentary_en_es/checkpoint-5000\n",
            "Configuration saved in drive/MyDrive/W266/en_es/new_model/M2M100_news_commentary_en_es/checkpoint-5000/config.json\n",
            "Model weights saved in drive/MyDrive/W266/en_es/new_model/M2M100_news_commentary_en_es/checkpoint-5000/pytorch_model.bin\n",
            "Saving model checkpoint to drive/MyDrive/W266/en_es/new_model/M2M100_news_commentary_en_es/checkpoint-5500\n",
            "Configuration saved in drive/MyDrive/W266/en_es/new_model/M2M100_news_commentary_en_es/checkpoint-5500/config.json\n",
            "Model weights saved in drive/MyDrive/W266/en_es/new_model/M2M100_news_commentary_en_es/checkpoint-5500/pytorch_model.bin\n",
            "Saving model checkpoint to drive/MyDrive/W266/en_es/new_model/M2M100_news_commentary_en_es/checkpoint-6000\n",
            "Configuration saved in drive/MyDrive/W266/en_es/new_model/M2M100_news_commentary_en_es/checkpoint-6000/config.json\n",
            "Model weights saved in drive/MyDrive/W266/en_es/new_model/M2M100_news_commentary_en_es/checkpoint-6000/pytorch_model.bin\n",
            "Saving model checkpoint to drive/MyDrive/W266/en_es/new_model/M2M100_news_commentary_en_es/checkpoint-6500\n",
            "Configuration saved in drive/MyDrive/W266/en_es/new_model/M2M100_news_commentary_en_es/checkpoint-6500/config.json\n",
            "Model weights saved in drive/MyDrive/W266/en_es/new_model/M2M100_news_commentary_en_es/checkpoint-6500/pytorch_model.bin\n",
            "Saving model checkpoint to drive/MyDrive/W266/en_es/new_model/M2M100_news_commentary_en_es/checkpoint-7000\n",
            "Configuration saved in drive/MyDrive/W266/en_es/new_model/M2M100_news_commentary_en_es/checkpoint-7000/config.json\n",
            "Model weights saved in drive/MyDrive/W266/en_es/new_model/M2M100_news_commentary_en_es/checkpoint-7000/pytorch_model.bin\n",
            "Saving model checkpoint to drive/MyDrive/W266/en_es/new_model/M2M100_news_commentary_en_es/checkpoint-7500\n",
            "Configuration saved in drive/MyDrive/W266/en_es/new_model/M2M100_news_commentary_en_es/checkpoint-7500/config.json\n",
            "Model weights saved in drive/MyDrive/W266/en_es/new_model/M2M100_news_commentary_en_es/checkpoint-7500/pytorch_model.bin\n",
            "Saving model checkpoint to drive/MyDrive/W266/en_es/new_model/M2M100_news_commentary_en_es/checkpoint-8000\n",
            "Configuration saved in drive/MyDrive/W266/en_es/new_model/M2M100_news_commentary_en_es/checkpoint-8000/config.json\n",
            "Model weights saved in drive/MyDrive/W266/en_es/new_model/M2M100_news_commentary_en_es/checkpoint-8000/pytorch_model.bin\n",
            "Saving model checkpoint to drive/MyDrive/W266/en_es/new_model/M2M100_news_commentary_en_es/checkpoint-8500\n",
            "Configuration saved in drive/MyDrive/W266/en_es/new_model/M2M100_news_commentary_en_es/checkpoint-8500/config.json\n",
            "Model weights saved in drive/MyDrive/W266/en_es/new_model/M2M100_news_commentary_en_es/checkpoint-8500/pytorch_model.bin\n",
            "Saving model checkpoint to drive/MyDrive/W266/en_es/new_model/M2M100_news_commentary_en_es/checkpoint-9000\n",
            "Configuration saved in drive/MyDrive/W266/en_es/new_model/M2M100_news_commentary_en_es/checkpoint-9000/config.json\n",
            "Model weights saved in drive/MyDrive/W266/en_es/new_model/M2M100_news_commentary_en_es/checkpoint-9000/pytorch_model.bin\n",
            "Saving model checkpoint to drive/MyDrive/W266/en_es/new_model/M2M100_news_commentary_en_es/checkpoint-9500\n",
            "Configuration saved in drive/MyDrive/W266/en_es/new_model/M2M100_news_commentary_en_es/checkpoint-9500/config.json\n",
            "Model weights saved in drive/MyDrive/W266/en_es/new_model/M2M100_news_commentary_en_es/checkpoint-9500/pytorch_model.bin\n",
            "Saving model checkpoint to drive/MyDrive/W266/en_es/new_model/M2M100_news_commentary_en_es/checkpoint-10000\n",
            "Configuration saved in drive/MyDrive/W266/en_es/new_model/M2M100_news_commentary_en_es/checkpoint-10000/config.json\n",
            "Model weights saved in drive/MyDrive/W266/en_es/new_model/M2M100_news_commentary_en_es/checkpoint-10000/pytorch_model.bin\n",
            "Saving model checkpoint to drive/MyDrive/W266/en_es/new_model/M2M100_news_commentary_en_es/checkpoint-10500\n",
            "Configuration saved in drive/MyDrive/W266/en_es/new_model/M2M100_news_commentary_en_es/checkpoint-10500/config.json\n",
            "Model weights saved in drive/MyDrive/W266/en_es/new_model/M2M100_news_commentary_en_es/checkpoint-10500/pytorch_model.bin\n",
            "Saving model checkpoint to drive/MyDrive/W266/en_es/new_model/M2M100_news_commentary_en_es/checkpoint-11000\n",
            "Configuration saved in drive/MyDrive/W266/en_es/new_model/M2M100_news_commentary_en_es/checkpoint-11000/config.json\n",
            "Model weights saved in drive/MyDrive/W266/en_es/new_model/M2M100_news_commentary_en_es/checkpoint-11000/pytorch_model.bin\n",
            "Saving model checkpoint to drive/MyDrive/W266/en_es/new_model/M2M100_news_commentary_en_es/checkpoint-11500\n",
            "Configuration saved in drive/MyDrive/W266/en_es/new_model/M2M100_news_commentary_en_es/checkpoint-11500/config.json\n",
            "Model weights saved in drive/MyDrive/W266/en_es/new_model/M2M100_news_commentary_en_es/checkpoint-11500/pytorch_model.bin\n",
            "Saving model checkpoint to drive/MyDrive/W266/en_es/new_model/M2M100_news_commentary_en_es/checkpoint-12000\n",
            "Configuration saved in drive/MyDrive/W266/en_es/new_model/M2M100_news_commentary_en_es/checkpoint-12000/config.json\n",
            "Model weights saved in drive/MyDrive/W266/en_es/new_model/M2M100_news_commentary_en_es/checkpoint-12000/pytorch_model.bin\n",
            "Saving model checkpoint to drive/MyDrive/W266/en_es/new_model/M2M100_news_commentary_en_es/checkpoint-12500\n",
            "Configuration saved in drive/MyDrive/W266/en_es/new_model/M2M100_news_commentary_en_es/checkpoint-12500/config.json\n",
            "Model weights saved in drive/MyDrive/W266/en_es/new_model/M2M100_news_commentary_en_es/checkpoint-12500/pytorch_model.bin\n",
            "Saving model checkpoint to drive/MyDrive/W266/en_es/new_model/M2M100_news_commentary_en_es/checkpoint-13000\n",
            "Configuration saved in drive/MyDrive/W266/en_es/new_model/M2M100_news_commentary_en_es/checkpoint-13000/config.json\n",
            "Model weights saved in drive/MyDrive/W266/en_es/new_model/M2M100_news_commentary_en_es/checkpoint-13000/pytorch_model.bin\n",
            "Saving model checkpoint to drive/MyDrive/W266/en_es/new_model/M2M100_news_commentary_en_es/checkpoint-13500\n",
            "Configuration saved in drive/MyDrive/W266/en_es/new_model/M2M100_news_commentary_en_es/checkpoint-13500/config.json\n",
            "Model weights saved in drive/MyDrive/W266/en_es/new_model/M2M100_news_commentary_en_es/checkpoint-13500/pytorch_model.bin\n",
            "Saving model checkpoint to drive/MyDrive/W266/en_es/new_model/M2M100_news_commentary_en_es/checkpoint-14000\n",
            "Configuration saved in drive/MyDrive/W266/en_es/new_model/M2M100_news_commentary_en_es/checkpoint-14000/config.json\n",
            "Model weights saved in drive/MyDrive/W266/en_es/new_model/M2M100_news_commentary_en_es/checkpoint-14000/pytorch_model.bin\n",
            "Saving model checkpoint to drive/MyDrive/W266/en_es/new_model/M2M100_news_commentary_en_es/checkpoint-14500\n",
            "Configuration saved in drive/MyDrive/W266/en_es/new_model/M2M100_news_commentary_en_es/checkpoint-14500/config.json\n",
            "Model weights saved in drive/MyDrive/W266/en_es/new_model/M2M100_news_commentary_en_es/checkpoint-14500/pytorch_model.bin\n",
            "***** Running Evaluation *****\n",
            "  Num examples = 5000\n",
            "  Batch size = 8\n",
            "\n",
            "\n",
            "Training completed. Do not forget to share your model on huggingface.co/models =)\n",
            "\n",
            "\n"
          ]
        },
        {
          "output_type": "execute_result",
          "data": {
            "text/plain": [
              "TrainOutput(global_step=14930, training_loss=0.36821525251793524, metrics={'train_runtime': 20636.6756, 'train_samples_per_second': 5.788, 'train_steps_per_second': 0.723, 'total_flos': 3.2353788157231104e+16, 'train_loss': 0.36821525251793524, 'epoch': 1.0})"
            ]
          },
          "metadata": {},
          "execution_count": 17
        }
      ],
      "source": [
        "# Call train\n",
        "\n",
        "trainer.train()"
      ]
    },
    {
      "cell_type": "code",
      "source": [
        "trainer.save_model('drive/MyDrive/W266/M2M100_news_commentary_en_es/checkpoint-001')"
      ],
      "metadata": {
        "id": "ooOKbbO47ib9",
        "colab": {
          "base_uri": "https://localhost:8080/"
        },
        "outputId": "3164e10e-e028-403c-acfa-b28aea83e3f9"
      },
      "execution_count": null,
      "outputs": [
        {
          "output_type": "stream",
          "name": "stderr",
          "text": [
            "Saving model checkpoint to drive/MyDrive/W266/M2M100_news_commentary_en_es/checkpoint-001\n",
            "Configuration saved in drive/MyDrive/W266/M2M100_news_commentary_en_es/checkpoint-001/config.json\n",
            "Model weights saved in drive/MyDrive/W266/M2M100_news_commentary_en_es/checkpoint-001/pytorch_model.bin\n"
          ]
        }
      ]
    },
    {
      "cell_type": "code",
      "source": [
        "m2m_model_saved = M2M100ForConditionalGeneration.from_pretrained('drive/MyDrive/W266/M2M100_news_commentary_en_es/checkpoint-001')"
      ],
      "metadata": {
        "id": "W46DVsiH7ib9",
        "colab": {
          "base_uri": "https://localhost:8080/"
        },
        "outputId": "9d1b4254-1480-4c46-bb6b-8a0906a59edc"
      },
      "execution_count": null,
      "outputs": [
        {
          "output_type": "stream",
          "name": "stderr",
          "text": [
            "loading configuration file drive/MyDrive/W266/M2M100_news_commentary_en_es/checkpoint-001/config.json\n",
            "Model config M2M100Config {\n",
            "  \"_name_or_path\": \"facebook/m2m100_418M\",\n",
            "  \"activation_dropout\": 0.0,\n",
            "  \"activation_function\": \"relu\",\n",
            "  \"architectures\": [\n",
            "    \"M2M100ForConditionalGeneration\"\n",
            "  ],\n",
            "  \"attention_dropout\": 0.1,\n",
            "  \"bos_token_id\": 0,\n",
            "  \"d_model\": 1024,\n",
            "  \"decoder_attention_heads\": 16,\n",
            "  \"decoder_ffn_dim\": 4096,\n",
            "  \"decoder_layerdrop\": 0.05,\n",
            "  \"decoder_layers\": 12,\n",
            "  \"decoder_start_token_id\": 2,\n",
            "  \"dropout\": 0.1,\n",
            "  \"early_stopping\": true,\n",
            "  \"encoder_attention_heads\": 16,\n",
            "  \"encoder_ffn_dim\": 4096,\n",
            "  \"encoder_layerdrop\": 0.05,\n",
            "  \"encoder_layers\": 12,\n",
            "  \"eos_token_id\": 2,\n",
            "  \"gradient_checkpointing\": false,\n",
            "  \"init_std\": 0.02,\n",
            "  \"is_encoder_decoder\": true,\n",
            "  \"max_length\": 200,\n",
            "  \"max_position_embeddings\": 1024,\n",
            "  \"model_type\": \"m2m_100\",\n",
            "  \"num_beams\": 5,\n",
            "  \"num_hidden_layers\": 12,\n",
            "  \"pad_token_id\": 1,\n",
            "  \"scale_embedding\": true,\n",
            "  \"torch_dtype\": \"float32\",\n",
            "  \"transformers_version\": \"4.24.0\",\n",
            "  \"use_cache\": true,\n",
            "  \"vocab_size\": 128112\n",
            "}\n",
            "\n",
            "loading weights file drive/MyDrive/W266/M2M100_news_commentary_en_es/checkpoint-001/pytorch_model.bin\n",
            "All model checkpoint weights were used when initializing M2M100ForConditionalGeneration.\n",
            "\n",
            "All the weights of M2M100ForConditionalGeneration were initialized from the model checkpoint at drive/MyDrive/W266/M2M100_news_commentary_en_es/checkpoint-001.\n",
            "If your task is similar to the task the model of the checkpoint was trained on, you can already use M2M100ForConditionalGeneration for predictions without further training.\n"
          ]
        }
      ]
    },
    {
      "cell_type": "code",
      "source": [
        "df_valid_list = df_valid[f'{srg_lang}'].tolist()\n",
        "df_valid_label= df_valid[f'{tgt_lang}'].tolist()"
      ],
      "metadata": {
        "id": "_TmwXzoj7ib9"
      },
      "execution_count": null,
      "outputs": []
    },
    {
      "cell_type": "code",
      "source": [
        "eval_score = []\n",
        "step = 100\n",
        "\n",
        "\n",
        "for row_index in range(0,len(df_valid_list),step):\n",
        "\n",
        "  print(f\"Processing row_index: {row_index}\")\n",
        "\n",
        "  if os.path.isfile(f\"drive/MyDrive/W266/en_es/new_model/en_es_validation_{row_index}.csv\"):\n",
        "    print(f\"  row_index {row_index} exist, continue...\")\n",
        "    continue\n",
        "  else:\n",
        "\n",
        "    curr_input = df_valid_list[row_index: row_index + step]\n",
        "    curr_label = df_valid_label[row_index: row_index + step]\n",
        "\n",
        "\n",
        "    # curr_loop = row_index/step\n",
        "    print(f\"  Processing row_index: {row_index}\")\n",
        "\n",
        "    encoded_en = m2m_tokenizer(curr_input, \n",
        "                          padding = True,\n",
        "                          max_length=50,\n",
        "                          truncation=True,\n",
        "                          return_tensors='pt')\n",
        "    generated_tokens = m2m_model_saved.generate(**encoded_en, forced_bos_token_id=m2m_tokenizer.get_lang_id(f'{tgt_lang}'))\n",
        "    curr_output = m2m_tokenizer.batch_decode(generated_tokens, skip_special_tokens=True)\n",
        "\n",
        "    ### Compute BLEURT score\n",
        "    bleurt_label = [[label] for label in curr_label]\n",
        "    curr_bleurt_score = bleurt_metric.compute(predictions=curr_output, references=bleurt_label)\n",
        "\n",
        "    eval_score.append(curr_bleurt_score['scores'])\n",
        "\n",
        "    \n",
        "    df_output = pd.DataFrame(eval_score)\n",
        "    df_output.to_csv(f'drive/MyDrive/W266/en_es/new_model/en_es_validation_{row_index}.csv', sep=',', index=False)\n",
        "  "
      ],
      "metadata": {
        "id": "8985qBKo7ib9",
        "colab": {
          "base_uri": "https://localhost:8080/"
        },
        "outputId": "0bd82d81-9450-4299-e713-257c36023b07"
      },
      "execution_count": null,
      "outputs": [
        {
          "output_type": "stream",
          "name": "stdout",
          "text": [
            "Processing row_index: 0\n",
            "  Processing row_index: 0\n"
          ]
        },
        {
          "output_type": "stream",
          "name": "stderr",
          "text": [
            "/usr/local/lib/python3.7/dist-packages/transformers/generation_utils.py:1364: UserWarning: Neither `max_length` nor `max_new_tokens` has been set, `max_length` will default to 200 (`self.config.max_length`). Controlling `max_length` via the config is deprecated and `max_length` will be removed from the config in v5 of Transformers -- we recommend using `max_new_tokens` to control the maximum length of the generation.\n",
            "  UserWarning,\n"
          ]
        },
        {
          "output_type": "stream",
          "name": "stdout",
          "text": [
            "Processing row_index: 100\n",
            "  Processing row_index: 100\n",
            "Processing row_index: 200\n",
            "  Processing row_index: 200\n",
            "Processing row_index: 300\n",
            "  Processing row_index: 300\n",
            "Processing row_index: 400\n",
            "  Processing row_index: 400\n",
            "Processing row_index: 500\n",
            "  Processing row_index: 500\n",
            "Processing row_index: 600\n",
            "  Processing row_index: 600\n",
            "Processing row_index: 700\n",
            "  Processing row_index: 700\n",
            "Processing row_index: 800\n",
            "  Processing row_index: 800\n",
            "Processing row_index: 900\n",
            "  Processing row_index: 900\n",
            "Processing row_index: 1000\n",
            "  Processing row_index: 1000\n",
            "Processing row_index: 1100\n",
            "  Processing row_index: 1100\n",
            "Processing row_index: 1200\n",
            "  Processing row_index: 1200\n",
            "Processing row_index: 1300\n",
            "  Processing row_index: 1300\n",
            "Processing row_index: 1400\n",
            "  Processing row_index: 1400\n",
            "Processing row_index: 1500\n",
            "  Processing row_index: 1500\n",
            "Processing row_index: 1600\n",
            "  Processing row_index: 1600\n",
            "Processing row_index: 1700\n",
            "  Processing row_index: 1700\n",
            "Processing row_index: 1800\n",
            "  Processing row_index: 1800\n",
            "Processing row_index: 1900\n",
            "  Processing row_index: 1900\n",
            "Processing row_index: 2000\n",
            "  Processing row_index: 2000\n",
            "Processing row_index: 2100\n",
            "  Processing row_index: 2100\n",
            "Processing row_index: 2200\n",
            "  Processing row_index: 2200\n",
            "Processing row_index: 2300\n",
            "  Processing row_index: 2300\n",
            "Processing row_index: 2400\n",
            "  Processing row_index: 2400\n",
            "Processing row_index: 2500\n",
            "  Processing row_index: 2500\n",
            "Processing row_index: 2600\n",
            "  Processing row_index: 2600\n",
            "Processing row_index: 2700\n",
            "  Processing row_index: 2700\n",
            "Processing row_index: 2800\n",
            "  Processing row_index: 2800\n",
            "Processing row_index: 2900\n",
            "  Processing row_index: 2900\n",
            "Processing row_index: 3000\n",
            "  Processing row_index: 3000\n",
            "Processing row_index: 3100\n",
            "  Processing row_index: 3100\n",
            "Processing row_index: 3200\n",
            "  Processing row_index: 3200\n",
            "Processing row_index: 3300\n",
            "  Processing row_index: 3300\n",
            "Processing row_index: 3400\n",
            "  Processing row_index: 3400\n",
            "Processing row_index: 3500\n",
            "  Processing row_index: 3500\n",
            "Processing row_index: 3600\n",
            "  Processing row_index: 3600\n",
            "Processing row_index: 3700\n",
            "  Processing row_index: 3700\n",
            "Processing row_index: 3800\n",
            "  Processing row_index: 3800\n",
            "Processing row_index: 3900\n",
            "  Processing row_index: 3900\n",
            "Processing row_index: 4000\n",
            "  Processing row_index: 4000\n",
            "Processing row_index: 4100\n",
            "  Processing row_index: 4100\n",
            "Processing row_index: 4200\n",
            "  Processing row_index: 4200\n",
            "Processing row_index: 4300\n",
            "  Processing row_index: 4300\n",
            "Processing row_index: 4400\n",
            "  Processing row_index: 4400\n",
            "Processing row_index: 4500\n",
            "  Processing row_index: 4500\n",
            "Processing row_index: 4600\n",
            "  Processing row_index: 4600\n",
            "Processing row_index: 4700\n",
            "  Processing row_index: 4700\n",
            "Processing row_index: 4800\n",
            "  Processing row_index: 4800\n",
            "Processing row_index: 4900\n",
            "  Processing row_index: 4900\n"
          ]
        }
      ]
    },
    {
      "cell_type": "markdown",
      "source": [
        "### 3.6 ES-EN"
      ],
      "metadata": {
        "id": "zg9a9kA2p3Xe"
      }
    },
    {
      "cell_type": "code",
      "execution_count": null,
      "metadata": {
        "colab": {
          "base_uri": "https://localhost:8080/"
        },
        "outputId": "6186ff45-b0ee-4564-ca6b-744dfa70b34b",
        "id": "m_b-akvGp3Xq"
      },
      "outputs": [
        {
          "output_type": "stream",
          "name": "stderr",
          "text": [
            "WARNING:datasets.builder:Found cached dataset news_commentary (/root/.cache/huggingface/datasets/news_commentary/en-es/11.0.0/cfab724ce975dc2da51cdae45302389860badc88b74db8570d561ced6004f8b4)\n",
            "WARNING:datasets.builder:Found cached dataset news_commentary (/root/.cache/huggingface/datasets/news_commentary/en-es/11.0.0/cfab724ce975dc2da51cdae45302389860badc88b74db8570d561ced6004f8b4)\n"
          ]
        }
      ],
      "source": [
        "es_en_train = load_dataset('news_commentary','en-es',split='train[:50%]')['translation']\n",
        "es_en_validation = load_dataset('news_commentary','en-es',split='train[50%:]')['translation']\n",
        "es_en_val = random.sample(es_en_validation,5000)\n",
        "# zh_es_test = load_dataset('news_commentary','es-zh',split='train[120:140]')['translation']"
      ]
    },
    {
      "cell_type": "code",
      "execution_count": null,
      "metadata": {
        "id": "tcPRGPNkp3Xr"
      },
      "outputs": [],
      "source": [
        "train_file = 'drive/MyDrive/W266/es_en/es_en_train.csv'\n",
        "valid_file = 'drive/MyDrive/W266/es_en/es_en_val.csv'\n",
        "# # test_file = 'drive/MyDrive/W266/zh_es_test.csv'\n",
        "\n",
        "\n",
        "pd.DataFrame(es_en_train).to_csv(train_file)\n",
        "pd.DataFrame(es_en_val).to_csv(valid_file)\n",
        "# pd.DataFrame(zh_es_test).to_csv(test_file)"
      ]
    },
    {
      "cell_type": "code",
      "source": [
        "df_train = pd.read_csv('drive/MyDrive/W266/es_en/es_en_train.csv')\n",
        "df_valid = pd.read_csv('drive/MyDrive/W266/es_en/es_en_val.csv')\n",
        "# df_test = pd.read_csv(test_file)"
      ],
      "metadata": {
        "id": "d2xJ8lBAp3Xr"
      },
      "execution_count": null,
      "outputs": []
    },
    {
      "cell_type": "code",
      "source": [
        "# For reverse sequence \n",
        "def preprocess_data(text_pair, tokenizer, max_length=50):\n",
        "    target_text, orig_text = text_pair\n",
        "    \n",
        "    orig_encoded = tokenizer.batch_encode_plus(\n",
        "        [orig_text],\n",
        "        max_length=max_length,\n",
        "        padding='max_length',\n",
        "        truncation=True,\n",
        "        return_attention_mask=True,\n",
        "        return_tensors='pt'\n",
        "    )\n",
        "\n",
        "    # not sure if the below two lines are needed for m2m100\n",
        "    orig_input_ids = orig_encoded['input_ids'][0]\n",
        "    orig_attention_mask = orig_encoded['attention_mask'][0]\n",
        "    \n",
        "    target_encoded = tokenizer.batch_encode_plus(\n",
        "        [target_text],\n",
        "        max_length=max_length,\n",
        "        padding='max_length',\n",
        "        truncation=True,\n",
        "        return_attention_mask=True,\n",
        "        return_tensors='pt'\n",
        "    )\n",
        "    \n",
        "    label_ids = target_encoded['input_ids'][0]\n",
        "    \n",
        "    return {'input_ids': orig_input_ids,\n",
        "            'attention_mask': orig_attention_mask,\n",
        "            'labels': label_ids}"
      ],
      "metadata": {
        "id": "EXgPzp6ip3Xr"
      },
      "execution_count": null,
      "outputs": []
    },
    {
      "cell_type": "code",
      "execution_count": null,
      "metadata": {
        "id": "ylgLwBIep3Xr"
      },
      "outputs": [],
      "source": [
        "class TranslationDataIterator:\n",
        "    \n",
        "    def __init__(self,\n",
        "                 tokenizer,\n",
        "                 n_examples,\n",
        "                 data_filename,\n",
        "                 max_length=128,\n",
        "                 shuffle=True):\n",
        "        \n",
        "        self.tokenizer = tokenizer\n",
        "        self.n_examples = n_examples\n",
        "        self.data_filename = data_filename\n",
        "        self.max_length = max_length\n",
        "        self.shuffle = shuffle\n",
        "        \n",
        "        # Initialize row order, call on_epoch_end to shuffle row indices\n",
        "        self.row_order = np.arange(1, self.n_examples+1)\n",
        "        self.on_epoch_end()\n",
        "    \n",
        "    def __len__(self):\n",
        "        return self.n_examples\n",
        "    \n",
        "    def __getitem__(self, idx):\n",
        "        row_to_load = self.row_order[idx]\n",
        "        df = pd.read_csv(self.data_filename,\n",
        "                         skiprows=range(1, row_to_load),\n",
        "                         nrows=1)\n",
        "        \n",
        "        text_pair = df[['en', 'es']].values.astype(str)[0]\n",
        "        \n",
        "        item_data = preprocess_data(\n",
        "            text_pair,\n",
        "            self.tokenizer,\n",
        "            self.max_length\n",
        "        )\n",
        "\n",
        "        return item_data\n",
        "    \n",
        "    def __call__(self):\n",
        "        for i in range(self.__len__()):\n",
        "            yield self.__getitem__(i)\n",
        "            \n",
        "            if i == self.__len__()-1:\n",
        "                self.on_epoch_end()\n",
        "    \n",
        "    def on_epoch_end(self):\n",
        "        if self.shuffle:\n",
        "            self.row_order = list(np.random.permutation(self.row_order))"
      ]
    },
    {
      "cell_type": "markdown",
      "source": [
        "#### 3.6.1 Baseline"
      ],
      "metadata": {
        "id": "gVDmU5n3p3Xr"
      }
    },
    {
      "cell_type": "code",
      "source": [
        "df_baseline_list = df_valid['es'].tolist()\n",
        "df_baseline_label = df_valid['en'].tolist()"
      ],
      "metadata": {
        "id": "pSUDGSjSp3Xr"
      },
      "execution_count": null,
      "outputs": []
    },
    {
      "cell_type": "code",
      "source": [
        "eval_score = []\n",
        "step = 100\n",
        "\n",
        "for row_index in range(0,len(df_baseline_list),step):\n",
        "  \n",
        "  print(f\"Processing row_index: {row_index}\")\n",
        "\n",
        "  if os.path.isfile(f\"drive/MyDrive/W266/es_en/baseline/es_en_base_{row_index}.csv\"):\n",
        "    print(f\"  row_index {row_index} exist, continue...\")\n",
        "    continue\n",
        "  else:\n",
        "\n",
        "    curr_input = df_baseline_list[row_index: row_index + step]\n",
        "    curr_label = df_baseline_label[row_index: row_index + step]\n",
        "\n",
        "    print(\"Begin current loop:\", row_index)\n",
        "\n",
        "    encoded_en = m2m_tokenizer(curr_input, \n",
        "                          padding = True,\n",
        "                          max_length=50,\n",
        "                          truncation=True,\n",
        "                          return_tensors='pt')\n",
        "    generated_tokens = m2m_model.generate(**encoded_en, forced_bos_token_id=m2m_tokenizer.get_lang_id(\"en\"))\n",
        "    curr_output = m2m_tokenizer.batch_decode(generated_tokens, skip_special_tokens=True)\n",
        "\n",
        "    ### Compute BLEURT score\n",
        "    bleurt_label = [[label] for label in curr_label]\n",
        "    curr_bleurt_score = bleurt_metric.compute(predictions=curr_output, references=bleurt_label)\n",
        "\n",
        "    eval_score.append(curr_bleurt_score['scores'])\n",
        "\n",
        "    \n",
        "    df_output = pd.DataFrame(eval_score)\n",
        "    df_output.to_csv(f'drive/MyDrive/W266/es_en/baseline/es_en_base_{row_index}.csv', sep=',', index=False)\n",
        "  "
      ],
      "metadata": {
        "colab": {
          "base_uri": "https://localhost:8080/"
        },
        "outputId": "4faecea7-0c9c-448d-d920-65ebea719752",
        "id": "Bss5yNfgp3Xr"
      },
      "execution_count": null,
      "outputs": [
        {
          "output_type": "stream",
          "name": "stdout",
          "text": [
            "Processing row_index: 0\n",
            "Begin current loop: 0\n"
          ]
        },
        {
          "output_type": "stream",
          "name": "stderr",
          "text": [
            "/usr/local/lib/python3.7/dist-packages/transformers/generation_utils.py:1364: UserWarning: Neither `max_length` nor `max_new_tokens` has been set, `max_length` will default to 200 (`self.config.max_length`). Controlling `max_length` via the config is deprecated and `max_length` will be removed from the config in v5 of Transformers -- we recommend using `max_new_tokens` to control the maximum length of the generation.\n",
            "  UserWarning,\n"
          ]
        },
        {
          "output_type": "stream",
          "name": "stdout",
          "text": [
            "Processing row_index: 100\n",
            "Begin current loop: 100\n",
            "Processing row_index: 200\n",
            "Begin current loop: 200\n",
            "Processing row_index: 300\n",
            "Begin current loop: 300\n",
            "Processing row_index: 400\n",
            "Begin current loop: 400\n",
            "Processing row_index: 500\n",
            "Begin current loop: 500\n",
            "Processing row_index: 600\n",
            "Begin current loop: 600\n",
            "Processing row_index: 700\n",
            "Begin current loop: 700\n",
            "Processing row_index: 800\n",
            "Begin current loop: 800\n",
            "Processing row_index: 900\n",
            "Begin current loop: 900\n",
            "Processing row_index: 1000\n",
            "Begin current loop: 1000\n",
            "Processing row_index: 1100\n",
            "Begin current loop: 1100\n",
            "Processing row_index: 1200\n",
            "Begin current loop: 1200\n",
            "Processing row_index: 1300\n",
            "Begin current loop: 1300\n",
            "Processing row_index: 1400\n",
            "Begin current loop: 1400\n",
            "Processing row_index: 1500\n",
            "Begin current loop: 1500\n",
            "Processing row_index: 1600\n",
            "Begin current loop: 1600\n",
            "Processing row_index: 1700\n",
            "Begin current loop: 1700\n",
            "Processing row_index: 1800\n",
            "Begin current loop: 1800\n",
            "Processing row_index: 1900\n",
            "Begin current loop: 1900\n",
            "Processing row_index: 2000\n",
            "Begin current loop: 2000\n",
            "Processing row_index: 2100\n",
            "Begin current loop: 2100\n",
            "Processing row_index: 2200\n",
            "Begin current loop: 2200\n",
            "Processing row_index: 2300\n",
            "Begin current loop: 2300\n",
            "Processing row_index: 2400\n",
            "Begin current loop: 2400\n",
            "Processing row_index: 2500\n",
            "Begin current loop: 2500\n",
            "Processing row_index: 2600\n",
            "Begin current loop: 2600\n",
            "Processing row_index: 2700\n",
            "Begin current loop: 2700\n",
            "Processing row_index: 2800\n",
            "Begin current loop: 2800\n",
            "Processing row_index: 2900\n",
            "Begin current loop: 2900\n",
            "Processing row_index: 3000\n",
            "Begin current loop: 3000\n",
            "Processing row_index: 3100\n",
            "Begin current loop: 3100\n",
            "Processing row_index: 3200\n",
            "Begin current loop: 3200\n",
            "Processing row_index: 3300\n",
            "Begin current loop: 3300\n",
            "Processing row_index: 3400\n",
            "Begin current loop: 3400\n",
            "Processing row_index: 3500\n",
            "Begin current loop: 3500\n",
            "Processing row_index: 3600\n",
            "Begin current loop: 3600\n",
            "Processing row_index: 3700\n",
            "Begin current loop: 3700\n",
            "Processing row_index: 3800\n",
            "Begin current loop: 3800\n",
            "Processing row_index: 3900\n",
            "Begin current loop: 3900\n",
            "Processing row_index: 4000\n",
            "Begin current loop: 4000\n",
            "Processing row_index: 4100\n",
            "Begin current loop: 4100\n",
            "Processing row_index: 4200\n",
            "Begin current loop: 4200\n",
            "Processing row_index: 4300\n",
            "Begin current loop: 4300\n",
            "Processing row_index: 4400\n",
            "Begin current loop: 4400\n",
            "Processing row_index: 4500\n",
            "Begin current loop: 4500\n",
            "Processing row_index: 4600\n",
            "Begin current loop: 4600\n",
            "Processing row_index: 4700\n",
            "Begin current loop: 4700\n",
            "Processing row_index: 4800\n",
            "Begin current loop: 4800\n",
            "Processing row_index: 4900\n",
            "Begin current loop: 4900\n"
          ]
        }
      ]
    },
    {
      "cell_type": "markdown",
      "source": [
        "#### 3.6.2 Fine tune model"
      ],
      "metadata": {
        "id": "OD0Th8VRp3Xs"
      }
    },
    {
      "cell_type": "code",
      "execution_count": null,
      "metadata": {
        "id": "qn3EJjunp3Xs"
      },
      "outputs": [],
      "source": [
        "max_length = 128\n",
        "\n",
        "train_data_iterator = TranslationDataIterator(\n",
        "    tokenizer=m2m_tokenizer,\n",
        "    n_examples=len(es_en_train),\n",
        "    data_filename=train_file,\n",
        "    max_length=max_length\n",
        ")\n",
        "\n",
        "valid_data_iterator = TranslationDataIterator(\n",
        "    tokenizer=m2m_tokenizer,\n",
        "    n_examples=len(es_en_val),\n",
        "    data_filename=valid_file,\n",
        "    max_length=max_length\n",
        ")"
      ]
    },
    {
      "cell_type": "code",
      "source": [
        "srg_lang = 'es'\n",
        "tgt_lang = 'en'\n",
        "\n",
        "# Modify this filepath to where you want to save the model after fine-tuning\n",
        "dir_path = 'drive/MyDrive/W266/es_en/new_model/'\n",
        "file_path = dir_path + f'M2M100_news_commentary_{srg_lang}_{tgt_lang}'"
      ],
      "metadata": {
        "id": "u9bUQs6xp3Xs"
      },
      "execution_count": null,
      "outputs": []
    },
    {
      "cell_type": "code",
      "execution_count": null,
      "metadata": {
        "id": "bOG2bt9zp3Xs",
        "colab": {
          "base_uri": "https://localhost:8080/"
        },
        "outputId": "cd1b07c8-337e-42ba-8013-ce6b644b49e0"
      },
      "outputs": [
        {
          "output_type": "stream",
          "name": "stderr",
          "text": [
            "PyTorch: setting up devices\n",
            "The default value for the training argument `--report_to` will change in v5 (from all installed integrations to none). In v5, you will need to use `--report_to all` to get the same behavior as now. You should start updating your code and make this info disappear :-).\n"
          ]
        }
      ],
      "source": [
        "# Specify batch size and other training arguments\n",
        "\n",
        "batch_size = 8\n",
        "\n",
        "args = Seq2SeqTrainingArguments(\n",
        "    file_path,\n",
        "    evaluation_strategy='epoch',\n",
        "    per_device_train_batch_size=batch_size,\n",
        "    per_device_eval_batch_size=batch_size,\n",
        "    num_train_epochs=1,\n",
        ")"
      ]
    },
    {
      "cell_type": "code",
      "execution_count": null,
      "metadata": {
        "id": "UqvN4x4Qp3Xs"
      },
      "outputs": [],
      "source": [
        "# Define the trainer, passing in the model, training args, and data generators\n",
        "\n",
        "trainer = Seq2SeqTrainer(\n",
        "    m2m_model,\n",
        "    args,\n",
        "    train_dataset=train_data_iterator,\n",
        "    eval_dataset=valid_data_iterator\n",
        ")"
      ]
    },
    {
      "cell_type": "code",
      "execution_count": null,
      "metadata": {
        "colab": {
          "base_uri": "https://localhost:8080/",
          "height": 1000
        },
        "outputId": "352d9103-b1d7-47b2-b325-1b752d03ea59",
        "id": "fQ6FUn5bp3Xs"
      },
      "outputs": [
        {
          "output_type": "stream",
          "name": "stderr",
          "text": [
            "***** Running training *****\n",
            "  Num examples = 119436\n",
            "  Num Epochs = 1\n",
            "  Instantaneous batch size per device = 8\n",
            "  Total train batch size (w. parallel, distributed & accumulation) = 8\n",
            "  Gradient Accumulation steps = 1\n",
            "  Total optimization steps = 14930\n",
            "  Number of trainable parameters = 483905536\n"
          ]
        },
        {
          "output_type": "display_data",
          "data": {
            "text/plain": [
              "<IPython.core.display.HTML object>"
            ],
            "text/html": [
              "\n",
              "    <div>\n",
              "      \n",
              "      <progress value='14930' max='14930' style='width:300px; height:20px; vertical-align: middle;'></progress>\n",
              "      [14930/14930 5:41:45, Epoch 1/1]\n",
              "    </div>\n",
              "    <table border=\"1\" class=\"dataframe\">\n",
              "  <thead>\n",
              " <tr style=\"text-align: left;\">\n",
              "      <th>Epoch</th>\n",
              "      <th>Training Loss</th>\n",
              "      <th>Validation Loss</th>\n",
              "    </tr>\n",
              "  </thead>\n",
              "  <tbody>\n",
              "    <tr>\n",
              "      <td>1</td>\n",
              "      <td>0.243700</td>\n",
              "      <td>0.230385</td>\n",
              "    </tr>\n",
              "  </tbody>\n",
              "</table><p>"
            ]
          },
          "metadata": {}
        },
        {
          "output_type": "stream",
          "name": "stderr",
          "text": [
            "Saving model checkpoint to drive/MyDrive/W266/es_en/new_model/M2M100_news_commentary_es_en/checkpoint-500\n",
            "Configuration saved in drive/MyDrive/W266/es_en/new_model/M2M100_news_commentary_es_en/checkpoint-500/config.json\n",
            "Model weights saved in drive/MyDrive/W266/es_en/new_model/M2M100_news_commentary_es_en/checkpoint-500/pytorch_model.bin\n",
            "Saving model checkpoint to drive/MyDrive/W266/es_en/new_model/M2M100_news_commentary_es_en/checkpoint-1000\n",
            "Configuration saved in drive/MyDrive/W266/es_en/new_model/M2M100_news_commentary_es_en/checkpoint-1000/config.json\n",
            "Model weights saved in drive/MyDrive/W266/es_en/new_model/M2M100_news_commentary_es_en/checkpoint-1000/pytorch_model.bin\n",
            "Saving model checkpoint to drive/MyDrive/W266/es_en/new_model/M2M100_news_commentary_es_en/checkpoint-1500\n",
            "Configuration saved in drive/MyDrive/W266/es_en/new_model/M2M100_news_commentary_es_en/checkpoint-1500/config.json\n",
            "Model weights saved in drive/MyDrive/W266/es_en/new_model/M2M100_news_commentary_es_en/checkpoint-1500/pytorch_model.bin\n",
            "Saving model checkpoint to drive/MyDrive/W266/es_en/new_model/M2M100_news_commentary_es_en/checkpoint-2000\n",
            "Configuration saved in drive/MyDrive/W266/es_en/new_model/M2M100_news_commentary_es_en/checkpoint-2000/config.json\n",
            "Model weights saved in drive/MyDrive/W266/es_en/new_model/M2M100_news_commentary_es_en/checkpoint-2000/pytorch_model.bin\n",
            "Saving model checkpoint to drive/MyDrive/W266/es_en/new_model/M2M100_news_commentary_es_en/checkpoint-2500\n",
            "Configuration saved in drive/MyDrive/W266/es_en/new_model/M2M100_news_commentary_es_en/checkpoint-2500/config.json\n",
            "Model weights saved in drive/MyDrive/W266/es_en/new_model/M2M100_news_commentary_es_en/checkpoint-2500/pytorch_model.bin\n",
            "Saving model checkpoint to drive/MyDrive/W266/es_en/new_model/M2M100_news_commentary_es_en/checkpoint-3000\n",
            "Configuration saved in drive/MyDrive/W266/es_en/new_model/M2M100_news_commentary_es_en/checkpoint-3000/config.json\n",
            "Model weights saved in drive/MyDrive/W266/es_en/new_model/M2M100_news_commentary_es_en/checkpoint-3000/pytorch_model.bin\n",
            "Saving model checkpoint to drive/MyDrive/W266/es_en/new_model/M2M100_news_commentary_es_en/checkpoint-3500\n",
            "Configuration saved in drive/MyDrive/W266/es_en/new_model/M2M100_news_commentary_es_en/checkpoint-3500/config.json\n",
            "Model weights saved in drive/MyDrive/W266/es_en/new_model/M2M100_news_commentary_es_en/checkpoint-3500/pytorch_model.bin\n",
            "Saving model checkpoint to drive/MyDrive/W266/es_en/new_model/M2M100_news_commentary_es_en/checkpoint-4000\n",
            "Configuration saved in drive/MyDrive/W266/es_en/new_model/M2M100_news_commentary_es_en/checkpoint-4000/config.json\n",
            "Model weights saved in drive/MyDrive/W266/es_en/new_model/M2M100_news_commentary_es_en/checkpoint-4000/pytorch_model.bin\n",
            "Saving model checkpoint to drive/MyDrive/W266/es_en/new_model/M2M100_news_commentary_es_en/checkpoint-4500\n",
            "Configuration saved in drive/MyDrive/W266/es_en/new_model/M2M100_news_commentary_es_en/checkpoint-4500/config.json\n",
            "Model weights saved in drive/MyDrive/W266/es_en/new_model/M2M100_news_commentary_es_en/checkpoint-4500/pytorch_model.bin\n",
            "Saving model checkpoint to drive/MyDrive/W266/es_en/new_model/M2M100_news_commentary_es_en/checkpoint-5000\n",
            "Configuration saved in drive/MyDrive/W266/es_en/new_model/M2M100_news_commentary_es_en/checkpoint-5000/config.json\n",
            "Model weights saved in drive/MyDrive/W266/es_en/new_model/M2M100_news_commentary_es_en/checkpoint-5000/pytorch_model.bin\n",
            "Saving model checkpoint to drive/MyDrive/W266/es_en/new_model/M2M100_news_commentary_es_en/checkpoint-5500\n",
            "Configuration saved in drive/MyDrive/W266/es_en/new_model/M2M100_news_commentary_es_en/checkpoint-5500/config.json\n",
            "Model weights saved in drive/MyDrive/W266/es_en/new_model/M2M100_news_commentary_es_en/checkpoint-5500/pytorch_model.bin\n",
            "Saving model checkpoint to drive/MyDrive/W266/es_en/new_model/M2M100_news_commentary_es_en/checkpoint-6000\n",
            "Configuration saved in drive/MyDrive/W266/es_en/new_model/M2M100_news_commentary_es_en/checkpoint-6000/config.json\n",
            "Model weights saved in drive/MyDrive/W266/es_en/new_model/M2M100_news_commentary_es_en/checkpoint-6000/pytorch_model.bin\n",
            "Saving model checkpoint to drive/MyDrive/W266/es_en/new_model/M2M100_news_commentary_es_en/checkpoint-6500\n",
            "Configuration saved in drive/MyDrive/W266/es_en/new_model/M2M100_news_commentary_es_en/checkpoint-6500/config.json\n",
            "Model weights saved in drive/MyDrive/W266/es_en/new_model/M2M100_news_commentary_es_en/checkpoint-6500/pytorch_model.bin\n",
            "Saving model checkpoint to drive/MyDrive/W266/es_en/new_model/M2M100_news_commentary_es_en/checkpoint-7000\n",
            "Configuration saved in drive/MyDrive/W266/es_en/new_model/M2M100_news_commentary_es_en/checkpoint-7000/config.json\n",
            "Model weights saved in drive/MyDrive/W266/es_en/new_model/M2M100_news_commentary_es_en/checkpoint-7000/pytorch_model.bin\n",
            "Saving model checkpoint to drive/MyDrive/W266/es_en/new_model/M2M100_news_commentary_es_en/checkpoint-7500\n",
            "Configuration saved in drive/MyDrive/W266/es_en/new_model/M2M100_news_commentary_es_en/checkpoint-7500/config.json\n",
            "Model weights saved in drive/MyDrive/W266/es_en/new_model/M2M100_news_commentary_es_en/checkpoint-7500/pytorch_model.bin\n",
            "Saving model checkpoint to drive/MyDrive/W266/es_en/new_model/M2M100_news_commentary_es_en/checkpoint-8000\n",
            "Configuration saved in drive/MyDrive/W266/es_en/new_model/M2M100_news_commentary_es_en/checkpoint-8000/config.json\n",
            "Model weights saved in drive/MyDrive/W266/es_en/new_model/M2M100_news_commentary_es_en/checkpoint-8000/pytorch_model.bin\n",
            "Saving model checkpoint to drive/MyDrive/W266/es_en/new_model/M2M100_news_commentary_es_en/checkpoint-8500\n",
            "Configuration saved in drive/MyDrive/W266/es_en/new_model/M2M100_news_commentary_es_en/checkpoint-8500/config.json\n",
            "Model weights saved in drive/MyDrive/W266/es_en/new_model/M2M100_news_commentary_es_en/checkpoint-8500/pytorch_model.bin\n",
            "Saving model checkpoint to drive/MyDrive/W266/es_en/new_model/M2M100_news_commentary_es_en/checkpoint-9000\n",
            "Configuration saved in drive/MyDrive/W266/es_en/new_model/M2M100_news_commentary_es_en/checkpoint-9000/config.json\n",
            "Model weights saved in drive/MyDrive/W266/es_en/new_model/M2M100_news_commentary_es_en/checkpoint-9000/pytorch_model.bin\n",
            "Saving model checkpoint to drive/MyDrive/W266/es_en/new_model/M2M100_news_commentary_es_en/checkpoint-9500\n",
            "Configuration saved in drive/MyDrive/W266/es_en/new_model/M2M100_news_commentary_es_en/checkpoint-9500/config.json\n",
            "Model weights saved in drive/MyDrive/W266/es_en/new_model/M2M100_news_commentary_es_en/checkpoint-9500/pytorch_model.bin\n",
            "Saving model checkpoint to drive/MyDrive/W266/es_en/new_model/M2M100_news_commentary_es_en/checkpoint-10000\n",
            "Configuration saved in drive/MyDrive/W266/es_en/new_model/M2M100_news_commentary_es_en/checkpoint-10000/config.json\n",
            "Model weights saved in drive/MyDrive/W266/es_en/new_model/M2M100_news_commentary_es_en/checkpoint-10000/pytorch_model.bin\n",
            "Saving model checkpoint to drive/MyDrive/W266/es_en/new_model/M2M100_news_commentary_es_en/checkpoint-10500\n",
            "Configuration saved in drive/MyDrive/W266/es_en/new_model/M2M100_news_commentary_es_en/checkpoint-10500/config.json\n",
            "Model weights saved in drive/MyDrive/W266/es_en/new_model/M2M100_news_commentary_es_en/checkpoint-10500/pytorch_model.bin\n",
            "Saving model checkpoint to drive/MyDrive/W266/es_en/new_model/M2M100_news_commentary_es_en/checkpoint-11000\n",
            "Configuration saved in drive/MyDrive/W266/es_en/new_model/M2M100_news_commentary_es_en/checkpoint-11000/config.json\n",
            "Model weights saved in drive/MyDrive/W266/es_en/new_model/M2M100_news_commentary_es_en/checkpoint-11000/pytorch_model.bin\n",
            "Saving model checkpoint to drive/MyDrive/W266/es_en/new_model/M2M100_news_commentary_es_en/checkpoint-11500\n",
            "Configuration saved in drive/MyDrive/W266/es_en/new_model/M2M100_news_commentary_es_en/checkpoint-11500/config.json\n",
            "Model weights saved in drive/MyDrive/W266/es_en/new_model/M2M100_news_commentary_es_en/checkpoint-11500/pytorch_model.bin\n",
            "Saving model checkpoint to drive/MyDrive/W266/es_en/new_model/M2M100_news_commentary_es_en/checkpoint-12000\n",
            "Configuration saved in drive/MyDrive/W266/es_en/new_model/M2M100_news_commentary_es_en/checkpoint-12000/config.json\n",
            "Model weights saved in drive/MyDrive/W266/es_en/new_model/M2M100_news_commentary_es_en/checkpoint-12000/pytorch_model.bin\n",
            "Saving model checkpoint to drive/MyDrive/W266/es_en/new_model/M2M100_news_commentary_es_en/checkpoint-12500\n",
            "Configuration saved in drive/MyDrive/W266/es_en/new_model/M2M100_news_commentary_es_en/checkpoint-12500/config.json\n",
            "Model weights saved in drive/MyDrive/W266/es_en/new_model/M2M100_news_commentary_es_en/checkpoint-12500/pytorch_model.bin\n",
            "Saving model checkpoint to drive/MyDrive/W266/es_en/new_model/M2M100_news_commentary_es_en/checkpoint-13000\n",
            "Configuration saved in drive/MyDrive/W266/es_en/new_model/M2M100_news_commentary_es_en/checkpoint-13000/config.json\n",
            "Model weights saved in drive/MyDrive/W266/es_en/new_model/M2M100_news_commentary_es_en/checkpoint-13000/pytorch_model.bin\n",
            "Saving model checkpoint to drive/MyDrive/W266/es_en/new_model/M2M100_news_commentary_es_en/checkpoint-13500\n",
            "Configuration saved in drive/MyDrive/W266/es_en/new_model/M2M100_news_commentary_es_en/checkpoint-13500/config.json\n",
            "Model weights saved in drive/MyDrive/W266/es_en/new_model/M2M100_news_commentary_es_en/checkpoint-13500/pytorch_model.bin\n",
            "Saving model checkpoint to drive/MyDrive/W266/es_en/new_model/M2M100_news_commentary_es_en/checkpoint-14000\n",
            "Configuration saved in drive/MyDrive/W266/es_en/new_model/M2M100_news_commentary_es_en/checkpoint-14000/config.json\n",
            "Model weights saved in drive/MyDrive/W266/es_en/new_model/M2M100_news_commentary_es_en/checkpoint-14000/pytorch_model.bin\n",
            "Saving model checkpoint to drive/MyDrive/W266/es_en/new_model/M2M100_news_commentary_es_en/checkpoint-14500\n",
            "Configuration saved in drive/MyDrive/W266/es_en/new_model/M2M100_news_commentary_es_en/checkpoint-14500/config.json\n",
            "Model weights saved in drive/MyDrive/W266/es_en/new_model/M2M100_news_commentary_es_en/checkpoint-14500/pytorch_model.bin\n",
            "***** Running Evaluation *****\n",
            "  Num examples = 5000\n",
            "  Batch size = 8\n",
            "\n",
            "\n",
            "Training completed. Do not forget to share your model on huggingface.co/models =)\n",
            "\n",
            "\n"
          ]
        },
        {
          "output_type": "execute_result",
          "data": {
            "text/plain": [
              "TrainOutput(global_step=14930, training_loss=0.2690360946297566, metrics={'train_runtime': 20506.9924, 'train_samples_per_second': 5.824, 'train_steps_per_second': 0.728, 'total_flos': 3.2472978910347264e+16, 'train_loss': 0.2690360946297566, 'epoch': 1.0})"
            ]
          },
          "metadata": {},
          "execution_count": 37
        }
      ],
      "source": [
        "# Call train\n",
        "\n",
        "trainer.train()"
      ]
    },
    {
      "cell_type": "code",
      "source": [
        "trainer.save_model('drive/MyDrive/W266/M2M100_news_commentary_es_en/checkpoint-001')"
      ],
      "metadata": {
        "colab": {
          "base_uri": "https://localhost:8080/"
        },
        "outputId": "3cc00312-1e9e-4e68-cf4f-b4b10e38cebb",
        "id": "XSEWh_7zp3Xs"
      },
      "execution_count": null,
      "outputs": [
        {
          "output_type": "stream",
          "name": "stderr",
          "text": [
            "Saving model checkpoint to drive/MyDrive/W266/M2M100_news_commentary_es_en/checkpoint-001\n",
            "Configuration saved in drive/MyDrive/W266/M2M100_news_commentary_es_en/checkpoint-001/config.json\n",
            "Model weights saved in drive/MyDrive/W266/M2M100_news_commentary_es_en/checkpoint-001/pytorch_model.bin\n"
          ]
        }
      ]
    },
    {
      "cell_type": "code",
      "source": [
        "m2m_model_saved = M2M100ForConditionalGeneration.from_pretrained('drive/MyDrive/W266/M2M100_news_commentary_es_en/checkpoint-001')"
      ],
      "metadata": {
        "id": "h5N0Jstzp3Xs",
        "colab": {
          "base_uri": "https://localhost:8080/"
        },
        "outputId": "7379b3b7-69be-416d-d7c4-82cc7b5dff54"
      },
      "execution_count": null,
      "outputs": [
        {
          "output_type": "stream",
          "name": "stderr",
          "text": [
            "loading configuration file drive/MyDrive/W266/M2M100_news_commentary_es_en/checkpoint-001/config.json\n",
            "Model config M2M100Config {\n",
            "  \"_name_or_path\": \"facebook/m2m100_418M\",\n",
            "  \"activation_dropout\": 0.0,\n",
            "  \"activation_function\": \"relu\",\n",
            "  \"architectures\": [\n",
            "    \"M2M100ForConditionalGeneration\"\n",
            "  ],\n",
            "  \"attention_dropout\": 0.1,\n",
            "  \"bos_token_id\": 0,\n",
            "  \"d_model\": 1024,\n",
            "  \"decoder_attention_heads\": 16,\n",
            "  \"decoder_ffn_dim\": 4096,\n",
            "  \"decoder_layerdrop\": 0.05,\n",
            "  \"decoder_layers\": 12,\n",
            "  \"decoder_start_token_id\": 2,\n",
            "  \"dropout\": 0.1,\n",
            "  \"early_stopping\": true,\n",
            "  \"encoder_attention_heads\": 16,\n",
            "  \"encoder_ffn_dim\": 4096,\n",
            "  \"encoder_layerdrop\": 0.05,\n",
            "  \"encoder_layers\": 12,\n",
            "  \"eos_token_id\": 2,\n",
            "  \"gradient_checkpointing\": false,\n",
            "  \"init_std\": 0.02,\n",
            "  \"is_encoder_decoder\": true,\n",
            "  \"max_length\": 200,\n",
            "  \"max_position_embeddings\": 1024,\n",
            "  \"model_type\": \"m2m_100\",\n",
            "  \"num_beams\": 5,\n",
            "  \"num_hidden_layers\": 12,\n",
            "  \"pad_token_id\": 1,\n",
            "  \"scale_embedding\": true,\n",
            "  \"torch_dtype\": \"float32\",\n",
            "  \"transformers_version\": \"4.24.0\",\n",
            "  \"use_cache\": true,\n",
            "  \"vocab_size\": 128112\n",
            "}\n",
            "\n",
            "loading weights file drive/MyDrive/W266/M2M100_news_commentary_es_en/checkpoint-001/pytorch_model.bin\n",
            "All model checkpoint weights were used when initializing M2M100ForConditionalGeneration.\n",
            "\n",
            "All the weights of M2M100ForConditionalGeneration were initialized from the model checkpoint at drive/MyDrive/W266/M2M100_news_commentary_es_en/checkpoint-001.\n",
            "If your task is similar to the task the model of the checkpoint was trained on, you can already use M2M100ForConditionalGeneration for predictions without further training.\n"
          ]
        }
      ]
    },
    {
      "cell_type": "code",
      "source": [
        "df_valid_list = df_valid[f'{srg_lang}'].tolist()\n",
        "df_valid_label= df_valid[f'{tgt_lang}'].tolist()"
      ],
      "metadata": {
        "id": "SHTLbZtzp3Xs"
      },
      "execution_count": null,
      "outputs": []
    },
    {
      "cell_type": "code",
      "source": [
        "df_valid_label[:3]"
      ],
      "metadata": {
        "colab": {
          "base_uri": "https://localhost:8080/"
        },
        "id": "gwcSBa2Tx61c",
        "outputId": "5ba3ac16-8b7e-48a0-add3-af21d5e8b90d"
      },
      "execution_count": null,
      "outputs": [
        {
          "output_type": "execute_result",
          "data": {
            "text/plain": [
              "['The only notable exception, Justice Minister Tzipi Livni, seems to have been appointed merely to provide a veneer of official commitment to the peace process.',\n",
              " 'At around 47% of GDP, China’s embryonic services sector remains well short of the 60-65% share that a middle-income economy typically possesses.',\n",
              " 'Whatever weaknesses one finds in the Reinhart/Rogoff paper, it does not follow that countries in recession should always disregard deficits and debt levels and focus on stimulus.']"
            ]
          },
          "metadata": {},
          "execution_count": 42
        }
      ]
    },
    {
      "cell_type": "code",
      "source": [
        "eval_score = []\n",
        "step = 100\n",
        "\n",
        "\n",
        "for row_index in range(0,len(df_valid_list),step):\n",
        "\n",
        "  print(f\"Processing row_index: {row_index}\")\n",
        "\n",
        "  if os.path.isfile(f\"drive/MyDrive/W266/es_en/new_model/es_en_validation_{row_index}.csv\"):\n",
        "    print(f\"  row_index {row_index} exist, continue...\")\n",
        "    continue\n",
        "  else:\n",
        "\n",
        "    curr_input = df_valid_list[row_index: row_index + step]\n",
        "    curr_label = df_valid_label[row_index: row_index + step]\n",
        "\n",
        "\n",
        "    # curr_loop = row_index/step\n",
        "    print(f\"  Processing row_index: {row_index}\")\n",
        "\n",
        "    encoded_en = m2m_tokenizer(curr_input, \n",
        "                          padding = True,\n",
        "                          max_length=50,\n",
        "                          truncation=True,\n",
        "                          return_tensors='pt')\n",
        "    generated_tokens = m2m_model_saved.generate(**encoded_en, forced_bos_token_id=m2m_tokenizer.get_lang_id(f'{tgt_lang}'))\n",
        "    curr_output = m2m_tokenizer.batch_decode(generated_tokens, skip_special_tokens=True)\n",
        "\n",
        "    ### Compute BLEURT score\n",
        "    bleurt_label = [[label] for label in curr_label]\n",
        "    curr_bleurt_score = bleurt_metric.compute(predictions=curr_output, references=bleurt_label)\n",
        "\n",
        "    eval_score.append(curr_bleurt_score['scores'])\n",
        "\n",
        "    \n",
        "    df_output = pd.DataFrame(eval_score)\n",
        "    df_output.to_csv(f'drive/MyDrive/W266/es_en/new_model/es_en_validation_{row_index}.csv', sep=',', index=False)\n",
        "  "
      ],
      "metadata": {
        "colab": {
          "base_uri": "https://localhost:8080/"
        },
        "outputId": "713bb2be-383e-4396-fb5a-47ccd5e4e415",
        "id": "gwc3Bx4Mp3Xs"
      },
      "execution_count": null,
      "outputs": [
        {
          "output_type": "stream",
          "name": "stdout",
          "text": [
            "Processing row_index: 0\n",
            "  Processing row_index: 0\n",
            "Processing row_index: 100\n",
            "  Processing row_index: 100\n",
            "Processing row_index: 200\n",
            "  Processing row_index: 200\n",
            "Processing row_index: 300\n",
            "  Processing row_index: 300\n",
            "Processing row_index: 400\n",
            "  Processing row_index: 400\n",
            "Processing row_index: 500\n",
            "  Processing row_index: 500\n",
            "Processing row_index: 600\n",
            "  Processing row_index: 600\n",
            "Processing row_index: 700\n",
            "  Processing row_index: 700\n",
            "Processing row_index: 800\n",
            "  Processing row_index: 800\n",
            "Processing row_index: 900\n",
            "  Processing row_index: 900\n",
            "Processing row_index: 1000\n",
            "  Processing row_index: 1000\n",
            "Processing row_index: 1100\n",
            "  Processing row_index: 1100\n",
            "Processing row_index: 1200\n",
            "  Processing row_index: 1200\n",
            "Processing row_index: 1300\n",
            "  Processing row_index: 1300\n",
            "Processing row_index: 1400\n",
            "  Processing row_index: 1400\n",
            "Processing row_index: 1500\n",
            "  Processing row_index: 1500\n",
            "Processing row_index: 1600\n",
            "  Processing row_index: 1600\n",
            "Processing row_index: 1700\n",
            "  Processing row_index: 1700\n",
            "Processing row_index: 1800\n",
            "  Processing row_index: 1800\n",
            "Processing row_index: 1900\n",
            "  Processing row_index: 1900\n",
            "Processing row_index: 2000\n",
            "  Processing row_index: 2000\n",
            "Processing row_index: 2100\n",
            "  Processing row_index: 2100\n",
            "Processing row_index: 2200\n",
            "  Processing row_index: 2200\n",
            "Processing row_index: 2300\n",
            "  Processing row_index: 2300\n",
            "Processing row_index: 2400\n",
            "  Processing row_index: 2400\n",
            "Processing row_index: 2500\n",
            "  Processing row_index: 2500\n",
            "Processing row_index: 2600\n",
            "  Processing row_index: 2600\n",
            "Processing row_index: 2700\n",
            "  Processing row_index: 2700\n",
            "Processing row_index: 2800\n",
            "  Processing row_index: 2800\n",
            "Processing row_index: 2900\n",
            "  Processing row_index: 2900\n",
            "Processing row_index: 3000\n",
            "  Processing row_index: 3000\n",
            "Processing row_index: 3100\n",
            "  Processing row_index: 3100\n",
            "Processing row_index: 3200\n",
            "  Processing row_index: 3200\n",
            "Processing row_index: 3300\n",
            "  Processing row_index: 3300\n",
            "Processing row_index: 3400\n",
            "  Processing row_index: 3400\n",
            "Processing row_index: 3500\n",
            "  Processing row_index: 3500\n",
            "Processing row_index: 3600\n",
            "  Processing row_index: 3600\n",
            "Processing row_index: 3700\n",
            "  Processing row_index: 3700\n",
            "Processing row_index: 3800\n",
            "  Processing row_index: 3800\n",
            "Processing row_index: 3900\n",
            "  Processing row_index: 3900\n",
            "Processing row_index: 4000\n",
            "  Processing row_index: 4000\n",
            "Processing row_index: 4100\n",
            "  Processing row_index: 4100\n",
            "Processing row_index: 4200\n",
            "  Processing row_index: 4200\n",
            "Processing row_index: 4300\n",
            "  Processing row_index: 4300\n",
            "Processing row_index: 4400\n",
            "  Processing row_index: 4400\n",
            "Processing row_index: 4500\n",
            "  Processing row_index: 4500\n",
            "Processing row_index: 4600\n",
            "  Processing row_index: 4600\n",
            "Processing row_index: 4700\n",
            "  Processing row_index: 4700\n",
            "Processing row_index: 4800\n",
            "  Processing row_index: 4800\n",
            "Processing row_index: 4900\n",
            "  Processing row_index: 4900\n"
          ]
        }
      ]
    }
  ],
  "metadata": {
    "colab": {
      "collapsed_sections": [
        "i_NC7vYn9PRe",
        "tWbQ8ACS9YkG",
        "DYlGGIyS21nD",
        "sxRA1E-nyTTt",
        "sdjFTh0uoBH7",
        "nggh906KioPb",
        "Pnw1YFq4Tsh7",
        "XInLhMmbTsh9",
        "xg-ySCpzTywA",
        "WAcwi-r7TywB",
        "hCPjMPu37ibw",
        "nohUGqjq7ib8",
        "zg9a9kA2p3Xe"
      ],
      "machine_shape": "hm",
      "provenance": []
    },
    "kernelspec": {
      "display_name": "Python 3",
      "name": "python3"
    },
    "language_info": {
      "name": "python"
    },
    "widgets": {
      "application/vnd.jupyter.widget-state+json": {
        "47e0981efe314d5e8a843dbe04f91391": {
          "model_module": "@jupyter-widgets/controls",
          "model_name": "HBoxModel",
          "model_module_version": "1.5.0",
          "state": {
            "_dom_classes": [],
            "_model_module": "@jupyter-widgets/controls",
            "_model_module_version": "1.5.0",
            "_model_name": "HBoxModel",
            "_view_count": null,
            "_view_module": "@jupyter-widgets/controls",
            "_view_module_version": "1.5.0",
            "_view_name": "HBoxView",
            "box_style": "",
            "children": [
              "IPY_MODEL_4f43d3b5129447849c746b81a26e0ab6",
              "IPY_MODEL_d397c8005b4c4c188f1338d942ae410b",
              "IPY_MODEL_b9ec95d430cf42a6ba436b1b37c45b73"
            ],
            "layout": "IPY_MODEL_4d90962c7c684f7fbcb99565e59bd2e5"
          }
        },
        "4f43d3b5129447849c746b81a26e0ab6": {
          "model_module": "@jupyter-widgets/controls",
          "model_name": "HTMLModel",
          "model_module_version": "1.5.0",
          "state": {
            "_dom_classes": [],
            "_model_module": "@jupyter-widgets/controls",
            "_model_module_version": "1.5.0",
            "_model_name": "HTMLModel",
            "_view_count": null,
            "_view_module": "@jupyter-widgets/controls",
            "_view_module_version": "1.5.0",
            "_view_name": "HTMLView",
            "description": "",
            "description_tooltip": null,
            "layout": "IPY_MODEL_bf1fff9f12b744a08f841ed8786e64f2",
            "placeholder": "​",
            "style": "IPY_MODEL_a20ffb4249754b1ea4af58fc2177ce77",
            "value": "Downloading builder script: 100%"
          }
        },
        "d397c8005b4c4c188f1338d942ae410b": {
          "model_module": "@jupyter-widgets/controls",
          "model_name": "FloatProgressModel",
          "model_module_version": "1.5.0",
          "state": {
            "_dom_classes": [],
            "_model_module": "@jupyter-widgets/controls",
            "_model_module_version": "1.5.0",
            "_model_name": "FloatProgressModel",
            "_view_count": null,
            "_view_module": "@jupyter-widgets/controls",
            "_view_module_version": "1.5.0",
            "_view_name": "ProgressView",
            "bar_style": "success",
            "description": "",
            "description_tooltip": null,
            "layout": "IPY_MODEL_b79b570727774f23923df301ead19b00",
            "max": 5357,
            "min": 0,
            "orientation": "horizontal",
            "style": "IPY_MODEL_9f49179eca194da6bc543b16e47dc158",
            "value": 5357
          }
        },
        "b9ec95d430cf42a6ba436b1b37c45b73": {
          "model_module": "@jupyter-widgets/controls",
          "model_name": "HTMLModel",
          "model_module_version": "1.5.0",
          "state": {
            "_dom_classes": [],
            "_model_module": "@jupyter-widgets/controls",
            "_model_module_version": "1.5.0",
            "_model_name": "HTMLModel",
            "_view_count": null,
            "_view_module": "@jupyter-widgets/controls",
            "_view_module_version": "1.5.0",
            "_view_name": "HTMLView",
            "description": "",
            "description_tooltip": null,
            "layout": "IPY_MODEL_f52d62a30afc4bfda0f65dc0b6ed2ca4",
            "placeholder": "​",
            "style": "IPY_MODEL_0c92368545e149e89b8fd1c622049134",
            "value": " 5.36k/5.36k [00:00&lt;00:00, 190kB/s]"
          }
        },
        "4d90962c7c684f7fbcb99565e59bd2e5": {
          "model_module": "@jupyter-widgets/base",
          "model_name": "LayoutModel",
          "model_module_version": "1.2.0",
          "state": {
            "_model_module": "@jupyter-widgets/base",
            "_model_module_version": "1.2.0",
            "_model_name": "LayoutModel",
            "_view_count": null,
            "_view_module": "@jupyter-widgets/base",
            "_view_module_version": "1.2.0",
            "_view_name": "LayoutView",
            "align_content": null,
            "align_items": null,
            "align_self": null,
            "border": null,
            "bottom": null,
            "display": null,
            "flex": null,
            "flex_flow": null,
            "grid_area": null,
            "grid_auto_columns": null,
            "grid_auto_flow": null,
            "grid_auto_rows": null,
            "grid_column": null,
            "grid_gap": null,
            "grid_row": null,
            "grid_template_areas": null,
            "grid_template_columns": null,
            "grid_template_rows": null,
            "height": null,
            "justify_content": null,
            "justify_items": null,
            "left": null,
            "margin": null,
            "max_height": null,
            "max_width": null,
            "min_height": null,
            "min_width": null,
            "object_fit": null,
            "object_position": null,
            "order": null,
            "overflow": null,
            "overflow_x": null,
            "overflow_y": null,
            "padding": null,
            "right": null,
            "top": null,
            "visibility": null,
            "width": null
          }
        },
        "bf1fff9f12b744a08f841ed8786e64f2": {
          "model_module": "@jupyter-widgets/base",
          "model_name": "LayoutModel",
          "model_module_version": "1.2.0",
          "state": {
            "_model_module": "@jupyter-widgets/base",
            "_model_module_version": "1.2.0",
            "_model_name": "LayoutModel",
            "_view_count": null,
            "_view_module": "@jupyter-widgets/base",
            "_view_module_version": "1.2.0",
            "_view_name": "LayoutView",
            "align_content": null,
            "align_items": null,
            "align_self": null,
            "border": null,
            "bottom": null,
            "display": null,
            "flex": null,
            "flex_flow": null,
            "grid_area": null,
            "grid_auto_columns": null,
            "grid_auto_flow": null,
            "grid_auto_rows": null,
            "grid_column": null,
            "grid_gap": null,
            "grid_row": null,
            "grid_template_areas": null,
            "grid_template_columns": null,
            "grid_template_rows": null,
            "height": null,
            "justify_content": null,
            "justify_items": null,
            "left": null,
            "margin": null,
            "max_height": null,
            "max_width": null,
            "min_height": null,
            "min_width": null,
            "object_fit": null,
            "object_position": null,
            "order": null,
            "overflow": null,
            "overflow_x": null,
            "overflow_y": null,
            "padding": null,
            "right": null,
            "top": null,
            "visibility": null,
            "width": null
          }
        },
        "a20ffb4249754b1ea4af58fc2177ce77": {
          "model_module": "@jupyter-widgets/controls",
          "model_name": "DescriptionStyleModel",
          "model_module_version": "1.5.0",
          "state": {
            "_model_module": "@jupyter-widgets/controls",
            "_model_module_version": "1.5.0",
            "_model_name": "DescriptionStyleModel",
            "_view_count": null,
            "_view_module": "@jupyter-widgets/base",
            "_view_module_version": "1.2.0",
            "_view_name": "StyleView",
            "description_width": ""
          }
        },
        "b79b570727774f23923df301ead19b00": {
          "model_module": "@jupyter-widgets/base",
          "model_name": "LayoutModel",
          "model_module_version": "1.2.0",
          "state": {
            "_model_module": "@jupyter-widgets/base",
            "_model_module_version": "1.2.0",
            "_model_name": "LayoutModel",
            "_view_count": null,
            "_view_module": "@jupyter-widgets/base",
            "_view_module_version": "1.2.0",
            "_view_name": "LayoutView",
            "align_content": null,
            "align_items": null,
            "align_self": null,
            "border": null,
            "bottom": null,
            "display": null,
            "flex": null,
            "flex_flow": null,
            "grid_area": null,
            "grid_auto_columns": null,
            "grid_auto_flow": null,
            "grid_auto_rows": null,
            "grid_column": null,
            "grid_gap": null,
            "grid_row": null,
            "grid_template_areas": null,
            "grid_template_columns": null,
            "grid_template_rows": null,
            "height": null,
            "justify_content": null,
            "justify_items": null,
            "left": null,
            "margin": null,
            "max_height": null,
            "max_width": null,
            "min_height": null,
            "min_width": null,
            "object_fit": null,
            "object_position": null,
            "order": null,
            "overflow": null,
            "overflow_x": null,
            "overflow_y": null,
            "padding": null,
            "right": null,
            "top": null,
            "visibility": null,
            "width": null
          }
        },
        "9f49179eca194da6bc543b16e47dc158": {
          "model_module": "@jupyter-widgets/controls",
          "model_name": "ProgressStyleModel",
          "model_module_version": "1.5.0",
          "state": {
            "_model_module": "@jupyter-widgets/controls",
            "_model_module_version": "1.5.0",
            "_model_name": "ProgressStyleModel",
            "_view_count": null,
            "_view_module": "@jupyter-widgets/base",
            "_view_module_version": "1.2.0",
            "_view_name": "StyleView",
            "bar_color": null,
            "description_width": ""
          }
        },
        "f52d62a30afc4bfda0f65dc0b6ed2ca4": {
          "model_module": "@jupyter-widgets/base",
          "model_name": "LayoutModel",
          "model_module_version": "1.2.0",
          "state": {
            "_model_module": "@jupyter-widgets/base",
            "_model_module_version": "1.2.0",
            "_model_name": "LayoutModel",
            "_view_count": null,
            "_view_module": "@jupyter-widgets/base",
            "_view_module_version": "1.2.0",
            "_view_name": "LayoutView",
            "align_content": null,
            "align_items": null,
            "align_self": null,
            "border": null,
            "bottom": null,
            "display": null,
            "flex": null,
            "flex_flow": null,
            "grid_area": null,
            "grid_auto_columns": null,
            "grid_auto_flow": null,
            "grid_auto_rows": null,
            "grid_column": null,
            "grid_gap": null,
            "grid_row": null,
            "grid_template_areas": null,
            "grid_template_columns": null,
            "grid_template_rows": null,
            "height": null,
            "justify_content": null,
            "justify_items": null,
            "left": null,
            "margin": null,
            "max_height": null,
            "max_width": null,
            "min_height": null,
            "min_width": null,
            "object_fit": null,
            "object_position": null,
            "order": null,
            "overflow": null,
            "overflow_x": null,
            "overflow_y": null,
            "padding": null,
            "right": null,
            "top": null,
            "visibility": null,
            "width": null
          }
        },
        "0c92368545e149e89b8fd1c622049134": {
          "model_module": "@jupyter-widgets/controls",
          "model_name": "DescriptionStyleModel",
          "model_module_version": "1.5.0",
          "state": {
            "_model_module": "@jupyter-widgets/controls",
            "_model_module_version": "1.5.0",
            "_model_name": "DescriptionStyleModel",
            "_view_count": null,
            "_view_module": "@jupyter-widgets/base",
            "_view_module_version": "1.2.0",
            "_view_name": "StyleView",
            "description_width": ""
          }
        },
        "39e7718727e54be4a58d00432813ad11": {
          "model_module": "@jupyter-widgets/controls",
          "model_name": "HBoxModel",
          "model_module_version": "1.5.0",
          "state": {
            "_dom_classes": [],
            "_model_module": "@jupyter-widgets/controls",
            "_model_module_version": "1.5.0",
            "_model_name": "HBoxModel",
            "_view_count": null,
            "_view_module": "@jupyter-widgets/controls",
            "_view_module_version": "1.5.0",
            "_view_name": "HBoxView",
            "box_style": "",
            "children": [
              "IPY_MODEL_d1c161b84f3143218cb1cfe326b48c4b",
              "IPY_MODEL_2914c08453954e7eb835bf4ef8aa7dc3",
              "IPY_MODEL_f55970e95fa24e22a0dedf1cdaabf856"
            ],
            "layout": "IPY_MODEL_c393cb56f411468b9076cf5b9f835e3d"
          }
        },
        "d1c161b84f3143218cb1cfe326b48c4b": {
          "model_module": "@jupyter-widgets/controls",
          "model_name": "HTMLModel",
          "model_module_version": "1.5.0",
          "state": {
            "_dom_classes": [],
            "_model_module": "@jupyter-widgets/controls",
            "_model_module_version": "1.5.0",
            "_model_name": "HTMLModel",
            "_view_count": null,
            "_view_module": "@jupyter-widgets/controls",
            "_view_module_version": "1.5.0",
            "_view_name": "HTMLView",
            "description": "",
            "description_tooltip": null,
            "layout": "IPY_MODEL_074dec61c3ce4947a48c34b4d9398473",
            "placeholder": "​",
            "style": "IPY_MODEL_e21b8677853d4266a6235e30ab61b058",
            "value": "Downloading metadata: 100%"
          }
        },
        "2914c08453954e7eb835bf4ef8aa7dc3": {
          "model_module": "@jupyter-widgets/controls",
          "model_name": "FloatProgressModel",
          "model_module_version": "1.5.0",
          "state": {
            "_dom_classes": [],
            "_model_module": "@jupyter-widgets/controls",
            "_model_module_version": "1.5.0",
            "_model_name": "FloatProgressModel",
            "_view_count": null,
            "_view_module": "@jupyter-widgets/controls",
            "_view_module_version": "1.5.0",
            "_view_name": "ProgressView",
            "bar_style": "success",
            "description": "",
            "description_tooltip": null,
            "layout": "IPY_MODEL_bb2b54a982474d9d89e4f1bc02b4ffe4",
            "max": 115874,
            "min": 0,
            "orientation": "horizontal",
            "style": "IPY_MODEL_60dcd23f40c64c1fa582446b59fe69be",
            "value": 115874
          }
        },
        "f55970e95fa24e22a0dedf1cdaabf856": {
          "model_module": "@jupyter-widgets/controls",
          "model_name": "HTMLModel",
          "model_module_version": "1.5.0",
          "state": {
            "_dom_classes": [],
            "_model_module": "@jupyter-widgets/controls",
            "_model_module_version": "1.5.0",
            "_model_name": "HTMLModel",
            "_view_count": null,
            "_view_module": "@jupyter-widgets/controls",
            "_view_module_version": "1.5.0",
            "_view_name": "HTMLView",
            "description": "",
            "description_tooltip": null,
            "layout": "IPY_MODEL_a4c2f3ab59af4676ab52a05eb32f9a8b",
            "placeholder": "​",
            "style": "IPY_MODEL_f7b02fa5be3b4b308a0c47835a0bed24",
            "value": " 116k/116k [00:00&lt;00:00, 128kB/s]"
          }
        },
        "c393cb56f411468b9076cf5b9f835e3d": {
          "model_module": "@jupyter-widgets/base",
          "model_name": "LayoutModel",
          "model_module_version": "1.2.0",
          "state": {
            "_model_module": "@jupyter-widgets/base",
            "_model_module_version": "1.2.0",
            "_model_name": "LayoutModel",
            "_view_count": null,
            "_view_module": "@jupyter-widgets/base",
            "_view_module_version": "1.2.0",
            "_view_name": "LayoutView",
            "align_content": null,
            "align_items": null,
            "align_self": null,
            "border": null,
            "bottom": null,
            "display": null,
            "flex": null,
            "flex_flow": null,
            "grid_area": null,
            "grid_auto_columns": null,
            "grid_auto_flow": null,
            "grid_auto_rows": null,
            "grid_column": null,
            "grid_gap": null,
            "grid_row": null,
            "grid_template_areas": null,
            "grid_template_columns": null,
            "grid_template_rows": null,
            "height": null,
            "justify_content": null,
            "justify_items": null,
            "left": null,
            "margin": null,
            "max_height": null,
            "max_width": null,
            "min_height": null,
            "min_width": null,
            "object_fit": null,
            "object_position": null,
            "order": null,
            "overflow": null,
            "overflow_x": null,
            "overflow_y": null,
            "padding": null,
            "right": null,
            "top": null,
            "visibility": null,
            "width": null
          }
        },
        "074dec61c3ce4947a48c34b4d9398473": {
          "model_module": "@jupyter-widgets/base",
          "model_name": "LayoutModel",
          "model_module_version": "1.2.0",
          "state": {
            "_model_module": "@jupyter-widgets/base",
            "_model_module_version": "1.2.0",
            "_model_name": "LayoutModel",
            "_view_count": null,
            "_view_module": "@jupyter-widgets/base",
            "_view_module_version": "1.2.0",
            "_view_name": "LayoutView",
            "align_content": null,
            "align_items": null,
            "align_self": null,
            "border": null,
            "bottom": null,
            "display": null,
            "flex": null,
            "flex_flow": null,
            "grid_area": null,
            "grid_auto_columns": null,
            "grid_auto_flow": null,
            "grid_auto_rows": null,
            "grid_column": null,
            "grid_gap": null,
            "grid_row": null,
            "grid_template_areas": null,
            "grid_template_columns": null,
            "grid_template_rows": null,
            "height": null,
            "justify_content": null,
            "justify_items": null,
            "left": null,
            "margin": null,
            "max_height": null,
            "max_width": null,
            "min_height": null,
            "min_width": null,
            "object_fit": null,
            "object_position": null,
            "order": null,
            "overflow": null,
            "overflow_x": null,
            "overflow_y": null,
            "padding": null,
            "right": null,
            "top": null,
            "visibility": null,
            "width": null
          }
        },
        "e21b8677853d4266a6235e30ab61b058": {
          "model_module": "@jupyter-widgets/controls",
          "model_name": "DescriptionStyleModel",
          "model_module_version": "1.5.0",
          "state": {
            "_model_module": "@jupyter-widgets/controls",
            "_model_module_version": "1.5.0",
            "_model_name": "DescriptionStyleModel",
            "_view_count": null,
            "_view_module": "@jupyter-widgets/base",
            "_view_module_version": "1.2.0",
            "_view_name": "StyleView",
            "description_width": ""
          }
        },
        "bb2b54a982474d9d89e4f1bc02b4ffe4": {
          "model_module": "@jupyter-widgets/base",
          "model_name": "LayoutModel",
          "model_module_version": "1.2.0",
          "state": {
            "_model_module": "@jupyter-widgets/base",
            "_model_module_version": "1.2.0",
            "_model_name": "LayoutModel",
            "_view_count": null,
            "_view_module": "@jupyter-widgets/base",
            "_view_module_version": "1.2.0",
            "_view_name": "LayoutView",
            "align_content": null,
            "align_items": null,
            "align_self": null,
            "border": null,
            "bottom": null,
            "display": null,
            "flex": null,
            "flex_flow": null,
            "grid_area": null,
            "grid_auto_columns": null,
            "grid_auto_flow": null,
            "grid_auto_rows": null,
            "grid_column": null,
            "grid_gap": null,
            "grid_row": null,
            "grid_template_areas": null,
            "grid_template_columns": null,
            "grid_template_rows": null,
            "height": null,
            "justify_content": null,
            "justify_items": null,
            "left": null,
            "margin": null,
            "max_height": null,
            "max_width": null,
            "min_height": null,
            "min_width": null,
            "object_fit": null,
            "object_position": null,
            "order": null,
            "overflow": null,
            "overflow_x": null,
            "overflow_y": null,
            "padding": null,
            "right": null,
            "top": null,
            "visibility": null,
            "width": null
          }
        },
        "60dcd23f40c64c1fa582446b59fe69be": {
          "model_module": "@jupyter-widgets/controls",
          "model_name": "ProgressStyleModel",
          "model_module_version": "1.5.0",
          "state": {
            "_model_module": "@jupyter-widgets/controls",
            "_model_module_version": "1.5.0",
            "_model_name": "ProgressStyleModel",
            "_view_count": null,
            "_view_module": "@jupyter-widgets/base",
            "_view_module_version": "1.2.0",
            "_view_name": "StyleView",
            "bar_color": null,
            "description_width": ""
          }
        },
        "a4c2f3ab59af4676ab52a05eb32f9a8b": {
          "model_module": "@jupyter-widgets/base",
          "model_name": "LayoutModel",
          "model_module_version": "1.2.0",
          "state": {
            "_model_module": "@jupyter-widgets/base",
            "_model_module_version": "1.2.0",
            "_model_name": "LayoutModel",
            "_view_count": null,
            "_view_module": "@jupyter-widgets/base",
            "_view_module_version": "1.2.0",
            "_view_name": "LayoutView",
            "align_content": null,
            "align_items": null,
            "align_self": null,
            "border": null,
            "bottom": null,
            "display": null,
            "flex": null,
            "flex_flow": null,
            "grid_area": null,
            "grid_auto_columns": null,
            "grid_auto_flow": null,
            "grid_auto_rows": null,
            "grid_column": null,
            "grid_gap": null,
            "grid_row": null,
            "grid_template_areas": null,
            "grid_template_columns": null,
            "grid_template_rows": null,
            "height": null,
            "justify_content": null,
            "justify_items": null,
            "left": null,
            "margin": null,
            "max_height": null,
            "max_width": null,
            "min_height": null,
            "min_width": null,
            "object_fit": null,
            "object_position": null,
            "order": null,
            "overflow": null,
            "overflow_x": null,
            "overflow_y": null,
            "padding": null,
            "right": null,
            "top": null,
            "visibility": null,
            "width": null
          }
        },
        "f7b02fa5be3b4b308a0c47835a0bed24": {
          "model_module": "@jupyter-widgets/controls",
          "model_name": "DescriptionStyleModel",
          "model_module_version": "1.5.0",
          "state": {
            "_model_module": "@jupyter-widgets/controls",
            "_model_module_version": "1.5.0",
            "_model_name": "DescriptionStyleModel",
            "_view_count": null,
            "_view_module": "@jupyter-widgets/base",
            "_view_module_version": "1.2.0",
            "_view_name": "StyleView",
            "description_width": ""
          }
        },
        "292eeb50c4474ea3a91a5bbbe8d1cdef": {
          "model_module": "@jupyter-widgets/controls",
          "model_name": "HBoxModel",
          "model_module_version": "1.5.0",
          "state": {
            "_dom_classes": [],
            "_model_module": "@jupyter-widgets/controls",
            "_model_module_version": "1.5.0",
            "_model_name": "HBoxModel",
            "_view_count": null,
            "_view_module": "@jupyter-widgets/controls",
            "_view_module_version": "1.5.0",
            "_view_name": "HBoxView",
            "box_style": "",
            "children": [
              "IPY_MODEL_b6349e4285ae413e910bb39bd8c77916",
              "IPY_MODEL_c440a0bab15b4745881f90f53296152f",
              "IPY_MODEL_351b5f1199e44da1bbad68294c1e8105"
            ],
            "layout": "IPY_MODEL_9678ce1a2ff84591a90903ce09b407f8"
          }
        },
        "b6349e4285ae413e910bb39bd8c77916": {
          "model_module": "@jupyter-widgets/controls",
          "model_name": "HTMLModel",
          "model_module_version": "1.5.0",
          "state": {
            "_dom_classes": [],
            "_model_module": "@jupyter-widgets/controls",
            "_model_module_version": "1.5.0",
            "_model_name": "HTMLModel",
            "_view_count": null,
            "_view_module": "@jupyter-widgets/controls",
            "_view_module_version": "1.5.0",
            "_view_name": "HTMLView",
            "description": "",
            "description_tooltip": null,
            "layout": "IPY_MODEL_8768b987c07f432b9fc7bd084eb471bc",
            "placeholder": "​",
            "style": "IPY_MODEL_e6bd57e357844776b280c27ce6b74d77",
            "value": "Downloading readme: 100%"
          }
        },
        "c440a0bab15b4745881f90f53296152f": {
          "model_module": "@jupyter-widgets/controls",
          "model_name": "FloatProgressModel",
          "model_module_version": "1.5.0",
          "state": {
            "_dom_classes": [],
            "_model_module": "@jupyter-widgets/controls",
            "_model_module_version": "1.5.0",
            "_model_name": "FloatProgressModel",
            "_view_count": null,
            "_view_module": "@jupyter-widgets/controls",
            "_view_module_version": "1.5.0",
            "_view_name": "ProgressView",
            "bar_style": "success",
            "description": "",
            "description_tooltip": null,
            "layout": "IPY_MODEL_47077f795ac84f7a9459ea3eeb2b8e84",
            "max": 20914,
            "min": 0,
            "orientation": "horizontal",
            "style": "IPY_MODEL_2a19e24306304bc0bb63e85dd8b95726",
            "value": 20914
          }
        },
        "351b5f1199e44da1bbad68294c1e8105": {
          "model_module": "@jupyter-widgets/controls",
          "model_name": "HTMLModel",
          "model_module_version": "1.5.0",
          "state": {
            "_dom_classes": [],
            "_model_module": "@jupyter-widgets/controls",
            "_model_module_version": "1.5.0",
            "_model_name": "HTMLModel",
            "_view_count": null,
            "_view_module": "@jupyter-widgets/controls",
            "_view_module_version": "1.5.0",
            "_view_name": "HTMLView",
            "description": "",
            "description_tooltip": null,
            "layout": "IPY_MODEL_13715682415c410f9c2cefb4e9115924",
            "placeholder": "​",
            "style": "IPY_MODEL_bd5f8dbe62ed43e18c54da2ce9ee3ac5",
            "value": " 20.9k/20.9k [00:00&lt;00:00, 54.9kB/s]"
          }
        },
        "9678ce1a2ff84591a90903ce09b407f8": {
          "model_module": "@jupyter-widgets/base",
          "model_name": "LayoutModel",
          "model_module_version": "1.2.0",
          "state": {
            "_model_module": "@jupyter-widgets/base",
            "_model_module_version": "1.2.0",
            "_model_name": "LayoutModel",
            "_view_count": null,
            "_view_module": "@jupyter-widgets/base",
            "_view_module_version": "1.2.0",
            "_view_name": "LayoutView",
            "align_content": null,
            "align_items": null,
            "align_self": null,
            "border": null,
            "bottom": null,
            "display": null,
            "flex": null,
            "flex_flow": null,
            "grid_area": null,
            "grid_auto_columns": null,
            "grid_auto_flow": null,
            "grid_auto_rows": null,
            "grid_column": null,
            "grid_gap": null,
            "grid_row": null,
            "grid_template_areas": null,
            "grid_template_columns": null,
            "grid_template_rows": null,
            "height": null,
            "justify_content": null,
            "justify_items": null,
            "left": null,
            "margin": null,
            "max_height": null,
            "max_width": null,
            "min_height": null,
            "min_width": null,
            "object_fit": null,
            "object_position": null,
            "order": null,
            "overflow": null,
            "overflow_x": null,
            "overflow_y": null,
            "padding": null,
            "right": null,
            "top": null,
            "visibility": null,
            "width": null
          }
        },
        "8768b987c07f432b9fc7bd084eb471bc": {
          "model_module": "@jupyter-widgets/base",
          "model_name": "LayoutModel",
          "model_module_version": "1.2.0",
          "state": {
            "_model_module": "@jupyter-widgets/base",
            "_model_module_version": "1.2.0",
            "_model_name": "LayoutModel",
            "_view_count": null,
            "_view_module": "@jupyter-widgets/base",
            "_view_module_version": "1.2.0",
            "_view_name": "LayoutView",
            "align_content": null,
            "align_items": null,
            "align_self": null,
            "border": null,
            "bottom": null,
            "display": null,
            "flex": null,
            "flex_flow": null,
            "grid_area": null,
            "grid_auto_columns": null,
            "grid_auto_flow": null,
            "grid_auto_rows": null,
            "grid_column": null,
            "grid_gap": null,
            "grid_row": null,
            "grid_template_areas": null,
            "grid_template_columns": null,
            "grid_template_rows": null,
            "height": null,
            "justify_content": null,
            "justify_items": null,
            "left": null,
            "margin": null,
            "max_height": null,
            "max_width": null,
            "min_height": null,
            "min_width": null,
            "object_fit": null,
            "object_position": null,
            "order": null,
            "overflow": null,
            "overflow_x": null,
            "overflow_y": null,
            "padding": null,
            "right": null,
            "top": null,
            "visibility": null,
            "width": null
          }
        },
        "e6bd57e357844776b280c27ce6b74d77": {
          "model_module": "@jupyter-widgets/controls",
          "model_name": "DescriptionStyleModel",
          "model_module_version": "1.5.0",
          "state": {
            "_model_module": "@jupyter-widgets/controls",
            "_model_module_version": "1.5.0",
            "_model_name": "DescriptionStyleModel",
            "_view_count": null,
            "_view_module": "@jupyter-widgets/base",
            "_view_module_version": "1.2.0",
            "_view_name": "StyleView",
            "description_width": ""
          }
        },
        "47077f795ac84f7a9459ea3eeb2b8e84": {
          "model_module": "@jupyter-widgets/base",
          "model_name": "LayoutModel",
          "model_module_version": "1.2.0",
          "state": {
            "_model_module": "@jupyter-widgets/base",
            "_model_module_version": "1.2.0",
            "_model_name": "LayoutModel",
            "_view_count": null,
            "_view_module": "@jupyter-widgets/base",
            "_view_module_version": "1.2.0",
            "_view_name": "LayoutView",
            "align_content": null,
            "align_items": null,
            "align_self": null,
            "border": null,
            "bottom": null,
            "display": null,
            "flex": null,
            "flex_flow": null,
            "grid_area": null,
            "grid_auto_columns": null,
            "grid_auto_flow": null,
            "grid_auto_rows": null,
            "grid_column": null,
            "grid_gap": null,
            "grid_row": null,
            "grid_template_areas": null,
            "grid_template_columns": null,
            "grid_template_rows": null,
            "height": null,
            "justify_content": null,
            "justify_items": null,
            "left": null,
            "margin": null,
            "max_height": null,
            "max_width": null,
            "min_height": null,
            "min_width": null,
            "object_fit": null,
            "object_position": null,
            "order": null,
            "overflow": null,
            "overflow_x": null,
            "overflow_y": null,
            "padding": null,
            "right": null,
            "top": null,
            "visibility": null,
            "width": null
          }
        },
        "2a19e24306304bc0bb63e85dd8b95726": {
          "model_module": "@jupyter-widgets/controls",
          "model_name": "ProgressStyleModel",
          "model_module_version": "1.5.0",
          "state": {
            "_model_module": "@jupyter-widgets/controls",
            "_model_module_version": "1.5.0",
            "_model_name": "ProgressStyleModel",
            "_view_count": null,
            "_view_module": "@jupyter-widgets/base",
            "_view_module_version": "1.2.0",
            "_view_name": "StyleView",
            "bar_color": null,
            "description_width": ""
          }
        },
        "13715682415c410f9c2cefb4e9115924": {
          "model_module": "@jupyter-widgets/base",
          "model_name": "LayoutModel",
          "model_module_version": "1.2.0",
          "state": {
            "_model_module": "@jupyter-widgets/base",
            "_model_module_version": "1.2.0",
            "_model_name": "LayoutModel",
            "_view_count": null,
            "_view_module": "@jupyter-widgets/base",
            "_view_module_version": "1.2.0",
            "_view_name": "LayoutView",
            "align_content": null,
            "align_items": null,
            "align_self": null,
            "border": null,
            "bottom": null,
            "display": null,
            "flex": null,
            "flex_flow": null,
            "grid_area": null,
            "grid_auto_columns": null,
            "grid_auto_flow": null,
            "grid_auto_rows": null,
            "grid_column": null,
            "grid_gap": null,
            "grid_row": null,
            "grid_template_areas": null,
            "grid_template_columns": null,
            "grid_template_rows": null,
            "height": null,
            "justify_content": null,
            "justify_items": null,
            "left": null,
            "margin": null,
            "max_height": null,
            "max_width": null,
            "min_height": null,
            "min_width": null,
            "object_fit": null,
            "object_position": null,
            "order": null,
            "overflow": null,
            "overflow_x": null,
            "overflow_y": null,
            "padding": null,
            "right": null,
            "top": null,
            "visibility": null,
            "width": null
          }
        },
        "bd5f8dbe62ed43e18c54da2ce9ee3ac5": {
          "model_module": "@jupyter-widgets/controls",
          "model_name": "DescriptionStyleModel",
          "model_module_version": "1.5.0",
          "state": {
            "_model_module": "@jupyter-widgets/controls",
            "_model_module_version": "1.5.0",
            "_model_name": "DescriptionStyleModel",
            "_view_count": null,
            "_view_module": "@jupyter-widgets/base",
            "_view_module_version": "1.2.0",
            "_view_name": "StyleView",
            "description_width": ""
          }
        },
        "279b0aae21354045b26a3e3125822a1e": {
          "model_module": "@jupyter-widgets/controls",
          "model_name": "HBoxModel",
          "model_module_version": "1.5.0",
          "state": {
            "_dom_classes": [],
            "_model_module": "@jupyter-widgets/controls",
            "_model_module_version": "1.5.0",
            "_model_name": "HBoxModel",
            "_view_count": null,
            "_view_module": "@jupyter-widgets/controls",
            "_view_module_version": "1.5.0",
            "_view_name": "HBoxView",
            "box_style": "",
            "children": [
              "IPY_MODEL_40647e89ec35440a883b0e7bdb89a527",
              "IPY_MODEL_c4994498661449b0a6d753138ac38079",
              "IPY_MODEL_5c0959329ec34153a8a3a9b5daeff0f9"
            ],
            "layout": "IPY_MODEL_bb150b48958642d6be5d61e66d7d81aa"
          }
        },
        "40647e89ec35440a883b0e7bdb89a527": {
          "model_module": "@jupyter-widgets/controls",
          "model_name": "HTMLModel",
          "model_module_version": "1.5.0",
          "state": {
            "_dom_classes": [],
            "_model_module": "@jupyter-widgets/controls",
            "_model_module_version": "1.5.0",
            "_model_name": "HTMLModel",
            "_view_count": null,
            "_view_module": "@jupyter-widgets/controls",
            "_view_module_version": "1.5.0",
            "_view_name": "HTMLView",
            "description": "",
            "description_tooltip": null,
            "layout": "IPY_MODEL_ae091c27ea904c7cb775c7e7f995eacb",
            "placeholder": "​",
            "style": "IPY_MODEL_fb845eb7b43540aaae59e017c9062fc3",
            "value": "Downloading data: 100%"
          }
        },
        "c4994498661449b0a6d753138ac38079": {
          "model_module": "@jupyter-widgets/controls",
          "model_name": "FloatProgressModel",
          "model_module_version": "1.5.0",
          "state": {
            "_dom_classes": [],
            "_model_module": "@jupyter-widgets/controls",
            "_model_module_version": "1.5.0",
            "_model_name": "FloatProgressModel",
            "_view_count": null,
            "_view_module": "@jupyter-widgets/controls",
            "_view_module_version": "1.5.0",
            "_view_name": "ProgressView",
            "bar_style": "success",
            "description": "",
            "description_tooltip": null,
            "layout": "IPY_MODEL_b663c8ea9a834543bdcf6bb3625d7950",
            "max": 18101984,
            "min": 0,
            "orientation": "horizontal",
            "style": "IPY_MODEL_9205cf151517408a8e4a3b1be61a084b",
            "value": 18101984
          }
        },
        "5c0959329ec34153a8a3a9b5daeff0f9": {
          "model_module": "@jupyter-widgets/controls",
          "model_name": "HTMLModel",
          "model_module_version": "1.5.0",
          "state": {
            "_dom_classes": [],
            "_model_module": "@jupyter-widgets/controls",
            "_model_module_version": "1.5.0",
            "_model_name": "HTMLModel",
            "_view_count": null,
            "_view_module": "@jupyter-widgets/controls",
            "_view_module_version": "1.5.0",
            "_view_name": "HTMLView",
            "description": "",
            "description_tooltip": null,
            "layout": "IPY_MODEL_7be132353d78434b9785951cfb5f1894",
            "placeholder": "​",
            "style": "IPY_MODEL_69be865a79ea4b91ac0fd31ed4bf267a",
            "value": " 18.1M/18.1M [00:03&lt;00:00, 8.32MB/s]"
          }
        },
        "bb150b48958642d6be5d61e66d7d81aa": {
          "model_module": "@jupyter-widgets/base",
          "model_name": "LayoutModel",
          "model_module_version": "1.2.0",
          "state": {
            "_model_module": "@jupyter-widgets/base",
            "_model_module_version": "1.2.0",
            "_model_name": "LayoutModel",
            "_view_count": null,
            "_view_module": "@jupyter-widgets/base",
            "_view_module_version": "1.2.0",
            "_view_name": "LayoutView",
            "align_content": null,
            "align_items": null,
            "align_self": null,
            "border": null,
            "bottom": null,
            "display": null,
            "flex": null,
            "flex_flow": null,
            "grid_area": null,
            "grid_auto_columns": null,
            "grid_auto_flow": null,
            "grid_auto_rows": null,
            "grid_column": null,
            "grid_gap": null,
            "grid_row": null,
            "grid_template_areas": null,
            "grid_template_columns": null,
            "grid_template_rows": null,
            "height": null,
            "justify_content": null,
            "justify_items": null,
            "left": null,
            "margin": null,
            "max_height": null,
            "max_width": null,
            "min_height": null,
            "min_width": null,
            "object_fit": null,
            "object_position": null,
            "order": null,
            "overflow": null,
            "overflow_x": null,
            "overflow_y": null,
            "padding": null,
            "right": null,
            "top": null,
            "visibility": null,
            "width": null
          }
        },
        "ae091c27ea904c7cb775c7e7f995eacb": {
          "model_module": "@jupyter-widgets/base",
          "model_name": "LayoutModel",
          "model_module_version": "1.2.0",
          "state": {
            "_model_module": "@jupyter-widgets/base",
            "_model_module_version": "1.2.0",
            "_model_name": "LayoutModel",
            "_view_count": null,
            "_view_module": "@jupyter-widgets/base",
            "_view_module_version": "1.2.0",
            "_view_name": "LayoutView",
            "align_content": null,
            "align_items": null,
            "align_self": null,
            "border": null,
            "bottom": null,
            "display": null,
            "flex": null,
            "flex_flow": null,
            "grid_area": null,
            "grid_auto_columns": null,
            "grid_auto_flow": null,
            "grid_auto_rows": null,
            "grid_column": null,
            "grid_gap": null,
            "grid_row": null,
            "grid_template_areas": null,
            "grid_template_columns": null,
            "grid_template_rows": null,
            "height": null,
            "justify_content": null,
            "justify_items": null,
            "left": null,
            "margin": null,
            "max_height": null,
            "max_width": null,
            "min_height": null,
            "min_width": null,
            "object_fit": null,
            "object_position": null,
            "order": null,
            "overflow": null,
            "overflow_x": null,
            "overflow_y": null,
            "padding": null,
            "right": null,
            "top": null,
            "visibility": null,
            "width": null
          }
        },
        "fb845eb7b43540aaae59e017c9062fc3": {
          "model_module": "@jupyter-widgets/controls",
          "model_name": "DescriptionStyleModel",
          "model_module_version": "1.5.0",
          "state": {
            "_model_module": "@jupyter-widgets/controls",
            "_model_module_version": "1.5.0",
            "_model_name": "DescriptionStyleModel",
            "_view_count": null,
            "_view_module": "@jupyter-widgets/base",
            "_view_module_version": "1.2.0",
            "_view_name": "StyleView",
            "description_width": ""
          }
        },
        "b663c8ea9a834543bdcf6bb3625d7950": {
          "model_module": "@jupyter-widgets/base",
          "model_name": "LayoutModel",
          "model_module_version": "1.2.0",
          "state": {
            "_model_module": "@jupyter-widgets/base",
            "_model_module_version": "1.2.0",
            "_model_name": "LayoutModel",
            "_view_count": null,
            "_view_module": "@jupyter-widgets/base",
            "_view_module_version": "1.2.0",
            "_view_name": "LayoutView",
            "align_content": null,
            "align_items": null,
            "align_self": null,
            "border": null,
            "bottom": null,
            "display": null,
            "flex": null,
            "flex_flow": null,
            "grid_area": null,
            "grid_auto_columns": null,
            "grid_auto_flow": null,
            "grid_auto_rows": null,
            "grid_column": null,
            "grid_gap": null,
            "grid_row": null,
            "grid_template_areas": null,
            "grid_template_columns": null,
            "grid_template_rows": null,
            "height": null,
            "justify_content": null,
            "justify_items": null,
            "left": null,
            "margin": null,
            "max_height": null,
            "max_width": null,
            "min_height": null,
            "min_width": null,
            "object_fit": null,
            "object_position": null,
            "order": null,
            "overflow": null,
            "overflow_x": null,
            "overflow_y": null,
            "padding": null,
            "right": null,
            "top": null,
            "visibility": null,
            "width": null
          }
        },
        "9205cf151517408a8e4a3b1be61a084b": {
          "model_module": "@jupyter-widgets/controls",
          "model_name": "ProgressStyleModel",
          "model_module_version": "1.5.0",
          "state": {
            "_model_module": "@jupyter-widgets/controls",
            "_model_module_version": "1.5.0",
            "_model_name": "ProgressStyleModel",
            "_view_count": null,
            "_view_module": "@jupyter-widgets/base",
            "_view_module_version": "1.2.0",
            "_view_name": "StyleView",
            "bar_color": null,
            "description_width": ""
          }
        },
        "7be132353d78434b9785951cfb5f1894": {
          "model_module": "@jupyter-widgets/base",
          "model_name": "LayoutModel",
          "model_module_version": "1.2.0",
          "state": {
            "_model_module": "@jupyter-widgets/base",
            "_model_module_version": "1.2.0",
            "_model_name": "LayoutModel",
            "_view_count": null,
            "_view_module": "@jupyter-widgets/base",
            "_view_module_version": "1.2.0",
            "_view_name": "LayoutView",
            "align_content": null,
            "align_items": null,
            "align_self": null,
            "border": null,
            "bottom": null,
            "display": null,
            "flex": null,
            "flex_flow": null,
            "grid_area": null,
            "grid_auto_columns": null,
            "grid_auto_flow": null,
            "grid_auto_rows": null,
            "grid_column": null,
            "grid_gap": null,
            "grid_row": null,
            "grid_template_areas": null,
            "grid_template_columns": null,
            "grid_template_rows": null,
            "height": null,
            "justify_content": null,
            "justify_items": null,
            "left": null,
            "margin": null,
            "max_height": null,
            "max_width": null,
            "min_height": null,
            "min_width": null,
            "object_fit": null,
            "object_position": null,
            "order": null,
            "overflow": null,
            "overflow_x": null,
            "overflow_y": null,
            "padding": null,
            "right": null,
            "top": null,
            "visibility": null,
            "width": null
          }
        },
        "69be865a79ea4b91ac0fd31ed4bf267a": {
          "model_module": "@jupyter-widgets/controls",
          "model_name": "DescriptionStyleModel",
          "model_module_version": "1.5.0",
          "state": {
            "_model_module": "@jupyter-widgets/controls",
            "_model_module_version": "1.5.0",
            "_model_name": "DescriptionStyleModel",
            "_view_count": null,
            "_view_module": "@jupyter-widgets/base",
            "_view_module_version": "1.2.0",
            "_view_name": "StyleView",
            "description_width": ""
          }
        },
        "b0c1e841aa35464b87854f26e0b4c545": {
          "model_module": "@jupyter-widgets/controls",
          "model_name": "HBoxModel",
          "model_module_version": "1.5.0",
          "state": {
            "_dom_classes": [],
            "_model_module": "@jupyter-widgets/controls",
            "_model_module_version": "1.5.0",
            "_model_name": "HBoxModel",
            "_view_count": null,
            "_view_module": "@jupyter-widgets/controls",
            "_view_module_version": "1.5.0",
            "_view_name": "HBoxView",
            "box_style": "",
            "children": [
              "IPY_MODEL_2a5eb0e126014d02b70005fe91a98292",
              "IPY_MODEL_4afa12d126f341a69e5e089566d51557",
              "IPY_MODEL_d7286cad33df4140b58c28fe4137e48a"
            ],
            "layout": "IPY_MODEL_1857609d7e8a43aeb292d2a279840634"
          }
        },
        "2a5eb0e126014d02b70005fe91a98292": {
          "model_module": "@jupyter-widgets/controls",
          "model_name": "HTMLModel",
          "model_module_version": "1.5.0",
          "state": {
            "_dom_classes": [],
            "_model_module": "@jupyter-widgets/controls",
            "_model_module_version": "1.5.0",
            "_model_name": "HTMLModel",
            "_view_count": null,
            "_view_module": "@jupyter-widgets/controls",
            "_view_module_version": "1.5.0",
            "_view_name": "HTMLView",
            "description": "",
            "description_tooltip": null,
            "layout": "IPY_MODEL_fd9e8817ae1c4c88913a91d4356922f7",
            "placeholder": "​",
            "style": "IPY_MODEL_3f7923cf778c4a43843a2218b85a00ff",
            "value": "Generating train split: 100%"
          }
        },
        "4afa12d126f341a69e5e089566d51557": {
          "model_module": "@jupyter-widgets/controls",
          "model_name": "FloatProgressModel",
          "model_module_version": "1.5.0",
          "state": {
            "_dom_classes": [],
            "_model_module": "@jupyter-widgets/controls",
            "_model_module_version": "1.5.0",
            "_model_name": "FloatProgressModel",
            "_view_count": null,
            "_view_module": "@jupyter-widgets/controls",
            "_view_module_version": "1.5.0",
            "_view_name": "ProgressView",
            "bar_style": "",
            "description": "",
            "description_tooltip": null,
            "layout": "IPY_MODEL_f25d8572e4b743559b9c2943b19e72b6",
            "max": 69206,
            "min": 0,
            "orientation": "horizontal",
            "style": "IPY_MODEL_1fd22a311c5e43fcb20ef4506c92e001",
            "value": 69206
          }
        },
        "d7286cad33df4140b58c28fe4137e48a": {
          "model_module": "@jupyter-widgets/controls",
          "model_name": "HTMLModel",
          "model_module_version": "1.5.0",
          "state": {
            "_dom_classes": [],
            "_model_module": "@jupyter-widgets/controls",
            "_model_module_version": "1.5.0",
            "_model_name": "HTMLModel",
            "_view_count": null,
            "_view_module": "@jupyter-widgets/controls",
            "_view_module_version": "1.5.0",
            "_view_name": "HTMLView",
            "description": "",
            "description_tooltip": null,
            "layout": "IPY_MODEL_3b7bd46755cf4304973567410ff26a59",
            "placeholder": "​",
            "style": "IPY_MODEL_085bda1c86864586bd082a91e9459929",
            "value": " 69206/69206 [00:14&lt;00:00, 20913.35 examples/s]"
          }
        },
        "1857609d7e8a43aeb292d2a279840634": {
          "model_module": "@jupyter-widgets/base",
          "model_name": "LayoutModel",
          "model_module_version": "1.2.0",
          "state": {
            "_model_module": "@jupyter-widgets/base",
            "_model_module_version": "1.2.0",
            "_model_name": "LayoutModel",
            "_view_count": null,
            "_view_module": "@jupyter-widgets/base",
            "_view_module_version": "1.2.0",
            "_view_name": "LayoutView",
            "align_content": null,
            "align_items": null,
            "align_self": null,
            "border": null,
            "bottom": null,
            "display": null,
            "flex": null,
            "flex_flow": null,
            "grid_area": null,
            "grid_auto_columns": null,
            "grid_auto_flow": null,
            "grid_auto_rows": null,
            "grid_column": null,
            "grid_gap": null,
            "grid_row": null,
            "grid_template_areas": null,
            "grid_template_columns": null,
            "grid_template_rows": null,
            "height": null,
            "justify_content": null,
            "justify_items": null,
            "left": null,
            "margin": null,
            "max_height": null,
            "max_width": null,
            "min_height": null,
            "min_width": null,
            "object_fit": null,
            "object_position": null,
            "order": null,
            "overflow": null,
            "overflow_x": null,
            "overflow_y": null,
            "padding": null,
            "right": null,
            "top": null,
            "visibility": null,
            "width": null
          }
        },
        "fd9e8817ae1c4c88913a91d4356922f7": {
          "model_module": "@jupyter-widgets/base",
          "model_name": "LayoutModel",
          "model_module_version": "1.2.0",
          "state": {
            "_model_module": "@jupyter-widgets/base",
            "_model_module_version": "1.2.0",
            "_model_name": "LayoutModel",
            "_view_count": null,
            "_view_module": "@jupyter-widgets/base",
            "_view_module_version": "1.2.0",
            "_view_name": "LayoutView",
            "align_content": null,
            "align_items": null,
            "align_self": null,
            "border": null,
            "bottom": null,
            "display": null,
            "flex": null,
            "flex_flow": null,
            "grid_area": null,
            "grid_auto_columns": null,
            "grid_auto_flow": null,
            "grid_auto_rows": null,
            "grid_column": null,
            "grid_gap": null,
            "grid_row": null,
            "grid_template_areas": null,
            "grid_template_columns": null,
            "grid_template_rows": null,
            "height": null,
            "justify_content": null,
            "justify_items": null,
            "left": null,
            "margin": null,
            "max_height": null,
            "max_width": null,
            "min_height": null,
            "min_width": null,
            "object_fit": null,
            "object_position": null,
            "order": null,
            "overflow": null,
            "overflow_x": null,
            "overflow_y": null,
            "padding": null,
            "right": null,
            "top": null,
            "visibility": null,
            "width": null
          }
        },
        "3f7923cf778c4a43843a2218b85a00ff": {
          "model_module": "@jupyter-widgets/controls",
          "model_name": "DescriptionStyleModel",
          "model_module_version": "1.5.0",
          "state": {
            "_model_module": "@jupyter-widgets/controls",
            "_model_module_version": "1.5.0",
            "_model_name": "DescriptionStyleModel",
            "_view_count": null,
            "_view_module": "@jupyter-widgets/base",
            "_view_module_version": "1.2.0",
            "_view_name": "StyleView",
            "description_width": ""
          }
        },
        "f25d8572e4b743559b9c2943b19e72b6": {
          "model_module": "@jupyter-widgets/base",
          "model_name": "LayoutModel",
          "model_module_version": "1.2.0",
          "state": {
            "_model_module": "@jupyter-widgets/base",
            "_model_module_version": "1.2.0",
            "_model_name": "LayoutModel",
            "_view_count": null,
            "_view_module": "@jupyter-widgets/base",
            "_view_module_version": "1.2.0",
            "_view_name": "LayoutView",
            "align_content": null,
            "align_items": null,
            "align_self": null,
            "border": null,
            "bottom": null,
            "display": null,
            "flex": null,
            "flex_flow": null,
            "grid_area": null,
            "grid_auto_columns": null,
            "grid_auto_flow": null,
            "grid_auto_rows": null,
            "grid_column": null,
            "grid_gap": null,
            "grid_row": null,
            "grid_template_areas": null,
            "grid_template_columns": null,
            "grid_template_rows": null,
            "height": null,
            "justify_content": null,
            "justify_items": null,
            "left": null,
            "margin": null,
            "max_height": null,
            "max_width": null,
            "min_height": null,
            "min_width": null,
            "object_fit": null,
            "object_position": null,
            "order": null,
            "overflow": null,
            "overflow_x": null,
            "overflow_y": null,
            "padding": null,
            "right": null,
            "top": null,
            "visibility": null,
            "width": null
          }
        },
        "1fd22a311c5e43fcb20ef4506c92e001": {
          "model_module": "@jupyter-widgets/controls",
          "model_name": "ProgressStyleModel",
          "model_module_version": "1.5.0",
          "state": {
            "_model_module": "@jupyter-widgets/controls",
            "_model_module_version": "1.5.0",
            "_model_name": "ProgressStyleModel",
            "_view_count": null,
            "_view_module": "@jupyter-widgets/base",
            "_view_module_version": "1.2.0",
            "_view_name": "StyleView",
            "bar_color": null,
            "description_width": ""
          }
        },
        "3b7bd46755cf4304973567410ff26a59": {
          "model_module": "@jupyter-widgets/base",
          "model_name": "LayoutModel",
          "model_module_version": "1.2.0",
          "state": {
            "_model_module": "@jupyter-widgets/base",
            "_model_module_version": "1.2.0",
            "_model_name": "LayoutModel",
            "_view_count": null,
            "_view_module": "@jupyter-widgets/base",
            "_view_module_version": "1.2.0",
            "_view_name": "LayoutView",
            "align_content": null,
            "align_items": null,
            "align_self": null,
            "border": null,
            "bottom": null,
            "display": null,
            "flex": null,
            "flex_flow": null,
            "grid_area": null,
            "grid_auto_columns": null,
            "grid_auto_flow": null,
            "grid_auto_rows": null,
            "grid_column": null,
            "grid_gap": null,
            "grid_row": null,
            "grid_template_areas": null,
            "grid_template_columns": null,
            "grid_template_rows": null,
            "height": null,
            "justify_content": null,
            "justify_items": null,
            "left": null,
            "margin": null,
            "max_height": null,
            "max_width": null,
            "min_height": null,
            "min_width": null,
            "object_fit": null,
            "object_position": null,
            "order": null,
            "overflow": null,
            "overflow_x": null,
            "overflow_y": null,
            "padding": null,
            "right": null,
            "top": null,
            "visibility": null,
            "width": null
          }
        },
        "085bda1c86864586bd082a91e9459929": {
          "model_module": "@jupyter-widgets/controls",
          "model_name": "DescriptionStyleModel",
          "model_module_version": "1.5.0",
          "state": {
            "_model_module": "@jupyter-widgets/controls",
            "_model_module_version": "1.5.0",
            "_model_name": "DescriptionStyleModel",
            "_view_count": null,
            "_view_module": "@jupyter-widgets/base",
            "_view_module_version": "1.2.0",
            "_view_name": "StyleView",
            "description_width": ""
          }
        },
        "a41887610db8424490c1da3ccbee2422": {
          "model_module": "@jupyter-widgets/controls",
          "model_name": "HBoxModel",
          "model_module_version": "1.5.0",
          "state": {
            "_dom_classes": [],
            "_model_module": "@jupyter-widgets/controls",
            "_model_module_version": "1.5.0",
            "_model_name": "HBoxModel",
            "_view_count": null,
            "_view_module": "@jupyter-widgets/controls",
            "_view_module_version": "1.5.0",
            "_view_name": "HBoxView",
            "box_style": "",
            "children": [
              "IPY_MODEL_8030b9ffdb12403fabfed9958db7f21e",
              "IPY_MODEL_dc069832ce2448069180fe823b13d69e",
              "IPY_MODEL_0f95fa23e4c24de2b3925822bd89e3c9"
            ],
            "layout": "IPY_MODEL_15a8aebb012b4a05b251783b6da16c4a"
          }
        },
        "8030b9ffdb12403fabfed9958db7f21e": {
          "model_module": "@jupyter-widgets/controls",
          "model_name": "HTMLModel",
          "model_module_version": "1.5.0",
          "state": {
            "_dom_classes": [],
            "_model_module": "@jupyter-widgets/controls",
            "_model_module_version": "1.5.0",
            "_model_name": "HTMLModel",
            "_view_count": null,
            "_view_module": "@jupyter-widgets/controls",
            "_view_module_version": "1.5.0",
            "_view_name": "HTMLView",
            "description": "",
            "description_tooltip": null,
            "layout": "IPY_MODEL_21d5168e6bd9478bb00b786228153196",
            "placeholder": "​",
            "style": "IPY_MODEL_1d4942dfa1584437922ef1d71efb6027",
            "value": "100%"
          }
        },
        "dc069832ce2448069180fe823b13d69e": {
          "model_module": "@jupyter-widgets/controls",
          "model_name": "FloatProgressModel",
          "model_module_version": "1.5.0",
          "state": {
            "_dom_classes": [],
            "_model_module": "@jupyter-widgets/controls",
            "_model_module_version": "1.5.0",
            "_model_name": "FloatProgressModel",
            "_view_count": null,
            "_view_module": "@jupyter-widgets/controls",
            "_view_module_version": "1.5.0",
            "_view_name": "ProgressView",
            "bar_style": "success",
            "description": "",
            "description_tooltip": null,
            "layout": "IPY_MODEL_61e84496b75344aeab1b3387136bc21f",
            "max": 1,
            "min": 0,
            "orientation": "horizontal",
            "style": "IPY_MODEL_1f0540e31403470c9d735d5e29e1e7ec",
            "value": 1
          }
        },
        "0f95fa23e4c24de2b3925822bd89e3c9": {
          "model_module": "@jupyter-widgets/controls",
          "model_name": "HTMLModel",
          "model_module_version": "1.5.0",
          "state": {
            "_dom_classes": [],
            "_model_module": "@jupyter-widgets/controls",
            "_model_module_version": "1.5.0",
            "_model_name": "HTMLModel",
            "_view_count": null,
            "_view_module": "@jupyter-widgets/controls",
            "_view_module_version": "1.5.0",
            "_view_name": "HTMLView",
            "description": "",
            "description_tooltip": null,
            "layout": "IPY_MODEL_dfd03f1f09054516b06bd04ab3b1dbcb",
            "placeholder": "​",
            "style": "IPY_MODEL_f472046029984d5c8b4d9002de75bd7e",
            "value": " 1/1 [00:00&lt;00:00, 32.97it/s]"
          }
        },
        "15a8aebb012b4a05b251783b6da16c4a": {
          "model_module": "@jupyter-widgets/base",
          "model_name": "LayoutModel",
          "model_module_version": "1.2.0",
          "state": {
            "_model_module": "@jupyter-widgets/base",
            "_model_module_version": "1.2.0",
            "_model_name": "LayoutModel",
            "_view_count": null,
            "_view_module": "@jupyter-widgets/base",
            "_view_module_version": "1.2.0",
            "_view_name": "LayoutView",
            "align_content": null,
            "align_items": null,
            "align_self": null,
            "border": null,
            "bottom": null,
            "display": null,
            "flex": null,
            "flex_flow": null,
            "grid_area": null,
            "grid_auto_columns": null,
            "grid_auto_flow": null,
            "grid_auto_rows": null,
            "grid_column": null,
            "grid_gap": null,
            "grid_row": null,
            "grid_template_areas": null,
            "grid_template_columns": null,
            "grid_template_rows": null,
            "height": null,
            "justify_content": null,
            "justify_items": null,
            "left": null,
            "margin": null,
            "max_height": null,
            "max_width": null,
            "min_height": null,
            "min_width": null,
            "object_fit": null,
            "object_position": null,
            "order": null,
            "overflow": null,
            "overflow_x": null,
            "overflow_y": null,
            "padding": null,
            "right": null,
            "top": null,
            "visibility": null,
            "width": null
          }
        },
        "21d5168e6bd9478bb00b786228153196": {
          "model_module": "@jupyter-widgets/base",
          "model_name": "LayoutModel",
          "model_module_version": "1.2.0",
          "state": {
            "_model_module": "@jupyter-widgets/base",
            "_model_module_version": "1.2.0",
            "_model_name": "LayoutModel",
            "_view_count": null,
            "_view_module": "@jupyter-widgets/base",
            "_view_module_version": "1.2.0",
            "_view_name": "LayoutView",
            "align_content": null,
            "align_items": null,
            "align_self": null,
            "border": null,
            "bottom": null,
            "display": null,
            "flex": null,
            "flex_flow": null,
            "grid_area": null,
            "grid_auto_columns": null,
            "grid_auto_flow": null,
            "grid_auto_rows": null,
            "grid_column": null,
            "grid_gap": null,
            "grid_row": null,
            "grid_template_areas": null,
            "grid_template_columns": null,
            "grid_template_rows": null,
            "height": null,
            "justify_content": null,
            "justify_items": null,
            "left": null,
            "margin": null,
            "max_height": null,
            "max_width": null,
            "min_height": null,
            "min_width": null,
            "object_fit": null,
            "object_position": null,
            "order": null,
            "overflow": null,
            "overflow_x": null,
            "overflow_y": null,
            "padding": null,
            "right": null,
            "top": null,
            "visibility": null,
            "width": null
          }
        },
        "1d4942dfa1584437922ef1d71efb6027": {
          "model_module": "@jupyter-widgets/controls",
          "model_name": "DescriptionStyleModel",
          "model_module_version": "1.5.0",
          "state": {
            "_model_module": "@jupyter-widgets/controls",
            "_model_module_version": "1.5.0",
            "_model_name": "DescriptionStyleModel",
            "_view_count": null,
            "_view_module": "@jupyter-widgets/base",
            "_view_module_version": "1.2.0",
            "_view_name": "StyleView",
            "description_width": ""
          }
        },
        "61e84496b75344aeab1b3387136bc21f": {
          "model_module": "@jupyter-widgets/base",
          "model_name": "LayoutModel",
          "model_module_version": "1.2.0",
          "state": {
            "_model_module": "@jupyter-widgets/base",
            "_model_module_version": "1.2.0",
            "_model_name": "LayoutModel",
            "_view_count": null,
            "_view_module": "@jupyter-widgets/base",
            "_view_module_version": "1.2.0",
            "_view_name": "LayoutView",
            "align_content": null,
            "align_items": null,
            "align_self": null,
            "border": null,
            "bottom": null,
            "display": null,
            "flex": null,
            "flex_flow": null,
            "grid_area": null,
            "grid_auto_columns": null,
            "grid_auto_flow": null,
            "grid_auto_rows": null,
            "grid_column": null,
            "grid_gap": null,
            "grid_row": null,
            "grid_template_areas": null,
            "grid_template_columns": null,
            "grid_template_rows": null,
            "height": null,
            "justify_content": null,
            "justify_items": null,
            "left": null,
            "margin": null,
            "max_height": null,
            "max_width": null,
            "min_height": null,
            "min_width": null,
            "object_fit": null,
            "object_position": null,
            "order": null,
            "overflow": null,
            "overflow_x": null,
            "overflow_y": null,
            "padding": null,
            "right": null,
            "top": null,
            "visibility": null,
            "width": null
          }
        },
        "1f0540e31403470c9d735d5e29e1e7ec": {
          "model_module": "@jupyter-widgets/controls",
          "model_name": "ProgressStyleModel",
          "model_module_version": "1.5.0",
          "state": {
            "_model_module": "@jupyter-widgets/controls",
            "_model_module_version": "1.5.0",
            "_model_name": "ProgressStyleModel",
            "_view_count": null,
            "_view_module": "@jupyter-widgets/base",
            "_view_module_version": "1.2.0",
            "_view_name": "StyleView",
            "bar_color": null,
            "description_width": ""
          }
        },
        "dfd03f1f09054516b06bd04ab3b1dbcb": {
          "model_module": "@jupyter-widgets/base",
          "model_name": "LayoutModel",
          "model_module_version": "1.2.0",
          "state": {
            "_model_module": "@jupyter-widgets/base",
            "_model_module_version": "1.2.0",
            "_model_name": "LayoutModel",
            "_view_count": null,
            "_view_module": "@jupyter-widgets/base",
            "_view_module_version": "1.2.0",
            "_view_name": "LayoutView",
            "align_content": null,
            "align_items": null,
            "align_self": null,
            "border": null,
            "bottom": null,
            "display": null,
            "flex": null,
            "flex_flow": null,
            "grid_area": null,
            "grid_auto_columns": null,
            "grid_auto_flow": null,
            "grid_auto_rows": null,
            "grid_column": null,
            "grid_gap": null,
            "grid_row": null,
            "grid_template_areas": null,
            "grid_template_columns": null,
            "grid_template_rows": null,
            "height": null,
            "justify_content": null,
            "justify_items": null,
            "left": null,
            "margin": null,
            "max_height": null,
            "max_width": null,
            "min_height": null,
            "min_width": null,
            "object_fit": null,
            "object_position": null,
            "order": null,
            "overflow": null,
            "overflow_x": null,
            "overflow_y": null,
            "padding": null,
            "right": null,
            "top": null,
            "visibility": null,
            "width": null
          }
        },
        "f472046029984d5c8b4d9002de75bd7e": {
          "model_module": "@jupyter-widgets/controls",
          "model_name": "DescriptionStyleModel",
          "model_module_version": "1.5.0",
          "state": {
            "_model_module": "@jupyter-widgets/controls",
            "_model_module_version": "1.5.0",
            "_model_name": "DescriptionStyleModel",
            "_view_count": null,
            "_view_module": "@jupyter-widgets/base",
            "_view_module_version": "1.2.0",
            "_view_name": "StyleView",
            "description_width": ""
          }
        },
        "07a1b5f936784f4f82482aa0bead59f1": {
          "model_module": "@jupyter-widgets/controls",
          "model_name": "HBoxModel",
          "model_module_version": "1.5.0",
          "state": {
            "_dom_classes": [],
            "_model_module": "@jupyter-widgets/controls",
            "_model_module_version": "1.5.0",
            "_model_name": "HBoxModel",
            "_view_count": null,
            "_view_module": "@jupyter-widgets/controls",
            "_view_module_version": "1.5.0",
            "_view_name": "HBoxView",
            "box_style": "",
            "children": [
              "IPY_MODEL_91836768c9404a63bd5294508a747b49",
              "IPY_MODEL_9456ccad74fc458c8e318fa7f69dc48e",
              "IPY_MODEL_8471d2d9f7c54eafa52b8fe3a05aa52d"
            ],
            "layout": "IPY_MODEL_e28a2fd7bf26443c86c628b8e08e433f"
          }
        },
        "91836768c9404a63bd5294508a747b49": {
          "model_module": "@jupyter-widgets/controls",
          "model_name": "HTMLModel",
          "model_module_version": "1.5.0",
          "state": {
            "_dom_classes": [],
            "_model_module": "@jupyter-widgets/controls",
            "_model_module_version": "1.5.0",
            "_model_name": "HTMLModel",
            "_view_count": null,
            "_view_module": "@jupyter-widgets/controls",
            "_view_module_version": "1.5.0",
            "_view_name": "HTMLView",
            "description": "",
            "description_tooltip": null,
            "layout": "IPY_MODEL_e108fba1ad5240669676259445d57e99",
            "placeholder": "​",
            "style": "IPY_MODEL_ba2ed08c3f254e7b8a8816c80e132a62",
            "value": "Downloading data: 100%"
          }
        },
        "9456ccad74fc458c8e318fa7f69dc48e": {
          "model_module": "@jupyter-widgets/controls",
          "model_name": "FloatProgressModel",
          "model_module_version": "1.5.0",
          "state": {
            "_dom_classes": [],
            "_model_module": "@jupyter-widgets/controls",
            "_model_module_version": "1.5.0",
            "_model_name": "FloatProgressModel",
            "_view_count": null,
            "_view_module": "@jupyter-widgets/controls",
            "_view_module_version": "1.5.0",
            "_view_name": "ProgressView",
            "bar_style": "success",
            "description": "",
            "description_tooltip": null,
            "layout": "IPY_MODEL_6f719c27f6a44f8db9681c9df39a782f",
            "max": 17424938,
            "min": 0,
            "orientation": "horizontal",
            "style": "IPY_MODEL_2b498ec2044042ab968ae8d00b25082b",
            "value": 17424938
          }
        },
        "8471d2d9f7c54eafa52b8fe3a05aa52d": {
          "model_module": "@jupyter-widgets/controls",
          "model_name": "HTMLModel",
          "model_module_version": "1.5.0",
          "state": {
            "_dom_classes": [],
            "_model_module": "@jupyter-widgets/controls",
            "_model_module_version": "1.5.0",
            "_model_name": "HTMLModel",
            "_view_count": null,
            "_view_module": "@jupyter-widgets/controls",
            "_view_module_version": "1.5.0",
            "_view_name": "HTMLView",
            "description": "",
            "description_tooltip": null,
            "layout": "IPY_MODEL_27ee94727ea04490b3062b436d376d44",
            "placeholder": "​",
            "style": "IPY_MODEL_d87de60979234396924fa2ccda892b3d",
            "value": " 17.4M/17.4M [00:03&lt;00:00, 8.26MB/s]"
          }
        },
        "e28a2fd7bf26443c86c628b8e08e433f": {
          "model_module": "@jupyter-widgets/base",
          "model_name": "LayoutModel",
          "model_module_version": "1.2.0",
          "state": {
            "_model_module": "@jupyter-widgets/base",
            "_model_module_version": "1.2.0",
            "_model_name": "LayoutModel",
            "_view_count": null,
            "_view_module": "@jupyter-widgets/base",
            "_view_module_version": "1.2.0",
            "_view_name": "LayoutView",
            "align_content": null,
            "align_items": null,
            "align_self": null,
            "border": null,
            "bottom": null,
            "display": null,
            "flex": null,
            "flex_flow": null,
            "grid_area": null,
            "grid_auto_columns": null,
            "grid_auto_flow": null,
            "grid_auto_rows": null,
            "grid_column": null,
            "grid_gap": null,
            "grid_row": null,
            "grid_template_areas": null,
            "grid_template_columns": null,
            "grid_template_rows": null,
            "height": null,
            "justify_content": null,
            "justify_items": null,
            "left": null,
            "margin": null,
            "max_height": null,
            "max_width": null,
            "min_height": null,
            "min_width": null,
            "object_fit": null,
            "object_position": null,
            "order": null,
            "overflow": null,
            "overflow_x": null,
            "overflow_y": null,
            "padding": null,
            "right": null,
            "top": null,
            "visibility": null,
            "width": null
          }
        },
        "e108fba1ad5240669676259445d57e99": {
          "model_module": "@jupyter-widgets/base",
          "model_name": "LayoutModel",
          "model_module_version": "1.2.0",
          "state": {
            "_model_module": "@jupyter-widgets/base",
            "_model_module_version": "1.2.0",
            "_model_name": "LayoutModel",
            "_view_count": null,
            "_view_module": "@jupyter-widgets/base",
            "_view_module_version": "1.2.0",
            "_view_name": "LayoutView",
            "align_content": null,
            "align_items": null,
            "align_self": null,
            "border": null,
            "bottom": null,
            "display": null,
            "flex": null,
            "flex_flow": null,
            "grid_area": null,
            "grid_auto_columns": null,
            "grid_auto_flow": null,
            "grid_auto_rows": null,
            "grid_column": null,
            "grid_gap": null,
            "grid_row": null,
            "grid_template_areas": null,
            "grid_template_columns": null,
            "grid_template_rows": null,
            "height": null,
            "justify_content": null,
            "justify_items": null,
            "left": null,
            "margin": null,
            "max_height": null,
            "max_width": null,
            "min_height": null,
            "min_width": null,
            "object_fit": null,
            "object_position": null,
            "order": null,
            "overflow": null,
            "overflow_x": null,
            "overflow_y": null,
            "padding": null,
            "right": null,
            "top": null,
            "visibility": null,
            "width": null
          }
        },
        "ba2ed08c3f254e7b8a8816c80e132a62": {
          "model_module": "@jupyter-widgets/controls",
          "model_name": "DescriptionStyleModel",
          "model_module_version": "1.5.0",
          "state": {
            "_model_module": "@jupyter-widgets/controls",
            "_model_module_version": "1.5.0",
            "_model_name": "DescriptionStyleModel",
            "_view_count": null,
            "_view_module": "@jupyter-widgets/base",
            "_view_module_version": "1.2.0",
            "_view_name": "StyleView",
            "description_width": ""
          }
        },
        "6f719c27f6a44f8db9681c9df39a782f": {
          "model_module": "@jupyter-widgets/base",
          "model_name": "LayoutModel",
          "model_module_version": "1.2.0",
          "state": {
            "_model_module": "@jupyter-widgets/base",
            "_model_module_version": "1.2.0",
            "_model_name": "LayoutModel",
            "_view_count": null,
            "_view_module": "@jupyter-widgets/base",
            "_view_module_version": "1.2.0",
            "_view_name": "LayoutView",
            "align_content": null,
            "align_items": null,
            "align_self": null,
            "border": null,
            "bottom": null,
            "display": null,
            "flex": null,
            "flex_flow": null,
            "grid_area": null,
            "grid_auto_columns": null,
            "grid_auto_flow": null,
            "grid_auto_rows": null,
            "grid_column": null,
            "grid_gap": null,
            "grid_row": null,
            "grid_template_areas": null,
            "grid_template_columns": null,
            "grid_template_rows": null,
            "height": null,
            "justify_content": null,
            "justify_items": null,
            "left": null,
            "margin": null,
            "max_height": null,
            "max_width": null,
            "min_height": null,
            "min_width": null,
            "object_fit": null,
            "object_position": null,
            "order": null,
            "overflow": null,
            "overflow_x": null,
            "overflow_y": null,
            "padding": null,
            "right": null,
            "top": null,
            "visibility": null,
            "width": null
          }
        },
        "2b498ec2044042ab968ae8d00b25082b": {
          "model_module": "@jupyter-widgets/controls",
          "model_name": "ProgressStyleModel",
          "model_module_version": "1.5.0",
          "state": {
            "_model_module": "@jupyter-widgets/controls",
            "_model_module_version": "1.5.0",
            "_model_name": "ProgressStyleModel",
            "_view_count": null,
            "_view_module": "@jupyter-widgets/base",
            "_view_module_version": "1.2.0",
            "_view_name": "StyleView",
            "bar_color": null,
            "description_width": ""
          }
        },
        "27ee94727ea04490b3062b436d376d44": {
          "model_module": "@jupyter-widgets/base",
          "model_name": "LayoutModel",
          "model_module_version": "1.2.0",
          "state": {
            "_model_module": "@jupyter-widgets/base",
            "_model_module_version": "1.2.0",
            "_model_name": "LayoutModel",
            "_view_count": null,
            "_view_module": "@jupyter-widgets/base",
            "_view_module_version": "1.2.0",
            "_view_name": "LayoutView",
            "align_content": null,
            "align_items": null,
            "align_self": null,
            "border": null,
            "bottom": null,
            "display": null,
            "flex": null,
            "flex_flow": null,
            "grid_area": null,
            "grid_auto_columns": null,
            "grid_auto_flow": null,
            "grid_auto_rows": null,
            "grid_column": null,
            "grid_gap": null,
            "grid_row": null,
            "grid_template_areas": null,
            "grid_template_columns": null,
            "grid_template_rows": null,
            "height": null,
            "justify_content": null,
            "justify_items": null,
            "left": null,
            "margin": null,
            "max_height": null,
            "max_width": null,
            "min_height": null,
            "min_width": null,
            "object_fit": null,
            "object_position": null,
            "order": null,
            "overflow": null,
            "overflow_x": null,
            "overflow_y": null,
            "padding": null,
            "right": null,
            "top": null,
            "visibility": null,
            "width": null
          }
        },
        "d87de60979234396924fa2ccda892b3d": {
          "model_module": "@jupyter-widgets/controls",
          "model_name": "DescriptionStyleModel",
          "model_module_version": "1.5.0",
          "state": {
            "_model_module": "@jupyter-widgets/controls",
            "_model_module_version": "1.5.0",
            "_model_name": "DescriptionStyleModel",
            "_view_count": null,
            "_view_module": "@jupyter-widgets/base",
            "_view_module_version": "1.2.0",
            "_view_name": "StyleView",
            "description_width": ""
          }
        },
        "1da6c94a824549eba7102133a83bcac8": {
          "model_module": "@jupyter-widgets/controls",
          "model_name": "HBoxModel",
          "model_module_version": "1.5.0",
          "state": {
            "_dom_classes": [],
            "_model_module": "@jupyter-widgets/controls",
            "_model_module_version": "1.5.0",
            "_model_name": "HBoxModel",
            "_view_count": null,
            "_view_module": "@jupyter-widgets/controls",
            "_view_module_version": "1.5.0",
            "_view_name": "HBoxView",
            "box_style": "",
            "children": [
              "IPY_MODEL_dd1bc93022574e1cac690238490dd715",
              "IPY_MODEL_8f423f9efd6d4621bb0d92a192542eae",
              "IPY_MODEL_2a2e288840f94abf9e2d91ae0a559b94"
            ],
            "layout": "IPY_MODEL_912bb25379fb40d8b28d73ab257882c9"
          }
        },
        "dd1bc93022574e1cac690238490dd715": {
          "model_module": "@jupyter-widgets/controls",
          "model_name": "HTMLModel",
          "model_module_version": "1.5.0",
          "state": {
            "_dom_classes": [],
            "_model_module": "@jupyter-widgets/controls",
            "_model_module_version": "1.5.0",
            "_model_name": "HTMLModel",
            "_view_count": null,
            "_view_module": "@jupyter-widgets/controls",
            "_view_module_version": "1.5.0",
            "_view_name": "HTMLView",
            "description": "",
            "description_tooltip": null,
            "layout": "IPY_MODEL_5681dbe73edf4cd5a067d219266ce60c",
            "placeholder": "​",
            "style": "IPY_MODEL_d48b00332c804618a95086dd83fe4f0f",
            "value": "Generating train split: 100%"
          }
        },
        "8f423f9efd6d4621bb0d92a192542eae": {
          "model_module": "@jupyter-widgets/controls",
          "model_name": "FloatProgressModel",
          "model_module_version": "1.5.0",
          "state": {
            "_dom_classes": [],
            "_model_module": "@jupyter-widgets/controls",
            "_model_module_version": "1.5.0",
            "_model_name": "FloatProgressModel",
            "_view_count": null,
            "_view_module": "@jupyter-widgets/controls",
            "_view_module_version": "1.5.0",
            "_view_name": "ProgressView",
            "bar_style": "",
            "description": "",
            "description_tooltip": null,
            "layout": "IPY_MODEL_0c4df5812e4548229e55ac06ab285bd0",
            "max": 65424,
            "min": 0,
            "orientation": "horizontal",
            "style": "IPY_MODEL_8bd76005a7e64a158c9660df6cb791b0",
            "value": 65424
          }
        },
        "2a2e288840f94abf9e2d91ae0a559b94": {
          "model_module": "@jupyter-widgets/controls",
          "model_name": "HTMLModel",
          "model_module_version": "1.5.0",
          "state": {
            "_dom_classes": [],
            "_model_module": "@jupyter-widgets/controls",
            "_model_module_version": "1.5.0",
            "_model_name": "HTMLModel",
            "_view_count": null,
            "_view_module": "@jupyter-widgets/controls",
            "_view_module_version": "1.5.0",
            "_view_name": "HTMLView",
            "description": "",
            "description_tooltip": null,
            "layout": "IPY_MODEL_17441e04319c4da4b5f614908f81a61b",
            "placeholder": "​",
            "style": "IPY_MODEL_151c182a1869451781b51db2d0609653",
            "value": " 65424/65424 [00:16&lt;00:00, 21351.86 examples/s]"
          }
        },
        "912bb25379fb40d8b28d73ab257882c9": {
          "model_module": "@jupyter-widgets/base",
          "model_name": "LayoutModel",
          "model_module_version": "1.2.0",
          "state": {
            "_model_module": "@jupyter-widgets/base",
            "_model_module_version": "1.2.0",
            "_model_name": "LayoutModel",
            "_view_count": null,
            "_view_module": "@jupyter-widgets/base",
            "_view_module_version": "1.2.0",
            "_view_name": "LayoutView",
            "align_content": null,
            "align_items": null,
            "align_self": null,
            "border": null,
            "bottom": null,
            "display": null,
            "flex": null,
            "flex_flow": null,
            "grid_area": null,
            "grid_auto_columns": null,
            "grid_auto_flow": null,
            "grid_auto_rows": null,
            "grid_column": null,
            "grid_gap": null,
            "grid_row": null,
            "grid_template_areas": null,
            "grid_template_columns": null,
            "grid_template_rows": null,
            "height": null,
            "justify_content": null,
            "justify_items": null,
            "left": null,
            "margin": null,
            "max_height": null,
            "max_width": null,
            "min_height": null,
            "min_width": null,
            "object_fit": null,
            "object_position": null,
            "order": null,
            "overflow": null,
            "overflow_x": null,
            "overflow_y": null,
            "padding": null,
            "right": null,
            "top": null,
            "visibility": "hidden",
            "width": null
          }
        },
        "5681dbe73edf4cd5a067d219266ce60c": {
          "model_module": "@jupyter-widgets/base",
          "model_name": "LayoutModel",
          "model_module_version": "1.2.0",
          "state": {
            "_model_module": "@jupyter-widgets/base",
            "_model_module_version": "1.2.0",
            "_model_name": "LayoutModel",
            "_view_count": null,
            "_view_module": "@jupyter-widgets/base",
            "_view_module_version": "1.2.0",
            "_view_name": "LayoutView",
            "align_content": null,
            "align_items": null,
            "align_self": null,
            "border": null,
            "bottom": null,
            "display": null,
            "flex": null,
            "flex_flow": null,
            "grid_area": null,
            "grid_auto_columns": null,
            "grid_auto_flow": null,
            "grid_auto_rows": null,
            "grid_column": null,
            "grid_gap": null,
            "grid_row": null,
            "grid_template_areas": null,
            "grid_template_columns": null,
            "grid_template_rows": null,
            "height": null,
            "justify_content": null,
            "justify_items": null,
            "left": null,
            "margin": null,
            "max_height": null,
            "max_width": null,
            "min_height": null,
            "min_width": null,
            "object_fit": null,
            "object_position": null,
            "order": null,
            "overflow": null,
            "overflow_x": null,
            "overflow_y": null,
            "padding": null,
            "right": null,
            "top": null,
            "visibility": null,
            "width": null
          }
        },
        "d48b00332c804618a95086dd83fe4f0f": {
          "model_module": "@jupyter-widgets/controls",
          "model_name": "DescriptionStyleModel",
          "model_module_version": "1.5.0",
          "state": {
            "_model_module": "@jupyter-widgets/controls",
            "_model_module_version": "1.5.0",
            "_model_name": "DescriptionStyleModel",
            "_view_count": null,
            "_view_module": "@jupyter-widgets/base",
            "_view_module_version": "1.2.0",
            "_view_name": "StyleView",
            "description_width": ""
          }
        },
        "0c4df5812e4548229e55ac06ab285bd0": {
          "model_module": "@jupyter-widgets/base",
          "model_name": "LayoutModel",
          "model_module_version": "1.2.0",
          "state": {
            "_model_module": "@jupyter-widgets/base",
            "_model_module_version": "1.2.0",
            "_model_name": "LayoutModel",
            "_view_count": null,
            "_view_module": "@jupyter-widgets/base",
            "_view_module_version": "1.2.0",
            "_view_name": "LayoutView",
            "align_content": null,
            "align_items": null,
            "align_self": null,
            "border": null,
            "bottom": null,
            "display": null,
            "flex": null,
            "flex_flow": null,
            "grid_area": null,
            "grid_auto_columns": null,
            "grid_auto_flow": null,
            "grid_auto_rows": null,
            "grid_column": null,
            "grid_gap": null,
            "grid_row": null,
            "grid_template_areas": null,
            "grid_template_columns": null,
            "grid_template_rows": null,
            "height": null,
            "justify_content": null,
            "justify_items": null,
            "left": null,
            "margin": null,
            "max_height": null,
            "max_width": null,
            "min_height": null,
            "min_width": null,
            "object_fit": null,
            "object_position": null,
            "order": null,
            "overflow": null,
            "overflow_x": null,
            "overflow_y": null,
            "padding": null,
            "right": null,
            "top": null,
            "visibility": null,
            "width": null
          }
        },
        "8bd76005a7e64a158c9660df6cb791b0": {
          "model_module": "@jupyter-widgets/controls",
          "model_name": "ProgressStyleModel",
          "model_module_version": "1.5.0",
          "state": {
            "_model_module": "@jupyter-widgets/controls",
            "_model_module_version": "1.5.0",
            "_model_name": "ProgressStyleModel",
            "_view_count": null,
            "_view_module": "@jupyter-widgets/base",
            "_view_module_version": "1.2.0",
            "_view_name": "StyleView",
            "bar_color": null,
            "description_width": ""
          }
        },
        "17441e04319c4da4b5f614908f81a61b": {
          "model_module": "@jupyter-widgets/base",
          "model_name": "LayoutModel",
          "model_module_version": "1.2.0",
          "state": {
            "_model_module": "@jupyter-widgets/base",
            "_model_module_version": "1.2.0",
            "_model_name": "LayoutModel",
            "_view_count": null,
            "_view_module": "@jupyter-widgets/base",
            "_view_module_version": "1.2.0",
            "_view_name": "LayoutView",
            "align_content": null,
            "align_items": null,
            "align_self": null,
            "border": null,
            "bottom": null,
            "display": null,
            "flex": null,
            "flex_flow": null,
            "grid_area": null,
            "grid_auto_columns": null,
            "grid_auto_flow": null,
            "grid_auto_rows": null,
            "grid_column": null,
            "grid_gap": null,
            "grid_row": null,
            "grid_template_areas": null,
            "grid_template_columns": null,
            "grid_template_rows": null,
            "height": null,
            "justify_content": null,
            "justify_items": null,
            "left": null,
            "margin": null,
            "max_height": null,
            "max_width": null,
            "min_height": null,
            "min_width": null,
            "object_fit": null,
            "object_position": null,
            "order": null,
            "overflow": null,
            "overflow_x": null,
            "overflow_y": null,
            "padding": null,
            "right": null,
            "top": null,
            "visibility": null,
            "width": null
          }
        },
        "151c182a1869451781b51db2d0609653": {
          "model_module": "@jupyter-widgets/controls",
          "model_name": "DescriptionStyleModel",
          "model_module_version": "1.5.0",
          "state": {
            "_model_module": "@jupyter-widgets/controls",
            "_model_module_version": "1.5.0",
            "_model_name": "DescriptionStyleModel",
            "_view_count": null,
            "_view_module": "@jupyter-widgets/base",
            "_view_module_version": "1.2.0",
            "_view_name": "StyleView",
            "description_width": ""
          }
        },
        "b6293f6812d34b0fbebba862a98f28d9": {
          "model_module": "@jupyter-widgets/controls",
          "model_name": "HBoxModel",
          "model_module_version": "1.5.0",
          "state": {
            "_dom_classes": [],
            "_model_module": "@jupyter-widgets/controls",
            "_model_module_version": "1.5.0",
            "_model_name": "HBoxModel",
            "_view_count": null,
            "_view_module": "@jupyter-widgets/controls",
            "_view_module_version": "1.5.0",
            "_view_name": "HBoxView",
            "box_style": "",
            "children": [
              "IPY_MODEL_21416ee3ac1b474cbc650e79591682e7",
              "IPY_MODEL_3d5796adc1094ae8acb3198f7c8c7c96",
              "IPY_MODEL_06fe4bc259254f9f82e5978155775297"
            ],
            "layout": "IPY_MODEL_47ca58c79de04db5acec647c381e0492"
          }
        },
        "21416ee3ac1b474cbc650e79591682e7": {
          "model_module": "@jupyter-widgets/controls",
          "model_name": "HTMLModel",
          "model_module_version": "1.5.0",
          "state": {
            "_dom_classes": [],
            "_model_module": "@jupyter-widgets/controls",
            "_model_module_version": "1.5.0",
            "_model_name": "HTMLModel",
            "_view_count": null,
            "_view_module": "@jupyter-widgets/controls",
            "_view_module_version": "1.5.0",
            "_view_name": "HTMLView",
            "description": "",
            "description_tooltip": null,
            "layout": "IPY_MODEL_8aca3868f71d46b58a3d8e24cf2d1959",
            "placeholder": "​",
            "style": "IPY_MODEL_a52155fea8c54b9a9dd6206f0d6e0a78",
            "value": "Downloading builder script: 100%"
          }
        },
        "3d5796adc1094ae8acb3198f7c8c7c96": {
          "model_module": "@jupyter-widgets/controls",
          "model_name": "FloatProgressModel",
          "model_module_version": "1.5.0",
          "state": {
            "_dom_classes": [],
            "_model_module": "@jupyter-widgets/controls",
            "_model_module_version": "1.5.0",
            "_model_name": "FloatProgressModel",
            "_view_count": null,
            "_view_module": "@jupyter-widgets/controls",
            "_view_module_version": "1.5.0",
            "_view_name": "ProgressView",
            "bar_style": "success",
            "description": "",
            "description_tooltip": null,
            "layout": "IPY_MODEL_d47e6279aa8845adacb93d033183a5d9",
            "max": 5357,
            "min": 0,
            "orientation": "horizontal",
            "style": "IPY_MODEL_1c65ed63ca6447b08a18093a2d58d327",
            "value": 5357
          }
        },
        "06fe4bc259254f9f82e5978155775297": {
          "model_module": "@jupyter-widgets/controls",
          "model_name": "HTMLModel",
          "model_module_version": "1.5.0",
          "state": {
            "_dom_classes": [],
            "_model_module": "@jupyter-widgets/controls",
            "_model_module_version": "1.5.0",
            "_model_name": "HTMLModel",
            "_view_count": null,
            "_view_module": "@jupyter-widgets/controls",
            "_view_module_version": "1.5.0",
            "_view_name": "HTMLView",
            "description": "",
            "description_tooltip": null,
            "layout": "IPY_MODEL_871d30158b1249aeafee15a72dd3b14a",
            "placeholder": "​",
            "style": "IPY_MODEL_2e15502c90a2460191001f740799c4f3",
            "value": " 5.36k/5.36k [00:00&lt;00:00, 202kB/s]"
          }
        },
        "47ca58c79de04db5acec647c381e0492": {
          "model_module": "@jupyter-widgets/base",
          "model_name": "LayoutModel",
          "model_module_version": "1.2.0",
          "state": {
            "_model_module": "@jupyter-widgets/base",
            "_model_module_version": "1.2.0",
            "_model_name": "LayoutModel",
            "_view_count": null,
            "_view_module": "@jupyter-widgets/base",
            "_view_module_version": "1.2.0",
            "_view_name": "LayoutView",
            "align_content": null,
            "align_items": null,
            "align_self": null,
            "border": null,
            "bottom": null,
            "display": null,
            "flex": null,
            "flex_flow": null,
            "grid_area": null,
            "grid_auto_columns": null,
            "grid_auto_flow": null,
            "grid_auto_rows": null,
            "grid_column": null,
            "grid_gap": null,
            "grid_row": null,
            "grid_template_areas": null,
            "grid_template_columns": null,
            "grid_template_rows": null,
            "height": null,
            "justify_content": null,
            "justify_items": null,
            "left": null,
            "margin": null,
            "max_height": null,
            "max_width": null,
            "min_height": null,
            "min_width": null,
            "object_fit": null,
            "object_position": null,
            "order": null,
            "overflow": null,
            "overflow_x": null,
            "overflow_y": null,
            "padding": null,
            "right": null,
            "top": null,
            "visibility": null,
            "width": null
          }
        },
        "8aca3868f71d46b58a3d8e24cf2d1959": {
          "model_module": "@jupyter-widgets/base",
          "model_name": "LayoutModel",
          "model_module_version": "1.2.0",
          "state": {
            "_model_module": "@jupyter-widgets/base",
            "_model_module_version": "1.2.0",
            "_model_name": "LayoutModel",
            "_view_count": null,
            "_view_module": "@jupyter-widgets/base",
            "_view_module_version": "1.2.0",
            "_view_name": "LayoutView",
            "align_content": null,
            "align_items": null,
            "align_self": null,
            "border": null,
            "bottom": null,
            "display": null,
            "flex": null,
            "flex_flow": null,
            "grid_area": null,
            "grid_auto_columns": null,
            "grid_auto_flow": null,
            "grid_auto_rows": null,
            "grid_column": null,
            "grid_gap": null,
            "grid_row": null,
            "grid_template_areas": null,
            "grid_template_columns": null,
            "grid_template_rows": null,
            "height": null,
            "justify_content": null,
            "justify_items": null,
            "left": null,
            "margin": null,
            "max_height": null,
            "max_width": null,
            "min_height": null,
            "min_width": null,
            "object_fit": null,
            "object_position": null,
            "order": null,
            "overflow": null,
            "overflow_x": null,
            "overflow_y": null,
            "padding": null,
            "right": null,
            "top": null,
            "visibility": null,
            "width": null
          }
        },
        "a52155fea8c54b9a9dd6206f0d6e0a78": {
          "model_module": "@jupyter-widgets/controls",
          "model_name": "DescriptionStyleModel",
          "model_module_version": "1.5.0",
          "state": {
            "_model_module": "@jupyter-widgets/controls",
            "_model_module_version": "1.5.0",
            "_model_name": "DescriptionStyleModel",
            "_view_count": null,
            "_view_module": "@jupyter-widgets/base",
            "_view_module_version": "1.2.0",
            "_view_name": "StyleView",
            "description_width": ""
          }
        },
        "d47e6279aa8845adacb93d033183a5d9": {
          "model_module": "@jupyter-widgets/base",
          "model_name": "LayoutModel",
          "model_module_version": "1.2.0",
          "state": {
            "_model_module": "@jupyter-widgets/base",
            "_model_module_version": "1.2.0",
            "_model_name": "LayoutModel",
            "_view_count": null,
            "_view_module": "@jupyter-widgets/base",
            "_view_module_version": "1.2.0",
            "_view_name": "LayoutView",
            "align_content": null,
            "align_items": null,
            "align_self": null,
            "border": null,
            "bottom": null,
            "display": null,
            "flex": null,
            "flex_flow": null,
            "grid_area": null,
            "grid_auto_columns": null,
            "grid_auto_flow": null,
            "grid_auto_rows": null,
            "grid_column": null,
            "grid_gap": null,
            "grid_row": null,
            "grid_template_areas": null,
            "grid_template_columns": null,
            "grid_template_rows": null,
            "height": null,
            "justify_content": null,
            "justify_items": null,
            "left": null,
            "margin": null,
            "max_height": null,
            "max_width": null,
            "min_height": null,
            "min_width": null,
            "object_fit": null,
            "object_position": null,
            "order": null,
            "overflow": null,
            "overflow_x": null,
            "overflow_y": null,
            "padding": null,
            "right": null,
            "top": null,
            "visibility": null,
            "width": null
          }
        },
        "1c65ed63ca6447b08a18093a2d58d327": {
          "model_module": "@jupyter-widgets/controls",
          "model_name": "ProgressStyleModel",
          "model_module_version": "1.5.0",
          "state": {
            "_model_module": "@jupyter-widgets/controls",
            "_model_module_version": "1.5.0",
            "_model_name": "ProgressStyleModel",
            "_view_count": null,
            "_view_module": "@jupyter-widgets/base",
            "_view_module_version": "1.2.0",
            "_view_name": "StyleView",
            "bar_color": null,
            "description_width": ""
          }
        },
        "871d30158b1249aeafee15a72dd3b14a": {
          "model_module": "@jupyter-widgets/base",
          "model_name": "LayoutModel",
          "model_module_version": "1.2.0",
          "state": {
            "_model_module": "@jupyter-widgets/base",
            "_model_module_version": "1.2.0",
            "_model_name": "LayoutModel",
            "_view_count": null,
            "_view_module": "@jupyter-widgets/base",
            "_view_module_version": "1.2.0",
            "_view_name": "LayoutView",
            "align_content": null,
            "align_items": null,
            "align_self": null,
            "border": null,
            "bottom": null,
            "display": null,
            "flex": null,
            "flex_flow": null,
            "grid_area": null,
            "grid_auto_columns": null,
            "grid_auto_flow": null,
            "grid_auto_rows": null,
            "grid_column": null,
            "grid_gap": null,
            "grid_row": null,
            "grid_template_areas": null,
            "grid_template_columns": null,
            "grid_template_rows": null,
            "height": null,
            "justify_content": null,
            "justify_items": null,
            "left": null,
            "margin": null,
            "max_height": null,
            "max_width": null,
            "min_height": null,
            "min_width": null,
            "object_fit": null,
            "object_position": null,
            "order": null,
            "overflow": null,
            "overflow_x": null,
            "overflow_y": null,
            "padding": null,
            "right": null,
            "top": null,
            "visibility": null,
            "width": null
          }
        },
        "2e15502c90a2460191001f740799c4f3": {
          "model_module": "@jupyter-widgets/controls",
          "model_name": "DescriptionStyleModel",
          "model_module_version": "1.5.0",
          "state": {
            "_model_module": "@jupyter-widgets/controls",
            "_model_module_version": "1.5.0",
            "_model_name": "DescriptionStyleModel",
            "_view_count": null,
            "_view_module": "@jupyter-widgets/base",
            "_view_module_version": "1.2.0",
            "_view_name": "StyleView",
            "description_width": ""
          }
        },
        "69ff93b229d641b8ad19f46b8e53486e": {
          "model_module": "@jupyter-widgets/controls",
          "model_name": "HBoxModel",
          "model_module_version": "1.5.0",
          "state": {
            "_dom_classes": [],
            "_model_module": "@jupyter-widgets/controls",
            "_model_module_version": "1.5.0",
            "_model_name": "HBoxModel",
            "_view_count": null,
            "_view_module": "@jupyter-widgets/controls",
            "_view_module_version": "1.5.0",
            "_view_name": "HBoxView",
            "box_style": "",
            "children": [
              "IPY_MODEL_b812029fda9d4483be111ac9a732365f",
              "IPY_MODEL_ef78d568a5a84856a2e44aced39aba12",
              "IPY_MODEL_b86338cd9519401c9dd9f6c7cdc9db8f"
            ],
            "layout": "IPY_MODEL_99f061b59db74ba99b92b27308d73424"
          }
        },
        "b812029fda9d4483be111ac9a732365f": {
          "model_module": "@jupyter-widgets/controls",
          "model_name": "HTMLModel",
          "model_module_version": "1.5.0",
          "state": {
            "_dom_classes": [],
            "_model_module": "@jupyter-widgets/controls",
            "_model_module_version": "1.5.0",
            "_model_name": "HTMLModel",
            "_view_count": null,
            "_view_module": "@jupyter-widgets/controls",
            "_view_module_version": "1.5.0",
            "_view_name": "HTMLView",
            "description": "",
            "description_tooltip": null,
            "layout": "IPY_MODEL_688d5e09662b4e01937feb79c3e9bc7e",
            "placeholder": "​",
            "style": "IPY_MODEL_71faff8a80c44bf19313fa4d51c8bbb4",
            "value": "Downloading metadata: 100%"
          }
        },
        "ef78d568a5a84856a2e44aced39aba12": {
          "model_module": "@jupyter-widgets/controls",
          "model_name": "FloatProgressModel",
          "model_module_version": "1.5.0",
          "state": {
            "_dom_classes": [],
            "_model_module": "@jupyter-widgets/controls",
            "_model_module_version": "1.5.0",
            "_model_name": "FloatProgressModel",
            "_view_count": null,
            "_view_module": "@jupyter-widgets/controls",
            "_view_module_version": "1.5.0",
            "_view_name": "ProgressView",
            "bar_style": "success",
            "description": "",
            "description_tooltip": null,
            "layout": "IPY_MODEL_e59cf4fddc2b4880b3b5af9052856bfa",
            "max": 115874,
            "min": 0,
            "orientation": "horizontal",
            "style": "IPY_MODEL_7c0449de4aa94f5aba3b59460ef55aab",
            "value": 115874
          }
        },
        "b86338cd9519401c9dd9f6c7cdc9db8f": {
          "model_module": "@jupyter-widgets/controls",
          "model_name": "HTMLModel",
          "model_module_version": "1.5.0",
          "state": {
            "_dom_classes": [],
            "_model_module": "@jupyter-widgets/controls",
            "_model_module_version": "1.5.0",
            "_model_name": "HTMLModel",
            "_view_count": null,
            "_view_module": "@jupyter-widgets/controls",
            "_view_module_version": "1.5.0",
            "_view_name": "HTMLView",
            "description": "",
            "description_tooltip": null,
            "layout": "IPY_MODEL_6523a90dc9ff4f3a98a8f297d12021b8",
            "placeholder": "​",
            "style": "IPY_MODEL_6e07549b10fd4cdea3788c7e70d86d6b",
            "value": " 116k/116k [00:00&lt;00:00, 176kB/s]"
          }
        },
        "99f061b59db74ba99b92b27308d73424": {
          "model_module": "@jupyter-widgets/base",
          "model_name": "LayoutModel",
          "model_module_version": "1.2.0",
          "state": {
            "_model_module": "@jupyter-widgets/base",
            "_model_module_version": "1.2.0",
            "_model_name": "LayoutModel",
            "_view_count": null,
            "_view_module": "@jupyter-widgets/base",
            "_view_module_version": "1.2.0",
            "_view_name": "LayoutView",
            "align_content": null,
            "align_items": null,
            "align_self": null,
            "border": null,
            "bottom": null,
            "display": null,
            "flex": null,
            "flex_flow": null,
            "grid_area": null,
            "grid_auto_columns": null,
            "grid_auto_flow": null,
            "grid_auto_rows": null,
            "grid_column": null,
            "grid_gap": null,
            "grid_row": null,
            "grid_template_areas": null,
            "grid_template_columns": null,
            "grid_template_rows": null,
            "height": null,
            "justify_content": null,
            "justify_items": null,
            "left": null,
            "margin": null,
            "max_height": null,
            "max_width": null,
            "min_height": null,
            "min_width": null,
            "object_fit": null,
            "object_position": null,
            "order": null,
            "overflow": null,
            "overflow_x": null,
            "overflow_y": null,
            "padding": null,
            "right": null,
            "top": null,
            "visibility": null,
            "width": null
          }
        },
        "688d5e09662b4e01937feb79c3e9bc7e": {
          "model_module": "@jupyter-widgets/base",
          "model_name": "LayoutModel",
          "model_module_version": "1.2.0",
          "state": {
            "_model_module": "@jupyter-widgets/base",
            "_model_module_version": "1.2.0",
            "_model_name": "LayoutModel",
            "_view_count": null,
            "_view_module": "@jupyter-widgets/base",
            "_view_module_version": "1.2.0",
            "_view_name": "LayoutView",
            "align_content": null,
            "align_items": null,
            "align_self": null,
            "border": null,
            "bottom": null,
            "display": null,
            "flex": null,
            "flex_flow": null,
            "grid_area": null,
            "grid_auto_columns": null,
            "grid_auto_flow": null,
            "grid_auto_rows": null,
            "grid_column": null,
            "grid_gap": null,
            "grid_row": null,
            "grid_template_areas": null,
            "grid_template_columns": null,
            "grid_template_rows": null,
            "height": null,
            "justify_content": null,
            "justify_items": null,
            "left": null,
            "margin": null,
            "max_height": null,
            "max_width": null,
            "min_height": null,
            "min_width": null,
            "object_fit": null,
            "object_position": null,
            "order": null,
            "overflow": null,
            "overflow_x": null,
            "overflow_y": null,
            "padding": null,
            "right": null,
            "top": null,
            "visibility": null,
            "width": null
          }
        },
        "71faff8a80c44bf19313fa4d51c8bbb4": {
          "model_module": "@jupyter-widgets/controls",
          "model_name": "DescriptionStyleModel",
          "model_module_version": "1.5.0",
          "state": {
            "_model_module": "@jupyter-widgets/controls",
            "_model_module_version": "1.5.0",
            "_model_name": "DescriptionStyleModel",
            "_view_count": null,
            "_view_module": "@jupyter-widgets/base",
            "_view_module_version": "1.2.0",
            "_view_name": "StyleView",
            "description_width": ""
          }
        },
        "e59cf4fddc2b4880b3b5af9052856bfa": {
          "model_module": "@jupyter-widgets/base",
          "model_name": "LayoutModel",
          "model_module_version": "1.2.0",
          "state": {
            "_model_module": "@jupyter-widgets/base",
            "_model_module_version": "1.2.0",
            "_model_name": "LayoutModel",
            "_view_count": null,
            "_view_module": "@jupyter-widgets/base",
            "_view_module_version": "1.2.0",
            "_view_name": "LayoutView",
            "align_content": null,
            "align_items": null,
            "align_self": null,
            "border": null,
            "bottom": null,
            "display": null,
            "flex": null,
            "flex_flow": null,
            "grid_area": null,
            "grid_auto_columns": null,
            "grid_auto_flow": null,
            "grid_auto_rows": null,
            "grid_column": null,
            "grid_gap": null,
            "grid_row": null,
            "grid_template_areas": null,
            "grid_template_columns": null,
            "grid_template_rows": null,
            "height": null,
            "justify_content": null,
            "justify_items": null,
            "left": null,
            "margin": null,
            "max_height": null,
            "max_width": null,
            "min_height": null,
            "min_width": null,
            "object_fit": null,
            "object_position": null,
            "order": null,
            "overflow": null,
            "overflow_x": null,
            "overflow_y": null,
            "padding": null,
            "right": null,
            "top": null,
            "visibility": null,
            "width": null
          }
        },
        "7c0449de4aa94f5aba3b59460ef55aab": {
          "model_module": "@jupyter-widgets/controls",
          "model_name": "ProgressStyleModel",
          "model_module_version": "1.5.0",
          "state": {
            "_model_module": "@jupyter-widgets/controls",
            "_model_module_version": "1.5.0",
            "_model_name": "ProgressStyleModel",
            "_view_count": null,
            "_view_module": "@jupyter-widgets/base",
            "_view_module_version": "1.2.0",
            "_view_name": "StyleView",
            "bar_color": null,
            "description_width": ""
          }
        },
        "6523a90dc9ff4f3a98a8f297d12021b8": {
          "model_module": "@jupyter-widgets/base",
          "model_name": "LayoutModel",
          "model_module_version": "1.2.0",
          "state": {
            "_model_module": "@jupyter-widgets/base",
            "_model_module_version": "1.2.0",
            "_model_name": "LayoutModel",
            "_view_count": null,
            "_view_module": "@jupyter-widgets/base",
            "_view_module_version": "1.2.0",
            "_view_name": "LayoutView",
            "align_content": null,
            "align_items": null,
            "align_self": null,
            "border": null,
            "bottom": null,
            "display": null,
            "flex": null,
            "flex_flow": null,
            "grid_area": null,
            "grid_auto_columns": null,
            "grid_auto_flow": null,
            "grid_auto_rows": null,
            "grid_column": null,
            "grid_gap": null,
            "grid_row": null,
            "grid_template_areas": null,
            "grid_template_columns": null,
            "grid_template_rows": null,
            "height": null,
            "justify_content": null,
            "justify_items": null,
            "left": null,
            "margin": null,
            "max_height": null,
            "max_width": null,
            "min_height": null,
            "min_width": null,
            "object_fit": null,
            "object_position": null,
            "order": null,
            "overflow": null,
            "overflow_x": null,
            "overflow_y": null,
            "padding": null,
            "right": null,
            "top": null,
            "visibility": null,
            "width": null
          }
        },
        "6e07549b10fd4cdea3788c7e70d86d6b": {
          "model_module": "@jupyter-widgets/controls",
          "model_name": "DescriptionStyleModel",
          "model_module_version": "1.5.0",
          "state": {
            "_model_module": "@jupyter-widgets/controls",
            "_model_module_version": "1.5.0",
            "_model_name": "DescriptionStyleModel",
            "_view_count": null,
            "_view_module": "@jupyter-widgets/base",
            "_view_module_version": "1.2.0",
            "_view_name": "StyleView",
            "description_width": ""
          }
        },
        "5a53fc196edd44cda348878033cce8cf": {
          "model_module": "@jupyter-widgets/controls",
          "model_name": "HBoxModel",
          "model_module_version": "1.5.0",
          "state": {
            "_dom_classes": [],
            "_model_module": "@jupyter-widgets/controls",
            "_model_module_version": "1.5.0",
            "_model_name": "HBoxModel",
            "_view_count": null,
            "_view_module": "@jupyter-widgets/controls",
            "_view_module_version": "1.5.0",
            "_view_name": "HBoxView",
            "box_style": "",
            "children": [
              "IPY_MODEL_238e4728bd64419f975ead8e367ec170",
              "IPY_MODEL_1908831a943e476ca61e2d331589ff9e",
              "IPY_MODEL_bab2e9c1ad964ba1878bd0545a51a16c"
            ],
            "layout": "IPY_MODEL_ec38409d94e748228bc6d8f3b8a31889"
          }
        },
        "238e4728bd64419f975ead8e367ec170": {
          "model_module": "@jupyter-widgets/controls",
          "model_name": "HTMLModel",
          "model_module_version": "1.5.0",
          "state": {
            "_dom_classes": [],
            "_model_module": "@jupyter-widgets/controls",
            "_model_module_version": "1.5.0",
            "_model_name": "HTMLModel",
            "_view_count": null,
            "_view_module": "@jupyter-widgets/controls",
            "_view_module_version": "1.5.0",
            "_view_name": "HTMLView",
            "description": "",
            "description_tooltip": null,
            "layout": "IPY_MODEL_7b42b7e3cb2a4cfa8fcb1c257d18ec9b",
            "placeholder": "​",
            "style": "IPY_MODEL_ef9b8b1cb60f49ed8f6be57cb202c2cb",
            "value": "Downloading readme: 100%"
          }
        },
        "1908831a943e476ca61e2d331589ff9e": {
          "model_module": "@jupyter-widgets/controls",
          "model_name": "FloatProgressModel",
          "model_module_version": "1.5.0",
          "state": {
            "_dom_classes": [],
            "_model_module": "@jupyter-widgets/controls",
            "_model_module_version": "1.5.0",
            "_model_name": "FloatProgressModel",
            "_view_count": null,
            "_view_module": "@jupyter-widgets/controls",
            "_view_module_version": "1.5.0",
            "_view_name": "ProgressView",
            "bar_style": "success",
            "description": "",
            "description_tooltip": null,
            "layout": "IPY_MODEL_45e1c48fcb224e41bd8776b5f1c895e0",
            "max": 20914,
            "min": 0,
            "orientation": "horizontal",
            "style": "IPY_MODEL_fab969b918ab488895927c39caedbf22",
            "value": 20914
          }
        },
        "bab2e9c1ad964ba1878bd0545a51a16c": {
          "model_module": "@jupyter-widgets/controls",
          "model_name": "HTMLModel",
          "model_module_version": "1.5.0",
          "state": {
            "_dom_classes": [],
            "_model_module": "@jupyter-widgets/controls",
            "_model_module_version": "1.5.0",
            "_model_name": "HTMLModel",
            "_view_count": null,
            "_view_module": "@jupyter-widgets/controls",
            "_view_module_version": "1.5.0",
            "_view_name": "HTMLView",
            "description": "",
            "description_tooltip": null,
            "layout": "IPY_MODEL_954ecd817bf841af99e640a8eced1c26",
            "placeholder": "​",
            "style": "IPY_MODEL_1052c8fb5219481da1717e73b06d066f",
            "value": " 20.9k/20.9k [00:00&lt;00:00, 710kB/s]"
          }
        },
        "ec38409d94e748228bc6d8f3b8a31889": {
          "model_module": "@jupyter-widgets/base",
          "model_name": "LayoutModel",
          "model_module_version": "1.2.0",
          "state": {
            "_model_module": "@jupyter-widgets/base",
            "_model_module_version": "1.2.0",
            "_model_name": "LayoutModel",
            "_view_count": null,
            "_view_module": "@jupyter-widgets/base",
            "_view_module_version": "1.2.0",
            "_view_name": "LayoutView",
            "align_content": null,
            "align_items": null,
            "align_self": null,
            "border": null,
            "bottom": null,
            "display": null,
            "flex": null,
            "flex_flow": null,
            "grid_area": null,
            "grid_auto_columns": null,
            "grid_auto_flow": null,
            "grid_auto_rows": null,
            "grid_column": null,
            "grid_gap": null,
            "grid_row": null,
            "grid_template_areas": null,
            "grid_template_columns": null,
            "grid_template_rows": null,
            "height": null,
            "justify_content": null,
            "justify_items": null,
            "left": null,
            "margin": null,
            "max_height": null,
            "max_width": null,
            "min_height": null,
            "min_width": null,
            "object_fit": null,
            "object_position": null,
            "order": null,
            "overflow": null,
            "overflow_x": null,
            "overflow_y": null,
            "padding": null,
            "right": null,
            "top": null,
            "visibility": null,
            "width": null
          }
        },
        "7b42b7e3cb2a4cfa8fcb1c257d18ec9b": {
          "model_module": "@jupyter-widgets/base",
          "model_name": "LayoutModel",
          "model_module_version": "1.2.0",
          "state": {
            "_model_module": "@jupyter-widgets/base",
            "_model_module_version": "1.2.0",
            "_model_name": "LayoutModel",
            "_view_count": null,
            "_view_module": "@jupyter-widgets/base",
            "_view_module_version": "1.2.0",
            "_view_name": "LayoutView",
            "align_content": null,
            "align_items": null,
            "align_self": null,
            "border": null,
            "bottom": null,
            "display": null,
            "flex": null,
            "flex_flow": null,
            "grid_area": null,
            "grid_auto_columns": null,
            "grid_auto_flow": null,
            "grid_auto_rows": null,
            "grid_column": null,
            "grid_gap": null,
            "grid_row": null,
            "grid_template_areas": null,
            "grid_template_columns": null,
            "grid_template_rows": null,
            "height": null,
            "justify_content": null,
            "justify_items": null,
            "left": null,
            "margin": null,
            "max_height": null,
            "max_width": null,
            "min_height": null,
            "min_width": null,
            "object_fit": null,
            "object_position": null,
            "order": null,
            "overflow": null,
            "overflow_x": null,
            "overflow_y": null,
            "padding": null,
            "right": null,
            "top": null,
            "visibility": null,
            "width": null
          }
        },
        "ef9b8b1cb60f49ed8f6be57cb202c2cb": {
          "model_module": "@jupyter-widgets/controls",
          "model_name": "DescriptionStyleModel",
          "model_module_version": "1.5.0",
          "state": {
            "_model_module": "@jupyter-widgets/controls",
            "_model_module_version": "1.5.0",
            "_model_name": "DescriptionStyleModel",
            "_view_count": null,
            "_view_module": "@jupyter-widgets/base",
            "_view_module_version": "1.2.0",
            "_view_name": "StyleView",
            "description_width": ""
          }
        },
        "45e1c48fcb224e41bd8776b5f1c895e0": {
          "model_module": "@jupyter-widgets/base",
          "model_name": "LayoutModel",
          "model_module_version": "1.2.0",
          "state": {
            "_model_module": "@jupyter-widgets/base",
            "_model_module_version": "1.2.0",
            "_model_name": "LayoutModel",
            "_view_count": null,
            "_view_module": "@jupyter-widgets/base",
            "_view_module_version": "1.2.0",
            "_view_name": "LayoutView",
            "align_content": null,
            "align_items": null,
            "align_self": null,
            "border": null,
            "bottom": null,
            "display": null,
            "flex": null,
            "flex_flow": null,
            "grid_area": null,
            "grid_auto_columns": null,
            "grid_auto_flow": null,
            "grid_auto_rows": null,
            "grid_column": null,
            "grid_gap": null,
            "grid_row": null,
            "grid_template_areas": null,
            "grid_template_columns": null,
            "grid_template_rows": null,
            "height": null,
            "justify_content": null,
            "justify_items": null,
            "left": null,
            "margin": null,
            "max_height": null,
            "max_width": null,
            "min_height": null,
            "min_width": null,
            "object_fit": null,
            "object_position": null,
            "order": null,
            "overflow": null,
            "overflow_x": null,
            "overflow_y": null,
            "padding": null,
            "right": null,
            "top": null,
            "visibility": null,
            "width": null
          }
        },
        "fab969b918ab488895927c39caedbf22": {
          "model_module": "@jupyter-widgets/controls",
          "model_name": "ProgressStyleModel",
          "model_module_version": "1.5.0",
          "state": {
            "_model_module": "@jupyter-widgets/controls",
            "_model_module_version": "1.5.0",
            "_model_name": "ProgressStyleModel",
            "_view_count": null,
            "_view_module": "@jupyter-widgets/base",
            "_view_module_version": "1.2.0",
            "_view_name": "StyleView",
            "bar_color": null,
            "description_width": ""
          }
        },
        "954ecd817bf841af99e640a8eced1c26": {
          "model_module": "@jupyter-widgets/base",
          "model_name": "LayoutModel",
          "model_module_version": "1.2.0",
          "state": {
            "_model_module": "@jupyter-widgets/base",
            "_model_module_version": "1.2.0",
            "_model_name": "LayoutModel",
            "_view_count": null,
            "_view_module": "@jupyter-widgets/base",
            "_view_module_version": "1.2.0",
            "_view_name": "LayoutView",
            "align_content": null,
            "align_items": null,
            "align_self": null,
            "border": null,
            "bottom": null,
            "display": null,
            "flex": null,
            "flex_flow": null,
            "grid_area": null,
            "grid_auto_columns": null,
            "grid_auto_flow": null,
            "grid_auto_rows": null,
            "grid_column": null,
            "grid_gap": null,
            "grid_row": null,
            "grid_template_areas": null,
            "grid_template_columns": null,
            "grid_template_rows": null,
            "height": null,
            "justify_content": null,
            "justify_items": null,
            "left": null,
            "margin": null,
            "max_height": null,
            "max_width": null,
            "min_height": null,
            "min_width": null,
            "object_fit": null,
            "object_position": null,
            "order": null,
            "overflow": null,
            "overflow_x": null,
            "overflow_y": null,
            "padding": null,
            "right": null,
            "top": null,
            "visibility": null,
            "width": null
          }
        },
        "1052c8fb5219481da1717e73b06d066f": {
          "model_module": "@jupyter-widgets/controls",
          "model_name": "DescriptionStyleModel",
          "model_module_version": "1.5.0",
          "state": {
            "_model_module": "@jupyter-widgets/controls",
            "_model_module_version": "1.5.0",
            "_model_name": "DescriptionStyleModel",
            "_view_count": null,
            "_view_module": "@jupyter-widgets/base",
            "_view_module_version": "1.2.0",
            "_view_name": "StyleView",
            "description_width": ""
          }
        },
        "f593b911e5824ebcb3ff38679237a33a": {
          "model_module": "@jupyter-widgets/controls",
          "model_name": "HBoxModel",
          "model_module_version": "1.5.0",
          "state": {
            "_dom_classes": [],
            "_model_module": "@jupyter-widgets/controls",
            "_model_module_version": "1.5.0",
            "_model_name": "HBoxModel",
            "_view_count": null,
            "_view_module": "@jupyter-widgets/controls",
            "_view_module_version": "1.5.0",
            "_view_name": "HBoxView",
            "box_style": "",
            "children": [
              "IPY_MODEL_9beb3a4dcd654542918b920906b69c84",
              "IPY_MODEL_8516eb4cf1984d9aade685226bbf8939",
              "IPY_MODEL_6aed97536e204a34ba3d9efa96aac1b3"
            ],
            "layout": "IPY_MODEL_a178a7da6e484cd3bd4577e37e541830"
          }
        },
        "9beb3a4dcd654542918b920906b69c84": {
          "model_module": "@jupyter-widgets/controls",
          "model_name": "HTMLModel",
          "model_module_version": "1.5.0",
          "state": {
            "_dom_classes": [],
            "_model_module": "@jupyter-widgets/controls",
            "_model_module_version": "1.5.0",
            "_model_name": "HTMLModel",
            "_view_count": null,
            "_view_module": "@jupyter-widgets/controls",
            "_view_module_version": "1.5.0",
            "_view_name": "HTMLView",
            "description": "",
            "description_tooltip": null,
            "layout": "IPY_MODEL_299a828ad5014f99aa23789176af56b0",
            "placeholder": "​",
            "style": "IPY_MODEL_bdfffc63a8f546c888d6c358ddc6d2d1",
            "value": "Downloading data: 100%"
          }
        },
        "8516eb4cf1984d9aade685226bbf8939": {
          "model_module": "@jupyter-widgets/controls",
          "model_name": "FloatProgressModel",
          "model_module_version": "1.5.0",
          "state": {
            "_dom_classes": [],
            "_model_module": "@jupyter-widgets/controls",
            "_model_module_version": "1.5.0",
            "_model_name": "FloatProgressModel",
            "_view_count": null,
            "_view_module": "@jupyter-widgets/controls",
            "_view_module_version": "1.5.0",
            "_view_name": "ProgressView",
            "bar_style": "success",
            "description": "",
            "description_tooltip": null,
            "layout": "IPY_MODEL_92bfec745fdb448db1080a6a8ae52704",
            "max": 18101984,
            "min": 0,
            "orientation": "horizontal",
            "style": "IPY_MODEL_c16bbc82788a467e8e875ff412211766",
            "value": 18101984
          }
        },
        "6aed97536e204a34ba3d9efa96aac1b3": {
          "model_module": "@jupyter-widgets/controls",
          "model_name": "HTMLModel",
          "model_module_version": "1.5.0",
          "state": {
            "_dom_classes": [],
            "_model_module": "@jupyter-widgets/controls",
            "_model_module_version": "1.5.0",
            "_model_name": "HTMLModel",
            "_view_count": null,
            "_view_module": "@jupyter-widgets/controls",
            "_view_module_version": "1.5.0",
            "_view_name": "HTMLView",
            "description": "",
            "description_tooltip": null,
            "layout": "IPY_MODEL_418b36744ea04efcbd3fda4ae4ccfd98",
            "placeholder": "​",
            "style": "IPY_MODEL_46d942d262144e3fafeaf352b3665caa",
            "value": " 18.1M/18.1M [00:03&lt;00:00, 8.17MB/s]"
          }
        },
        "a178a7da6e484cd3bd4577e37e541830": {
          "model_module": "@jupyter-widgets/base",
          "model_name": "LayoutModel",
          "model_module_version": "1.2.0",
          "state": {
            "_model_module": "@jupyter-widgets/base",
            "_model_module_version": "1.2.0",
            "_model_name": "LayoutModel",
            "_view_count": null,
            "_view_module": "@jupyter-widgets/base",
            "_view_module_version": "1.2.0",
            "_view_name": "LayoutView",
            "align_content": null,
            "align_items": null,
            "align_self": null,
            "border": null,
            "bottom": null,
            "display": null,
            "flex": null,
            "flex_flow": null,
            "grid_area": null,
            "grid_auto_columns": null,
            "grid_auto_flow": null,
            "grid_auto_rows": null,
            "grid_column": null,
            "grid_gap": null,
            "grid_row": null,
            "grid_template_areas": null,
            "grid_template_columns": null,
            "grid_template_rows": null,
            "height": null,
            "justify_content": null,
            "justify_items": null,
            "left": null,
            "margin": null,
            "max_height": null,
            "max_width": null,
            "min_height": null,
            "min_width": null,
            "object_fit": null,
            "object_position": null,
            "order": null,
            "overflow": null,
            "overflow_x": null,
            "overflow_y": null,
            "padding": null,
            "right": null,
            "top": null,
            "visibility": null,
            "width": null
          }
        },
        "299a828ad5014f99aa23789176af56b0": {
          "model_module": "@jupyter-widgets/base",
          "model_name": "LayoutModel",
          "model_module_version": "1.2.0",
          "state": {
            "_model_module": "@jupyter-widgets/base",
            "_model_module_version": "1.2.0",
            "_model_name": "LayoutModel",
            "_view_count": null,
            "_view_module": "@jupyter-widgets/base",
            "_view_module_version": "1.2.0",
            "_view_name": "LayoutView",
            "align_content": null,
            "align_items": null,
            "align_self": null,
            "border": null,
            "bottom": null,
            "display": null,
            "flex": null,
            "flex_flow": null,
            "grid_area": null,
            "grid_auto_columns": null,
            "grid_auto_flow": null,
            "grid_auto_rows": null,
            "grid_column": null,
            "grid_gap": null,
            "grid_row": null,
            "grid_template_areas": null,
            "grid_template_columns": null,
            "grid_template_rows": null,
            "height": null,
            "justify_content": null,
            "justify_items": null,
            "left": null,
            "margin": null,
            "max_height": null,
            "max_width": null,
            "min_height": null,
            "min_width": null,
            "object_fit": null,
            "object_position": null,
            "order": null,
            "overflow": null,
            "overflow_x": null,
            "overflow_y": null,
            "padding": null,
            "right": null,
            "top": null,
            "visibility": null,
            "width": null
          }
        },
        "bdfffc63a8f546c888d6c358ddc6d2d1": {
          "model_module": "@jupyter-widgets/controls",
          "model_name": "DescriptionStyleModel",
          "model_module_version": "1.5.0",
          "state": {
            "_model_module": "@jupyter-widgets/controls",
            "_model_module_version": "1.5.0",
            "_model_name": "DescriptionStyleModel",
            "_view_count": null,
            "_view_module": "@jupyter-widgets/base",
            "_view_module_version": "1.2.0",
            "_view_name": "StyleView",
            "description_width": ""
          }
        },
        "92bfec745fdb448db1080a6a8ae52704": {
          "model_module": "@jupyter-widgets/base",
          "model_name": "LayoutModel",
          "model_module_version": "1.2.0",
          "state": {
            "_model_module": "@jupyter-widgets/base",
            "_model_module_version": "1.2.0",
            "_model_name": "LayoutModel",
            "_view_count": null,
            "_view_module": "@jupyter-widgets/base",
            "_view_module_version": "1.2.0",
            "_view_name": "LayoutView",
            "align_content": null,
            "align_items": null,
            "align_self": null,
            "border": null,
            "bottom": null,
            "display": null,
            "flex": null,
            "flex_flow": null,
            "grid_area": null,
            "grid_auto_columns": null,
            "grid_auto_flow": null,
            "grid_auto_rows": null,
            "grid_column": null,
            "grid_gap": null,
            "grid_row": null,
            "grid_template_areas": null,
            "grid_template_columns": null,
            "grid_template_rows": null,
            "height": null,
            "justify_content": null,
            "justify_items": null,
            "left": null,
            "margin": null,
            "max_height": null,
            "max_width": null,
            "min_height": null,
            "min_width": null,
            "object_fit": null,
            "object_position": null,
            "order": null,
            "overflow": null,
            "overflow_x": null,
            "overflow_y": null,
            "padding": null,
            "right": null,
            "top": null,
            "visibility": null,
            "width": null
          }
        },
        "c16bbc82788a467e8e875ff412211766": {
          "model_module": "@jupyter-widgets/controls",
          "model_name": "ProgressStyleModel",
          "model_module_version": "1.5.0",
          "state": {
            "_model_module": "@jupyter-widgets/controls",
            "_model_module_version": "1.5.0",
            "_model_name": "ProgressStyleModel",
            "_view_count": null,
            "_view_module": "@jupyter-widgets/base",
            "_view_module_version": "1.2.0",
            "_view_name": "StyleView",
            "bar_color": null,
            "description_width": ""
          }
        },
        "418b36744ea04efcbd3fda4ae4ccfd98": {
          "model_module": "@jupyter-widgets/base",
          "model_name": "LayoutModel",
          "model_module_version": "1.2.0",
          "state": {
            "_model_module": "@jupyter-widgets/base",
            "_model_module_version": "1.2.0",
            "_model_name": "LayoutModel",
            "_view_count": null,
            "_view_module": "@jupyter-widgets/base",
            "_view_module_version": "1.2.0",
            "_view_name": "LayoutView",
            "align_content": null,
            "align_items": null,
            "align_self": null,
            "border": null,
            "bottom": null,
            "display": null,
            "flex": null,
            "flex_flow": null,
            "grid_area": null,
            "grid_auto_columns": null,
            "grid_auto_flow": null,
            "grid_auto_rows": null,
            "grid_column": null,
            "grid_gap": null,
            "grid_row": null,
            "grid_template_areas": null,
            "grid_template_columns": null,
            "grid_template_rows": null,
            "height": null,
            "justify_content": null,
            "justify_items": null,
            "left": null,
            "margin": null,
            "max_height": null,
            "max_width": null,
            "min_height": null,
            "min_width": null,
            "object_fit": null,
            "object_position": null,
            "order": null,
            "overflow": null,
            "overflow_x": null,
            "overflow_y": null,
            "padding": null,
            "right": null,
            "top": null,
            "visibility": null,
            "width": null
          }
        },
        "46d942d262144e3fafeaf352b3665caa": {
          "model_module": "@jupyter-widgets/controls",
          "model_name": "DescriptionStyleModel",
          "model_module_version": "1.5.0",
          "state": {
            "_model_module": "@jupyter-widgets/controls",
            "_model_module_version": "1.5.0",
            "_model_name": "DescriptionStyleModel",
            "_view_count": null,
            "_view_module": "@jupyter-widgets/base",
            "_view_module_version": "1.2.0",
            "_view_name": "StyleView",
            "description_width": ""
          }
        },
        "2ae7b98d91ff451a92e5c9761f7ad70c": {
          "model_module": "@jupyter-widgets/controls",
          "model_name": "HBoxModel",
          "model_module_version": "1.5.0",
          "state": {
            "_dom_classes": [],
            "_model_module": "@jupyter-widgets/controls",
            "_model_module_version": "1.5.0",
            "_model_name": "HBoxModel",
            "_view_count": null,
            "_view_module": "@jupyter-widgets/controls",
            "_view_module_version": "1.5.0",
            "_view_name": "HBoxView",
            "box_style": "",
            "children": [
              "IPY_MODEL_bedef02e0db147cb82e45531b5e1012d",
              "IPY_MODEL_14addfbb2ab74a48ab7f0872b672860f",
              "IPY_MODEL_162c44286d7841d2ac576f4ec3c13a5d"
            ],
            "layout": "IPY_MODEL_eb16242ea2b04137a27e3833a5ffb7c1"
          }
        },
        "bedef02e0db147cb82e45531b5e1012d": {
          "model_module": "@jupyter-widgets/controls",
          "model_name": "HTMLModel",
          "model_module_version": "1.5.0",
          "state": {
            "_dom_classes": [],
            "_model_module": "@jupyter-widgets/controls",
            "_model_module_version": "1.5.0",
            "_model_name": "HTMLModel",
            "_view_count": null,
            "_view_module": "@jupyter-widgets/controls",
            "_view_module_version": "1.5.0",
            "_view_name": "HTMLView",
            "description": "",
            "description_tooltip": null,
            "layout": "IPY_MODEL_58834f632b7d4e23a8ebec4ab2a06769",
            "placeholder": "​",
            "style": "IPY_MODEL_d6847674b6454e45a3d57103c16c7b3a",
            "value": "Generating train split: 100%"
          }
        },
        "14addfbb2ab74a48ab7f0872b672860f": {
          "model_module": "@jupyter-widgets/controls",
          "model_name": "FloatProgressModel",
          "model_module_version": "1.5.0",
          "state": {
            "_dom_classes": [],
            "_model_module": "@jupyter-widgets/controls",
            "_model_module_version": "1.5.0",
            "_model_name": "FloatProgressModel",
            "_view_count": null,
            "_view_module": "@jupyter-widgets/controls",
            "_view_module_version": "1.5.0",
            "_view_name": "ProgressView",
            "bar_style": "",
            "description": "",
            "description_tooltip": null,
            "layout": "IPY_MODEL_f8e85d1ca74d41e091965a731e2dc88f",
            "max": 69206,
            "min": 0,
            "orientation": "horizontal",
            "style": "IPY_MODEL_f28a42117239411d973c00a1949db490",
            "value": 69206
          }
        },
        "162c44286d7841d2ac576f4ec3c13a5d": {
          "model_module": "@jupyter-widgets/controls",
          "model_name": "HTMLModel",
          "model_module_version": "1.5.0",
          "state": {
            "_dom_classes": [],
            "_model_module": "@jupyter-widgets/controls",
            "_model_module_version": "1.5.0",
            "_model_name": "HTMLModel",
            "_view_count": null,
            "_view_module": "@jupyter-widgets/controls",
            "_view_module_version": "1.5.0",
            "_view_name": "HTMLView",
            "description": "",
            "description_tooltip": null,
            "layout": "IPY_MODEL_5802fdade84e48a2a0a375d40adca998",
            "placeholder": "​",
            "style": "IPY_MODEL_06408922677b43f09d94a4e01fc94b4b",
            "value": " 69206/69206 [00:22&lt;00:00, 22593.83 examples/s]"
          }
        },
        "eb16242ea2b04137a27e3833a5ffb7c1": {
          "model_module": "@jupyter-widgets/base",
          "model_name": "LayoutModel",
          "model_module_version": "1.2.0",
          "state": {
            "_model_module": "@jupyter-widgets/base",
            "_model_module_version": "1.2.0",
            "_model_name": "LayoutModel",
            "_view_count": null,
            "_view_module": "@jupyter-widgets/base",
            "_view_module_version": "1.2.0",
            "_view_name": "LayoutView",
            "align_content": null,
            "align_items": null,
            "align_self": null,
            "border": null,
            "bottom": null,
            "display": null,
            "flex": null,
            "flex_flow": null,
            "grid_area": null,
            "grid_auto_columns": null,
            "grid_auto_flow": null,
            "grid_auto_rows": null,
            "grid_column": null,
            "grid_gap": null,
            "grid_row": null,
            "grid_template_areas": null,
            "grid_template_columns": null,
            "grid_template_rows": null,
            "height": null,
            "justify_content": null,
            "justify_items": null,
            "left": null,
            "margin": null,
            "max_height": null,
            "max_width": null,
            "min_height": null,
            "min_width": null,
            "object_fit": null,
            "object_position": null,
            "order": null,
            "overflow": null,
            "overflow_x": null,
            "overflow_y": null,
            "padding": null,
            "right": null,
            "top": null,
            "visibility": "hidden",
            "width": null
          }
        },
        "58834f632b7d4e23a8ebec4ab2a06769": {
          "model_module": "@jupyter-widgets/base",
          "model_name": "LayoutModel",
          "model_module_version": "1.2.0",
          "state": {
            "_model_module": "@jupyter-widgets/base",
            "_model_module_version": "1.2.0",
            "_model_name": "LayoutModel",
            "_view_count": null,
            "_view_module": "@jupyter-widgets/base",
            "_view_module_version": "1.2.0",
            "_view_name": "LayoutView",
            "align_content": null,
            "align_items": null,
            "align_self": null,
            "border": null,
            "bottom": null,
            "display": null,
            "flex": null,
            "flex_flow": null,
            "grid_area": null,
            "grid_auto_columns": null,
            "grid_auto_flow": null,
            "grid_auto_rows": null,
            "grid_column": null,
            "grid_gap": null,
            "grid_row": null,
            "grid_template_areas": null,
            "grid_template_columns": null,
            "grid_template_rows": null,
            "height": null,
            "justify_content": null,
            "justify_items": null,
            "left": null,
            "margin": null,
            "max_height": null,
            "max_width": null,
            "min_height": null,
            "min_width": null,
            "object_fit": null,
            "object_position": null,
            "order": null,
            "overflow": null,
            "overflow_x": null,
            "overflow_y": null,
            "padding": null,
            "right": null,
            "top": null,
            "visibility": null,
            "width": null
          }
        },
        "d6847674b6454e45a3d57103c16c7b3a": {
          "model_module": "@jupyter-widgets/controls",
          "model_name": "DescriptionStyleModel",
          "model_module_version": "1.5.0",
          "state": {
            "_model_module": "@jupyter-widgets/controls",
            "_model_module_version": "1.5.0",
            "_model_name": "DescriptionStyleModel",
            "_view_count": null,
            "_view_module": "@jupyter-widgets/base",
            "_view_module_version": "1.2.0",
            "_view_name": "StyleView",
            "description_width": ""
          }
        },
        "f8e85d1ca74d41e091965a731e2dc88f": {
          "model_module": "@jupyter-widgets/base",
          "model_name": "LayoutModel",
          "model_module_version": "1.2.0",
          "state": {
            "_model_module": "@jupyter-widgets/base",
            "_model_module_version": "1.2.0",
            "_model_name": "LayoutModel",
            "_view_count": null,
            "_view_module": "@jupyter-widgets/base",
            "_view_module_version": "1.2.0",
            "_view_name": "LayoutView",
            "align_content": null,
            "align_items": null,
            "align_self": null,
            "border": null,
            "bottom": null,
            "display": null,
            "flex": null,
            "flex_flow": null,
            "grid_area": null,
            "grid_auto_columns": null,
            "grid_auto_flow": null,
            "grid_auto_rows": null,
            "grid_column": null,
            "grid_gap": null,
            "grid_row": null,
            "grid_template_areas": null,
            "grid_template_columns": null,
            "grid_template_rows": null,
            "height": null,
            "justify_content": null,
            "justify_items": null,
            "left": null,
            "margin": null,
            "max_height": null,
            "max_width": null,
            "min_height": null,
            "min_width": null,
            "object_fit": null,
            "object_position": null,
            "order": null,
            "overflow": null,
            "overflow_x": null,
            "overflow_y": null,
            "padding": null,
            "right": null,
            "top": null,
            "visibility": null,
            "width": null
          }
        },
        "f28a42117239411d973c00a1949db490": {
          "model_module": "@jupyter-widgets/controls",
          "model_name": "ProgressStyleModel",
          "model_module_version": "1.5.0",
          "state": {
            "_model_module": "@jupyter-widgets/controls",
            "_model_module_version": "1.5.0",
            "_model_name": "ProgressStyleModel",
            "_view_count": null,
            "_view_module": "@jupyter-widgets/base",
            "_view_module_version": "1.2.0",
            "_view_name": "StyleView",
            "bar_color": null,
            "description_width": ""
          }
        },
        "5802fdade84e48a2a0a375d40adca998": {
          "model_module": "@jupyter-widgets/base",
          "model_name": "LayoutModel",
          "model_module_version": "1.2.0",
          "state": {
            "_model_module": "@jupyter-widgets/base",
            "_model_module_version": "1.2.0",
            "_model_name": "LayoutModel",
            "_view_count": null,
            "_view_module": "@jupyter-widgets/base",
            "_view_module_version": "1.2.0",
            "_view_name": "LayoutView",
            "align_content": null,
            "align_items": null,
            "align_self": null,
            "border": null,
            "bottom": null,
            "display": null,
            "flex": null,
            "flex_flow": null,
            "grid_area": null,
            "grid_auto_columns": null,
            "grid_auto_flow": null,
            "grid_auto_rows": null,
            "grid_column": null,
            "grid_gap": null,
            "grid_row": null,
            "grid_template_areas": null,
            "grid_template_columns": null,
            "grid_template_rows": null,
            "height": null,
            "justify_content": null,
            "justify_items": null,
            "left": null,
            "margin": null,
            "max_height": null,
            "max_width": null,
            "min_height": null,
            "min_width": null,
            "object_fit": null,
            "object_position": null,
            "order": null,
            "overflow": null,
            "overflow_x": null,
            "overflow_y": null,
            "padding": null,
            "right": null,
            "top": null,
            "visibility": null,
            "width": null
          }
        },
        "06408922677b43f09d94a4e01fc94b4b": {
          "model_module": "@jupyter-widgets/controls",
          "model_name": "DescriptionStyleModel",
          "model_module_version": "1.5.0",
          "state": {
            "_model_module": "@jupyter-widgets/controls",
            "_model_module_version": "1.5.0",
            "_model_name": "DescriptionStyleModel",
            "_view_count": null,
            "_view_module": "@jupyter-widgets/base",
            "_view_module_version": "1.2.0",
            "_view_name": "StyleView",
            "description_width": ""
          }
        },
        "957fb2a9eb284a1da9518f432d022192": {
          "model_module": "@jupyter-widgets/controls",
          "model_name": "HBoxModel",
          "model_module_version": "1.5.0",
          "state": {
            "_dom_classes": [],
            "_model_module": "@jupyter-widgets/controls",
            "_model_module_version": "1.5.0",
            "_model_name": "HBoxModel",
            "_view_count": null,
            "_view_module": "@jupyter-widgets/controls",
            "_view_module_version": "1.5.0",
            "_view_name": "HBoxView",
            "box_style": "",
            "children": [
              "IPY_MODEL_0054b158ee8249828019c4daea0073b6",
              "IPY_MODEL_bc83fd66eef14f6999706f42cf429e4e",
              "IPY_MODEL_02f50d43eb1841609fefcb8a9e571478"
            ],
            "layout": "IPY_MODEL_c12fbd5b6e004795a518a4a4d863c054"
          }
        },
        "0054b158ee8249828019c4daea0073b6": {
          "model_module": "@jupyter-widgets/controls",
          "model_name": "HTMLModel",
          "model_module_version": "1.5.0",
          "state": {
            "_dom_classes": [],
            "_model_module": "@jupyter-widgets/controls",
            "_model_module_version": "1.5.0",
            "_model_name": "HTMLModel",
            "_view_count": null,
            "_view_module": "@jupyter-widgets/controls",
            "_view_module_version": "1.5.0",
            "_view_name": "HTMLView",
            "description": "",
            "description_tooltip": null,
            "layout": "IPY_MODEL_d8f93f7413174e0983512d2f8f0e9898",
            "placeholder": "​",
            "style": "IPY_MODEL_d02e718c35d146cd8f746ba0c253ca4f",
            "value": "Downloading: 100%"
          }
        },
        "bc83fd66eef14f6999706f42cf429e4e": {
          "model_module": "@jupyter-widgets/controls",
          "model_name": "FloatProgressModel",
          "model_module_version": "1.5.0",
          "state": {
            "_dom_classes": [],
            "_model_module": "@jupyter-widgets/controls",
            "_model_module_version": "1.5.0",
            "_model_name": "FloatProgressModel",
            "_view_count": null,
            "_view_module": "@jupyter-widgets/controls",
            "_view_module_version": "1.5.0",
            "_view_name": "ProgressView",
            "bar_style": "success",
            "description": "",
            "description_tooltip": null,
            "layout": "IPY_MODEL_7b6951d324534cb9a2478f9b71fd7448",
            "max": 3708092,
            "min": 0,
            "orientation": "horizontal",
            "style": "IPY_MODEL_5bd3a7529bef4fc58e83d8df50e40561",
            "value": 3708092
          }
        },
        "02f50d43eb1841609fefcb8a9e571478": {
          "model_module": "@jupyter-widgets/controls",
          "model_name": "HTMLModel",
          "model_module_version": "1.5.0",
          "state": {
            "_dom_classes": [],
            "_model_module": "@jupyter-widgets/controls",
            "_model_module_version": "1.5.0",
            "_model_name": "HTMLModel",
            "_view_count": null,
            "_view_module": "@jupyter-widgets/controls",
            "_view_module_version": "1.5.0",
            "_view_name": "HTMLView",
            "description": "",
            "description_tooltip": null,
            "layout": "IPY_MODEL_7e7b88a76aef4999af95da4cd7d3162b",
            "placeholder": "​",
            "style": "IPY_MODEL_9757524fa5574be8a1198736aaa2bc7c",
            "value": " 3.71M/3.71M [00:00&lt;00:00, 6.43MB/s]"
          }
        },
        "c12fbd5b6e004795a518a4a4d863c054": {
          "model_module": "@jupyter-widgets/base",
          "model_name": "LayoutModel",
          "model_module_version": "1.2.0",
          "state": {
            "_model_module": "@jupyter-widgets/base",
            "_model_module_version": "1.2.0",
            "_model_name": "LayoutModel",
            "_view_count": null,
            "_view_module": "@jupyter-widgets/base",
            "_view_module_version": "1.2.0",
            "_view_name": "LayoutView",
            "align_content": null,
            "align_items": null,
            "align_self": null,
            "border": null,
            "bottom": null,
            "display": null,
            "flex": null,
            "flex_flow": null,
            "grid_area": null,
            "grid_auto_columns": null,
            "grid_auto_flow": null,
            "grid_auto_rows": null,
            "grid_column": null,
            "grid_gap": null,
            "grid_row": null,
            "grid_template_areas": null,
            "grid_template_columns": null,
            "grid_template_rows": null,
            "height": null,
            "justify_content": null,
            "justify_items": null,
            "left": null,
            "margin": null,
            "max_height": null,
            "max_width": null,
            "min_height": null,
            "min_width": null,
            "object_fit": null,
            "object_position": null,
            "order": null,
            "overflow": null,
            "overflow_x": null,
            "overflow_y": null,
            "padding": null,
            "right": null,
            "top": null,
            "visibility": null,
            "width": null
          }
        },
        "d8f93f7413174e0983512d2f8f0e9898": {
          "model_module": "@jupyter-widgets/base",
          "model_name": "LayoutModel",
          "model_module_version": "1.2.0",
          "state": {
            "_model_module": "@jupyter-widgets/base",
            "_model_module_version": "1.2.0",
            "_model_name": "LayoutModel",
            "_view_count": null,
            "_view_module": "@jupyter-widgets/base",
            "_view_module_version": "1.2.0",
            "_view_name": "LayoutView",
            "align_content": null,
            "align_items": null,
            "align_self": null,
            "border": null,
            "bottom": null,
            "display": null,
            "flex": null,
            "flex_flow": null,
            "grid_area": null,
            "grid_auto_columns": null,
            "grid_auto_flow": null,
            "grid_auto_rows": null,
            "grid_column": null,
            "grid_gap": null,
            "grid_row": null,
            "grid_template_areas": null,
            "grid_template_columns": null,
            "grid_template_rows": null,
            "height": null,
            "justify_content": null,
            "justify_items": null,
            "left": null,
            "margin": null,
            "max_height": null,
            "max_width": null,
            "min_height": null,
            "min_width": null,
            "object_fit": null,
            "object_position": null,
            "order": null,
            "overflow": null,
            "overflow_x": null,
            "overflow_y": null,
            "padding": null,
            "right": null,
            "top": null,
            "visibility": null,
            "width": null
          }
        },
        "d02e718c35d146cd8f746ba0c253ca4f": {
          "model_module": "@jupyter-widgets/controls",
          "model_name": "DescriptionStyleModel",
          "model_module_version": "1.5.0",
          "state": {
            "_model_module": "@jupyter-widgets/controls",
            "_model_module_version": "1.5.0",
            "_model_name": "DescriptionStyleModel",
            "_view_count": null,
            "_view_module": "@jupyter-widgets/base",
            "_view_module_version": "1.2.0",
            "_view_name": "StyleView",
            "description_width": ""
          }
        },
        "7b6951d324534cb9a2478f9b71fd7448": {
          "model_module": "@jupyter-widgets/base",
          "model_name": "LayoutModel",
          "model_module_version": "1.2.0",
          "state": {
            "_model_module": "@jupyter-widgets/base",
            "_model_module_version": "1.2.0",
            "_model_name": "LayoutModel",
            "_view_count": null,
            "_view_module": "@jupyter-widgets/base",
            "_view_module_version": "1.2.0",
            "_view_name": "LayoutView",
            "align_content": null,
            "align_items": null,
            "align_self": null,
            "border": null,
            "bottom": null,
            "display": null,
            "flex": null,
            "flex_flow": null,
            "grid_area": null,
            "grid_auto_columns": null,
            "grid_auto_flow": null,
            "grid_auto_rows": null,
            "grid_column": null,
            "grid_gap": null,
            "grid_row": null,
            "grid_template_areas": null,
            "grid_template_columns": null,
            "grid_template_rows": null,
            "height": null,
            "justify_content": null,
            "justify_items": null,
            "left": null,
            "margin": null,
            "max_height": null,
            "max_width": null,
            "min_height": null,
            "min_width": null,
            "object_fit": null,
            "object_position": null,
            "order": null,
            "overflow": null,
            "overflow_x": null,
            "overflow_y": null,
            "padding": null,
            "right": null,
            "top": null,
            "visibility": null,
            "width": null
          }
        },
        "5bd3a7529bef4fc58e83d8df50e40561": {
          "model_module": "@jupyter-widgets/controls",
          "model_name": "ProgressStyleModel",
          "model_module_version": "1.5.0",
          "state": {
            "_model_module": "@jupyter-widgets/controls",
            "_model_module_version": "1.5.0",
            "_model_name": "ProgressStyleModel",
            "_view_count": null,
            "_view_module": "@jupyter-widgets/base",
            "_view_module_version": "1.2.0",
            "_view_name": "StyleView",
            "bar_color": null,
            "description_width": ""
          }
        },
        "7e7b88a76aef4999af95da4cd7d3162b": {
          "model_module": "@jupyter-widgets/base",
          "model_name": "LayoutModel",
          "model_module_version": "1.2.0",
          "state": {
            "_model_module": "@jupyter-widgets/base",
            "_model_module_version": "1.2.0",
            "_model_name": "LayoutModel",
            "_view_count": null,
            "_view_module": "@jupyter-widgets/base",
            "_view_module_version": "1.2.0",
            "_view_name": "LayoutView",
            "align_content": null,
            "align_items": null,
            "align_self": null,
            "border": null,
            "bottom": null,
            "display": null,
            "flex": null,
            "flex_flow": null,
            "grid_area": null,
            "grid_auto_columns": null,
            "grid_auto_flow": null,
            "grid_auto_rows": null,
            "grid_column": null,
            "grid_gap": null,
            "grid_row": null,
            "grid_template_areas": null,
            "grid_template_columns": null,
            "grid_template_rows": null,
            "height": null,
            "justify_content": null,
            "justify_items": null,
            "left": null,
            "margin": null,
            "max_height": null,
            "max_width": null,
            "min_height": null,
            "min_width": null,
            "object_fit": null,
            "object_position": null,
            "order": null,
            "overflow": null,
            "overflow_x": null,
            "overflow_y": null,
            "padding": null,
            "right": null,
            "top": null,
            "visibility": null,
            "width": null
          }
        },
        "9757524fa5574be8a1198736aaa2bc7c": {
          "model_module": "@jupyter-widgets/controls",
          "model_name": "DescriptionStyleModel",
          "model_module_version": "1.5.0",
          "state": {
            "_model_module": "@jupyter-widgets/controls",
            "_model_module_version": "1.5.0",
            "_model_name": "DescriptionStyleModel",
            "_view_count": null,
            "_view_module": "@jupyter-widgets/base",
            "_view_module_version": "1.2.0",
            "_view_name": "StyleView",
            "description_width": ""
          }
        },
        "9a209192e13b4be18f08637a35aebf14": {
          "model_module": "@jupyter-widgets/controls",
          "model_name": "HBoxModel",
          "model_module_version": "1.5.0",
          "state": {
            "_dom_classes": [],
            "_model_module": "@jupyter-widgets/controls",
            "_model_module_version": "1.5.0",
            "_model_name": "HBoxModel",
            "_view_count": null,
            "_view_module": "@jupyter-widgets/controls",
            "_view_module_version": "1.5.0",
            "_view_name": "HBoxView",
            "box_style": "",
            "children": [
              "IPY_MODEL_c9798dab454d4a0da54cd119641f9f75",
              "IPY_MODEL_ac227d5fff8c4065bb57ce2bf3de0d82",
              "IPY_MODEL_47527e920ee04c59be80a19ce31959f9"
            ],
            "layout": "IPY_MODEL_37f2888ba1f04e3baf3e95c6da6b57d3"
          }
        },
        "c9798dab454d4a0da54cd119641f9f75": {
          "model_module": "@jupyter-widgets/controls",
          "model_name": "HTMLModel",
          "model_module_version": "1.5.0",
          "state": {
            "_dom_classes": [],
            "_model_module": "@jupyter-widgets/controls",
            "_model_module_version": "1.5.0",
            "_model_name": "HTMLModel",
            "_view_count": null,
            "_view_module": "@jupyter-widgets/controls",
            "_view_module_version": "1.5.0",
            "_view_name": "HTMLView",
            "description": "",
            "description_tooltip": null,
            "layout": "IPY_MODEL_7aa2a6aa33c34470a65df04fd797e0af",
            "placeholder": "​",
            "style": "IPY_MODEL_dd20da3cd7da41c7847f788658bedf9f",
            "value": "Downloading: 100%"
          }
        },
        "ac227d5fff8c4065bb57ce2bf3de0d82": {
          "model_module": "@jupyter-widgets/controls",
          "model_name": "FloatProgressModel",
          "model_module_version": "1.5.0",
          "state": {
            "_dom_classes": [],
            "_model_module": "@jupyter-widgets/controls",
            "_model_module_version": "1.5.0",
            "_model_name": "FloatProgressModel",
            "_view_count": null,
            "_view_module": "@jupyter-widgets/controls",
            "_view_module_version": "1.5.0",
            "_view_name": "ProgressView",
            "bar_style": "success",
            "description": "",
            "description_tooltip": null,
            "layout": "IPY_MODEL_77ed8985d9c5445fa4896c047888de76",
            "max": 2423393,
            "min": 0,
            "orientation": "horizontal",
            "style": "IPY_MODEL_72dc15971d154f459bbc87015aa99d41",
            "value": 2423393
          }
        },
        "47527e920ee04c59be80a19ce31959f9": {
          "model_module": "@jupyter-widgets/controls",
          "model_name": "HTMLModel",
          "model_module_version": "1.5.0",
          "state": {
            "_dom_classes": [],
            "_model_module": "@jupyter-widgets/controls",
            "_model_module_version": "1.5.0",
            "_model_name": "HTMLModel",
            "_view_count": null,
            "_view_module": "@jupyter-widgets/controls",
            "_view_module_version": "1.5.0",
            "_view_name": "HTMLView",
            "description": "",
            "description_tooltip": null,
            "layout": "IPY_MODEL_d02a2b006d41453090b936967c9e10af",
            "placeholder": "​",
            "style": "IPY_MODEL_e4d0b23ccab8458bb2ecc50e5c2ce523",
            "value": " 2.42M/2.42M [00:00&lt;00:00, 11.1MB/s]"
          }
        },
        "37f2888ba1f04e3baf3e95c6da6b57d3": {
          "model_module": "@jupyter-widgets/base",
          "model_name": "LayoutModel",
          "model_module_version": "1.2.0",
          "state": {
            "_model_module": "@jupyter-widgets/base",
            "_model_module_version": "1.2.0",
            "_model_name": "LayoutModel",
            "_view_count": null,
            "_view_module": "@jupyter-widgets/base",
            "_view_module_version": "1.2.0",
            "_view_name": "LayoutView",
            "align_content": null,
            "align_items": null,
            "align_self": null,
            "border": null,
            "bottom": null,
            "display": null,
            "flex": null,
            "flex_flow": null,
            "grid_area": null,
            "grid_auto_columns": null,
            "grid_auto_flow": null,
            "grid_auto_rows": null,
            "grid_column": null,
            "grid_gap": null,
            "grid_row": null,
            "grid_template_areas": null,
            "grid_template_columns": null,
            "grid_template_rows": null,
            "height": null,
            "justify_content": null,
            "justify_items": null,
            "left": null,
            "margin": null,
            "max_height": null,
            "max_width": null,
            "min_height": null,
            "min_width": null,
            "object_fit": null,
            "object_position": null,
            "order": null,
            "overflow": null,
            "overflow_x": null,
            "overflow_y": null,
            "padding": null,
            "right": null,
            "top": null,
            "visibility": null,
            "width": null
          }
        },
        "7aa2a6aa33c34470a65df04fd797e0af": {
          "model_module": "@jupyter-widgets/base",
          "model_name": "LayoutModel",
          "model_module_version": "1.2.0",
          "state": {
            "_model_module": "@jupyter-widgets/base",
            "_model_module_version": "1.2.0",
            "_model_name": "LayoutModel",
            "_view_count": null,
            "_view_module": "@jupyter-widgets/base",
            "_view_module_version": "1.2.0",
            "_view_name": "LayoutView",
            "align_content": null,
            "align_items": null,
            "align_self": null,
            "border": null,
            "bottom": null,
            "display": null,
            "flex": null,
            "flex_flow": null,
            "grid_area": null,
            "grid_auto_columns": null,
            "grid_auto_flow": null,
            "grid_auto_rows": null,
            "grid_column": null,
            "grid_gap": null,
            "grid_row": null,
            "grid_template_areas": null,
            "grid_template_columns": null,
            "grid_template_rows": null,
            "height": null,
            "justify_content": null,
            "justify_items": null,
            "left": null,
            "margin": null,
            "max_height": null,
            "max_width": null,
            "min_height": null,
            "min_width": null,
            "object_fit": null,
            "object_position": null,
            "order": null,
            "overflow": null,
            "overflow_x": null,
            "overflow_y": null,
            "padding": null,
            "right": null,
            "top": null,
            "visibility": null,
            "width": null
          }
        },
        "dd20da3cd7da41c7847f788658bedf9f": {
          "model_module": "@jupyter-widgets/controls",
          "model_name": "DescriptionStyleModel",
          "model_module_version": "1.5.0",
          "state": {
            "_model_module": "@jupyter-widgets/controls",
            "_model_module_version": "1.5.0",
            "_model_name": "DescriptionStyleModel",
            "_view_count": null,
            "_view_module": "@jupyter-widgets/base",
            "_view_module_version": "1.2.0",
            "_view_name": "StyleView",
            "description_width": ""
          }
        },
        "77ed8985d9c5445fa4896c047888de76": {
          "model_module": "@jupyter-widgets/base",
          "model_name": "LayoutModel",
          "model_module_version": "1.2.0",
          "state": {
            "_model_module": "@jupyter-widgets/base",
            "_model_module_version": "1.2.0",
            "_model_name": "LayoutModel",
            "_view_count": null,
            "_view_module": "@jupyter-widgets/base",
            "_view_module_version": "1.2.0",
            "_view_name": "LayoutView",
            "align_content": null,
            "align_items": null,
            "align_self": null,
            "border": null,
            "bottom": null,
            "display": null,
            "flex": null,
            "flex_flow": null,
            "grid_area": null,
            "grid_auto_columns": null,
            "grid_auto_flow": null,
            "grid_auto_rows": null,
            "grid_column": null,
            "grid_gap": null,
            "grid_row": null,
            "grid_template_areas": null,
            "grid_template_columns": null,
            "grid_template_rows": null,
            "height": null,
            "justify_content": null,
            "justify_items": null,
            "left": null,
            "margin": null,
            "max_height": null,
            "max_width": null,
            "min_height": null,
            "min_width": null,
            "object_fit": null,
            "object_position": null,
            "order": null,
            "overflow": null,
            "overflow_x": null,
            "overflow_y": null,
            "padding": null,
            "right": null,
            "top": null,
            "visibility": null,
            "width": null
          }
        },
        "72dc15971d154f459bbc87015aa99d41": {
          "model_module": "@jupyter-widgets/controls",
          "model_name": "ProgressStyleModel",
          "model_module_version": "1.5.0",
          "state": {
            "_model_module": "@jupyter-widgets/controls",
            "_model_module_version": "1.5.0",
            "_model_name": "ProgressStyleModel",
            "_view_count": null,
            "_view_module": "@jupyter-widgets/base",
            "_view_module_version": "1.2.0",
            "_view_name": "StyleView",
            "bar_color": null,
            "description_width": ""
          }
        },
        "d02a2b006d41453090b936967c9e10af": {
          "model_module": "@jupyter-widgets/base",
          "model_name": "LayoutModel",
          "model_module_version": "1.2.0",
          "state": {
            "_model_module": "@jupyter-widgets/base",
            "_model_module_version": "1.2.0",
            "_model_name": "LayoutModel",
            "_view_count": null,
            "_view_module": "@jupyter-widgets/base",
            "_view_module_version": "1.2.0",
            "_view_name": "LayoutView",
            "align_content": null,
            "align_items": null,
            "align_self": null,
            "border": null,
            "bottom": null,
            "display": null,
            "flex": null,
            "flex_flow": null,
            "grid_area": null,
            "grid_auto_columns": null,
            "grid_auto_flow": null,
            "grid_auto_rows": null,
            "grid_column": null,
            "grid_gap": null,
            "grid_row": null,
            "grid_template_areas": null,
            "grid_template_columns": null,
            "grid_template_rows": null,
            "height": null,
            "justify_content": null,
            "justify_items": null,
            "left": null,
            "margin": null,
            "max_height": null,
            "max_width": null,
            "min_height": null,
            "min_width": null,
            "object_fit": null,
            "object_position": null,
            "order": null,
            "overflow": null,
            "overflow_x": null,
            "overflow_y": null,
            "padding": null,
            "right": null,
            "top": null,
            "visibility": null,
            "width": null
          }
        },
        "e4d0b23ccab8458bb2ecc50e5c2ce523": {
          "model_module": "@jupyter-widgets/controls",
          "model_name": "DescriptionStyleModel",
          "model_module_version": "1.5.0",
          "state": {
            "_model_module": "@jupyter-widgets/controls",
            "_model_module_version": "1.5.0",
            "_model_name": "DescriptionStyleModel",
            "_view_count": null,
            "_view_module": "@jupyter-widgets/base",
            "_view_module_version": "1.2.0",
            "_view_name": "StyleView",
            "description_width": ""
          }
        },
        "6006f7a44dd042fd8aab3b62b53ded70": {
          "model_module": "@jupyter-widgets/controls",
          "model_name": "HBoxModel",
          "model_module_version": "1.5.0",
          "state": {
            "_dom_classes": [],
            "_model_module": "@jupyter-widgets/controls",
            "_model_module_version": "1.5.0",
            "_model_name": "HBoxModel",
            "_view_count": null,
            "_view_module": "@jupyter-widgets/controls",
            "_view_module_version": "1.5.0",
            "_view_name": "HBoxView",
            "box_style": "",
            "children": [
              "IPY_MODEL_2fd4ef8aeca84aaba5350d6c88a0b4ec",
              "IPY_MODEL_4b5764feec984a84b0d568056e7f92be",
              "IPY_MODEL_83be2fc80da64dc4b0b05a1b7f6be19e"
            ],
            "layout": "IPY_MODEL_34f2084049114ce99c5a2500d718dfbf"
          }
        },
        "2fd4ef8aeca84aaba5350d6c88a0b4ec": {
          "model_module": "@jupyter-widgets/controls",
          "model_name": "HTMLModel",
          "model_module_version": "1.5.0",
          "state": {
            "_dom_classes": [],
            "_model_module": "@jupyter-widgets/controls",
            "_model_module_version": "1.5.0",
            "_model_name": "HTMLModel",
            "_view_count": null,
            "_view_module": "@jupyter-widgets/controls",
            "_view_module_version": "1.5.0",
            "_view_name": "HTMLView",
            "description": "",
            "description_tooltip": null,
            "layout": "IPY_MODEL_bab04cd5043a4c6fa9507ab172f608ed",
            "placeholder": "​",
            "style": "IPY_MODEL_f0beb72ef92044d39570abf39387fab0",
            "value": "Downloading: 100%"
          }
        },
        "4b5764feec984a84b0d568056e7f92be": {
          "model_module": "@jupyter-widgets/controls",
          "model_name": "FloatProgressModel",
          "model_module_version": "1.5.0",
          "state": {
            "_dom_classes": [],
            "_model_module": "@jupyter-widgets/controls",
            "_model_module_version": "1.5.0",
            "_model_name": "FloatProgressModel",
            "_view_count": null,
            "_view_module": "@jupyter-widgets/controls",
            "_view_module_version": "1.5.0",
            "_view_name": "ProgressView",
            "bar_style": "success",
            "description": "",
            "description_tooltip": null,
            "layout": "IPY_MODEL_00df05d7f9f84f72a8bab2884b85605f",
            "max": 272,
            "min": 0,
            "orientation": "horizontal",
            "style": "IPY_MODEL_1113344f953b48cf95cbb88af509702b",
            "value": 272
          }
        },
        "83be2fc80da64dc4b0b05a1b7f6be19e": {
          "model_module": "@jupyter-widgets/controls",
          "model_name": "HTMLModel",
          "model_module_version": "1.5.0",
          "state": {
            "_dom_classes": [],
            "_model_module": "@jupyter-widgets/controls",
            "_model_module_version": "1.5.0",
            "_model_name": "HTMLModel",
            "_view_count": null,
            "_view_module": "@jupyter-widgets/controls",
            "_view_module_version": "1.5.0",
            "_view_name": "HTMLView",
            "description": "",
            "description_tooltip": null,
            "layout": "IPY_MODEL_b6eab4eb9e02471087549bb9ac8926da",
            "placeholder": "​",
            "style": "IPY_MODEL_dd6def8929ae47d8b062606ee5fa53e0",
            "value": " 272/272 [00:00&lt;00:00, 9.64kB/s]"
          }
        },
        "34f2084049114ce99c5a2500d718dfbf": {
          "model_module": "@jupyter-widgets/base",
          "model_name": "LayoutModel",
          "model_module_version": "1.2.0",
          "state": {
            "_model_module": "@jupyter-widgets/base",
            "_model_module_version": "1.2.0",
            "_model_name": "LayoutModel",
            "_view_count": null,
            "_view_module": "@jupyter-widgets/base",
            "_view_module_version": "1.2.0",
            "_view_name": "LayoutView",
            "align_content": null,
            "align_items": null,
            "align_self": null,
            "border": null,
            "bottom": null,
            "display": null,
            "flex": null,
            "flex_flow": null,
            "grid_area": null,
            "grid_auto_columns": null,
            "grid_auto_flow": null,
            "grid_auto_rows": null,
            "grid_column": null,
            "grid_gap": null,
            "grid_row": null,
            "grid_template_areas": null,
            "grid_template_columns": null,
            "grid_template_rows": null,
            "height": null,
            "justify_content": null,
            "justify_items": null,
            "left": null,
            "margin": null,
            "max_height": null,
            "max_width": null,
            "min_height": null,
            "min_width": null,
            "object_fit": null,
            "object_position": null,
            "order": null,
            "overflow": null,
            "overflow_x": null,
            "overflow_y": null,
            "padding": null,
            "right": null,
            "top": null,
            "visibility": null,
            "width": null
          }
        },
        "bab04cd5043a4c6fa9507ab172f608ed": {
          "model_module": "@jupyter-widgets/base",
          "model_name": "LayoutModel",
          "model_module_version": "1.2.0",
          "state": {
            "_model_module": "@jupyter-widgets/base",
            "_model_module_version": "1.2.0",
            "_model_name": "LayoutModel",
            "_view_count": null,
            "_view_module": "@jupyter-widgets/base",
            "_view_module_version": "1.2.0",
            "_view_name": "LayoutView",
            "align_content": null,
            "align_items": null,
            "align_self": null,
            "border": null,
            "bottom": null,
            "display": null,
            "flex": null,
            "flex_flow": null,
            "grid_area": null,
            "grid_auto_columns": null,
            "grid_auto_flow": null,
            "grid_auto_rows": null,
            "grid_column": null,
            "grid_gap": null,
            "grid_row": null,
            "grid_template_areas": null,
            "grid_template_columns": null,
            "grid_template_rows": null,
            "height": null,
            "justify_content": null,
            "justify_items": null,
            "left": null,
            "margin": null,
            "max_height": null,
            "max_width": null,
            "min_height": null,
            "min_width": null,
            "object_fit": null,
            "object_position": null,
            "order": null,
            "overflow": null,
            "overflow_x": null,
            "overflow_y": null,
            "padding": null,
            "right": null,
            "top": null,
            "visibility": null,
            "width": null
          }
        },
        "f0beb72ef92044d39570abf39387fab0": {
          "model_module": "@jupyter-widgets/controls",
          "model_name": "DescriptionStyleModel",
          "model_module_version": "1.5.0",
          "state": {
            "_model_module": "@jupyter-widgets/controls",
            "_model_module_version": "1.5.0",
            "_model_name": "DescriptionStyleModel",
            "_view_count": null,
            "_view_module": "@jupyter-widgets/base",
            "_view_module_version": "1.2.0",
            "_view_name": "StyleView",
            "description_width": ""
          }
        },
        "00df05d7f9f84f72a8bab2884b85605f": {
          "model_module": "@jupyter-widgets/base",
          "model_name": "LayoutModel",
          "model_module_version": "1.2.0",
          "state": {
            "_model_module": "@jupyter-widgets/base",
            "_model_module_version": "1.2.0",
            "_model_name": "LayoutModel",
            "_view_count": null,
            "_view_module": "@jupyter-widgets/base",
            "_view_module_version": "1.2.0",
            "_view_name": "LayoutView",
            "align_content": null,
            "align_items": null,
            "align_self": null,
            "border": null,
            "bottom": null,
            "display": null,
            "flex": null,
            "flex_flow": null,
            "grid_area": null,
            "grid_auto_columns": null,
            "grid_auto_flow": null,
            "grid_auto_rows": null,
            "grid_column": null,
            "grid_gap": null,
            "grid_row": null,
            "grid_template_areas": null,
            "grid_template_columns": null,
            "grid_template_rows": null,
            "height": null,
            "justify_content": null,
            "justify_items": null,
            "left": null,
            "margin": null,
            "max_height": null,
            "max_width": null,
            "min_height": null,
            "min_width": null,
            "object_fit": null,
            "object_position": null,
            "order": null,
            "overflow": null,
            "overflow_x": null,
            "overflow_y": null,
            "padding": null,
            "right": null,
            "top": null,
            "visibility": null,
            "width": null
          }
        },
        "1113344f953b48cf95cbb88af509702b": {
          "model_module": "@jupyter-widgets/controls",
          "model_name": "ProgressStyleModel",
          "model_module_version": "1.5.0",
          "state": {
            "_model_module": "@jupyter-widgets/controls",
            "_model_module_version": "1.5.0",
            "_model_name": "ProgressStyleModel",
            "_view_count": null,
            "_view_module": "@jupyter-widgets/base",
            "_view_module_version": "1.2.0",
            "_view_name": "StyleView",
            "bar_color": null,
            "description_width": ""
          }
        },
        "b6eab4eb9e02471087549bb9ac8926da": {
          "model_module": "@jupyter-widgets/base",
          "model_name": "LayoutModel",
          "model_module_version": "1.2.0",
          "state": {
            "_model_module": "@jupyter-widgets/base",
            "_model_module_version": "1.2.0",
            "_model_name": "LayoutModel",
            "_view_count": null,
            "_view_module": "@jupyter-widgets/base",
            "_view_module_version": "1.2.0",
            "_view_name": "LayoutView",
            "align_content": null,
            "align_items": null,
            "align_self": null,
            "border": null,
            "bottom": null,
            "display": null,
            "flex": null,
            "flex_flow": null,
            "grid_area": null,
            "grid_auto_columns": null,
            "grid_auto_flow": null,
            "grid_auto_rows": null,
            "grid_column": null,
            "grid_gap": null,
            "grid_row": null,
            "grid_template_areas": null,
            "grid_template_columns": null,
            "grid_template_rows": null,
            "height": null,
            "justify_content": null,
            "justify_items": null,
            "left": null,
            "margin": null,
            "max_height": null,
            "max_width": null,
            "min_height": null,
            "min_width": null,
            "object_fit": null,
            "object_position": null,
            "order": null,
            "overflow": null,
            "overflow_x": null,
            "overflow_y": null,
            "padding": null,
            "right": null,
            "top": null,
            "visibility": null,
            "width": null
          }
        },
        "dd6def8929ae47d8b062606ee5fa53e0": {
          "model_module": "@jupyter-widgets/controls",
          "model_name": "DescriptionStyleModel",
          "model_module_version": "1.5.0",
          "state": {
            "_model_module": "@jupyter-widgets/controls",
            "_model_module_version": "1.5.0",
            "_model_name": "DescriptionStyleModel",
            "_view_count": null,
            "_view_module": "@jupyter-widgets/base",
            "_view_module_version": "1.2.0",
            "_view_name": "StyleView",
            "description_width": ""
          }
        },
        "736198f915d34b11b96f7d1204f883e2": {
          "model_module": "@jupyter-widgets/controls",
          "model_name": "HBoxModel",
          "model_module_version": "1.5.0",
          "state": {
            "_dom_classes": [],
            "_model_module": "@jupyter-widgets/controls",
            "_model_module_version": "1.5.0",
            "_model_name": "HBoxModel",
            "_view_count": null,
            "_view_module": "@jupyter-widgets/controls",
            "_view_module_version": "1.5.0",
            "_view_name": "HBoxView",
            "box_style": "",
            "children": [
              "IPY_MODEL_f3609d8c27f2419f84caf4a0305b81f4",
              "IPY_MODEL_04b4465fe5ad4694ba46da2362e9d315",
              "IPY_MODEL_159216888bc84ce09aa9ce55738becf1"
            ],
            "layout": "IPY_MODEL_d8d1406f8ee04c9a81047b00e3548d65"
          }
        },
        "f3609d8c27f2419f84caf4a0305b81f4": {
          "model_module": "@jupyter-widgets/controls",
          "model_name": "HTMLModel",
          "model_module_version": "1.5.0",
          "state": {
            "_dom_classes": [],
            "_model_module": "@jupyter-widgets/controls",
            "_model_module_version": "1.5.0",
            "_model_name": "HTMLModel",
            "_view_count": null,
            "_view_module": "@jupyter-widgets/controls",
            "_view_module_version": "1.5.0",
            "_view_name": "HTMLView",
            "description": "",
            "description_tooltip": null,
            "layout": "IPY_MODEL_675208a170fc41a2bc78e8dd0cf12503",
            "placeholder": "​",
            "style": "IPY_MODEL_c3d43876baa44d7f9c2c27ec58120761",
            "value": "Downloading: 100%"
          }
        },
        "04b4465fe5ad4694ba46da2362e9d315": {
          "model_module": "@jupyter-widgets/controls",
          "model_name": "FloatProgressModel",
          "model_module_version": "1.5.0",
          "state": {
            "_dom_classes": [],
            "_model_module": "@jupyter-widgets/controls",
            "_model_module_version": "1.5.0",
            "_model_name": "FloatProgressModel",
            "_view_count": null,
            "_view_module": "@jupyter-widgets/controls",
            "_view_module_version": "1.5.0",
            "_view_name": "ProgressView",
            "bar_style": "success",
            "description": "",
            "description_tooltip": null,
            "layout": "IPY_MODEL_19ab30c455464e54b16e6303a1670ee1",
            "max": 1140,
            "min": 0,
            "orientation": "horizontal",
            "style": "IPY_MODEL_be96e3491ac841ff81b9877af3a2c365",
            "value": 1140
          }
        },
        "159216888bc84ce09aa9ce55738becf1": {
          "model_module": "@jupyter-widgets/controls",
          "model_name": "HTMLModel",
          "model_module_version": "1.5.0",
          "state": {
            "_dom_classes": [],
            "_model_module": "@jupyter-widgets/controls",
            "_model_module_version": "1.5.0",
            "_model_name": "HTMLModel",
            "_view_count": null,
            "_view_module": "@jupyter-widgets/controls",
            "_view_module_version": "1.5.0",
            "_view_name": "HTMLView",
            "description": "",
            "description_tooltip": null,
            "layout": "IPY_MODEL_923a1d40e6324f6ca7f80ea4d2a9259d",
            "placeholder": "​",
            "style": "IPY_MODEL_fff85ed148ef43ec9045306039b83165",
            "value": " 1.14k/1.14k [00:00&lt;00:00, 42.9kB/s]"
          }
        },
        "d8d1406f8ee04c9a81047b00e3548d65": {
          "model_module": "@jupyter-widgets/base",
          "model_name": "LayoutModel",
          "model_module_version": "1.2.0",
          "state": {
            "_model_module": "@jupyter-widgets/base",
            "_model_module_version": "1.2.0",
            "_model_name": "LayoutModel",
            "_view_count": null,
            "_view_module": "@jupyter-widgets/base",
            "_view_module_version": "1.2.0",
            "_view_name": "LayoutView",
            "align_content": null,
            "align_items": null,
            "align_self": null,
            "border": null,
            "bottom": null,
            "display": null,
            "flex": null,
            "flex_flow": null,
            "grid_area": null,
            "grid_auto_columns": null,
            "grid_auto_flow": null,
            "grid_auto_rows": null,
            "grid_column": null,
            "grid_gap": null,
            "grid_row": null,
            "grid_template_areas": null,
            "grid_template_columns": null,
            "grid_template_rows": null,
            "height": null,
            "justify_content": null,
            "justify_items": null,
            "left": null,
            "margin": null,
            "max_height": null,
            "max_width": null,
            "min_height": null,
            "min_width": null,
            "object_fit": null,
            "object_position": null,
            "order": null,
            "overflow": null,
            "overflow_x": null,
            "overflow_y": null,
            "padding": null,
            "right": null,
            "top": null,
            "visibility": null,
            "width": null
          }
        },
        "675208a170fc41a2bc78e8dd0cf12503": {
          "model_module": "@jupyter-widgets/base",
          "model_name": "LayoutModel",
          "model_module_version": "1.2.0",
          "state": {
            "_model_module": "@jupyter-widgets/base",
            "_model_module_version": "1.2.0",
            "_model_name": "LayoutModel",
            "_view_count": null,
            "_view_module": "@jupyter-widgets/base",
            "_view_module_version": "1.2.0",
            "_view_name": "LayoutView",
            "align_content": null,
            "align_items": null,
            "align_self": null,
            "border": null,
            "bottom": null,
            "display": null,
            "flex": null,
            "flex_flow": null,
            "grid_area": null,
            "grid_auto_columns": null,
            "grid_auto_flow": null,
            "grid_auto_rows": null,
            "grid_column": null,
            "grid_gap": null,
            "grid_row": null,
            "grid_template_areas": null,
            "grid_template_columns": null,
            "grid_template_rows": null,
            "height": null,
            "justify_content": null,
            "justify_items": null,
            "left": null,
            "margin": null,
            "max_height": null,
            "max_width": null,
            "min_height": null,
            "min_width": null,
            "object_fit": null,
            "object_position": null,
            "order": null,
            "overflow": null,
            "overflow_x": null,
            "overflow_y": null,
            "padding": null,
            "right": null,
            "top": null,
            "visibility": null,
            "width": null
          }
        },
        "c3d43876baa44d7f9c2c27ec58120761": {
          "model_module": "@jupyter-widgets/controls",
          "model_name": "DescriptionStyleModel",
          "model_module_version": "1.5.0",
          "state": {
            "_model_module": "@jupyter-widgets/controls",
            "_model_module_version": "1.5.0",
            "_model_name": "DescriptionStyleModel",
            "_view_count": null,
            "_view_module": "@jupyter-widgets/base",
            "_view_module_version": "1.2.0",
            "_view_name": "StyleView",
            "description_width": ""
          }
        },
        "19ab30c455464e54b16e6303a1670ee1": {
          "model_module": "@jupyter-widgets/base",
          "model_name": "LayoutModel",
          "model_module_version": "1.2.0",
          "state": {
            "_model_module": "@jupyter-widgets/base",
            "_model_module_version": "1.2.0",
            "_model_name": "LayoutModel",
            "_view_count": null,
            "_view_module": "@jupyter-widgets/base",
            "_view_module_version": "1.2.0",
            "_view_name": "LayoutView",
            "align_content": null,
            "align_items": null,
            "align_self": null,
            "border": null,
            "bottom": null,
            "display": null,
            "flex": null,
            "flex_flow": null,
            "grid_area": null,
            "grid_auto_columns": null,
            "grid_auto_flow": null,
            "grid_auto_rows": null,
            "grid_column": null,
            "grid_gap": null,
            "grid_row": null,
            "grid_template_areas": null,
            "grid_template_columns": null,
            "grid_template_rows": null,
            "height": null,
            "justify_content": null,
            "justify_items": null,
            "left": null,
            "margin": null,
            "max_height": null,
            "max_width": null,
            "min_height": null,
            "min_width": null,
            "object_fit": null,
            "object_position": null,
            "order": null,
            "overflow": null,
            "overflow_x": null,
            "overflow_y": null,
            "padding": null,
            "right": null,
            "top": null,
            "visibility": null,
            "width": null
          }
        },
        "be96e3491ac841ff81b9877af3a2c365": {
          "model_module": "@jupyter-widgets/controls",
          "model_name": "ProgressStyleModel",
          "model_module_version": "1.5.0",
          "state": {
            "_model_module": "@jupyter-widgets/controls",
            "_model_module_version": "1.5.0",
            "_model_name": "ProgressStyleModel",
            "_view_count": null,
            "_view_module": "@jupyter-widgets/base",
            "_view_module_version": "1.2.0",
            "_view_name": "StyleView",
            "bar_color": null,
            "description_width": ""
          }
        },
        "923a1d40e6324f6ca7f80ea4d2a9259d": {
          "model_module": "@jupyter-widgets/base",
          "model_name": "LayoutModel",
          "model_module_version": "1.2.0",
          "state": {
            "_model_module": "@jupyter-widgets/base",
            "_model_module_version": "1.2.0",
            "_model_name": "LayoutModel",
            "_view_count": null,
            "_view_module": "@jupyter-widgets/base",
            "_view_module_version": "1.2.0",
            "_view_name": "LayoutView",
            "align_content": null,
            "align_items": null,
            "align_self": null,
            "border": null,
            "bottom": null,
            "display": null,
            "flex": null,
            "flex_flow": null,
            "grid_area": null,
            "grid_auto_columns": null,
            "grid_auto_flow": null,
            "grid_auto_rows": null,
            "grid_column": null,
            "grid_gap": null,
            "grid_row": null,
            "grid_template_areas": null,
            "grid_template_columns": null,
            "grid_template_rows": null,
            "height": null,
            "justify_content": null,
            "justify_items": null,
            "left": null,
            "margin": null,
            "max_height": null,
            "max_width": null,
            "min_height": null,
            "min_width": null,
            "object_fit": null,
            "object_position": null,
            "order": null,
            "overflow": null,
            "overflow_x": null,
            "overflow_y": null,
            "padding": null,
            "right": null,
            "top": null,
            "visibility": null,
            "width": null
          }
        },
        "fff85ed148ef43ec9045306039b83165": {
          "model_module": "@jupyter-widgets/controls",
          "model_name": "DescriptionStyleModel",
          "model_module_version": "1.5.0",
          "state": {
            "_model_module": "@jupyter-widgets/controls",
            "_model_module_version": "1.5.0",
            "_model_name": "DescriptionStyleModel",
            "_view_count": null,
            "_view_module": "@jupyter-widgets/base",
            "_view_module_version": "1.2.0",
            "_view_name": "StyleView",
            "description_width": ""
          }
        },
        "3bf73141f6914e70b815cb8f0c848a9b": {
          "model_module": "@jupyter-widgets/controls",
          "model_name": "HBoxModel",
          "model_module_version": "1.5.0",
          "state": {
            "_dom_classes": [],
            "_model_module": "@jupyter-widgets/controls",
            "_model_module_version": "1.5.0",
            "_model_name": "HBoxModel",
            "_view_count": null,
            "_view_module": "@jupyter-widgets/controls",
            "_view_module_version": "1.5.0",
            "_view_name": "HBoxView",
            "box_style": "",
            "children": [
              "IPY_MODEL_c69798bcf12448cb837e0157357b3dc6",
              "IPY_MODEL_c766356b1d274905afbc81fa05c3ff34",
              "IPY_MODEL_ec88f47bb2a14f1d90f839683e024d44"
            ],
            "layout": "IPY_MODEL_d6bbaba02fb64ea891cccb36972fa7f5"
          }
        },
        "c69798bcf12448cb837e0157357b3dc6": {
          "model_module": "@jupyter-widgets/controls",
          "model_name": "HTMLModel",
          "model_module_version": "1.5.0",
          "state": {
            "_dom_classes": [],
            "_model_module": "@jupyter-widgets/controls",
            "_model_module_version": "1.5.0",
            "_model_name": "HTMLModel",
            "_view_count": null,
            "_view_module": "@jupyter-widgets/controls",
            "_view_module_version": "1.5.0",
            "_view_name": "HTMLView",
            "description": "",
            "description_tooltip": null,
            "layout": "IPY_MODEL_3409b98803414f6691aee1431bc96272",
            "placeholder": "​",
            "style": "IPY_MODEL_a9778741d24041cfbb04417b531b6645",
            "value": "Downloading: 100%"
          }
        },
        "c766356b1d274905afbc81fa05c3ff34": {
          "model_module": "@jupyter-widgets/controls",
          "model_name": "FloatProgressModel",
          "model_module_version": "1.5.0",
          "state": {
            "_dom_classes": [],
            "_model_module": "@jupyter-widgets/controls",
            "_model_module_version": "1.5.0",
            "_model_name": "FloatProgressModel",
            "_view_count": null,
            "_view_module": "@jupyter-widgets/controls",
            "_view_module_version": "1.5.0",
            "_view_name": "ProgressView",
            "bar_style": "success",
            "description": "",
            "description_tooltip": null,
            "layout": "IPY_MODEL_609ebefb8ecd477f8752077add96a85c",
            "max": 908,
            "min": 0,
            "orientation": "horizontal",
            "style": "IPY_MODEL_a1a21a0a6b344133b72c5fe75e89b66d",
            "value": 908
          }
        },
        "ec88f47bb2a14f1d90f839683e024d44": {
          "model_module": "@jupyter-widgets/controls",
          "model_name": "HTMLModel",
          "model_module_version": "1.5.0",
          "state": {
            "_dom_classes": [],
            "_model_module": "@jupyter-widgets/controls",
            "_model_module_version": "1.5.0",
            "_model_name": "HTMLModel",
            "_view_count": null,
            "_view_module": "@jupyter-widgets/controls",
            "_view_module_version": "1.5.0",
            "_view_name": "HTMLView",
            "description": "",
            "description_tooltip": null,
            "layout": "IPY_MODEL_07f342991b814bcb9f9832c9f7f9c972",
            "placeholder": "​",
            "style": "IPY_MODEL_c7f32eb9bdc1458a8aa3d443363144af",
            "value": " 908/908 [00:00&lt;00:00, 33.8kB/s]"
          }
        },
        "d6bbaba02fb64ea891cccb36972fa7f5": {
          "model_module": "@jupyter-widgets/base",
          "model_name": "LayoutModel",
          "model_module_version": "1.2.0",
          "state": {
            "_model_module": "@jupyter-widgets/base",
            "_model_module_version": "1.2.0",
            "_model_name": "LayoutModel",
            "_view_count": null,
            "_view_module": "@jupyter-widgets/base",
            "_view_module_version": "1.2.0",
            "_view_name": "LayoutView",
            "align_content": null,
            "align_items": null,
            "align_self": null,
            "border": null,
            "bottom": null,
            "display": null,
            "flex": null,
            "flex_flow": null,
            "grid_area": null,
            "grid_auto_columns": null,
            "grid_auto_flow": null,
            "grid_auto_rows": null,
            "grid_column": null,
            "grid_gap": null,
            "grid_row": null,
            "grid_template_areas": null,
            "grid_template_columns": null,
            "grid_template_rows": null,
            "height": null,
            "justify_content": null,
            "justify_items": null,
            "left": null,
            "margin": null,
            "max_height": null,
            "max_width": null,
            "min_height": null,
            "min_width": null,
            "object_fit": null,
            "object_position": null,
            "order": null,
            "overflow": null,
            "overflow_x": null,
            "overflow_y": null,
            "padding": null,
            "right": null,
            "top": null,
            "visibility": null,
            "width": null
          }
        },
        "3409b98803414f6691aee1431bc96272": {
          "model_module": "@jupyter-widgets/base",
          "model_name": "LayoutModel",
          "model_module_version": "1.2.0",
          "state": {
            "_model_module": "@jupyter-widgets/base",
            "_model_module_version": "1.2.0",
            "_model_name": "LayoutModel",
            "_view_count": null,
            "_view_module": "@jupyter-widgets/base",
            "_view_module_version": "1.2.0",
            "_view_name": "LayoutView",
            "align_content": null,
            "align_items": null,
            "align_self": null,
            "border": null,
            "bottom": null,
            "display": null,
            "flex": null,
            "flex_flow": null,
            "grid_area": null,
            "grid_auto_columns": null,
            "grid_auto_flow": null,
            "grid_auto_rows": null,
            "grid_column": null,
            "grid_gap": null,
            "grid_row": null,
            "grid_template_areas": null,
            "grid_template_columns": null,
            "grid_template_rows": null,
            "height": null,
            "justify_content": null,
            "justify_items": null,
            "left": null,
            "margin": null,
            "max_height": null,
            "max_width": null,
            "min_height": null,
            "min_width": null,
            "object_fit": null,
            "object_position": null,
            "order": null,
            "overflow": null,
            "overflow_x": null,
            "overflow_y": null,
            "padding": null,
            "right": null,
            "top": null,
            "visibility": null,
            "width": null
          }
        },
        "a9778741d24041cfbb04417b531b6645": {
          "model_module": "@jupyter-widgets/controls",
          "model_name": "DescriptionStyleModel",
          "model_module_version": "1.5.0",
          "state": {
            "_model_module": "@jupyter-widgets/controls",
            "_model_module_version": "1.5.0",
            "_model_name": "DescriptionStyleModel",
            "_view_count": null,
            "_view_module": "@jupyter-widgets/base",
            "_view_module_version": "1.2.0",
            "_view_name": "StyleView",
            "description_width": ""
          }
        },
        "609ebefb8ecd477f8752077add96a85c": {
          "model_module": "@jupyter-widgets/base",
          "model_name": "LayoutModel",
          "model_module_version": "1.2.0",
          "state": {
            "_model_module": "@jupyter-widgets/base",
            "_model_module_version": "1.2.0",
            "_model_name": "LayoutModel",
            "_view_count": null,
            "_view_module": "@jupyter-widgets/base",
            "_view_module_version": "1.2.0",
            "_view_name": "LayoutView",
            "align_content": null,
            "align_items": null,
            "align_self": null,
            "border": null,
            "bottom": null,
            "display": null,
            "flex": null,
            "flex_flow": null,
            "grid_area": null,
            "grid_auto_columns": null,
            "grid_auto_flow": null,
            "grid_auto_rows": null,
            "grid_column": null,
            "grid_gap": null,
            "grid_row": null,
            "grid_template_areas": null,
            "grid_template_columns": null,
            "grid_template_rows": null,
            "height": null,
            "justify_content": null,
            "justify_items": null,
            "left": null,
            "margin": null,
            "max_height": null,
            "max_width": null,
            "min_height": null,
            "min_width": null,
            "object_fit": null,
            "object_position": null,
            "order": null,
            "overflow": null,
            "overflow_x": null,
            "overflow_y": null,
            "padding": null,
            "right": null,
            "top": null,
            "visibility": null,
            "width": null
          }
        },
        "a1a21a0a6b344133b72c5fe75e89b66d": {
          "model_module": "@jupyter-widgets/controls",
          "model_name": "ProgressStyleModel",
          "model_module_version": "1.5.0",
          "state": {
            "_model_module": "@jupyter-widgets/controls",
            "_model_module_version": "1.5.0",
            "_model_name": "ProgressStyleModel",
            "_view_count": null,
            "_view_module": "@jupyter-widgets/base",
            "_view_module_version": "1.2.0",
            "_view_name": "StyleView",
            "bar_color": null,
            "description_width": ""
          }
        },
        "07f342991b814bcb9f9832c9f7f9c972": {
          "model_module": "@jupyter-widgets/base",
          "model_name": "LayoutModel",
          "model_module_version": "1.2.0",
          "state": {
            "_model_module": "@jupyter-widgets/base",
            "_model_module_version": "1.2.0",
            "_model_name": "LayoutModel",
            "_view_count": null,
            "_view_module": "@jupyter-widgets/base",
            "_view_module_version": "1.2.0",
            "_view_name": "LayoutView",
            "align_content": null,
            "align_items": null,
            "align_self": null,
            "border": null,
            "bottom": null,
            "display": null,
            "flex": null,
            "flex_flow": null,
            "grid_area": null,
            "grid_auto_columns": null,
            "grid_auto_flow": null,
            "grid_auto_rows": null,
            "grid_column": null,
            "grid_gap": null,
            "grid_row": null,
            "grid_template_areas": null,
            "grid_template_columns": null,
            "grid_template_rows": null,
            "height": null,
            "justify_content": null,
            "justify_items": null,
            "left": null,
            "margin": null,
            "max_height": null,
            "max_width": null,
            "min_height": null,
            "min_width": null,
            "object_fit": null,
            "object_position": null,
            "order": null,
            "overflow": null,
            "overflow_x": null,
            "overflow_y": null,
            "padding": null,
            "right": null,
            "top": null,
            "visibility": null,
            "width": null
          }
        },
        "c7f32eb9bdc1458a8aa3d443363144af": {
          "model_module": "@jupyter-widgets/controls",
          "model_name": "DescriptionStyleModel",
          "model_module_version": "1.5.0",
          "state": {
            "_model_module": "@jupyter-widgets/controls",
            "_model_module_version": "1.5.0",
            "_model_name": "DescriptionStyleModel",
            "_view_count": null,
            "_view_module": "@jupyter-widgets/base",
            "_view_module_version": "1.2.0",
            "_view_name": "StyleView",
            "description_width": ""
          }
        },
        "429ee9ab4d234cc5b337a69c30e66518": {
          "model_module": "@jupyter-widgets/controls",
          "model_name": "HBoxModel",
          "model_module_version": "1.5.0",
          "state": {
            "_dom_classes": [],
            "_model_module": "@jupyter-widgets/controls",
            "_model_module_version": "1.5.0",
            "_model_name": "HBoxModel",
            "_view_count": null,
            "_view_module": "@jupyter-widgets/controls",
            "_view_module_version": "1.5.0",
            "_view_name": "HBoxView",
            "box_style": "",
            "children": [
              "IPY_MODEL_11e5a37b065941c78281044997a1a0e6",
              "IPY_MODEL_4bb5f8bc0ca14a6c94e0a736603e4ae3",
              "IPY_MODEL_f39a19a8b6c74eaf9ef8f20401992a71"
            ],
            "layout": "IPY_MODEL_f0c380247d8f4702b4fd9eb24fcf526e"
          }
        },
        "11e5a37b065941c78281044997a1a0e6": {
          "model_module": "@jupyter-widgets/controls",
          "model_name": "HTMLModel",
          "model_module_version": "1.5.0",
          "state": {
            "_dom_classes": [],
            "_model_module": "@jupyter-widgets/controls",
            "_model_module_version": "1.5.0",
            "_model_name": "HTMLModel",
            "_view_count": null,
            "_view_module": "@jupyter-widgets/controls",
            "_view_module_version": "1.5.0",
            "_view_name": "HTMLView",
            "description": "",
            "description_tooltip": null,
            "layout": "IPY_MODEL_3e8dd644690548f08d6ea325e2c2a968",
            "placeholder": "​",
            "style": "IPY_MODEL_79a14e2b2e424e55bdc67b432f89baf9",
            "value": "Downloading: 100%"
          }
        },
        "4bb5f8bc0ca14a6c94e0a736603e4ae3": {
          "model_module": "@jupyter-widgets/controls",
          "model_name": "FloatProgressModel",
          "model_module_version": "1.5.0",
          "state": {
            "_dom_classes": [],
            "_model_module": "@jupyter-widgets/controls",
            "_model_module_version": "1.5.0",
            "_model_name": "FloatProgressModel",
            "_view_count": null,
            "_view_module": "@jupyter-widgets/controls",
            "_view_module_version": "1.5.0",
            "_view_name": "ProgressView",
            "bar_style": "success",
            "description": "",
            "description_tooltip": null,
            "layout": "IPY_MODEL_5ae549c7950645b8b4ca22460ea84763",
            "max": 1935796948,
            "min": 0,
            "orientation": "horizontal",
            "style": "IPY_MODEL_48370dd7af4e445da71c8ed39b88c41e",
            "value": 1935796948
          }
        },
        "f39a19a8b6c74eaf9ef8f20401992a71": {
          "model_module": "@jupyter-widgets/controls",
          "model_name": "HTMLModel",
          "model_module_version": "1.5.0",
          "state": {
            "_dom_classes": [],
            "_model_module": "@jupyter-widgets/controls",
            "_model_module_version": "1.5.0",
            "_model_name": "HTMLModel",
            "_view_count": null,
            "_view_module": "@jupyter-widgets/controls",
            "_view_module_version": "1.5.0",
            "_view_name": "HTMLView",
            "description": "",
            "description_tooltip": null,
            "layout": "IPY_MODEL_7743f7a8b1db4c7c88807f735eca8f53",
            "placeholder": "​",
            "style": "IPY_MODEL_fee094e836044e6d8d69c4785388ade9",
            "value": " 1.94G/1.94G [00:31&lt;00:00, 64.1MB/s]"
          }
        },
        "f0c380247d8f4702b4fd9eb24fcf526e": {
          "model_module": "@jupyter-widgets/base",
          "model_name": "LayoutModel",
          "model_module_version": "1.2.0",
          "state": {
            "_model_module": "@jupyter-widgets/base",
            "_model_module_version": "1.2.0",
            "_model_name": "LayoutModel",
            "_view_count": null,
            "_view_module": "@jupyter-widgets/base",
            "_view_module_version": "1.2.0",
            "_view_name": "LayoutView",
            "align_content": null,
            "align_items": null,
            "align_self": null,
            "border": null,
            "bottom": null,
            "display": null,
            "flex": null,
            "flex_flow": null,
            "grid_area": null,
            "grid_auto_columns": null,
            "grid_auto_flow": null,
            "grid_auto_rows": null,
            "grid_column": null,
            "grid_gap": null,
            "grid_row": null,
            "grid_template_areas": null,
            "grid_template_columns": null,
            "grid_template_rows": null,
            "height": null,
            "justify_content": null,
            "justify_items": null,
            "left": null,
            "margin": null,
            "max_height": null,
            "max_width": null,
            "min_height": null,
            "min_width": null,
            "object_fit": null,
            "object_position": null,
            "order": null,
            "overflow": null,
            "overflow_x": null,
            "overflow_y": null,
            "padding": null,
            "right": null,
            "top": null,
            "visibility": null,
            "width": null
          }
        },
        "3e8dd644690548f08d6ea325e2c2a968": {
          "model_module": "@jupyter-widgets/base",
          "model_name": "LayoutModel",
          "model_module_version": "1.2.0",
          "state": {
            "_model_module": "@jupyter-widgets/base",
            "_model_module_version": "1.2.0",
            "_model_name": "LayoutModel",
            "_view_count": null,
            "_view_module": "@jupyter-widgets/base",
            "_view_module_version": "1.2.0",
            "_view_name": "LayoutView",
            "align_content": null,
            "align_items": null,
            "align_self": null,
            "border": null,
            "bottom": null,
            "display": null,
            "flex": null,
            "flex_flow": null,
            "grid_area": null,
            "grid_auto_columns": null,
            "grid_auto_flow": null,
            "grid_auto_rows": null,
            "grid_column": null,
            "grid_gap": null,
            "grid_row": null,
            "grid_template_areas": null,
            "grid_template_columns": null,
            "grid_template_rows": null,
            "height": null,
            "justify_content": null,
            "justify_items": null,
            "left": null,
            "margin": null,
            "max_height": null,
            "max_width": null,
            "min_height": null,
            "min_width": null,
            "object_fit": null,
            "object_position": null,
            "order": null,
            "overflow": null,
            "overflow_x": null,
            "overflow_y": null,
            "padding": null,
            "right": null,
            "top": null,
            "visibility": null,
            "width": null
          }
        },
        "79a14e2b2e424e55bdc67b432f89baf9": {
          "model_module": "@jupyter-widgets/controls",
          "model_name": "DescriptionStyleModel",
          "model_module_version": "1.5.0",
          "state": {
            "_model_module": "@jupyter-widgets/controls",
            "_model_module_version": "1.5.0",
            "_model_name": "DescriptionStyleModel",
            "_view_count": null,
            "_view_module": "@jupyter-widgets/base",
            "_view_module_version": "1.2.0",
            "_view_name": "StyleView",
            "description_width": ""
          }
        },
        "5ae549c7950645b8b4ca22460ea84763": {
          "model_module": "@jupyter-widgets/base",
          "model_name": "LayoutModel",
          "model_module_version": "1.2.0",
          "state": {
            "_model_module": "@jupyter-widgets/base",
            "_model_module_version": "1.2.0",
            "_model_name": "LayoutModel",
            "_view_count": null,
            "_view_module": "@jupyter-widgets/base",
            "_view_module_version": "1.2.0",
            "_view_name": "LayoutView",
            "align_content": null,
            "align_items": null,
            "align_self": null,
            "border": null,
            "bottom": null,
            "display": null,
            "flex": null,
            "flex_flow": null,
            "grid_area": null,
            "grid_auto_columns": null,
            "grid_auto_flow": null,
            "grid_auto_rows": null,
            "grid_column": null,
            "grid_gap": null,
            "grid_row": null,
            "grid_template_areas": null,
            "grid_template_columns": null,
            "grid_template_rows": null,
            "height": null,
            "justify_content": null,
            "justify_items": null,
            "left": null,
            "margin": null,
            "max_height": null,
            "max_width": null,
            "min_height": null,
            "min_width": null,
            "object_fit": null,
            "object_position": null,
            "order": null,
            "overflow": null,
            "overflow_x": null,
            "overflow_y": null,
            "padding": null,
            "right": null,
            "top": null,
            "visibility": null,
            "width": null
          }
        },
        "48370dd7af4e445da71c8ed39b88c41e": {
          "model_module": "@jupyter-widgets/controls",
          "model_name": "ProgressStyleModel",
          "model_module_version": "1.5.0",
          "state": {
            "_model_module": "@jupyter-widgets/controls",
            "_model_module_version": "1.5.0",
            "_model_name": "ProgressStyleModel",
            "_view_count": null,
            "_view_module": "@jupyter-widgets/base",
            "_view_module_version": "1.2.0",
            "_view_name": "StyleView",
            "bar_color": null,
            "description_width": ""
          }
        },
        "7743f7a8b1db4c7c88807f735eca8f53": {
          "model_module": "@jupyter-widgets/base",
          "model_name": "LayoutModel",
          "model_module_version": "1.2.0",
          "state": {
            "_model_module": "@jupyter-widgets/base",
            "_model_module_version": "1.2.0",
            "_model_name": "LayoutModel",
            "_view_count": null,
            "_view_module": "@jupyter-widgets/base",
            "_view_module_version": "1.2.0",
            "_view_name": "LayoutView",
            "align_content": null,
            "align_items": null,
            "align_self": null,
            "border": null,
            "bottom": null,
            "display": null,
            "flex": null,
            "flex_flow": null,
            "grid_area": null,
            "grid_auto_columns": null,
            "grid_auto_flow": null,
            "grid_auto_rows": null,
            "grid_column": null,
            "grid_gap": null,
            "grid_row": null,
            "grid_template_areas": null,
            "grid_template_columns": null,
            "grid_template_rows": null,
            "height": null,
            "justify_content": null,
            "justify_items": null,
            "left": null,
            "margin": null,
            "max_height": null,
            "max_width": null,
            "min_height": null,
            "min_width": null,
            "object_fit": null,
            "object_position": null,
            "order": null,
            "overflow": null,
            "overflow_x": null,
            "overflow_y": null,
            "padding": null,
            "right": null,
            "top": null,
            "visibility": null,
            "width": null
          }
        },
        "fee094e836044e6d8d69c4785388ade9": {
          "model_module": "@jupyter-widgets/controls",
          "model_name": "DescriptionStyleModel",
          "model_module_version": "1.5.0",
          "state": {
            "_model_module": "@jupyter-widgets/controls",
            "_model_module_version": "1.5.0",
            "_model_name": "DescriptionStyleModel",
            "_view_count": null,
            "_view_module": "@jupyter-widgets/base",
            "_view_module_version": "1.2.0",
            "_view_name": "StyleView",
            "description_width": ""
          }
        },
        "32adf869f0934216b3c7d6ae303df55f": {
          "model_module": "@jupyter-widgets/controls",
          "model_name": "HBoxModel",
          "model_module_version": "1.5.0",
          "state": {
            "_dom_classes": [],
            "_model_module": "@jupyter-widgets/controls",
            "_model_module_version": "1.5.0",
            "_model_name": "HBoxModel",
            "_view_count": null,
            "_view_module": "@jupyter-widgets/controls",
            "_view_module_version": "1.5.0",
            "_view_name": "HBoxView",
            "box_style": "",
            "children": [
              "IPY_MODEL_e0dc5ec31fe144e0a2f8e9d0da935947",
              "IPY_MODEL_d725ff5c5598420aa5611b7c016340f6",
              "IPY_MODEL_a7c551d5fa3d4c1c8cb636ba9093df48"
            ],
            "layout": "IPY_MODEL_2d9952fcf70841c29555d5939032be26"
          }
        },
        "e0dc5ec31fe144e0a2f8e9d0da935947": {
          "model_module": "@jupyter-widgets/controls",
          "model_name": "HTMLModel",
          "model_module_version": "1.5.0",
          "state": {
            "_dom_classes": [],
            "_model_module": "@jupyter-widgets/controls",
            "_model_module_version": "1.5.0",
            "_model_name": "HTMLModel",
            "_view_count": null,
            "_view_module": "@jupyter-widgets/controls",
            "_view_module_version": "1.5.0",
            "_view_name": "HTMLView",
            "description": "",
            "description_tooltip": null,
            "layout": "IPY_MODEL_28b08cefdaeb4089a2c75e742bc648ec",
            "placeholder": "​",
            "style": "IPY_MODEL_2243b76e17b444a68fb39f047ffabb4f",
            "value": "Downloading builder script: "
          }
        },
        "d725ff5c5598420aa5611b7c016340f6": {
          "model_module": "@jupyter-widgets/controls",
          "model_name": "FloatProgressModel",
          "model_module_version": "1.5.0",
          "state": {
            "_dom_classes": [],
            "_model_module": "@jupyter-widgets/controls",
            "_model_module_version": "1.5.0",
            "_model_name": "FloatProgressModel",
            "_view_count": null,
            "_view_module": "@jupyter-widgets/controls",
            "_view_module_version": "1.5.0",
            "_view_name": "ProgressView",
            "bar_style": "success",
            "description": "",
            "description_tooltip": null,
            "layout": "IPY_MODEL_bf02797161934a1cb88598c1b281f002",
            "max": 1967,
            "min": 0,
            "orientation": "horizontal",
            "style": "IPY_MODEL_858bf682eaac49cc9b7c2c307c0e2ebc",
            "value": 1967
          }
        },
        "a7c551d5fa3d4c1c8cb636ba9093df48": {
          "model_module": "@jupyter-widgets/controls",
          "model_name": "HTMLModel",
          "model_module_version": "1.5.0",
          "state": {
            "_dom_classes": [],
            "_model_module": "@jupyter-widgets/controls",
            "_model_module_version": "1.5.0",
            "_model_name": "HTMLModel",
            "_view_count": null,
            "_view_module": "@jupyter-widgets/controls",
            "_view_module_version": "1.5.0",
            "_view_name": "HTMLView",
            "description": "",
            "description_tooltip": null,
            "layout": "IPY_MODEL_74b969efd869485fb96412bcbb1b9eed",
            "placeholder": "​",
            "style": "IPY_MODEL_cfcf32dc8ddd4cfd805501c6501af66c",
            "value": " 5.19k/? [00:00&lt;00:00, 194kB/s]"
          }
        },
        "2d9952fcf70841c29555d5939032be26": {
          "model_module": "@jupyter-widgets/base",
          "model_name": "LayoutModel",
          "model_module_version": "1.2.0",
          "state": {
            "_model_module": "@jupyter-widgets/base",
            "_model_module_version": "1.2.0",
            "_model_name": "LayoutModel",
            "_view_count": null,
            "_view_module": "@jupyter-widgets/base",
            "_view_module_version": "1.2.0",
            "_view_name": "LayoutView",
            "align_content": null,
            "align_items": null,
            "align_self": null,
            "border": null,
            "bottom": null,
            "display": null,
            "flex": null,
            "flex_flow": null,
            "grid_area": null,
            "grid_auto_columns": null,
            "grid_auto_flow": null,
            "grid_auto_rows": null,
            "grid_column": null,
            "grid_gap": null,
            "grid_row": null,
            "grid_template_areas": null,
            "grid_template_columns": null,
            "grid_template_rows": null,
            "height": null,
            "justify_content": null,
            "justify_items": null,
            "left": null,
            "margin": null,
            "max_height": null,
            "max_width": null,
            "min_height": null,
            "min_width": null,
            "object_fit": null,
            "object_position": null,
            "order": null,
            "overflow": null,
            "overflow_x": null,
            "overflow_y": null,
            "padding": null,
            "right": null,
            "top": null,
            "visibility": null,
            "width": null
          }
        },
        "28b08cefdaeb4089a2c75e742bc648ec": {
          "model_module": "@jupyter-widgets/base",
          "model_name": "LayoutModel",
          "model_module_version": "1.2.0",
          "state": {
            "_model_module": "@jupyter-widgets/base",
            "_model_module_version": "1.2.0",
            "_model_name": "LayoutModel",
            "_view_count": null,
            "_view_module": "@jupyter-widgets/base",
            "_view_module_version": "1.2.0",
            "_view_name": "LayoutView",
            "align_content": null,
            "align_items": null,
            "align_self": null,
            "border": null,
            "bottom": null,
            "display": null,
            "flex": null,
            "flex_flow": null,
            "grid_area": null,
            "grid_auto_columns": null,
            "grid_auto_flow": null,
            "grid_auto_rows": null,
            "grid_column": null,
            "grid_gap": null,
            "grid_row": null,
            "grid_template_areas": null,
            "grid_template_columns": null,
            "grid_template_rows": null,
            "height": null,
            "justify_content": null,
            "justify_items": null,
            "left": null,
            "margin": null,
            "max_height": null,
            "max_width": null,
            "min_height": null,
            "min_width": null,
            "object_fit": null,
            "object_position": null,
            "order": null,
            "overflow": null,
            "overflow_x": null,
            "overflow_y": null,
            "padding": null,
            "right": null,
            "top": null,
            "visibility": null,
            "width": null
          }
        },
        "2243b76e17b444a68fb39f047ffabb4f": {
          "model_module": "@jupyter-widgets/controls",
          "model_name": "DescriptionStyleModel",
          "model_module_version": "1.5.0",
          "state": {
            "_model_module": "@jupyter-widgets/controls",
            "_model_module_version": "1.5.0",
            "_model_name": "DescriptionStyleModel",
            "_view_count": null,
            "_view_module": "@jupyter-widgets/base",
            "_view_module_version": "1.2.0",
            "_view_name": "StyleView",
            "description_width": ""
          }
        },
        "bf02797161934a1cb88598c1b281f002": {
          "model_module": "@jupyter-widgets/base",
          "model_name": "LayoutModel",
          "model_module_version": "1.2.0",
          "state": {
            "_model_module": "@jupyter-widgets/base",
            "_model_module_version": "1.2.0",
            "_model_name": "LayoutModel",
            "_view_count": null,
            "_view_module": "@jupyter-widgets/base",
            "_view_module_version": "1.2.0",
            "_view_name": "LayoutView",
            "align_content": null,
            "align_items": null,
            "align_self": null,
            "border": null,
            "bottom": null,
            "display": null,
            "flex": null,
            "flex_flow": null,
            "grid_area": null,
            "grid_auto_columns": null,
            "grid_auto_flow": null,
            "grid_auto_rows": null,
            "grid_column": null,
            "grid_gap": null,
            "grid_row": null,
            "grid_template_areas": null,
            "grid_template_columns": null,
            "grid_template_rows": null,
            "height": null,
            "justify_content": null,
            "justify_items": null,
            "left": null,
            "margin": null,
            "max_height": null,
            "max_width": null,
            "min_height": null,
            "min_width": null,
            "object_fit": null,
            "object_position": null,
            "order": null,
            "overflow": null,
            "overflow_x": null,
            "overflow_y": null,
            "padding": null,
            "right": null,
            "top": null,
            "visibility": null,
            "width": null
          }
        },
        "858bf682eaac49cc9b7c2c307c0e2ebc": {
          "model_module": "@jupyter-widgets/controls",
          "model_name": "ProgressStyleModel",
          "model_module_version": "1.5.0",
          "state": {
            "_model_module": "@jupyter-widgets/controls",
            "_model_module_version": "1.5.0",
            "_model_name": "ProgressStyleModel",
            "_view_count": null,
            "_view_module": "@jupyter-widgets/base",
            "_view_module_version": "1.2.0",
            "_view_name": "StyleView",
            "bar_color": null,
            "description_width": ""
          }
        },
        "74b969efd869485fb96412bcbb1b9eed": {
          "model_module": "@jupyter-widgets/base",
          "model_name": "LayoutModel",
          "model_module_version": "1.2.0",
          "state": {
            "_model_module": "@jupyter-widgets/base",
            "_model_module_version": "1.2.0",
            "_model_name": "LayoutModel",
            "_view_count": null,
            "_view_module": "@jupyter-widgets/base",
            "_view_module_version": "1.2.0",
            "_view_name": "LayoutView",
            "align_content": null,
            "align_items": null,
            "align_self": null,
            "border": null,
            "bottom": null,
            "display": null,
            "flex": null,
            "flex_flow": null,
            "grid_area": null,
            "grid_auto_columns": null,
            "grid_auto_flow": null,
            "grid_auto_rows": null,
            "grid_column": null,
            "grid_gap": null,
            "grid_row": null,
            "grid_template_areas": null,
            "grid_template_columns": null,
            "grid_template_rows": null,
            "height": null,
            "justify_content": null,
            "justify_items": null,
            "left": null,
            "margin": null,
            "max_height": null,
            "max_width": null,
            "min_height": null,
            "min_width": null,
            "object_fit": null,
            "object_position": null,
            "order": null,
            "overflow": null,
            "overflow_x": null,
            "overflow_y": null,
            "padding": null,
            "right": null,
            "top": null,
            "visibility": null,
            "width": null
          }
        },
        "cfcf32dc8ddd4cfd805501c6501af66c": {
          "model_module": "@jupyter-widgets/controls",
          "model_name": "DescriptionStyleModel",
          "model_module_version": "1.5.0",
          "state": {
            "_model_module": "@jupyter-widgets/controls",
            "_model_module_version": "1.5.0",
            "_model_name": "DescriptionStyleModel",
            "_view_count": null,
            "_view_module": "@jupyter-widgets/base",
            "_view_module_version": "1.2.0",
            "_view_name": "StyleView",
            "description_width": ""
          }
        },
        "c7460dff745b4c148f61276383c70b96": {
          "model_module": "@jupyter-widgets/controls",
          "model_name": "HBoxModel",
          "model_module_version": "1.5.0",
          "state": {
            "_dom_classes": [],
            "_model_module": "@jupyter-widgets/controls",
            "_model_module_version": "1.5.0",
            "_model_name": "HBoxModel",
            "_view_count": null,
            "_view_module": "@jupyter-widgets/controls",
            "_view_module_version": "1.5.0",
            "_view_name": "HBoxView",
            "box_style": "",
            "children": [
              "IPY_MODEL_236bfc82b94b4bcab76a24c6baac0af8",
              "IPY_MODEL_ff12765534a94cf0a9c6c483267ae410",
              "IPY_MODEL_3a97f4c2937f460f847eaef4207d033c"
            ],
            "layout": "IPY_MODEL_ce5c10e4be174bf187192496e1296830"
          }
        },
        "236bfc82b94b4bcab76a24c6baac0af8": {
          "model_module": "@jupyter-widgets/controls",
          "model_name": "HTMLModel",
          "model_module_version": "1.5.0",
          "state": {
            "_dom_classes": [],
            "_model_module": "@jupyter-widgets/controls",
            "_model_module_version": "1.5.0",
            "_model_name": "HTMLModel",
            "_view_count": null,
            "_view_module": "@jupyter-widgets/controls",
            "_view_module_version": "1.5.0",
            "_view_name": "HTMLView",
            "description": "",
            "description_tooltip": null,
            "layout": "IPY_MODEL_6a9ab193490f4b2799249e7c6e4854c8",
            "placeholder": "​",
            "style": "IPY_MODEL_75c366a467d142fda169c57442380abe",
            "value": "Downloading data: 100%"
          }
        },
        "ff12765534a94cf0a9c6c483267ae410": {
          "model_module": "@jupyter-widgets/controls",
          "model_name": "FloatProgressModel",
          "model_module_version": "1.5.0",
          "state": {
            "_dom_classes": [],
            "_model_module": "@jupyter-widgets/controls",
            "_model_module_version": "1.5.0",
            "_model_name": "FloatProgressModel",
            "_view_count": null,
            "_view_module": "@jupyter-widgets/controls",
            "_view_module_version": "1.5.0",
            "_view_name": "ProgressView",
            "bar_style": "success",
            "description": "",
            "description_tooltip": null,
            "layout": "IPY_MODEL_d2084f12282c4b8c8dbc2b4739e9a5e7",
            "max": 625304855,
            "min": 0,
            "orientation": "horizontal",
            "style": "IPY_MODEL_d9ca20e527864e38ae7c3153b43ae317",
            "value": 625304855
          }
        },
        "3a97f4c2937f460f847eaef4207d033c": {
          "model_module": "@jupyter-widgets/controls",
          "model_name": "HTMLModel",
          "model_module_version": "1.5.0",
          "state": {
            "_dom_classes": [],
            "_model_module": "@jupyter-widgets/controls",
            "_model_module_version": "1.5.0",
            "_model_name": "HTMLModel",
            "_view_count": null,
            "_view_module": "@jupyter-widgets/controls",
            "_view_module_version": "1.5.0",
            "_view_name": "HTMLView",
            "description": "",
            "description_tooltip": null,
            "layout": "IPY_MODEL_43dc284f1b4945ec95c321f2f816f9d5",
            "placeholder": "​",
            "style": "IPY_MODEL_559435b728c042bbb9c49dd66697df11",
            "value": " 625M/625M [00:15&lt;00:00, 41.0MB/s]"
          }
        },
        "ce5c10e4be174bf187192496e1296830": {
          "model_module": "@jupyter-widgets/base",
          "model_name": "LayoutModel",
          "model_module_version": "1.2.0",
          "state": {
            "_model_module": "@jupyter-widgets/base",
            "_model_module_version": "1.2.0",
            "_model_name": "LayoutModel",
            "_view_count": null,
            "_view_module": "@jupyter-widgets/base",
            "_view_module_version": "1.2.0",
            "_view_name": "LayoutView",
            "align_content": null,
            "align_items": null,
            "align_self": null,
            "border": null,
            "bottom": null,
            "display": null,
            "flex": null,
            "flex_flow": null,
            "grid_area": null,
            "grid_auto_columns": null,
            "grid_auto_flow": null,
            "grid_auto_rows": null,
            "grid_column": null,
            "grid_gap": null,
            "grid_row": null,
            "grid_template_areas": null,
            "grid_template_columns": null,
            "grid_template_rows": null,
            "height": null,
            "justify_content": null,
            "justify_items": null,
            "left": null,
            "margin": null,
            "max_height": null,
            "max_width": null,
            "min_height": null,
            "min_width": null,
            "object_fit": null,
            "object_position": null,
            "order": null,
            "overflow": null,
            "overflow_x": null,
            "overflow_y": null,
            "padding": null,
            "right": null,
            "top": null,
            "visibility": null,
            "width": null
          }
        },
        "6a9ab193490f4b2799249e7c6e4854c8": {
          "model_module": "@jupyter-widgets/base",
          "model_name": "LayoutModel",
          "model_module_version": "1.2.0",
          "state": {
            "_model_module": "@jupyter-widgets/base",
            "_model_module_version": "1.2.0",
            "_model_name": "LayoutModel",
            "_view_count": null,
            "_view_module": "@jupyter-widgets/base",
            "_view_module_version": "1.2.0",
            "_view_name": "LayoutView",
            "align_content": null,
            "align_items": null,
            "align_self": null,
            "border": null,
            "bottom": null,
            "display": null,
            "flex": null,
            "flex_flow": null,
            "grid_area": null,
            "grid_auto_columns": null,
            "grid_auto_flow": null,
            "grid_auto_rows": null,
            "grid_column": null,
            "grid_gap": null,
            "grid_row": null,
            "grid_template_areas": null,
            "grid_template_columns": null,
            "grid_template_rows": null,
            "height": null,
            "justify_content": null,
            "justify_items": null,
            "left": null,
            "margin": null,
            "max_height": null,
            "max_width": null,
            "min_height": null,
            "min_width": null,
            "object_fit": null,
            "object_position": null,
            "order": null,
            "overflow": null,
            "overflow_x": null,
            "overflow_y": null,
            "padding": null,
            "right": null,
            "top": null,
            "visibility": null,
            "width": null
          }
        },
        "75c366a467d142fda169c57442380abe": {
          "model_module": "@jupyter-widgets/controls",
          "model_name": "DescriptionStyleModel",
          "model_module_version": "1.5.0",
          "state": {
            "_model_module": "@jupyter-widgets/controls",
            "_model_module_version": "1.5.0",
            "_model_name": "DescriptionStyleModel",
            "_view_count": null,
            "_view_module": "@jupyter-widgets/base",
            "_view_module_version": "1.2.0",
            "_view_name": "StyleView",
            "description_width": ""
          }
        },
        "d2084f12282c4b8c8dbc2b4739e9a5e7": {
          "model_module": "@jupyter-widgets/base",
          "model_name": "LayoutModel",
          "model_module_version": "1.2.0",
          "state": {
            "_model_module": "@jupyter-widgets/base",
            "_model_module_version": "1.2.0",
            "_model_name": "LayoutModel",
            "_view_count": null,
            "_view_module": "@jupyter-widgets/base",
            "_view_module_version": "1.2.0",
            "_view_name": "LayoutView",
            "align_content": null,
            "align_items": null,
            "align_self": null,
            "border": null,
            "bottom": null,
            "display": null,
            "flex": null,
            "flex_flow": null,
            "grid_area": null,
            "grid_auto_columns": null,
            "grid_auto_flow": null,
            "grid_auto_rows": null,
            "grid_column": null,
            "grid_gap": null,
            "grid_row": null,
            "grid_template_areas": null,
            "grid_template_columns": null,
            "grid_template_rows": null,
            "height": null,
            "justify_content": null,
            "justify_items": null,
            "left": null,
            "margin": null,
            "max_height": null,
            "max_width": null,
            "min_height": null,
            "min_width": null,
            "object_fit": null,
            "object_position": null,
            "order": null,
            "overflow": null,
            "overflow_x": null,
            "overflow_y": null,
            "padding": null,
            "right": null,
            "top": null,
            "visibility": null,
            "width": null
          }
        },
        "d9ca20e527864e38ae7c3153b43ae317": {
          "model_module": "@jupyter-widgets/controls",
          "model_name": "ProgressStyleModel",
          "model_module_version": "1.5.0",
          "state": {
            "_model_module": "@jupyter-widgets/controls",
            "_model_module_version": "1.5.0",
            "_model_name": "ProgressStyleModel",
            "_view_count": null,
            "_view_module": "@jupyter-widgets/base",
            "_view_module_version": "1.2.0",
            "_view_name": "StyleView",
            "bar_color": null,
            "description_width": ""
          }
        },
        "43dc284f1b4945ec95c321f2f816f9d5": {
          "model_module": "@jupyter-widgets/base",
          "model_name": "LayoutModel",
          "model_module_version": "1.2.0",
          "state": {
            "_model_module": "@jupyter-widgets/base",
            "_model_module_version": "1.2.0",
            "_model_name": "LayoutModel",
            "_view_count": null,
            "_view_module": "@jupyter-widgets/base",
            "_view_module_version": "1.2.0",
            "_view_name": "LayoutView",
            "align_content": null,
            "align_items": null,
            "align_self": null,
            "border": null,
            "bottom": null,
            "display": null,
            "flex": null,
            "flex_flow": null,
            "grid_area": null,
            "grid_auto_columns": null,
            "grid_auto_flow": null,
            "grid_auto_rows": null,
            "grid_column": null,
            "grid_gap": null,
            "grid_row": null,
            "grid_template_areas": null,
            "grid_template_columns": null,
            "grid_template_rows": null,
            "height": null,
            "justify_content": null,
            "justify_items": null,
            "left": null,
            "margin": null,
            "max_height": null,
            "max_width": null,
            "min_height": null,
            "min_width": null,
            "object_fit": null,
            "object_position": null,
            "order": null,
            "overflow": null,
            "overflow_x": null,
            "overflow_y": null,
            "padding": null,
            "right": null,
            "top": null,
            "visibility": null,
            "width": null
          }
        },
        "559435b728c042bbb9c49dd66697df11": {
          "model_module": "@jupyter-widgets/controls",
          "model_name": "DescriptionStyleModel",
          "model_module_version": "1.5.0",
          "state": {
            "_model_module": "@jupyter-widgets/controls",
            "_model_module_version": "1.5.0",
            "_model_name": "DescriptionStyleModel",
            "_view_count": null,
            "_view_module": "@jupyter-widgets/base",
            "_view_module_version": "1.2.0",
            "_view_name": "StyleView",
            "description_width": ""
          }
        },
        "4f570b1da9c749abac568fc3133b074d": {
          "model_module": "@jupyter-widgets/controls",
          "model_name": "HBoxModel",
          "model_module_version": "1.5.0",
          "state": {
            "_dom_classes": [],
            "_model_module": "@jupyter-widgets/controls",
            "_model_module_version": "1.5.0",
            "_model_name": "HBoxModel",
            "_view_count": null,
            "_view_module": "@jupyter-widgets/controls",
            "_view_module_version": "1.5.0",
            "_view_name": "HBoxView",
            "box_style": "",
            "children": [
              "IPY_MODEL_488923acf0f34871a002d03673667cd1",
              "IPY_MODEL_d8acdd4693db43d98b01a32463f15279",
              "IPY_MODEL_0352b8839a494ed58376374886832f3c"
            ],
            "layout": "IPY_MODEL_25084fecf2b947a185ec308028675ccd"
          }
        },
        "488923acf0f34871a002d03673667cd1": {
          "model_module": "@jupyter-widgets/controls",
          "model_name": "HTMLModel",
          "model_module_version": "1.5.0",
          "state": {
            "_dom_classes": [],
            "_model_module": "@jupyter-widgets/controls",
            "_model_module_version": "1.5.0",
            "_model_name": "HTMLModel",
            "_view_count": null,
            "_view_module": "@jupyter-widgets/controls",
            "_view_module_version": "1.5.0",
            "_view_name": "HTMLView",
            "description": "",
            "description_tooltip": null,
            "layout": "IPY_MODEL_45d528030af24962abcec981b5a56f0f",
            "placeholder": "​",
            "style": "IPY_MODEL_054b099a6c534cfd9ead2b0b5b20bd09",
            "value": "Downloading builder script: 100%"
          }
        },
        "d8acdd4693db43d98b01a32463f15279": {
          "model_module": "@jupyter-widgets/controls",
          "model_name": "FloatProgressModel",
          "model_module_version": "1.5.0",
          "state": {
            "_dom_classes": [],
            "_model_module": "@jupyter-widgets/controls",
            "_model_module_version": "1.5.0",
            "_model_name": "FloatProgressModel",
            "_view_count": null,
            "_view_module": "@jupyter-widgets/controls",
            "_view_module_version": "1.5.0",
            "_view_name": "ProgressView",
            "bar_style": "success",
            "description": "",
            "description_tooltip": null,
            "layout": "IPY_MODEL_10eba9369e0b47ba960601893035b1ea",
            "max": 5357,
            "min": 0,
            "orientation": "horizontal",
            "style": "IPY_MODEL_29163186bf8a4e6bb006db93aadbf0a1",
            "value": 5357
          }
        },
        "0352b8839a494ed58376374886832f3c": {
          "model_module": "@jupyter-widgets/controls",
          "model_name": "HTMLModel",
          "model_module_version": "1.5.0",
          "state": {
            "_dom_classes": [],
            "_model_module": "@jupyter-widgets/controls",
            "_model_module_version": "1.5.0",
            "_model_name": "HTMLModel",
            "_view_count": null,
            "_view_module": "@jupyter-widgets/controls",
            "_view_module_version": "1.5.0",
            "_view_name": "HTMLView",
            "description": "",
            "description_tooltip": null,
            "layout": "IPY_MODEL_c2f09f5f2a1149cfa64e3a6440699e9c",
            "placeholder": "​",
            "style": "IPY_MODEL_67d31bcb652b4c69ba02f13d3caa231e",
            "value": " 5.36k/5.36k [00:00&lt;00:00, 193kB/s]"
          }
        },
        "25084fecf2b947a185ec308028675ccd": {
          "model_module": "@jupyter-widgets/base",
          "model_name": "LayoutModel",
          "model_module_version": "1.2.0",
          "state": {
            "_model_module": "@jupyter-widgets/base",
            "_model_module_version": "1.2.0",
            "_model_name": "LayoutModel",
            "_view_count": null,
            "_view_module": "@jupyter-widgets/base",
            "_view_module_version": "1.2.0",
            "_view_name": "LayoutView",
            "align_content": null,
            "align_items": null,
            "align_self": null,
            "border": null,
            "bottom": null,
            "display": null,
            "flex": null,
            "flex_flow": null,
            "grid_area": null,
            "grid_auto_columns": null,
            "grid_auto_flow": null,
            "grid_auto_rows": null,
            "grid_column": null,
            "grid_gap": null,
            "grid_row": null,
            "grid_template_areas": null,
            "grid_template_columns": null,
            "grid_template_rows": null,
            "height": null,
            "justify_content": null,
            "justify_items": null,
            "left": null,
            "margin": null,
            "max_height": null,
            "max_width": null,
            "min_height": null,
            "min_width": null,
            "object_fit": null,
            "object_position": null,
            "order": null,
            "overflow": null,
            "overflow_x": null,
            "overflow_y": null,
            "padding": null,
            "right": null,
            "top": null,
            "visibility": null,
            "width": null
          }
        },
        "45d528030af24962abcec981b5a56f0f": {
          "model_module": "@jupyter-widgets/base",
          "model_name": "LayoutModel",
          "model_module_version": "1.2.0",
          "state": {
            "_model_module": "@jupyter-widgets/base",
            "_model_module_version": "1.2.0",
            "_model_name": "LayoutModel",
            "_view_count": null,
            "_view_module": "@jupyter-widgets/base",
            "_view_module_version": "1.2.0",
            "_view_name": "LayoutView",
            "align_content": null,
            "align_items": null,
            "align_self": null,
            "border": null,
            "bottom": null,
            "display": null,
            "flex": null,
            "flex_flow": null,
            "grid_area": null,
            "grid_auto_columns": null,
            "grid_auto_flow": null,
            "grid_auto_rows": null,
            "grid_column": null,
            "grid_gap": null,
            "grid_row": null,
            "grid_template_areas": null,
            "grid_template_columns": null,
            "grid_template_rows": null,
            "height": null,
            "justify_content": null,
            "justify_items": null,
            "left": null,
            "margin": null,
            "max_height": null,
            "max_width": null,
            "min_height": null,
            "min_width": null,
            "object_fit": null,
            "object_position": null,
            "order": null,
            "overflow": null,
            "overflow_x": null,
            "overflow_y": null,
            "padding": null,
            "right": null,
            "top": null,
            "visibility": null,
            "width": null
          }
        },
        "054b099a6c534cfd9ead2b0b5b20bd09": {
          "model_module": "@jupyter-widgets/controls",
          "model_name": "DescriptionStyleModel",
          "model_module_version": "1.5.0",
          "state": {
            "_model_module": "@jupyter-widgets/controls",
            "_model_module_version": "1.5.0",
            "_model_name": "DescriptionStyleModel",
            "_view_count": null,
            "_view_module": "@jupyter-widgets/base",
            "_view_module_version": "1.2.0",
            "_view_name": "StyleView",
            "description_width": ""
          }
        },
        "10eba9369e0b47ba960601893035b1ea": {
          "model_module": "@jupyter-widgets/base",
          "model_name": "LayoutModel",
          "model_module_version": "1.2.0",
          "state": {
            "_model_module": "@jupyter-widgets/base",
            "_model_module_version": "1.2.0",
            "_model_name": "LayoutModel",
            "_view_count": null,
            "_view_module": "@jupyter-widgets/base",
            "_view_module_version": "1.2.0",
            "_view_name": "LayoutView",
            "align_content": null,
            "align_items": null,
            "align_self": null,
            "border": null,
            "bottom": null,
            "display": null,
            "flex": null,
            "flex_flow": null,
            "grid_area": null,
            "grid_auto_columns": null,
            "grid_auto_flow": null,
            "grid_auto_rows": null,
            "grid_column": null,
            "grid_gap": null,
            "grid_row": null,
            "grid_template_areas": null,
            "grid_template_columns": null,
            "grid_template_rows": null,
            "height": null,
            "justify_content": null,
            "justify_items": null,
            "left": null,
            "margin": null,
            "max_height": null,
            "max_width": null,
            "min_height": null,
            "min_width": null,
            "object_fit": null,
            "object_position": null,
            "order": null,
            "overflow": null,
            "overflow_x": null,
            "overflow_y": null,
            "padding": null,
            "right": null,
            "top": null,
            "visibility": null,
            "width": null
          }
        },
        "29163186bf8a4e6bb006db93aadbf0a1": {
          "model_module": "@jupyter-widgets/controls",
          "model_name": "ProgressStyleModel",
          "model_module_version": "1.5.0",
          "state": {
            "_model_module": "@jupyter-widgets/controls",
            "_model_module_version": "1.5.0",
            "_model_name": "ProgressStyleModel",
            "_view_count": null,
            "_view_module": "@jupyter-widgets/base",
            "_view_module_version": "1.2.0",
            "_view_name": "StyleView",
            "bar_color": null,
            "description_width": ""
          }
        },
        "c2f09f5f2a1149cfa64e3a6440699e9c": {
          "model_module": "@jupyter-widgets/base",
          "model_name": "LayoutModel",
          "model_module_version": "1.2.0",
          "state": {
            "_model_module": "@jupyter-widgets/base",
            "_model_module_version": "1.2.0",
            "_model_name": "LayoutModel",
            "_view_count": null,
            "_view_module": "@jupyter-widgets/base",
            "_view_module_version": "1.2.0",
            "_view_name": "LayoutView",
            "align_content": null,
            "align_items": null,
            "align_self": null,
            "border": null,
            "bottom": null,
            "display": null,
            "flex": null,
            "flex_flow": null,
            "grid_area": null,
            "grid_auto_columns": null,
            "grid_auto_flow": null,
            "grid_auto_rows": null,
            "grid_column": null,
            "grid_gap": null,
            "grid_row": null,
            "grid_template_areas": null,
            "grid_template_columns": null,
            "grid_template_rows": null,
            "height": null,
            "justify_content": null,
            "justify_items": null,
            "left": null,
            "margin": null,
            "max_height": null,
            "max_width": null,
            "min_height": null,
            "min_width": null,
            "object_fit": null,
            "object_position": null,
            "order": null,
            "overflow": null,
            "overflow_x": null,
            "overflow_y": null,
            "padding": null,
            "right": null,
            "top": null,
            "visibility": null,
            "width": null
          }
        },
        "67d31bcb652b4c69ba02f13d3caa231e": {
          "model_module": "@jupyter-widgets/controls",
          "model_name": "DescriptionStyleModel",
          "model_module_version": "1.5.0",
          "state": {
            "_model_module": "@jupyter-widgets/controls",
            "_model_module_version": "1.5.0",
            "_model_name": "DescriptionStyleModel",
            "_view_count": null,
            "_view_module": "@jupyter-widgets/base",
            "_view_module_version": "1.2.0",
            "_view_name": "StyleView",
            "description_width": ""
          }
        },
        "dbf0039e0ebb41319b0bfcf68282f99f": {
          "model_module": "@jupyter-widgets/controls",
          "model_name": "HBoxModel",
          "model_module_version": "1.5.0",
          "state": {
            "_dom_classes": [],
            "_model_module": "@jupyter-widgets/controls",
            "_model_module_version": "1.5.0",
            "_model_name": "HBoxModel",
            "_view_count": null,
            "_view_module": "@jupyter-widgets/controls",
            "_view_module_version": "1.5.0",
            "_view_name": "HBoxView",
            "box_style": "",
            "children": [
              "IPY_MODEL_96e57a3f76ac474e8c1899afc629fd6f",
              "IPY_MODEL_445f455c22944bbda7ca1f1a5f865503",
              "IPY_MODEL_759dd46e09844ef3a8df0a13dd5f694b"
            ],
            "layout": "IPY_MODEL_1502024ff3f64b9285226457d40023df"
          }
        },
        "96e57a3f76ac474e8c1899afc629fd6f": {
          "model_module": "@jupyter-widgets/controls",
          "model_name": "HTMLModel",
          "model_module_version": "1.5.0",
          "state": {
            "_dom_classes": [],
            "_model_module": "@jupyter-widgets/controls",
            "_model_module_version": "1.5.0",
            "_model_name": "HTMLModel",
            "_view_count": null,
            "_view_module": "@jupyter-widgets/controls",
            "_view_module_version": "1.5.0",
            "_view_name": "HTMLView",
            "description": "",
            "description_tooltip": null,
            "layout": "IPY_MODEL_ba977ed7d2974916aa354cda5c11df7e",
            "placeholder": "​",
            "style": "IPY_MODEL_a6e1b152b2b44320a702e0c80a201651",
            "value": "Downloading metadata: 100%"
          }
        },
        "445f455c22944bbda7ca1f1a5f865503": {
          "model_module": "@jupyter-widgets/controls",
          "model_name": "FloatProgressModel",
          "model_module_version": "1.5.0",
          "state": {
            "_dom_classes": [],
            "_model_module": "@jupyter-widgets/controls",
            "_model_module_version": "1.5.0",
            "_model_name": "FloatProgressModel",
            "_view_count": null,
            "_view_module": "@jupyter-widgets/controls",
            "_view_module_version": "1.5.0",
            "_view_name": "ProgressView",
            "bar_style": "success",
            "description": "",
            "description_tooltip": null,
            "layout": "IPY_MODEL_15b35921cb834e1c962e80da486c0546",
            "max": 115874,
            "min": 0,
            "orientation": "horizontal",
            "style": "IPY_MODEL_75aedd5d1bba441795a0366db0b646af",
            "value": 115874
          }
        },
        "759dd46e09844ef3a8df0a13dd5f694b": {
          "model_module": "@jupyter-widgets/controls",
          "model_name": "HTMLModel",
          "model_module_version": "1.5.0",
          "state": {
            "_dom_classes": [],
            "_model_module": "@jupyter-widgets/controls",
            "_model_module_version": "1.5.0",
            "_model_name": "HTMLModel",
            "_view_count": null,
            "_view_module": "@jupyter-widgets/controls",
            "_view_module_version": "1.5.0",
            "_view_name": "HTMLView",
            "description": "",
            "description_tooltip": null,
            "layout": "IPY_MODEL_6eaf564892984cbb9ef8df6f1b1324fa",
            "placeholder": "​",
            "style": "IPY_MODEL_aea613e3332d4ab0a3f0f41557d9e2b1",
            "value": " 116k/116k [00:00&lt;00:00, 220kB/s]"
          }
        },
        "1502024ff3f64b9285226457d40023df": {
          "model_module": "@jupyter-widgets/base",
          "model_name": "LayoutModel",
          "model_module_version": "1.2.0",
          "state": {
            "_model_module": "@jupyter-widgets/base",
            "_model_module_version": "1.2.0",
            "_model_name": "LayoutModel",
            "_view_count": null,
            "_view_module": "@jupyter-widgets/base",
            "_view_module_version": "1.2.0",
            "_view_name": "LayoutView",
            "align_content": null,
            "align_items": null,
            "align_self": null,
            "border": null,
            "bottom": null,
            "display": null,
            "flex": null,
            "flex_flow": null,
            "grid_area": null,
            "grid_auto_columns": null,
            "grid_auto_flow": null,
            "grid_auto_rows": null,
            "grid_column": null,
            "grid_gap": null,
            "grid_row": null,
            "grid_template_areas": null,
            "grid_template_columns": null,
            "grid_template_rows": null,
            "height": null,
            "justify_content": null,
            "justify_items": null,
            "left": null,
            "margin": null,
            "max_height": null,
            "max_width": null,
            "min_height": null,
            "min_width": null,
            "object_fit": null,
            "object_position": null,
            "order": null,
            "overflow": null,
            "overflow_x": null,
            "overflow_y": null,
            "padding": null,
            "right": null,
            "top": null,
            "visibility": null,
            "width": null
          }
        },
        "ba977ed7d2974916aa354cda5c11df7e": {
          "model_module": "@jupyter-widgets/base",
          "model_name": "LayoutModel",
          "model_module_version": "1.2.0",
          "state": {
            "_model_module": "@jupyter-widgets/base",
            "_model_module_version": "1.2.0",
            "_model_name": "LayoutModel",
            "_view_count": null,
            "_view_module": "@jupyter-widgets/base",
            "_view_module_version": "1.2.0",
            "_view_name": "LayoutView",
            "align_content": null,
            "align_items": null,
            "align_self": null,
            "border": null,
            "bottom": null,
            "display": null,
            "flex": null,
            "flex_flow": null,
            "grid_area": null,
            "grid_auto_columns": null,
            "grid_auto_flow": null,
            "grid_auto_rows": null,
            "grid_column": null,
            "grid_gap": null,
            "grid_row": null,
            "grid_template_areas": null,
            "grid_template_columns": null,
            "grid_template_rows": null,
            "height": null,
            "justify_content": null,
            "justify_items": null,
            "left": null,
            "margin": null,
            "max_height": null,
            "max_width": null,
            "min_height": null,
            "min_width": null,
            "object_fit": null,
            "object_position": null,
            "order": null,
            "overflow": null,
            "overflow_x": null,
            "overflow_y": null,
            "padding": null,
            "right": null,
            "top": null,
            "visibility": null,
            "width": null
          }
        },
        "a6e1b152b2b44320a702e0c80a201651": {
          "model_module": "@jupyter-widgets/controls",
          "model_name": "DescriptionStyleModel",
          "model_module_version": "1.5.0",
          "state": {
            "_model_module": "@jupyter-widgets/controls",
            "_model_module_version": "1.5.0",
            "_model_name": "DescriptionStyleModel",
            "_view_count": null,
            "_view_module": "@jupyter-widgets/base",
            "_view_module_version": "1.2.0",
            "_view_name": "StyleView",
            "description_width": ""
          }
        },
        "15b35921cb834e1c962e80da486c0546": {
          "model_module": "@jupyter-widgets/base",
          "model_name": "LayoutModel",
          "model_module_version": "1.2.0",
          "state": {
            "_model_module": "@jupyter-widgets/base",
            "_model_module_version": "1.2.0",
            "_model_name": "LayoutModel",
            "_view_count": null,
            "_view_module": "@jupyter-widgets/base",
            "_view_module_version": "1.2.0",
            "_view_name": "LayoutView",
            "align_content": null,
            "align_items": null,
            "align_self": null,
            "border": null,
            "bottom": null,
            "display": null,
            "flex": null,
            "flex_flow": null,
            "grid_area": null,
            "grid_auto_columns": null,
            "grid_auto_flow": null,
            "grid_auto_rows": null,
            "grid_column": null,
            "grid_gap": null,
            "grid_row": null,
            "grid_template_areas": null,
            "grid_template_columns": null,
            "grid_template_rows": null,
            "height": null,
            "justify_content": null,
            "justify_items": null,
            "left": null,
            "margin": null,
            "max_height": null,
            "max_width": null,
            "min_height": null,
            "min_width": null,
            "object_fit": null,
            "object_position": null,
            "order": null,
            "overflow": null,
            "overflow_x": null,
            "overflow_y": null,
            "padding": null,
            "right": null,
            "top": null,
            "visibility": null,
            "width": null
          }
        },
        "75aedd5d1bba441795a0366db0b646af": {
          "model_module": "@jupyter-widgets/controls",
          "model_name": "ProgressStyleModel",
          "model_module_version": "1.5.0",
          "state": {
            "_model_module": "@jupyter-widgets/controls",
            "_model_module_version": "1.5.0",
            "_model_name": "ProgressStyleModel",
            "_view_count": null,
            "_view_module": "@jupyter-widgets/base",
            "_view_module_version": "1.2.0",
            "_view_name": "StyleView",
            "bar_color": null,
            "description_width": ""
          }
        },
        "6eaf564892984cbb9ef8df6f1b1324fa": {
          "model_module": "@jupyter-widgets/base",
          "model_name": "LayoutModel",
          "model_module_version": "1.2.0",
          "state": {
            "_model_module": "@jupyter-widgets/base",
            "_model_module_version": "1.2.0",
            "_model_name": "LayoutModel",
            "_view_count": null,
            "_view_module": "@jupyter-widgets/base",
            "_view_module_version": "1.2.0",
            "_view_name": "LayoutView",
            "align_content": null,
            "align_items": null,
            "align_self": null,
            "border": null,
            "bottom": null,
            "display": null,
            "flex": null,
            "flex_flow": null,
            "grid_area": null,
            "grid_auto_columns": null,
            "grid_auto_flow": null,
            "grid_auto_rows": null,
            "grid_column": null,
            "grid_gap": null,
            "grid_row": null,
            "grid_template_areas": null,
            "grid_template_columns": null,
            "grid_template_rows": null,
            "height": null,
            "justify_content": null,
            "justify_items": null,
            "left": null,
            "margin": null,
            "max_height": null,
            "max_width": null,
            "min_height": null,
            "min_width": null,
            "object_fit": null,
            "object_position": null,
            "order": null,
            "overflow": null,
            "overflow_x": null,
            "overflow_y": null,
            "padding": null,
            "right": null,
            "top": null,
            "visibility": null,
            "width": null
          }
        },
        "aea613e3332d4ab0a3f0f41557d9e2b1": {
          "model_module": "@jupyter-widgets/controls",
          "model_name": "DescriptionStyleModel",
          "model_module_version": "1.5.0",
          "state": {
            "_model_module": "@jupyter-widgets/controls",
            "_model_module_version": "1.5.0",
            "_model_name": "DescriptionStyleModel",
            "_view_count": null,
            "_view_module": "@jupyter-widgets/base",
            "_view_module_version": "1.2.0",
            "_view_name": "StyleView",
            "description_width": ""
          }
        },
        "701b5ff5e5b64264acf6d3f2027c82da": {
          "model_module": "@jupyter-widgets/controls",
          "model_name": "HBoxModel",
          "model_module_version": "1.5.0",
          "state": {
            "_dom_classes": [],
            "_model_module": "@jupyter-widgets/controls",
            "_model_module_version": "1.5.0",
            "_model_name": "HBoxModel",
            "_view_count": null,
            "_view_module": "@jupyter-widgets/controls",
            "_view_module_version": "1.5.0",
            "_view_name": "HBoxView",
            "box_style": "",
            "children": [
              "IPY_MODEL_3d2ebe71414a46b6a6cf50335126ace5",
              "IPY_MODEL_7ded75fb725e4ef68933ab319394d3b0",
              "IPY_MODEL_e530becd63ee4115b5f4cb7039d0ed9f"
            ],
            "layout": "IPY_MODEL_02f4acb37f0e40ba86136eed12e27114"
          }
        },
        "3d2ebe71414a46b6a6cf50335126ace5": {
          "model_module": "@jupyter-widgets/controls",
          "model_name": "HTMLModel",
          "model_module_version": "1.5.0",
          "state": {
            "_dom_classes": [],
            "_model_module": "@jupyter-widgets/controls",
            "_model_module_version": "1.5.0",
            "_model_name": "HTMLModel",
            "_view_count": null,
            "_view_module": "@jupyter-widgets/controls",
            "_view_module_version": "1.5.0",
            "_view_name": "HTMLView",
            "description": "",
            "description_tooltip": null,
            "layout": "IPY_MODEL_2439875ed8f245e8880f8a8d56f937af",
            "placeholder": "​",
            "style": "IPY_MODEL_1ebcbacc56994cb6912eebeb6fd3c1de",
            "value": "Downloading readme: 100%"
          }
        },
        "7ded75fb725e4ef68933ab319394d3b0": {
          "model_module": "@jupyter-widgets/controls",
          "model_name": "FloatProgressModel",
          "model_module_version": "1.5.0",
          "state": {
            "_dom_classes": [],
            "_model_module": "@jupyter-widgets/controls",
            "_model_module_version": "1.5.0",
            "_model_name": "FloatProgressModel",
            "_view_count": null,
            "_view_module": "@jupyter-widgets/controls",
            "_view_module_version": "1.5.0",
            "_view_name": "ProgressView",
            "bar_style": "success",
            "description": "",
            "description_tooltip": null,
            "layout": "IPY_MODEL_5b0682ef42924d72882c0d7606a5ad96",
            "max": 20914,
            "min": 0,
            "orientation": "horizontal",
            "style": "IPY_MODEL_db140f4dbcb8482589a0cf7fb743d68c",
            "value": 20914
          }
        },
        "e530becd63ee4115b5f4cb7039d0ed9f": {
          "model_module": "@jupyter-widgets/controls",
          "model_name": "HTMLModel",
          "model_module_version": "1.5.0",
          "state": {
            "_dom_classes": [],
            "_model_module": "@jupyter-widgets/controls",
            "_model_module_version": "1.5.0",
            "_model_name": "HTMLModel",
            "_view_count": null,
            "_view_module": "@jupyter-widgets/controls",
            "_view_module_version": "1.5.0",
            "_view_name": "HTMLView",
            "description": "",
            "description_tooltip": null,
            "layout": "IPY_MODEL_6145b3c5000d4b2c8d28e4e78c615f2e",
            "placeholder": "​",
            "style": "IPY_MODEL_79c410d4c6c643c99238594ad6de986d",
            "value": " 20.9k/20.9k [00:00&lt;00:00, 243kB/s]"
          }
        },
        "02f4acb37f0e40ba86136eed12e27114": {
          "model_module": "@jupyter-widgets/base",
          "model_name": "LayoutModel",
          "model_module_version": "1.2.0",
          "state": {
            "_model_module": "@jupyter-widgets/base",
            "_model_module_version": "1.2.0",
            "_model_name": "LayoutModel",
            "_view_count": null,
            "_view_module": "@jupyter-widgets/base",
            "_view_module_version": "1.2.0",
            "_view_name": "LayoutView",
            "align_content": null,
            "align_items": null,
            "align_self": null,
            "border": null,
            "bottom": null,
            "display": null,
            "flex": null,
            "flex_flow": null,
            "grid_area": null,
            "grid_auto_columns": null,
            "grid_auto_flow": null,
            "grid_auto_rows": null,
            "grid_column": null,
            "grid_gap": null,
            "grid_row": null,
            "grid_template_areas": null,
            "grid_template_columns": null,
            "grid_template_rows": null,
            "height": null,
            "justify_content": null,
            "justify_items": null,
            "left": null,
            "margin": null,
            "max_height": null,
            "max_width": null,
            "min_height": null,
            "min_width": null,
            "object_fit": null,
            "object_position": null,
            "order": null,
            "overflow": null,
            "overflow_x": null,
            "overflow_y": null,
            "padding": null,
            "right": null,
            "top": null,
            "visibility": null,
            "width": null
          }
        },
        "2439875ed8f245e8880f8a8d56f937af": {
          "model_module": "@jupyter-widgets/base",
          "model_name": "LayoutModel",
          "model_module_version": "1.2.0",
          "state": {
            "_model_module": "@jupyter-widgets/base",
            "_model_module_version": "1.2.0",
            "_model_name": "LayoutModel",
            "_view_count": null,
            "_view_module": "@jupyter-widgets/base",
            "_view_module_version": "1.2.0",
            "_view_name": "LayoutView",
            "align_content": null,
            "align_items": null,
            "align_self": null,
            "border": null,
            "bottom": null,
            "display": null,
            "flex": null,
            "flex_flow": null,
            "grid_area": null,
            "grid_auto_columns": null,
            "grid_auto_flow": null,
            "grid_auto_rows": null,
            "grid_column": null,
            "grid_gap": null,
            "grid_row": null,
            "grid_template_areas": null,
            "grid_template_columns": null,
            "grid_template_rows": null,
            "height": null,
            "justify_content": null,
            "justify_items": null,
            "left": null,
            "margin": null,
            "max_height": null,
            "max_width": null,
            "min_height": null,
            "min_width": null,
            "object_fit": null,
            "object_position": null,
            "order": null,
            "overflow": null,
            "overflow_x": null,
            "overflow_y": null,
            "padding": null,
            "right": null,
            "top": null,
            "visibility": null,
            "width": null
          }
        },
        "1ebcbacc56994cb6912eebeb6fd3c1de": {
          "model_module": "@jupyter-widgets/controls",
          "model_name": "DescriptionStyleModel",
          "model_module_version": "1.5.0",
          "state": {
            "_model_module": "@jupyter-widgets/controls",
            "_model_module_version": "1.5.0",
            "_model_name": "DescriptionStyleModel",
            "_view_count": null,
            "_view_module": "@jupyter-widgets/base",
            "_view_module_version": "1.2.0",
            "_view_name": "StyleView",
            "description_width": ""
          }
        },
        "5b0682ef42924d72882c0d7606a5ad96": {
          "model_module": "@jupyter-widgets/base",
          "model_name": "LayoutModel",
          "model_module_version": "1.2.0",
          "state": {
            "_model_module": "@jupyter-widgets/base",
            "_model_module_version": "1.2.0",
            "_model_name": "LayoutModel",
            "_view_count": null,
            "_view_module": "@jupyter-widgets/base",
            "_view_module_version": "1.2.0",
            "_view_name": "LayoutView",
            "align_content": null,
            "align_items": null,
            "align_self": null,
            "border": null,
            "bottom": null,
            "display": null,
            "flex": null,
            "flex_flow": null,
            "grid_area": null,
            "grid_auto_columns": null,
            "grid_auto_flow": null,
            "grid_auto_rows": null,
            "grid_column": null,
            "grid_gap": null,
            "grid_row": null,
            "grid_template_areas": null,
            "grid_template_columns": null,
            "grid_template_rows": null,
            "height": null,
            "justify_content": null,
            "justify_items": null,
            "left": null,
            "margin": null,
            "max_height": null,
            "max_width": null,
            "min_height": null,
            "min_width": null,
            "object_fit": null,
            "object_position": null,
            "order": null,
            "overflow": null,
            "overflow_x": null,
            "overflow_y": null,
            "padding": null,
            "right": null,
            "top": null,
            "visibility": null,
            "width": null
          }
        },
        "db140f4dbcb8482589a0cf7fb743d68c": {
          "model_module": "@jupyter-widgets/controls",
          "model_name": "ProgressStyleModel",
          "model_module_version": "1.5.0",
          "state": {
            "_model_module": "@jupyter-widgets/controls",
            "_model_module_version": "1.5.0",
            "_model_name": "ProgressStyleModel",
            "_view_count": null,
            "_view_module": "@jupyter-widgets/base",
            "_view_module_version": "1.2.0",
            "_view_name": "StyleView",
            "bar_color": null,
            "description_width": ""
          }
        },
        "6145b3c5000d4b2c8d28e4e78c615f2e": {
          "model_module": "@jupyter-widgets/base",
          "model_name": "LayoutModel",
          "model_module_version": "1.2.0",
          "state": {
            "_model_module": "@jupyter-widgets/base",
            "_model_module_version": "1.2.0",
            "_model_name": "LayoutModel",
            "_view_count": null,
            "_view_module": "@jupyter-widgets/base",
            "_view_module_version": "1.2.0",
            "_view_name": "LayoutView",
            "align_content": null,
            "align_items": null,
            "align_self": null,
            "border": null,
            "bottom": null,
            "display": null,
            "flex": null,
            "flex_flow": null,
            "grid_area": null,
            "grid_auto_columns": null,
            "grid_auto_flow": null,
            "grid_auto_rows": null,
            "grid_column": null,
            "grid_gap": null,
            "grid_row": null,
            "grid_template_areas": null,
            "grid_template_columns": null,
            "grid_template_rows": null,
            "height": null,
            "justify_content": null,
            "justify_items": null,
            "left": null,
            "margin": null,
            "max_height": null,
            "max_width": null,
            "min_height": null,
            "min_width": null,
            "object_fit": null,
            "object_position": null,
            "order": null,
            "overflow": null,
            "overflow_x": null,
            "overflow_y": null,
            "padding": null,
            "right": null,
            "top": null,
            "visibility": null,
            "width": null
          }
        },
        "79c410d4c6c643c99238594ad6de986d": {
          "model_module": "@jupyter-widgets/controls",
          "model_name": "DescriptionStyleModel",
          "model_module_version": "1.5.0",
          "state": {
            "_model_module": "@jupyter-widgets/controls",
            "_model_module_version": "1.5.0",
            "_model_name": "DescriptionStyleModel",
            "_view_count": null,
            "_view_module": "@jupyter-widgets/base",
            "_view_module_version": "1.2.0",
            "_view_name": "StyleView",
            "description_width": ""
          }
        },
        "c5976f20913741989f616ea53ab7aeea": {
          "model_module": "@jupyter-widgets/controls",
          "model_name": "HBoxModel",
          "model_module_version": "1.5.0",
          "state": {
            "_dom_classes": [],
            "_model_module": "@jupyter-widgets/controls",
            "_model_module_version": "1.5.0",
            "_model_name": "HBoxModel",
            "_view_count": null,
            "_view_module": "@jupyter-widgets/controls",
            "_view_module_version": "1.5.0",
            "_view_name": "HBoxView",
            "box_style": "",
            "children": [
              "IPY_MODEL_327b8f9a7f3248ff88f0f44962058bd9",
              "IPY_MODEL_8aeca1bf54d443df9740687a26621646",
              "IPY_MODEL_ecfe81590eb84e319e6478bd6d2c24bc"
            ],
            "layout": "IPY_MODEL_f50713bb4f104ed0b3b1dccbcf2dfbe9"
          }
        },
        "327b8f9a7f3248ff88f0f44962058bd9": {
          "model_module": "@jupyter-widgets/controls",
          "model_name": "HTMLModel",
          "model_module_version": "1.5.0",
          "state": {
            "_dom_classes": [],
            "_model_module": "@jupyter-widgets/controls",
            "_model_module_version": "1.5.0",
            "_model_name": "HTMLModel",
            "_view_count": null,
            "_view_module": "@jupyter-widgets/controls",
            "_view_module_version": "1.5.0",
            "_view_name": "HTMLView",
            "description": "",
            "description_tooltip": null,
            "layout": "IPY_MODEL_838c2a40e6d741799c668c3253d22cef",
            "placeholder": "​",
            "style": "IPY_MODEL_2c9cb26c57914f308f8431a191a0cc8a",
            "value": "Downloading data: 100%"
          }
        },
        "8aeca1bf54d443df9740687a26621646": {
          "model_module": "@jupyter-widgets/controls",
          "model_name": "FloatProgressModel",
          "model_module_version": "1.5.0",
          "state": {
            "_dom_classes": [],
            "_model_module": "@jupyter-widgets/controls",
            "_model_module_version": "1.5.0",
            "_model_name": "FloatProgressModel",
            "_view_count": null,
            "_view_module": "@jupyter-widgets/controls",
            "_view_module_version": "1.5.0",
            "_view_name": "ProgressView",
            "bar_style": "success",
            "description": "",
            "description_tooltip": null,
            "layout": "IPY_MODEL_1635c35a4f8e47f3bc1897ad0136a44d",
            "max": 28106064,
            "min": 0,
            "orientation": "horizontal",
            "style": "IPY_MODEL_1cad5490fcb640bab78de9492b27db54",
            "value": 28106064
          }
        },
        "ecfe81590eb84e319e6478bd6d2c24bc": {
          "model_module": "@jupyter-widgets/controls",
          "model_name": "HTMLModel",
          "model_module_version": "1.5.0",
          "state": {
            "_dom_classes": [],
            "_model_module": "@jupyter-widgets/controls",
            "_model_module_version": "1.5.0",
            "_model_name": "HTMLModel",
            "_view_count": null,
            "_view_module": "@jupyter-widgets/controls",
            "_view_module_version": "1.5.0",
            "_view_name": "HTMLView",
            "description": "",
            "description_tooltip": null,
            "layout": "IPY_MODEL_6be2fe91d5af47a1a3919e90a4ac0db2",
            "placeholder": "​",
            "style": "IPY_MODEL_25681610260649e1a8f1f852061d36f0",
            "value": " 28.1M/28.1M [00:00&lt;00:00, 47.6MB/s]"
          }
        },
        "f50713bb4f104ed0b3b1dccbcf2dfbe9": {
          "model_module": "@jupyter-widgets/base",
          "model_name": "LayoutModel",
          "model_module_version": "1.2.0",
          "state": {
            "_model_module": "@jupyter-widgets/base",
            "_model_module_version": "1.2.0",
            "_model_name": "LayoutModel",
            "_view_count": null,
            "_view_module": "@jupyter-widgets/base",
            "_view_module_version": "1.2.0",
            "_view_name": "LayoutView",
            "align_content": null,
            "align_items": null,
            "align_self": null,
            "border": null,
            "bottom": null,
            "display": null,
            "flex": null,
            "flex_flow": null,
            "grid_area": null,
            "grid_auto_columns": null,
            "grid_auto_flow": null,
            "grid_auto_rows": null,
            "grid_column": null,
            "grid_gap": null,
            "grid_row": null,
            "grid_template_areas": null,
            "grid_template_columns": null,
            "grid_template_rows": null,
            "height": null,
            "justify_content": null,
            "justify_items": null,
            "left": null,
            "margin": null,
            "max_height": null,
            "max_width": null,
            "min_height": null,
            "min_width": null,
            "object_fit": null,
            "object_position": null,
            "order": null,
            "overflow": null,
            "overflow_x": null,
            "overflow_y": null,
            "padding": null,
            "right": null,
            "top": null,
            "visibility": null,
            "width": null
          }
        },
        "838c2a40e6d741799c668c3253d22cef": {
          "model_module": "@jupyter-widgets/base",
          "model_name": "LayoutModel",
          "model_module_version": "1.2.0",
          "state": {
            "_model_module": "@jupyter-widgets/base",
            "_model_module_version": "1.2.0",
            "_model_name": "LayoutModel",
            "_view_count": null,
            "_view_module": "@jupyter-widgets/base",
            "_view_module_version": "1.2.0",
            "_view_name": "LayoutView",
            "align_content": null,
            "align_items": null,
            "align_self": null,
            "border": null,
            "bottom": null,
            "display": null,
            "flex": null,
            "flex_flow": null,
            "grid_area": null,
            "grid_auto_columns": null,
            "grid_auto_flow": null,
            "grid_auto_rows": null,
            "grid_column": null,
            "grid_gap": null,
            "grid_row": null,
            "grid_template_areas": null,
            "grid_template_columns": null,
            "grid_template_rows": null,
            "height": null,
            "justify_content": null,
            "justify_items": null,
            "left": null,
            "margin": null,
            "max_height": null,
            "max_width": null,
            "min_height": null,
            "min_width": null,
            "object_fit": null,
            "object_position": null,
            "order": null,
            "overflow": null,
            "overflow_x": null,
            "overflow_y": null,
            "padding": null,
            "right": null,
            "top": null,
            "visibility": null,
            "width": null
          }
        },
        "2c9cb26c57914f308f8431a191a0cc8a": {
          "model_module": "@jupyter-widgets/controls",
          "model_name": "DescriptionStyleModel",
          "model_module_version": "1.5.0",
          "state": {
            "_model_module": "@jupyter-widgets/controls",
            "_model_module_version": "1.5.0",
            "_model_name": "DescriptionStyleModel",
            "_view_count": null,
            "_view_module": "@jupyter-widgets/base",
            "_view_module_version": "1.2.0",
            "_view_name": "StyleView",
            "description_width": ""
          }
        },
        "1635c35a4f8e47f3bc1897ad0136a44d": {
          "model_module": "@jupyter-widgets/base",
          "model_name": "LayoutModel",
          "model_module_version": "1.2.0",
          "state": {
            "_model_module": "@jupyter-widgets/base",
            "_model_module_version": "1.2.0",
            "_model_name": "LayoutModel",
            "_view_count": null,
            "_view_module": "@jupyter-widgets/base",
            "_view_module_version": "1.2.0",
            "_view_name": "LayoutView",
            "align_content": null,
            "align_items": null,
            "align_self": null,
            "border": null,
            "bottom": null,
            "display": null,
            "flex": null,
            "flex_flow": null,
            "grid_area": null,
            "grid_auto_columns": null,
            "grid_auto_flow": null,
            "grid_auto_rows": null,
            "grid_column": null,
            "grid_gap": null,
            "grid_row": null,
            "grid_template_areas": null,
            "grid_template_columns": null,
            "grid_template_rows": null,
            "height": null,
            "justify_content": null,
            "justify_items": null,
            "left": null,
            "margin": null,
            "max_height": null,
            "max_width": null,
            "min_height": null,
            "min_width": null,
            "object_fit": null,
            "object_position": null,
            "order": null,
            "overflow": null,
            "overflow_x": null,
            "overflow_y": null,
            "padding": null,
            "right": null,
            "top": null,
            "visibility": null,
            "width": null
          }
        },
        "1cad5490fcb640bab78de9492b27db54": {
          "model_module": "@jupyter-widgets/controls",
          "model_name": "ProgressStyleModel",
          "model_module_version": "1.5.0",
          "state": {
            "_model_module": "@jupyter-widgets/controls",
            "_model_module_version": "1.5.0",
            "_model_name": "ProgressStyleModel",
            "_view_count": null,
            "_view_module": "@jupyter-widgets/base",
            "_view_module_version": "1.2.0",
            "_view_name": "StyleView",
            "bar_color": null,
            "description_width": ""
          }
        },
        "6be2fe91d5af47a1a3919e90a4ac0db2": {
          "model_module": "@jupyter-widgets/base",
          "model_name": "LayoutModel",
          "model_module_version": "1.2.0",
          "state": {
            "_model_module": "@jupyter-widgets/base",
            "_model_module_version": "1.2.0",
            "_model_name": "LayoutModel",
            "_view_count": null,
            "_view_module": "@jupyter-widgets/base",
            "_view_module_version": "1.2.0",
            "_view_name": "LayoutView",
            "align_content": null,
            "align_items": null,
            "align_self": null,
            "border": null,
            "bottom": null,
            "display": null,
            "flex": null,
            "flex_flow": null,
            "grid_area": null,
            "grid_auto_columns": null,
            "grid_auto_flow": null,
            "grid_auto_rows": null,
            "grid_column": null,
            "grid_gap": null,
            "grid_row": null,
            "grid_template_areas": null,
            "grid_template_columns": null,
            "grid_template_rows": null,
            "height": null,
            "justify_content": null,
            "justify_items": null,
            "left": null,
            "margin": null,
            "max_height": null,
            "max_width": null,
            "min_height": null,
            "min_width": null,
            "object_fit": null,
            "object_position": null,
            "order": null,
            "overflow": null,
            "overflow_x": null,
            "overflow_y": null,
            "padding": null,
            "right": null,
            "top": null,
            "visibility": null,
            "width": null
          }
        },
        "25681610260649e1a8f1f852061d36f0": {
          "model_module": "@jupyter-widgets/controls",
          "model_name": "DescriptionStyleModel",
          "model_module_version": "1.5.0",
          "state": {
            "_model_module": "@jupyter-widgets/controls",
            "_model_module_version": "1.5.0",
            "_model_name": "DescriptionStyleModel",
            "_view_count": null,
            "_view_module": "@jupyter-widgets/base",
            "_view_module_version": "1.2.0",
            "_view_name": "StyleView",
            "description_width": ""
          }
        },
        "2b1db9c9617a439b8f6f12a148d98f3e": {
          "model_module": "@jupyter-widgets/controls",
          "model_name": "HBoxModel",
          "model_module_version": "1.5.0",
          "state": {
            "_dom_classes": [],
            "_model_module": "@jupyter-widgets/controls",
            "_model_module_version": "1.5.0",
            "_model_name": "HBoxModel",
            "_view_count": null,
            "_view_module": "@jupyter-widgets/controls",
            "_view_module_version": "1.5.0",
            "_view_name": "HBoxView",
            "box_style": "",
            "children": [
              "IPY_MODEL_6619ed7abc4d46b8bda0904833e04bac",
              "IPY_MODEL_c9cda8f10e444cf493350e87e1a4be3d",
              "IPY_MODEL_8666e5137403425ca0705e5738069f57"
            ],
            "layout": "IPY_MODEL_c5b33e31a78c4091920f46fb88d7d08c"
          }
        },
        "6619ed7abc4d46b8bda0904833e04bac": {
          "model_module": "@jupyter-widgets/controls",
          "model_name": "HTMLModel",
          "model_module_version": "1.5.0",
          "state": {
            "_dom_classes": [],
            "_model_module": "@jupyter-widgets/controls",
            "_model_module_version": "1.5.0",
            "_model_name": "HTMLModel",
            "_view_count": null,
            "_view_module": "@jupyter-widgets/controls",
            "_view_module_version": "1.5.0",
            "_view_name": "HTMLView",
            "description": "",
            "description_tooltip": null,
            "layout": "IPY_MODEL_1c8ba23e2fb24dae980fbb25191d358f",
            "placeholder": "​",
            "style": "IPY_MODEL_740f95c73803468c8ff10f4198f25616",
            "value": "Generating train split: 100%"
          }
        },
        "c9cda8f10e444cf493350e87e1a4be3d": {
          "model_module": "@jupyter-widgets/controls",
          "model_name": "FloatProgressModel",
          "model_module_version": "1.5.0",
          "state": {
            "_dom_classes": [],
            "_model_module": "@jupyter-widgets/controls",
            "_model_module_version": "1.5.0",
            "_model_name": "FloatProgressModel",
            "_view_count": null,
            "_view_module": "@jupyter-widgets/controls",
            "_view_module_version": "1.5.0",
            "_view_name": "ProgressView",
            "bar_style": "",
            "description": "",
            "description_tooltip": null,
            "layout": "IPY_MODEL_584ea95959354735aeda78fef34e3b09",
            "max": 238872,
            "min": 0,
            "orientation": "horizontal",
            "style": "IPY_MODEL_3678eb4dcb484f8bb44f6d1ab1f9d622",
            "value": 238872
          }
        },
        "8666e5137403425ca0705e5738069f57": {
          "model_module": "@jupyter-widgets/controls",
          "model_name": "HTMLModel",
          "model_module_version": "1.5.0",
          "state": {
            "_dom_classes": [],
            "_model_module": "@jupyter-widgets/controls",
            "_model_module_version": "1.5.0",
            "_model_name": "HTMLModel",
            "_view_count": null,
            "_view_module": "@jupyter-widgets/controls",
            "_view_module_version": "1.5.0",
            "_view_name": "HTMLView",
            "description": "",
            "description_tooltip": null,
            "layout": "IPY_MODEL_10af9b7d0a2e4524a7822282eece73b8",
            "placeholder": "​",
            "style": "IPY_MODEL_1c6b807d24b94e7ab0387b050f8cc72d",
            "value": " 238872/238872 [00:31&lt;00:00, 20642.66 examples/s]"
          }
        },
        "c5b33e31a78c4091920f46fb88d7d08c": {
          "model_module": "@jupyter-widgets/base",
          "model_name": "LayoutModel",
          "model_module_version": "1.2.0",
          "state": {
            "_model_module": "@jupyter-widgets/base",
            "_model_module_version": "1.2.0",
            "_model_name": "LayoutModel",
            "_view_count": null,
            "_view_module": "@jupyter-widgets/base",
            "_view_module_version": "1.2.0",
            "_view_name": "LayoutView",
            "align_content": null,
            "align_items": null,
            "align_self": null,
            "border": null,
            "bottom": null,
            "display": null,
            "flex": null,
            "flex_flow": null,
            "grid_area": null,
            "grid_auto_columns": null,
            "grid_auto_flow": null,
            "grid_auto_rows": null,
            "grid_column": null,
            "grid_gap": null,
            "grid_row": null,
            "grid_template_areas": null,
            "grid_template_columns": null,
            "grid_template_rows": null,
            "height": null,
            "justify_content": null,
            "justify_items": null,
            "left": null,
            "margin": null,
            "max_height": null,
            "max_width": null,
            "min_height": null,
            "min_width": null,
            "object_fit": null,
            "object_position": null,
            "order": null,
            "overflow": null,
            "overflow_x": null,
            "overflow_y": null,
            "padding": null,
            "right": null,
            "top": null,
            "visibility": "hidden",
            "width": null
          }
        },
        "1c8ba23e2fb24dae980fbb25191d358f": {
          "model_module": "@jupyter-widgets/base",
          "model_name": "LayoutModel",
          "model_module_version": "1.2.0",
          "state": {
            "_model_module": "@jupyter-widgets/base",
            "_model_module_version": "1.2.0",
            "_model_name": "LayoutModel",
            "_view_count": null,
            "_view_module": "@jupyter-widgets/base",
            "_view_module_version": "1.2.0",
            "_view_name": "LayoutView",
            "align_content": null,
            "align_items": null,
            "align_self": null,
            "border": null,
            "bottom": null,
            "display": null,
            "flex": null,
            "flex_flow": null,
            "grid_area": null,
            "grid_auto_columns": null,
            "grid_auto_flow": null,
            "grid_auto_rows": null,
            "grid_column": null,
            "grid_gap": null,
            "grid_row": null,
            "grid_template_areas": null,
            "grid_template_columns": null,
            "grid_template_rows": null,
            "height": null,
            "justify_content": null,
            "justify_items": null,
            "left": null,
            "margin": null,
            "max_height": null,
            "max_width": null,
            "min_height": null,
            "min_width": null,
            "object_fit": null,
            "object_position": null,
            "order": null,
            "overflow": null,
            "overflow_x": null,
            "overflow_y": null,
            "padding": null,
            "right": null,
            "top": null,
            "visibility": null,
            "width": null
          }
        },
        "740f95c73803468c8ff10f4198f25616": {
          "model_module": "@jupyter-widgets/controls",
          "model_name": "DescriptionStyleModel",
          "model_module_version": "1.5.0",
          "state": {
            "_model_module": "@jupyter-widgets/controls",
            "_model_module_version": "1.5.0",
            "_model_name": "DescriptionStyleModel",
            "_view_count": null,
            "_view_module": "@jupyter-widgets/base",
            "_view_module_version": "1.2.0",
            "_view_name": "StyleView",
            "description_width": ""
          }
        },
        "584ea95959354735aeda78fef34e3b09": {
          "model_module": "@jupyter-widgets/base",
          "model_name": "LayoutModel",
          "model_module_version": "1.2.0",
          "state": {
            "_model_module": "@jupyter-widgets/base",
            "_model_module_version": "1.2.0",
            "_model_name": "LayoutModel",
            "_view_count": null,
            "_view_module": "@jupyter-widgets/base",
            "_view_module_version": "1.2.0",
            "_view_name": "LayoutView",
            "align_content": null,
            "align_items": null,
            "align_self": null,
            "border": null,
            "bottom": null,
            "display": null,
            "flex": null,
            "flex_flow": null,
            "grid_area": null,
            "grid_auto_columns": null,
            "grid_auto_flow": null,
            "grid_auto_rows": null,
            "grid_column": null,
            "grid_gap": null,
            "grid_row": null,
            "grid_template_areas": null,
            "grid_template_columns": null,
            "grid_template_rows": null,
            "height": null,
            "justify_content": null,
            "justify_items": null,
            "left": null,
            "margin": null,
            "max_height": null,
            "max_width": null,
            "min_height": null,
            "min_width": null,
            "object_fit": null,
            "object_position": null,
            "order": null,
            "overflow": null,
            "overflow_x": null,
            "overflow_y": null,
            "padding": null,
            "right": null,
            "top": null,
            "visibility": null,
            "width": null
          }
        },
        "3678eb4dcb484f8bb44f6d1ab1f9d622": {
          "model_module": "@jupyter-widgets/controls",
          "model_name": "ProgressStyleModel",
          "model_module_version": "1.5.0",
          "state": {
            "_model_module": "@jupyter-widgets/controls",
            "_model_module_version": "1.5.0",
            "_model_name": "ProgressStyleModel",
            "_view_count": null,
            "_view_module": "@jupyter-widgets/base",
            "_view_module_version": "1.2.0",
            "_view_name": "StyleView",
            "bar_color": null,
            "description_width": ""
          }
        },
        "10af9b7d0a2e4524a7822282eece73b8": {
          "model_module": "@jupyter-widgets/base",
          "model_name": "LayoutModel",
          "model_module_version": "1.2.0",
          "state": {
            "_model_module": "@jupyter-widgets/base",
            "_model_module_version": "1.2.0",
            "_model_name": "LayoutModel",
            "_view_count": null,
            "_view_module": "@jupyter-widgets/base",
            "_view_module_version": "1.2.0",
            "_view_name": "LayoutView",
            "align_content": null,
            "align_items": null,
            "align_self": null,
            "border": null,
            "bottom": null,
            "display": null,
            "flex": null,
            "flex_flow": null,
            "grid_area": null,
            "grid_auto_columns": null,
            "grid_auto_flow": null,
            "grid_auto_rows": null,
            "grid_column": null,
            "grid_gap": null,
            "grid_row": null,
            "grid_template_areas": null,
            "grid_template_columns": null,
            "grid_template_rows": null,
            "height": null,
            "justify_content": null,
            "justify_items": null,
            "left": null,
            "margin": null,
            "max_height": null,
            "max_width": null,
            "min_height": null,
            "min_width": null,
            "object_fit": null,
            "object_position": null,
            "order": null,
            "overflow": null,
            "overflow_x": null,
            "overflow_y": null,
            "padding": null,
            "right": null,
            "top": null,
            "visibility": null,
            "width": null
          }
        },
        "1c6b807d24b94e7ab0387b050f8cc72d": {
          "model_module": "@jupyter-widgets/controls",
          "model_name": "DescriptionStyleModel",
          "model_module_version": "1.5.0",
          "state": {
            "_model_module": "@jupyter-widgets/controls",
            "_model_module_version": "1.5.0",
            "_model_name": "DescriptionStyleModel",
            "_view_count": null,
            "_view_module": "@jupyter-widgets/base",
            "_view_module_version": "1.2.0",
            "_view_name": "StyleView",
            "description_width": ""
          }
        }
      }
    },
    "accelerator": "GPU",
    "gpuClass": "premium"
  },
  "nbformat": 4,
  "nbformat_minor": 0
}