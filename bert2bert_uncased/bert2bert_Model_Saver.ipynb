{
  "cells": [
    {
      "cell_type": "markdown",
      "metadata": {
        "id": "QUi43CtxwlfH"
      },
      "source": [
        "###1 Install requirements"
      ]
    },
    {
      "cell_type": "code",
      "execution_count": 1,
      "metadata": {
        "colab": {
          "base_uri": "https://localhost:8080/"
        },
        "id": "FY1b6VqT_Nhl",
        "outputId": "ea775e38-7d33-40bc-f240-6a3a63d32a6f"
      },
      "outputs": [
        {
          "output_type": "stream",
          "name": "stdout",
          "text": [
            "\u001b[K     |████████████████████████████████| 451 kB 4.1 MB/s \n",
            "\u001b[K     |████████████████████████████████| 115 kB 67.7 MB/s \n",
            "\u001b[K     |████████████████████████████████| 212 kB 77.6 MB/s \n",
            "\u001b[K     |████████████████████████████████| 182 kB 80.6 MB/s \n",
            "\u001b[K     |████████████████████████████████| 127 kB 58.5 MB/s \n",
            "\u001b[K     |████████████████████████████████| 1.3 MB 4.1 MB/s \n",
            "\u001b[K     |████████████████████████████████| 5.5 MB 4.2 MB/s \n",
            "\u001b[K     |████████████████████████████████| 7.6 MB 58.2 MB/s \n",
            "\u001b[?25h"
          ]
        }
      ],
      "source": [
        "!pip install datasets -q\n",
        "!pip install sentencepiece -q\n",
        "!pip install transformers -q"
      ]
    },
    {
      "cell_type": "markdown",
      "metadata": {
        "id": "aA5WDXP1wk9R"
      },
      "source": [
        "### 2 Import libraries"
      ]
    },
    {
      "cell_type": "code",
      "execution_count": 2,
      "metadata": {
        "id": "iUVDyA503mF9"
      },
      "outputs": [],
      "source": [
        "from datasets import load_dataset, load_metric\n",
        "from transformers import BertTokenizer, TFBertModel, BertGenerationEncoder, BertGenerationDecoder, EncoderDecoderModel\n",
        "import numpy as np\n",
        "import tensorflow as tf\n",
        "from transformers import Seq2SeqTrainingArguments, Seq2SeqTrainer\n",
        "import pandas as pd\n",
        "import math\n",
        "import torch\n",
        "from csv import writer"
      ]
    },
    {
      "cell_type": "markdown",
      "metadata": {
        "id": "sWw0zgUEwp44"
      },
      "source": [
        "###3 Mount google drive to use for file saving and loading"
      ]
    },
    {
      "cell_type": "code",
      "execution_count": 3,
      "metadata": {
        "colab": {
          "base_uri": "https://localhost:8080/"
        },
        "id": "-hM7I-5bQKA3",
        "outputId": "c049fcd1-dfa1-4eda-9f5d-b42252d7cbee"
      },
      "outputs": [
        {
          "output_type": "stream",
          "name": "stdout",
          "text": [
            "Mounted at /content/drive\n"
          ]
        }
      ],
      "source": [
        "from google.colab import drive\n",
        "drive.mount('/content/drive')"
      ]
    },
    {
      "cell_type": "markdown",
      "metadata": {
        "id": "Zz9rEqwfw4wj"
      },
      "source": [
        "### 4 Load Model"
      ]
    },
    {
      "cell_type": "code",
      "execution_count": 4,
      "metadata": {
        "id": "otTvXYzyq8rT"
      },
      "outputs": [],
      "source": [
        "# Select origin and target languages\n",
        "orig = \"en\"\n",
        "target = \"es\"\n",
        "max_length = 100\n",
        "min_length = None\n",
        "ngram_size = None\n",
        "beam = None"
      ]
    },
    {
      "cell_type": "code",
      "execution_count": 5,
      "metadata": {
        "id": "MBVcYR02rBGQ"
      },
      "outputs": [],
      "source": [
        "# Dictionary to store model checkpoints\n",
        "pair_checkpoint = {'en-zh': '/checkpoint-9000',\n",
        "             'en-es': '/checkpoint-10000',\n",
        "             'es-en': '/checkpoint-10000',\n",
        "             'es-zh': '/checkpoint-8500',\n",
        "             'zh-es': '/checkpoint-8500',\n",
        "             'zh-en': '/checkpoint-9000'}"
      ]
    },
    {
      "cell_type": "code",
      "execution_count": 15,
      "metadata": {
        "id": "vCoecOCQrd2Z"
      },
      "outputs": [],
      "source": [
        "# Define path\n",
        "dir_path = f'drive/MyDrive/MIDS/W266/Final_Project/bert2bert-finetuned/{orig}_{target}'\n",
        "if not max_length:\n",
        "  file_path = f'{dir_path}/baseline'\n",
        "elif not min_length:\n",
        "  if not ngram_size:\n",
        "    file_path = f'{dir_path}/max_length_100'\n",
        "  else:\n",
        "    file_path = f'{dir_path}/max_length_100/ngram_{ngram_size}'\n",
        "else:\n",
        "  if not beam:\n",
        "    if not ngram_size:\n",
        "      file_path = f'{dir_path}/max_length_100/min_length_{min_length}'\n",
        "    else:\n",
        "      file_path = f'{dir_path}/max_length_100/min_length_{min_length}/ngram_{ngram_size}'\n",
        "  else:\n",
        "    file_path = f'{dir_path}/max_length_100/min_length_{min_length}/beam_{beam}'\n"
      ]
    },
    {
      "cell_type": "code",
      "execution_count": 16,
      "metadata": {
        "colab": {
          "base_uri": "https://localhost:8080/",
          "height": 37
        },
        "id": "_8Y-f9PdHqLW",
        "outputId": "1f96e27d-a6e9-4dd6-fe88-5689888a655e"
      },
      "outputs": [
        {
          "output_type": "execute_result",
          "data": {
            "text/plain": [
              "'drive/MyDrive/MIDS/W266/Final_Project/bert2bert-finetuned/en_es/max_length_100'"
            ],
            "application/vnd.google.colaboratory.intrinsic+json": {
              "type": "string"
            }
          },
          "metadata": {},
          "execution_count": 16
        }
      ],
      "source": [
        "file_path"
      ]
    },
    {
      "cell_type": "code",
      "source": [
        "model_file = f'{dir_path}/bert2bert_uncased_{orig}_{target}'"
      ],
      "metadata": {
        "id": "Ua-bRrW7NxNu"
      },
      "execution_count": 19,
      "outputs": []
    },
    {
      "cell_type": "code",
      "source": [
        "model_file"
      ],
      "metadata": {
        "colab": {
          "base_uri": "https://localhost:8080/",
          "height": 37
        },
        "id": "k4PUXAl6P0OF",
        "outputId": "104fbb56-cdca-4e4e-b9e4-b6221c0946ee"
      },
      "execution_count": 20,
      "outputs": [
        {
          "output_type": "execute_result",
          "data": {
            "text/plain": [
              "'drive/MyDrive/MIDS/W266/Final_Project/bert2bert-finetuned/en_es/bert2bert_uncased_en_es'"
            ],
            "application/vnd.google.colaboratory.intrinsic+json": {
              "type": "string"
            }
          },
          "metadata": {},
          "execution_count": 20
        }
      ]
    },
    {
      "cell_type": "markdown",
      "source": [
        "### 5 Save Model"
      ],
      "metadata": {
        "id": "qC42eyrSsGLU"
      }
    },
    {
      "cell_type": "code",
      "execution_count": 10,
      "metadata": {
        "id": "9D8wcUK2rEPn"
      },
      "outputs": [],
      "source": [
        "# Upload saved fine-tuned model\n",
        "bert2bert_saved = EncoderDecoderModel.from_pretrained(file_path + pair_checkpoint[f'{orig}-{target}'])"
      ]
    },
    {
      "cell_type": "code",
      "execution_count": 21,
      "metadata": {
        "id": "VbKbM8EFBeyG"
      },
      "outputs": [],
      "source": [
        "# Save model\n",
        "torch.save(bert2bert_saved, model_file)"
      ]
    }
  ],
  "metadata": {
    "accelerator": "GPU",
    "colab": {
      "machine_shape": "hm",
      "provenance": []
    },
    "gpuClass": "standard",
    "kernelspec": {
      "display_name": "Python 3",
      "name": "python3"
    },
    "language_info": {
      "name": "python"
    }
  },
  "nbformat": 4,
  "nbformat_minor": 0
}