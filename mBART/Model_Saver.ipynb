{
  "cells": [
    {
      "cell_type": "markdown",
      "metadata": {
        "id": "view-in-github",
        "colab_type": "text"
      },
      "source": [
        "<a href=\"https://colab.research.google.com/github/leonrafael29/W266_Final_Project/blob/main/mBART/Model_Saver.ipynb\" target=\"_parent\"><img src=\"https://colab.research.google.com/assets/colab-badge.svg\" alt=\"Open In Colab\"/></a>"
      ]
    },
    {
      "cell_type": "markdown",
      "metadata": {
        "id": "QUi43CtxwlfH"
      },
      "source": [
        "Install requirements"
      ]
    },
    {
      "cell_type": "code",
      "execution_count": null,
      "metadata": {
        "colab": {
          "base_uri": "https://localhost:8080/"
        },
        "id": "FY1b6VqT_Nhl",
        "outputId": "59ccadc2-9578-40af-d10b-e0643b041c71"
      },
      "outputs": [
        {
          "output_type": "stream",
          "name": "stdout",
          "text": [
            "\u001b[K     |████████████████████████████████| 451 kB 30.7 MB/s \n",
            "\u001b[K     |████████████████████████████████| 212 kB 88.9 MB/s \n",
            "\u001b[K     |████████████████████████████████| 115 kB 56.2 MB/s \n",
            "\u001b[K     |████████████████████████████████| 182 kB 64.2 MB/s \n",
            "\u001b[K     |████████████████████████████████| 127 kB 85.3 MB/s \n",
            "\u001b[K     |████████████████████████████████| 1.3 MB 25.9 MB/s \n",
            "\u001b[K     |████████████████████████████████| 5.5 MB 30.9 MB/s \n",
            "\u001b[K     |████████████████████████████████| 7.6 MB 52.5 MB/s \n",
            "\u001b[K     |████████████████████████████████| 352 kB 32.8 MB/s \n",
            "\u001b[?25h  Building wheel for BLEURT (setup.py) ... \u001b[?25l\u001b[?25hdone\n"
          ]
        }
      ],
      "source": [
        "!pip install datasets -q\n",
        "!pip install sentencepiece -q\n",
        "!pip install transformers -q\n",
        "!pip install git+https://github.com/google-research/bleurt.git -q\n",
        "\n",
        "# !wget -N https://storage.googleapis.com/bleurt-oss-21/BLEURT-20.zip . -q\n",
        "# !unzip -q -n BLEURT-20.zip\n"
      ]
    },
    {
      "cell_type": "markdown",
      "metadata": {
        "id": "aA5WDXP1wk9R"
      },
      "source": [
        "Imports"
      ]
    },
    {
      "cell_type": "code",
      "execution_count": null,
      "metadata": {
        "id": "iUVDyA503mF9"
      },
      "outputs": [],
      "source": [
        "import csv\n",
        "import numpy as np\n",
        "import pandas as pd\n",
        "import torch\n",
        "from bleurt import score\n",
        "from datasets import load_dataset\n",
        "from transformers import MBartForConditionalGeneration, \\\n",
        "    MBart50TokenizerFast, MBartConfig,\\\n",
        "    TrainingArguments, Trainer\n",
        "    "
      ]
    },
    {
      "cell_type": "markdown",
      "metadata": {
        "id": "sWw0zgUEwp44"
      },
      "source": [
        "Mount google drive to use for file saving and loading"
      ]
    },
    {
      "cell_type": "code",
      "execution_count": null,
      "metadata": {
        "id": "-hM7I-5bQKA3",
        "colab": {
          "base_uri": "https://localhost:8080/"
        },
        "outputId": "203de5eb-3164-4359-ab89-9a1a2c99c5f6"
      },
      "outputs": [
        {
          "output_type": "stream",
          "name": "stdout",
          "text": [
            "Mounted at /content/gdrive/\n",
            "/content/gdrive/MyDrive\n"
          ]
        }
      ],
      "source": [
        "from google.colab import files, drive\n",
        "drive.mount('/content/gdrive/', force_remount=True)\n",
        "%cd gdrive/MyDrive"
      ]
    },
    {
      "cell_type": "markdown",
      "metadata": {
        "id": "BPs4WGuWwtVZ"
      },
      "source": [
        "Global variables"
      ]
    },
    {
      "cell_type": "code",
      "execution_count": null,
      "metadata": {
        "colab": {
          "base_uri": "https://localhost:8080/"
        },
        "id": "IZ2p5znb_2Q7",
        "outputId": "c7c83517-03ea-4fc1-8559-f017dd8c40a8"
      },
      "outputs": [
        {
          "output_type": "stream",
          "name": "stdout",
          "text": [
            "env: PYTORCH_CUDA_ALLOC_CONF=max_split_size_mb:128\n"
          ]
        }
      ],
      "source": [
        "ORIGINAL_MODEL_CHECKPOINT = 'facebook/mbart-large-50-many-to-many-mmt'\n",
        "MODEL_CHECKPOINT = 'Mbart/Model/checkpoint-1000'\n",
        "PAIRS = [\n",
        "    'en-zh',\n",
        "    'zh-en',\n",
        "    'en-es',\n",
        "    'es-zh',\n",
        "    'es-en',\n",
        "    'zh-es',\n",
        "    ]\n",
        "MBART_DATA = {\n",
        "    'en-zh': {\n",
        "        'size': 69020,\n",
        "        'train': 48444,\n",
        "        'val': 10381,\n",
        "        'src': 'en',\n",
        "        'tgt': 'zh',\n",
        "        'src_tkn': 'en_XX',\n",
        "        'tgt_tkn':'zh_CN',\n",
        "        'tkn': 'zh_CN',\n",
        "        'reverse': False,\n",
        "        'train_path':f'Mbart/Data/en-zh-train_pairs.csv',\n",
        "        'val_path':f'Mbart/Data/en-zh-val_pairs.csv',\n",
        "        'test_path':f'Mbart/Data/en-zh-test_pairs.csv',\n",
        "        },\n",
        "    'zh-en': {\n",
        "        'size': 69020,\n",
        "        'train': 48444,\n",
        "        'val': 10381,\n",
        "        'src': 'zh',\n",
        "        'tgt': 'en',\n",
        "        'src_tkn': 'zh_CN',\n",
        "        'tgt_tkn':'en_XX',\n",
        "        'tkn': 'en_XX',\n",
        "        'reverse': True,\n",
        "        'train_path':f'Mbart/Data/en-zh-train_pairs.csv',\n",
        "        'val_path':f'Mbart/Data/en-zh-val_pairs.csv',\n",
        "        'test_path':f'Mbart/Data/en-zh-test_pairs.csv',\n",
        "        },\n",
        "    'en-es': {\n",
        "        'size': 238511,\n",
        "        'train': 167210,\n",
        "        'val': 35831,\n",
        "        'src': 'en',\n",
        "        'tgt': 'es',\n",
        "        'src_tkn': 'en_XX',\n",
        "        'tgt_tkn':'es_XX',\n",
        "        'tkn': 'es_XX',\n",
        "        'reverse': False,\n",
        "        'train_path':f'Mbart/Data/en-es-train_pairs.csv',\n",
        "        'val_path':f'Mbart/Data/en-es-val_pairs.csv',\n",
        "        'test_path':f'Mbart/Data/en-es-test_pairs.csv',\n",
        "        },\n",
        "    'es-zh': {\n",
        "        'size': 65408,\n",
        "        'train': 45796,\n",
        "        'val': 9814,\n",
        "        'src': 'es',\n",
        "        'tgt': 'zh',\n",
        "        'src_tkn': 'es_XX',\n",
        "        'tgt_tkn':'zh_CN',\n",
        "        'tkn': 'zh_CN',\n",
        "        'reverse': False,\n",
        "        'train_path':f'Mbart/Data/es-zh-train_pairs.csv',\n",
        "        'val_path':f'Mbart/Data/es-zh-val_pairs.csv',\n",
        "        'test_path':f'Mbart/Data/es-zh-test_pairs.csv',\n",
        "        },\n",
        "    'es-en': {\n",
        "        'size': 238511,\n",
        "        'train': 167210,\n",
        "        'val': 35831,\n",
        "        'src': 'es',\n",
        "        'tgt': 'en',\n",
        "        'src_tkn': 'es_XX',\n",
        "        'tgt_tkn':'en_XX',\n",
        "        'tkn': 'en_XX',\n",
        "        'reverse': True,\n",
        "        'train_path':f'Mbart/Data/en-es-train_pairs.csv',\n",
        "        'val_path':f'Mbart/Data/en-es-val_pairs.csv',\n",
        "        'test_path':f'Mbart/Data/en-es-test_pairs.csv',\n",
        "        },\n",
        "    'zh-es': {\n",
        "        'size': 65408,\n",
        "        'train': 45796,\n",
        "        'val': 9814,\n",
        "        'src': 'zh',\n",
        "        'tgt': 'es',\n",
        "        'src_tkn': 'zh_CN',\n",
        "        'tgt_tkn':'es_XX',\n",
        "        'tkn': 'es_XX',\n",
        "        'reverse': True,\n",
        "        'train_path':f'Mbart/Data/es-zh-train_pairs.csv',\n",
        "        'val_path':f'Mbart/Data/es-zh-val_pairs.csv',\n",
        "        'test_path':f'Mbart/Data/es-zh-test_pairs.csv',\n",
        "        },\n",
        "    }\n",
        "\n",
        "DATASET = 'news_commentary'\n",
        "MAX_LENGTH = 50\n",
        "MAX_NEW_TOKENS = 50\n",
        "TRUNCATION = True\n",
        "PADDING = True\n",
        "RETURN_TENSORS = 'pt'\n",
        "BLEURT_CHECKPOINT = './BLEURT-20-D3'\n",
        "N_EXAMPLES = 100\n",
        "\n",
        "%env PYTORCH_CUDA_ALLOC_CONF=max_split_size_mb:128"
      ]
    },
    {
      "cell_type": "markdown",
      "metadata": {
        "id": "Zz9rEqwfw4wj"
      },
      "source": [
        "Load Model, Metrics and Tokenizer"
      ]
    },
    {
      "cell_type": "code",
      "source": [
        "# config = MBartConfig.from_pretrained(ORIGINAL_MODEL_CHECKPOINT)\n",
        "\n",
        "# config.encoder_layers = 1\n",
        "# config.decoder_layers = 1\n",
        "# config.num_hidden_layers = 1"
      ],
      "metadata": {
        "id": "d6DnEDD3EkIH"
      },
      "execution_count": null,
      "outputs": []
    },
    {
      "cell_type": "code",
      "execution_count": null,
      "metadata": {
        "id": "bOm4lDjA1bYE",
        "colab": {
          "base_uri": "https://localhost:8080/",
          "height": 81,
          "referenced_widgets": [
            "a170ddc8cde74ab781508db0f50f5326",
            "7e8c5eba75294fec92b3327590969b5b",
            "7cdcb77e3fb443419992bbf02675e05f",
            "a9e0b367536c4915b603bc7554e30e5a",
            "9dff1d78838e4c2187db5804b31e7ced",
            "8ad10967cec34640a39c3e628d616ebd",
            "8f0eb7cf093b487780d7db014dba8796",
            "b5a0200e365b49f084681bd1c3c77050",
            "3e2c6b484d1f46598d28a3576c4369dc",
            "9b92bf019bc4481187d8e85fd9b3edb6",
            "23f1af3b2402442f88e6e3d9d15ee83a",
            "20e97bb8eae147228b7f385bfaee3592",
            "eb04e356cfd34ed7ae93d8e0f94c88bf",
            "43d5cb473d1c493a9b819571e12306f4",
            "9b5c9eaac2884c30821dc11b51159afc",
            "cf439ab6f83f4d2380088b48924369a9",
            "9b7db52b76e94e9ca5c41e6445d8a480",
            "bf44649a771a4e959f3f18aaf4d2e2d6",
            "c760af3dbe064e2bbb93e41ee03867dd",
            "ab03bf95f7d44daba0a67f268ff0f140",
            "f7317fcd70cf4171814ab9f634ea4018",
            "8f9ca8cd81df4ad2997cc60bc1101b6a"
          ]
        },
        "outputId": "d329fa48-c96e-47bf-b361-a92778d17637"
      },
      "outputs": [
        {
          "output_type": "display_data",
          "data": {
            "text/plain": [
              "Downloading:   0%|          | 0.00/1.43k [00:00<?, ?B/s]"
            ],
            "application/vnd.jupyter.widget-view+json": {
              "version_major": 2,
              "version_minor": 0,
              "model_id": "a170ddc8cde74ab781508db0f50f5326"
            }
          },
          "metadata": {}
        },
        {
          "output_type": "display_data",
          "data": {
            "text/plain": [
              "Downloading:   0%|          | 0.00/2.44G [00:00<?, ?B/s]"
            ],
            "application/vnd.jupyter.widget-view+json": {
              "version_major": 2,
              "version_minor": 0,
              "model_id": "20e97bb8eae147228b7f385bfaee3592"
            }
          },
          "metadata": {}
        }
      ],
      "source": [
        "model = MBartForConditionalGeneration.from_pretrained(ORIGINAL_MODEL_CHECKPOINT)"
      ]
    },
    {
      "cell_type": "code",
      "source": [
        "torch.save(model, 'Mbart/Model/Single/Baseline')"
      ],
      "metadata": {
        "id": "VbKbM8EFBeyG"
      },
      "execution_count": null,
      "outputs": []
    },
    {
      "cell_type": "code",
      "source": [
        "model.save_pretrained('Mbart/Model/Tiny/TinyMBart')"
      ],
      "metadata": {
        "id": "b3qjkhvGcTf6"
      },
      "execution_count": null,
      "outputs": []
    },
    {
      "cell_type": "code",
      "source": [],
      "metadata": {
        "id": "KWFdWrRnFR0n"
      },
      "execution_count": null,
      "outputs": []
    }
  ],
  "metadata": {
    "accelerator": "GPU",
    "colab": {
      "machine_shape": "hm",
      "provenance": [],
      "authorship_tag": "ABX9TyMSh3spDx60aLU5BMBVX5Se",
      "include_colab_link": true
    },
    "gpuClass": "standard",
    "kernelspec": {
      "display_name": "Python 3",
      "name": "python3"
    },
    "language_info": {
      "name": "python"
    },
    "widgets": {
      "application/vnd.jupyter.widget-state+json": {
        "a170ddc8cde74ab781508db0f50f5326": {
          "model_module": "@jupyter-widgets/controls",
          "model_name": "HBoxModel",
          "model_module_version": "1.5.0",
          "state": {
            "_dom_classes": [],
            "_model_module": "@jupyter-widgets/controls",
            "_model_module_version": "1.5.0",
            "_model_name": "HBoxModel",
            "_view_count": null,
            "_view_module": "@jupyter-widgets/controls",
            "_view_module_version": "1.5.0",
            "_view_name": "HBoxView",
            "box_style": "",
            "children": [
              "IPY_MODEL_7e8c5eba75294fec92b3327590969b5b",
              "IPY_MODEL_7cdcb77e3fb443419992bbf02675e05f",
              "IPY_MODEL_a9e0b367536c4915b603bc7554e30e5a"
            ],
            "layout": "IPY_MODEL_9dff1d78838e4c2187db5804b31e7ced"
          }
        },
        "7e8c5eba75294fec92b3327590969b5b": {
          "model_module": "@jupyter-widgets/controls",
          "model_name": "HTMLModel",
          "model_module_version": "1.5.0",
          "state": {
            "_dom_classes": [],
            "_model_module": "@jupyter-widgets/controls",
            "_model_module_version": "1.5.0",
            "_model_name": "HTMLModel",
            "_view_count": null,
            "_view_module": "@jupyter-widgets/controls",
            "_view_module_version": "1.5.0",
            "_view_name": "HTMLView",
            "description": "",
            "description_tooltip": null,
            "layout": "IPY_MODEL_8ad10967cec34640a39c3e628d616ebd",
            "placeholder": "​",
            "style": "IPY_MODEL_8f0eb7cf093b487780d7db014dba8796",
            "value": "Downloading: 100%"
          }
        },
        "7cdcb77e3fb443419992bbf02675e05f": {
          "model_module": "@jupyter-widgets/controls",
          "model_name": "FloatProgressModel",
          "model_module_version": "1.5.0",
          "state": {
            "_dom_classes": [],
            "_model_module": "@jupyter-widgets/controls",
            "_model_module_version": "1.5.0",
            "_model_name": "FloatProgressModel",
            "_view_count": null,
            "_view_module": "@jupyter-widgets/controls",
            "_view_module_version": "1.5.0",
            "_view_name": "ProgressView",
            "bar_style": "success",
            "description": "",
            "description_tooltip": null,
            "layout": "IPY_MODEL_b5a0200e365b49f084681bd1c3c77050",
            "max": 1429,
            "min": 0,
            "orientation": "horizontal",
            "style": "IPY_MODEL_3e2c6b484d1f46598d28a3576c4369dc",
            "value": 1429
          }
        },
        "a9e0b367536c4915b603bc7554e30e5a": {
          "model_module": "@jupyter-widgets/controls",
          "model_name": "HTMLModel",
          "model_module_version": "1.5.0",
          "state": {
            "_dom_classes": [],
            "_model_module": "@jupyter-widgets/controls",
            "_model_module_version": "1.5.0",
            "_model_name": "HTMLModel",
            "_view_count": null,
            "_view_module": "@jupyter-widgets/controls",
            "_view_module_version": "1.5.0",
            "_view_name": "HTMLView",
            "description": "",
            "description_tooltip": null,
            "layout": "IPY_MODEL_9b92bf019bc4481187d8e85fd9b3edb6",
            "placeholder": "​",
            "style": "IPY_MODEL_23f1af3b2402442f88e6e3d9d15ee83a",
            "value": " 1.43k/1.43k [00:00&lt;00:00, 51.0kB/s]"
          }
        },
        "9dff1d78838e4c2187db5804b31e7ced": {
          "model_module": "@jupyter-widgets/base",
          "model_name": "LayoutModel",
          "model_module_version": "1.2.0",
          "state": {
            "_model_module": "@jupyter-widgets/base",
            "_model_module_version": "1.2.0",
            "_model_name": "LayoutModel",
            "_view_count": null,
            "_view_module": "@jupyter-widgets/base",
            "_view_module_version": "1.2.0",
            "_view_name": "LayoutView",
            "align_content": null,
            "align_items": null,
            "align_self": null,
            "border": null,
            "bottom": null,
            "display": null,
            "flex": null,
            "flex_flow": null,
            "grid_area": null,
            "grid_auto_columns": null,
            "grid_auto_flow": null,
            "grid_auto_rows": null,
            "grid_column": null,
            "grid_gap": null,
            "grid_row": null,
            "grid_template_areas": null,
            "grid_template_columns": null,
            "grid_template_rows": null,
            "height": null,
            "justify_content": null,
            "justify_items": null,
            "left": null,
            "margin": null,
            "max_height": null,
            "max_width": null,
            "min_height": null,
            "min_width": null,
            "object_fit": null,
            "object_position": null,
            "order": null,
            "overflow": null,
            "overflow_x": null,
            "overflow_y": null,
            "padding": null,
            "right": null,
            "top": null,
            "visibility": null,
            "width": null
          }
        },
        "8ad10967cec34640a39c3e628d616ebd": {
          "model_module": "@jupyter-widgets/base",
          "model_name": "LayoutModel",
          "model_module_version": "1.2.0",
          "state": {
            "_model_module": "@jupyter-widgets/base",
            "_model_module_version": "1.2.0",
            "_model_name": "LayoutModel",
            "_view_count": null,
            "_view_module": "@jupyter-widgets/base",
            "_view_module_version": "1.2.0",
            "_view_name": "LayoutView",
            "align_content": null,
            "align_items": null,
            "align_self": null,
            "border": null,
            "bottom": null,
            "display": null,
            "flex": null,
            "flex_flow": null,
            "grid_area": null,
            "grid_auto_columns": null,
            "grid_auto_flow": null,
            "grid_auto_rows": null,
            "grid_column": null,
            "grid_gap": null,
            "grid_row": null,
            "grid_template_areas": null,
            "grid_template_columns": null,
            "grid_template_rows": null,
            "height": null,
            "justify_content": null,
            "justify_items": null,
            "left": null,
            "margin": null,
            "max_height": null,
            "max_width": null,
            "min_height": null,
            "min_width": null,
            "object_fit": null,
            "object_position": null,
            "order": null,
            "overflow": null,
            "overflow_x": null,
            "overflow_y": null,
            "padding": null,
            "right": null,
            "top": null,
            "visibility": null,
            "width": null
          }
        },
        "8f0eb7cf093b487780d7db014dba8796": {
          "model_module": "@jupyter-widgets/controls",
          "model_name": "DescriptionStyleModel",
          "model_module_version": "1.5.0",
          "state": {
            "_model_module": "@jupyter-widgets/controls",
            "_model_module_version": "1.5.0",
            "_model_name": "DescriptionStyleModel",
            "_view_count": null,
            "_view_module": "@jupyter-widgets/base",
            "_view_module_version": "1.2.0",
            "_view_name": "StyleView",
            "description_width": ""
          }
        },
        "b5a0200e365b49f084681bd1c3c77050": {
          "model_module": "@jupyter-widgets/base",
          "model_name": "LayoutModel",
          "model_module_version": "1.2.0",
          "state": {
            "_model_module": "@jupyter-widgets/base",
            "_model_module_version": "1.2.0",
            "_model_name": "LayoutModel",
            "_view_count": null,
            "_view_module": "@jupyter-widgets/base",
            "_view_module_version": "1.2.0",
            "_view_name": "LayoutView",
            "align_content": null,
            "align_items": null,
            "align_self": null,
            "border": null,
            "bottom": null,
            "display": null,
            "flex": null,
            "flex_flow": null,
            "grid_area": null,
            "grid_auto_columns": null,
            "grid_auto_flow": null,
            "grid_auto_rows": null,
            "grid_column": null,
            "grid_gap": null,
            "grid_row": null,
            "grid_template_areas": null,
            "grid_template_columns": null,
            "grid_template_rows": null,
            "height": null,
            "justify_content": null,
            "justify_items": null,
            "left": null,
            "margin": null,
            "max_height": null,
            "max_width": null,
            "min_height": null,
            "min_width": null,
            "object_fit": null,
            "object_position": null,
            "order": null,
            "overflow": null,
            "overflow_x": null,
            "overflow_y": null,
            "padding": null,
            "right": null,
            "top": null,
            "visibility": null,
            "width": null
          }
        },
        "3e2c6b484d1f46598d28a3576c4369dc": {
          "model_module": "@jupyter-widgets/controls",
          "model_name": "ProgressStyleModel",
          "model_module_version": "1.5.0",
          "state": {
            "_model_module": "@jupyter-widgets/controls",
            "_model_module_version": "1.5.0",
            "_model_name": "ProgressStyleModel",
            "_view_count": null,
            "_view_module": "@jupyter-widgets/base",
            "_view_module_version": "1.2.0",
            "_view_name": "StyleView",
            "bar_color": null,
            "description_width": ""
          }
        },
        "9b92bf019bc4481187d8e85fd9b3edb6": {
          "model_module": "@jupyter-widgets/base",
          "model_name": "LayoutModel",
          "model_module_version": "1.2.0",
          "state": {
            "_model_module": "@jupyter-widgets/base",
            "_model_module_version": "1.2.0",
            "_model_name": "LayoutModel",
            "_view_count": null,
            "_view_module": "@jupyter-widgets/base",
            "_view_module_version": "1.2.0",
            "_view_name": "LayoutView",
            "align_content": null,
            "align_items": null,
            "align_self": null,
            "border": null,
            "bottom": null,
            "display": null,
            "flex": null,
            "flex_flow": null,
            "grid_area": null,
            "grid_auto_columns": null,
            "grid_auto_flow": null,
            "grid_auto_rows": null,
            "grid_column": null,
            "grid_gap": null,
            "grid_row": null,
            "grid_template_areas": null,
            "grid_template_columns": null,
            "grid_template_rows": null,
            "height": null,
            "justify_content": null,
            "justify_items": null,
            "left": null,
            "margin": null,
            "max_height": null,
            "max_width": null,
            "min_height": null,
            "min_width": null,
            "object_fit": null,
            "object_position": null,
            "order": null,
            "overflow": null,
            "overflow_x": null,
            "overflow_y": null,
            "padding": null,
            "right": null,
            "top": null,
            "visibility": null,
            "width": null
          }
        },
        "23f1af3b2402442f88e6e3d9d15ee83a": {
          "model_module": "@jupyter-widgets/controls",
          "model_name": "DescriptionStyleModel",
          "model_module_version": "1.5.0",
          "state": {
            "_model_module": "@jupyter-widgets/controls",
            "_model_module_version": "1.5.0",
            "_model_name": "DescriptionStyleModel",
            "_view_count": null,
            "_view_module": "@jupyter-widgets/base",
            "_view_module_version": "1.2.0",
            "_view_name": "StyleView",
            "description_width": ""
          }
        },
        "20e97bb8eae147228b7f385bfaee3592": {
          "model_module": "@jupyter-widgets/controls",
          "model_name": "HBoxModel",
          "model_module_version": "1.5.0",
          "state": {
            "_dom_classes": [],
            "_model_module": "@jupyter-widgets/controls",
            "_model_module_version": "1.5.0",
            "_model_name": "HBoxModel",
            "_view_count": null,
            "_view_module": "@jupyter-widgets/controls",
            "_view_module_version": "1.5.0",
            "_view_name": "HBoxView",
            "box_style": "",
            "children": [
              "IPY_MODEL_eb04e356cfd34ed7ae93d8e0f94c88bf",
              "IPY_MODEL_43d5cb473d1c493a9b819571e12306f4",
              "IPY_MODEL_9b5c9eaac2884c30821dc11b51159afc"
            ],
            "layout": "IPY_MODEL_cf439ab6f83f4d2380088b48924369a9"
          }
        },
        "eb04e356cfd34ed7ae93d8e0f94c88bf": {
          "model_module": "@jupyter-widgets/controls",
          "model_name": "HTMLModel",
          "model_module_version": "1.5.0",
          "state": {
            "_dom_classes": [],
            "_model_module": "@jupyter-widgets/controls",
            "_model_module_version": "1.5.0",
            "_model_name": "HTMLModel",
            "_view_count": null,
            "_view_module": "@jupyter-widgets/controls",
            "_view_module_version": "1.5.0",
            "_view_name": "HTMLView",
            "description": "",
            "description_tooltip": null,
            "layout": "IPY_MODEL_9b7db52b76e94e9ca5c41e6445d8a480",
            "placeholder": "​",
            "style": "IPY_MODEL_bf44649a771a4e959f3f18aaf4d2e2d6",
            "value": "Downloading: 100%"
          }
        },
        "43d5cb473d1c493a9b819571e12306f4": {
          "model_module": "@jupyter-widgets/controls",
          "model_name": "FloatProgressModel",
          "model_module_version": "1.5.0",
          "state": {
            "_dom_classes": [],
            "_model_module": "@jupyter-widgets/controls",
            "_model_module_version": "1.5.0",
            "_model_name": "FloatProgressModel",
            "_view_count": null,
            "_view_module": "@jupyter-widgets/controls",
            "_view_module_version": "1.5.0",
            "_view_name": "ProgressView",
            "bar_style": "success",
            "description": "",
            "description_tooltip": null,
            "layout": "IPY_MODEL_c760af3dbe064e2bbb93e41ee03867dd",
            "max": 2444714899,
            "min": 0,
            "orientation": "horizontal",
            "style": "IPY_MODEL_ab03bf95f7d44daba0a67f268ff0f140",
            "value": 2444714899
          }
        },
        "9b5c9eaac2884c30821dc11b51159afc": {
          "model_module": "@jupyter-widgets/controls",
          "model_name": "HTMLModel",
          "model_module_version": "1.5.0",
          "state": {
            "_dom_classes": [],
            "_model_module": "@jupyter-widgets/controls",
            "_model_module_version": "1.5.0",
            "_model_name": "HTMLModel",
            "_view_count": null,
            "_view_module": "@jupyter-widgets/controls",
            "_view_module_version": "1.5.0",
            "_view_name": "HTMLView",
            "description": "",
            "description_tooltip": null,
            "layout": "IPY_MODEL_f7317fcd70cf4171814ab9f634ea4018",
            "placeholder": "​",
            "style": "IPY_MODEL_8f9ca8cd81df4ad2997cc60bc1101b6a",
            "value": " 2.44G/2.44G [00:36&lt;00:00, 68.3MB/s]"
          }
        },
        "cf439ab6f83f4d2380088b48924369a9": {
          "model_module": "@jupyter-widgets/base",
          "model_name": "LayoutModel",
          "model_module_version": "1.2.0",
          "state": {
            "_model_module": "@jupyter-widgets/base",
            "_model_module_version": "1.2.0",
            "_model_name": "LayoutModel",
            "_view_count": null,
            "_view_module": "@jupyter-widgets/base",
            "_view_module_version": "1.2.0",
            "_view_name": "LayoutView",
            "align_content": null,
            "align_items": null,
            "align_self": null,
            "border": null,
            "bottom": null,
            "display": null,
            "flex": null,
            "flex_flow": null,
            "grid_area": null,
            "grid_auto_columns": null,
            "grid_auto_flow": null,
            "grid_auto_rows": null,
            "grid_column": null,
            "grid_gap": null,
            "grid_row": null,
            "grid_template_areas": null,
            "grid_template_columns": null,
            "grid_template_rows": null,
            "height": null,
            "justify_content": null,
            "justify_items": null,
            "left": null,
            "margin": null,
            "max_height": null,
            "max_width": null,
            "min_height": null,
            "min_width": null,
            "object_fit": null,
            "object_position": null,
            "order": null,
            "overflow": null,
            "overflow_x": null,
            "overflow_y": null,
            "padding": null,
            "right": null,
            "top": null,
            "visibility": null,
            "width": null
          }
        },
        "9b7db52b76e94e9ca5c41e6445d8a480": {
          "model_module": "@jupyter-widgets/base",
          "model_name": "LayoutModel",
          "model_module_version": "1.2.0",
          "state": {
            "_model_module": "@jupyter-widgets/base",
            "_model_module_version": "1.2.0",
            "_model_name": "LayoutModel",
            "_view_count": null,
            "_view_module": "@jupyter-widgets/base",
            "_view_module_version": "1.2.0",
            "_view_name": "LayoutView",
            "align_content": null,
            "align_items": null,
            "align_self": null,
            "border": null,
            "bottom": null,
            "display": null,
            "flex": null,
            "flex_flow": null,
            "grid_area": null,
            "grid_auto_columns": null,
            "grid_auto_flow": null,
            "grid_auto_rows": null,
            "grid_column": null,
            "grid_gap": null,
            "grid_row": null,
            "grid_template_areas": null,
            "grid_template_columns": null,
            "grid_template_rows": null,
            "height": null,
            "justify_content": null,
            "justify_items": null,
            "left": null,
            "margin": null,
            "max_height": null,
            "max_width": null,
            "min_height": null,
            "min_width": null,
            "object_fit": null,
            "object_position": null,
            "order": null,
            "overflow": null,
            "overflow_x": null,
            "overflow_y": null,
            "padding": null,
            "right": null,
            "top": null,
            "visibility": null,
            "width": null
          }
        },
        "bf44649a771a4e959f3f18aaf4d2e2d6": {
          "model_module": "@jupyter-widgets/controls",
          "model_name": "DescriptionStyleModel",
          "model_module_version": "1.5.0",
          "state": {
            "_model_module": "@jupyter-widgets/controls",
            "_model_module_version": "1.5.0",
            "_model_name": "DescriptionStyleModel",
            "_view_count": null,
            "_view_module": "@jupyter-widgets/base",
            "_view_module_version": "1.2.0",
            "_view_name": "StyleView",
            "description_width": ""
          }
        },
        "c760af3dbe064e2bbb93e41ee03867dd": {
          "model_module": "@jupyter-widgets/base",
          "model_name": "LayoutModel",
          "model_module_version": "1.2.0",
          "state": {
            "_model_module": "@jupyter-widgets/base",
            "_model_module_version": "1.2.0",
            "_model_name": "LayoutModel",
            "_view_count": null,
            "_view_module": "@jupyter-widgets/base",
            "_view_module_version": "1.2.0",
            "_view_name": "LayoutView",
            "align_content": null,
            "align_items": null,
            "align_self": null,
            "border": null,
            "bottom": null,
            "display": null,
            "flex": null,
            "flex_flow": null,
            "grid_area": null,
            "grid_auto_columns": null,
            "grid_auto_flow": null,
            "grid_auto_rows": null,
            "grid_column": null,
            "grid_gap": null,
            "grid_row": null,
            "grid_template_areas": null,
            "grid_template_columns": null,
            "grid_template_rows": null,
            "height": null,
            "justify_content": null,
            "justify_items": null,
            "left": null,
            "margin": null,
            "max_height": null,
            "max_width": null,
            "min_height": null,
            "min_width": null,
            "object_fit": null,
            "object_position": null,
            "order": null,
            "overflow": null,
            "overflow_x": null,
            "overflow_y": null,
            "padding": null,
            "right": null,
            "top": null,
            "visibility": null,
            "width": null
          }
        },
        "ab03bf95f7d44daba0a67f268ff0f140": {
          "model_module": "@jupyter-widgets/controls",
          "model_name": "ProgressStyleModel",
          "model_module_version": "1.5.0",
          "state": {
            "_model_module": "@jupyter-widgets/controls",
            "_model_module_version": "1.5.0",
            "_model_name": "ProgressStyleModel",
            "_view_count": null,
            "_view_module": "@jupyter-widgets/base",
            "_view_module_version": "1.2.0",
            "_view_name": "StyleView",
            "bar_color": null,
            "description_width": ""
          }
        },
        "f7317fcd70cf4171814ab9f634ea4018": {
          "model_module": "@jupyter-widgets/base",
          "model_name": "LayoutModel",
          "model_module_version": "1.2.0",
          "state": {
            "_model_module": "@jupyter-widgets/base",
            "_model_module_version": "1.2.0",
            "_model_name": "LayoutModel",
            "_view_count": null,
            "_view_module": "@jupyter-widgets/base",
            "_view_module_version": "1.2.0",
            "_view_name": "LayoutView",
            "align_content": null,
            "align_items": null,
            "align_self": null,
            "border": null,
            "bottom": null,
            "display": null,
            "flex": null,
            "flex_flow": null,
            "grid_area": null,
            "grid_auto_columns": null,
            "grid_auto_flow": null,
            "grid_auto_rows": null,
            "grid_column": null,
            "grid_gap": null,
            "grid_row": null,
            "grid_template_areas": null,
            "grid_template_columns": null,
            "grid_template_rows": null,
            "height": null,
            "justify_content": null,
            "justify_items": null,
            "left": null,
            "margin": null,
            "max_height": null,
            "max_width": null,
            "min_height": null,
            "min_width": null,
            "object_fit": null,
            "object_position": null,
            "order": null,
            "overflow": null,
            "overflow_x": null,
            "overflow_y": null,
            "padding": null,
            "right": null,
            "top": null,
            "visibility": null,
            "width": null
          }
        },
        "8f9ca8cd81df4ad2997cc60bc1101b6a": {
          "model_module": "@jupyter-widgets/controls",
          "model_name": "DescriptionStyleModel",
          "model_module_version": "1.5.0",
          "state": {
            "_model_module": "@jupyter-widgets/controls",
            "_model_module_version": "1.5.0",
            "_model_name": "DescriptionStyleModel",
            "_view_count": null,
            "_view_module": "@jupyter-widgets/base",
            "_view_module_version": "1.2.0",
            "_view_name": "StyleView",
            "description_width": ""
          }
        }
      }
    }
  },
  "nbformat": 4,
  "nbformat_minor": 0
}