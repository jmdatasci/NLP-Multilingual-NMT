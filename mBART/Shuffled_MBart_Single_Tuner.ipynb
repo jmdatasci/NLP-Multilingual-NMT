{
  "cells": [
    {
      "cell_type": "markdown",
      "metadata": {
        "id": "view-in-github",
        "colab_type": "text"
      },
      "source": [
        "<a href=\"https://colab.research.google.com/github/leonrafael29/W266_Final_Project/blob/main/mBART/Shuffled_MBart_Single_Tuner.ipynb\" target=\"_parent\"><img src=\"https://colab.research.google.com/assets/colab-badge.svg\" alt=\"Open In Colab\"/></a>"
      ]
    },
    {
      "cell_type": "markdown",
      "metadata": {
        "id": "sWw0zgUEwp44"
      },
      "source": [
        "Mount google drive to use for file saving and loading"
      ]
    },
    {
      "cell_type": "code",
      "execution_count": null,
      "metadata": {
        "colab": {
          "base_uri": "https://localhost:8080/"
        },
        "id": "-hM7I-5bQKA3",
        "outputId": "a4b9c724-905e-4a7c-ed1f-d2f50ff2fc80"
      },
      "outputs": [
        {
          "name": "stdout",
          "output_type": "stream",
          "text": [
            "Mounted at /content/gdrive/\n",
            "/content/gdrive/MyDrive\n"
          ]
        }
      ],
      "source": [
        "from google.colab import files, drive\n",
        "drive.mount('/content/gdrive/', force_remount=True)\n",
        "%cd gdrive/MyDrive"
      ]
    },
    {
      "cell_type": "markdown",
      "metadata": {
        "id": "QUi43CtxwlfH"
      },
      "source": [
        "Install requirements"
      ]
    },
    {
      "cell_type": "code",
      "execution_count": null,
      "metadata": {
        "colab": {
          "base_uri": "https://localhost:8080/"
        },
        "id": "FY1b6VqT_Nhl",
        "outputId": "7f1b95e4-c812-4724-8d7e-e07680e2e44f"
      },
      "outputs": [
        {
          "name": "stdout",
          "output_type": "stream",
          "text": [
            "\u001b[K     |████████████████████████████████| 1.3 MB 41.4 MB/s \n",
            "\u001b[K     |████████████████████████████████| 5.5 MB 32.1 MB/s \n",
            "\u001b[K     |████████████████████████████████| 182 kB 79.3 MB/s \n",
            "\u001b[K     |████████████████████████████████| 7.6 MB 62.6 MB/s \n",
            "\u001b[K     |████████████████████████████████| 451 kB 31.5 MB/s \n",
            "\u001b[K     |████████████████████████████████| 212 kB 94.0 MB/s \n",
            "\u001b[K     |████████████████████████████████| 115 kB 83.5 MB/s \n",
            "\u001b[K     |████████████████████████████████| 127 kB 89.1 MB/s \n",
            "\u001b[?25h"
          ]
        }
      ],
      "source": [
        "!pip install sentencepiece -q\n",
        "!pip install transformers -q\n",
        "!pip install datasets -q\n",
        "\n",
        "\n",
        "# !wget -N https://storage.googleapis.com/bleurt-oss-21/BLEURT-20.zip . -q\n",
        "# !unzip -q -n BLEURT-20.zip\n",
        "\n",
        "#Downloads the 3-layer distilled model, which is much smaller.\n",
        "# !wget https://storage.googleapis.com/bleurt-oss-21/BLEURT-20-D3.zip .\n",
        "# !unzip BLEURT-20-D3.zip"
      ]
    },
    {
      "cell_type": "markdown",
      "metadata": {
        "id": "aA5WDXP1wk9R"
      },
      "source": [
        "Imports"
      ]
    },
    {
      "cell_type": "code",
      "execution_count": null,
      "metadata": {
        "id": "iUVDyA503mF9"
      },
      "outputs": [],
      "source": [
        "import csv\n",
        "import numpy as np\n",
        "import pandas as pd\n",
        "import torch\n",
        "from transformers import MBartForConditionalGeneration, \\\n",
        "    MBart50TokenizerFast, MBartConfig,\\\n",
        "    TrainingArguments, Trainer\n",
        "    "
      ]
    },
    {
      "cell_type": "markdown",
      "metadata": {
        "id": "BPs4WGuWwtVZ"
      },
      "source": [
        "Global variables"
      ]
    },
    {
      "cell_type": "code",
      "execution_count": null,
      "metadata": {
        "colab": {
          "base_uri": "https://localhost:8080/"
        },
        "id": "IZ2p5znb_2Q7",
        "outputId": "cd1a129e-052d-4049-a1aa-ce0bd7dfe031"
      },
      "outputs": [
        {
          "name": "stdout",
          "output_type": "stream",
          "text": [
            "env: PYTORCH_CUDA_ALLOC_CONF=max_split_size_mb:512\n"
          ]
        }
      ],
      "source": [
        "ORIGINAL_MODEL_CHECKPOINT = 'facebook/mbart-large-50-many-to-many-mmt'\n",
        "MODEL_CHECKPOINT = 'Mbart/Model/Tiny/checkpoint-1000'\n",
        "\n",
        "PAIRS = [\n",
        "    'en-zh',\n",
        "    'zh-en',\n",
        "    'en-es',\n",
        "    'es-zh',\n",
        "    'es-en',\n",
        "    'zh-es',\n",
        "    ]\n",
        "MBART_DATA = {\n",
        "    'en-zh': {\n",
        "        'size': 69020,\n",
        "        'train': 48444,\n",
        "        'val': 10381,\n",
        "        'src': 'en',\n",
        "        'tgt': 'zh',\n",
        "        'src_tkn': 'en_XX',\n",
        "        'tgt_tkn':'zh_CN',\n",
        "        'tkn': 'zh_CN',\n",
        "        'reverse': False,\n",
        "        'train_path':f'Mbart/Data/fixed_train_pairs.csv',\n",
        "        'val_path':f'Mbart/Data/fixed_val_pairs.csv',\n",
        "        'test_path':f'Mbart/Data/fixed_test_pairs.csv',\n",
        "        },\n",
        "    'zh-en': {\n",
        "        'size': 69020,\n",
        "        'train': 48444,\n",
        "        'val': 10381,\n",
        "        'src': 'zh',\n",
        "        'tgt': 'en',\n",
        "        'src_tkn': 'zh_CN',\n",
        "        'tgt_tkn':'en_XX',\n",
        "        'tkn': 'en_XX',\n",
        "        'reverse': True,\n",
        "        'train_path':f'Mbart/Data/fixed_train_pairs.csv',\n",
        "        'val_path':f'Mbart/Data/fixed_val_pairs.csv',\n",
        "        'test_path':f'Mbart/Data/fixed_test_pairs.csv',\n",
        "        },\n",
        "    'en-es': {\n",
        "        'size': 238511,\n",
        "        'train': 167210,\n",
        "        'val': 35831,\n",
        "        'src': 'en',\n",
        "        'tgt': 'es',\n",
        "        'src_tkn': 'en_XX',\n",
        "        'tgt_tkn':'es_XX',\n",
        "        'tkn': 'es_XX',\n",
        "        'reverse': False,\n",
        "        'train_path':f'Mbart/Data/fixed_train_pairs.csv',\n",
        "        'val_path':f'Mbart/Data/fixed_val_pairs.csv',\n",
        "        'test_path':f'Mbart/Data/fixed_test_pairs.csv',\n",
        "        },\n",
        "    'es-zh': {\n",
        "        'size': 65408,\n",
        "        'train': 45796,\n",
        "        'val': 9814,\n",
        "        'src': 'es',\n",
        "        'tgt': 'zh',\n",
        "        'src_tkn': 'es_XX',\n",
        "        'tgt_tkn':'zh_CN',\n",
        "        'tkn': 'zh_CN',\n",
        "        'reverse': False,\n",
        "        'train_path':f'Mbart/Data/fixed_train_pairs.csv',\n",
        "        'val_path':f'Mbart/Data/fixed_val_pairs.csv',\n",
        "        'test_path':f'Mbart/Data/fixed_test_pairs.csv',\n",
        "        },\n",
        "    'es-en': {\n",
        "        'size': 238511,\n",
        "        'train': 167210,\n",
        "        'val': 35831,\n",
        "        'src': 'es',\n",
        "        'tgt': 'en',\n",
        "        'src_tkn': 'es_XX',\n",
        "        'tgt_tkn':'en_XX',\n",
        "        'tkn': 'en_XX',\n",
        "        'reverse': True,\n",
        "        'train_path':f'Mbart/Data/fixed_train_pairs.csv',\n",
        "        'val_path':f'Mbart/Data/fixed_val_pairs.csv',\n",
        "        'test_path':f'Mbart/Data/fixed_test_pairs.csv',\n",
        "        },\n",
        "    'zh-es': {\n",
        "        'size': 65408,\n",
        "        'train': 45796,\n",
        "        'val': 9814,\n",
        "        'src': 'zh',\n",
        "        'tgt': 'es',\n",
        "        'src_tkn': 'zh_CN',\n",
        "        'tgt_tkn':'es_XX',\n",
        "        'tkn': 'es_XX',\n",
        "        'reverse': True,\n",
        "        'train_path':f'Mbart/Data/fixed_train_pairs.csv',\n",
        "        'val_path':f'Mbart/Data/fixed_val_pairs.csv',\n",
        "        'test_path':f'Mbart/Data/fixed_test_pairs.csv',\n",
        "        },\n",
        "    }\n",
        "\n",
        "DATASET = 'news_commentary'\n",
        "MAX_LENGTH = 50\n",
        "MAX_NEW_TOKENS = 50\n",
        "TRUNCATION = True\n",
        "PADDING = True\n",
        "RETURN_TENSORS = 'pt'\n",
        "BLEURT_CHECKPOINT = './BLEURT-20-D3'\n",
        "N_EXAMPLES = 100\n",
        "\n",
        "%env PYTORCH_CUDA_ALLOC_CONF=max_split_size_mb:512"
      ]
    },
    {
      "cell_type": "markdown",
      "metadata": {
        "id": "Zz9rEqwfw4wj"
      },
      "source": [
        "Load Model, Metrics and Tokenizer"
      ]
    },
    {
      "cell_type": "code",
      "execution_count": null,
      "metadata": {
        "id": "1S6dr3hzsErS"
      },
      "outputs": [],
      "source": [
        "config = MBartConfig.from_pretrained(ORIGINAL_MODEL_CHECKPOINT)\n",
        "\n",
        "config.encoder_layers = 1\n",
        "config.decoder_layers = 1\n",
        "config.num_hidden_layers = 1"
      ]
    },
    {
      "cell_type": "code",
      "execution_count": null,
      "metadata": {
        "colab": {
          "base_uri": "https://localhost:8080/",
          "height": 217,
          "referenced_widgets": [
            "bf9bba94ded347079a39cc874f32832b",
            "0b66760deb3c4b99afebe3df524d8a71",
            "2c0aa0969d494117b4bb2e1661f89ed6",
            "d20e7b1c61614585bf4d8e2ad720f167",
            "055e83fb817a4daeb6b8a9df259bb373",
            "c45bc410d6984c59bd9bce01a9f7f22e",
            "0c8363b1fa0040bb879f1fc28c736ae8",
            "09e09df05cc848b9a35c5f75d764176f",
            "835f3a6dbad84a689f243e84a1abca1f",
            "0d7174983aee4b518adea491bdcd0c91",
            "f5af84e2797e401191eb011d9707e96e",
            "c0cbd4ed10894fb6a78bf2b115e8ca91",
            "613ec59edde6401ca7156c25005ce965",
            "7eddaeef62814fbbb115812dc798697f",
            "ecd19fb0939b47fe83d6ecd9e91c81a9",
            "3d529eba5e8c47bc8c14b52a801c8358",
            "96e3ba4c63b24bcb97a76e46d5973ea3",
            "728008cddaf149998063c870390c87a1",
            "02f3168780bf4bf99a4e95e60e7847f6",
            "ebf36f09c7d144d78fc0e2b5af809416",
            "a2dfe470480a442c9f80bb59c8f339f3",
            "7c9d0ff6322b4a43bb21899094b2c72e",
            "ac8a18c07baf43f3b26581e6fc02c381",
            "65b2b6218b33435ea3d99b94b5ddb1ca",
            "ef390fa9533a41808166ec9da2448f6b",
            "f8e6799aed824050be8dfbe5e92d8dfe",
            "5136d04e03dc4e359699e35c9b60d9fb",
            "ccb229df120a48e1968f2a9ae51b1955",
            "4208af9cb9a942ed86beffac2ce446e0",
            "be7bf1cf96504343b8bd04a716af6feb",
            "4992c30dc7c349208faf647912b4cfd2",
            "f8078d9a190f41aca52d24d40daa7f48",
            "eadefb37c1c84d2499e89cb45abe530f",
            "8b174e9f94214f489bf65e7a47b6bd96",
            "ef19ab46223c4b28991249c93d5923ce",
            "dc311eae5ec148859dddb14779238a3f",
            "ae7d44adfc1d4b169d9c78935a84d816",
            "9a5cbfcdd9c2446f8471e0b40c3e1fbf",
            "ce6c84a654e54795a72d5181616d3db3",
            "35f73ead62dd47cda4d4f560d2532f4e",
            "e01e39f54f5f4f10a53d97cff1346e73",
            "bcddefb725b84648a9b66736a9dd86fa",
            "a98768657633488a9135fdb95c23db8e",
            "059665a1bbb1411b8cb1e170dcfd6d38"
          ]
        },
        "id": "NnIWd2aZH8wI",
        "outputId": "eb6d35da-874d-4643-ff27-1e0956f88811"
      },
      "outputs": [
        {
          "data": {
            "application/vnd.jupyter.widget-view+json": {
              "model_id": "bf9bba94ded347079a39cc874f32832b",
              "version_major": 2,
              "version_minor": 0
            },
            "text/plain": [
              "Downloading:   0%|          | 0.00/2.44G [00:00<?, ?B/s]"
            ]
          },
          "metadata": {},
          "output_type": "display_data"
        },
        {
          "name": "stderr",
          "output_type": "stream",
          "text": [
            "Some weights of the model checkpoint at facebook/mbart-large-50-many-to-many-mmt were not used when initializing MBartForConditionalGeneration: ['model.decoder.layers.7.self_attn.out_proj.weight', 'model.encoder.layers.7.final_layer_norm.weight', 'model.decoder.layers.1.fc2.bias', 'model.encoder.layers.4.self_attn.v_proj.bias', 'model.decoder.layers.1.self_attn.v_proj.weight', 'model.encoder.layers.4.self_attn.q_proj.bias', 'model.encoder.layers.4.final_layer_norm.weight', 'model.decoder.layers.2.final_layer_norm.weight', 'model.encoder.layers.10.self_attn.k_proj.weight', 'model.decoder.layers.1.encoder_attn_layer_norm.bias', 'model.decoder.layers.6.fc1.weight', 'model.encoder.layers.8.self_attn.v_proj.weight', 'model.decoder.layers.6.self_attn.v_proj.weight', 'model.encoder.layers.9.final_layer_norm.weight', 'model.encoder.layers.11.fc2.weight', 'model.encoder.layers.2.self_attn_layer_norm.bias', 'model.decoder.layers.4.fc1.bias', 'model.decoder.layers.4.encoder_attn_layer_norm.weight', 'model.decoder.layers.9.encoder_attn_layer_norm.weight', 'model.decoder.layers.4.encoder_attn.v_proj.bias', 'model.decoder.layers.2.encoder_attn.q_proj.bias', 'model.encoder.layers.11.self_attn.k_proj.bias', 'model.decoder.layers.5.encoder_attn.v_proj.bias', 'model.decoder.layers.5.encoder_attn.k_proj.bias', 'model.decoder.layers.4.self_attn.v_proj.bias', 'model.decoder.layers.5.self_attn.v_proj.weight', 'model.decoder.layers.6.encoder_attn_layer_norm.weight', 'model.decoder.layers.6.self_attn.q_proj.bias', 'model.encoder.layers.2.self_attn.q_proj.bias', 'model.decoder.layers.4.encoder_attn.out_proj.bias', 'model.decoder.layers.3.self_attn.out_proj.bias', 'model.encoder.layers.11.self_attn_layer_norm.bias', 'model.encoder.layers.1.self_attn.k_proj.bias', 'model.encoder.layers.5.fc1.weight', 'model.decoder.layers.1.self_attn.out_proj.weight', 'model.decoder.layers.2.self_attn.k_proj.weight', 'model.decoder.layers.11.final_layer_norm.bias', 'model.decoder.layers.9.self_attn.k_proj.bias', 'model.decoder.layers.2.self_attn.q_proj.bias', 'model.decoder.layers.7.final_layer_norm.bias', 'model.encoder.layers.3.fc1.weight', 'model.encoder.layers.10.self_attn_layer_norm.bias', 'model.encoder.layers.8.self_attn.k_proj.weight', 'model.encoder.layers.9.self_attn.q_proj.weight', 'model.decoder.layers.1.self_attn_layer_norm.bias', 'model.encoder.layers.10.self_attn.k_proj.bias', 'model.decoder.layers.6.self_attn.k_proj.weight', 'model.decoder.layers.10.fc1.bias', 'model.encoder.layers.11.self_attn.q_proj.bias', 'model.decoder.layers.6.self_attn.v_proj.bias', 'model.encoder.layers.5.self_attn.q_proj.weight', 'model.decoder.layers.2.encoder_attn_layer_norm.weight', 'model.decoder.layers.2.encoder_attn.k_proj.bias', 'model.decoder.layers.7.self_attn.q_proj.bias', 'model.decoder.layers.3.fc1.bias', 'model.decoder.layers.1.self_attn_layer_norm.weight', 'model.encoder.layers.10.fc2.weight', 'model.decoder.layers.5.self_attn.out_proj.weight', 'model.encoder.layers.9.final_layer_norm.bias', 'model.decoder.layers.4.self_attn_layer_norm.bias', 'model.decoder.layers.10.encoder_attn.k_proj.bias', 'model.encoder.layers.10.self_attn.q_proj.bias', 'model.encoder.layers.11.final_layer_norm.bias', 'model.decoder.layers.10.encoder_attn.v_proj.bias', 'model.decoder.layers.9.self_attn_layer_norm.bias', 'model.decoder.layers.10.encoder_attn.q_proj.weight', 'model.encoder.layers.6.fc1.bias', 'model.encoder.layers.5.self_attn.q_proj.bias', 'model.decoder.layers.1.encoder_attn_layer_norm.weight', 'model.encoder.layers.3.final_layer_norm.weight', 'model.decoder.layers.3.self_attn_layer_norm.bias', 'model.decoder.layers.10.self_attn.q_proj.bias', 'model.decoder.layers.8.encoder_attn.k_proj.weight', 'model.decoder.layers.5.encoder_attn.out_proj.weight', 'model.decoder.layers.8.fc1.weight', 'model.decoder.layers.8.encoder_attn.v_proj.weight', 'model.encoder.layers.3.self_attn_layer_norm.bias', 'model.decoder.layers.3.self_attn_layer_norm.weight', 'model.decoder.layers.4.fc2.bias', 'model.decoder.layers.9.encoder_attn.v_proj.bias', 'model.encoder.layers.4.self_attn_layer_norm.bias', 'model.decoder.layers.5.encoder_attn.out_proj.bias', 'model.decoder.layers.3.self_attn.v_proj.weight', 'model.decoder.layers.6.final_layer_norm.bias', 'model.encoder.layers.6.self_attn.out_proj.weight', 'model.decoder.layers.6.self_attn.out_proj.weight', 'model.decoder.layers.1.encoder_attn.v_proj.weight', 'model.encoder.layers.5.fc2.bias', 'model.encoder.layers.10.self_attn_layer_norm.weight', 'model.encoder.layers.1.self_attn.out_proj.bias', 'model.decoder.layers.8.encoder_attn_layer_norm.bias', 'model.decoder.layers.8.self_attn.out_proj.bias', 'model.decoder.layers.7.encoder_attn.out_proj.bias', 'model.encoder.layers.3.fc1.bias', 'model.decoder.layers.7.encoder_attn.v_proj.bias', 'model.encoder.layers.6.self_attn_layer_norm.bias', 'model.encoder.layers.9.self_attn.q_proj.bias', 'model.decoder.layers.4.final_layer_norm.bias', 'model.decoder.layers.4.encoder_attn.out_proj.weight', 'model.decoder.layers.1.fc2.weight', 'model.decoder.layers.9.encoder_attn_layer_norm.bias', 'model.decoder.layers.11.self_attn.k_proj.bias', 'model.encoder.layers.8.self_attn.q_proj.bias', 'model.decoder.layers.3.encoder_attn.k_proj.weight', 'model.decoder.layers.6.encoder_attn.q_proj.weight', 'model.encoder.layers.6.final_layer_norm.weight', 'model.encoder.layers.8.fc1.weight', 'model.decoder.layers.6.self_attn.out_proj.bias', 'model.decoder.layers.5.final_layer_norm.bias', 'model.decoder.layers.9.self_attn_layer_norm.weight', 'model.encoder.layers.1.self_attn.k_proj.weight', 'model.decoder.layers.8.encoder_attn.out_proj.bias', 'model.decoder.layers.10.encoder_attn.out_proj.weight', 'model.decoder.layers.9.final_layer_norm.bias', 'model.encoder.layers.9.fc2.bias', 'model.decoder.layers.9.fc2.bias', 'model.decoder.layers.6.encoder_attn.k_proj.bias', 'model.encoder.layers.1.fc1.bias', 'model.decoder.layers.2.encoder_attn.v_proj.weight', 'model.encoder.layers.1.self_attn.v_proj.bias', 'model.decoder.layers.1.self_attn.v_proj.bias', 'model.decoder.layers.10.final_layer_norm.bias', 'model.encoder.layers.8.self_attn_layer_norm.weight', 'model.encoder.layers.9.self_attn_layer_norm.weight', 'model.decoder.layers.2.self_attn.q_proj.weight', 'model.encoder.layers.7.self_attn.out_proj.weight', 'model.encoder.layers.11.final_layer_norm.weight', 'model.decoder.layers.9.self_attn.out_proj.bias', 'model.encoder.layers.1.self_attn.q_proj.bias', 'model.encoder.layers.9.self_attn.out_proj.bias', 'model.decoder.layers.9.fc1.weight', 'model.decoder.layers.1.encoder_attn.v_proj.bias', 'model.encoder.layers.8.final_layer_norm.weight', 'model.decoder.layers.3.self_attn.k_proj.bias', 'model.encoder.layers.9.fc1.weight', 'model.decoder.layers.2.encoder_attn.out_proj.bias', 'model.decoder.layers.2.encoder_attn.v_proj.bias', 'model.decoder.layers.6.self_attn.k_proj.bias', 'model.encoder.layers.3.self_attn.out_proj.bias', 'model.decoder.layers.3.self_attn.k_proj.weight', 'model.decoder.layers.3.self_attn.q_proj.bias', 'model.encoder.layers.7.fc2.bias', 'model.decoder.layers.5.fc1.bias', 'model.encoder.layers.9.self_attn.k_proj.bias', 'model.decoder.layers.6.encoder_attn.v_proj.bias', 'model.decoder.layers.1.final_layer_norm.bias', 'model.decoder.layers.2.fc2.bias', 'model.decoder.layers.9.fc2.weight', 'model.decoder.layers.1.self_attn.q_proj.bias', 'model.encoder.layers.8.fc2.bias', 'model.decoder.layers.5.fc2.weight', 'model.decoder.layers.6.final_layer_norm.weight', 'model.decoder.layers.10.fc2.bias', 'model.decoder.layers.9.encoder_attn.q_proj.weight', 'model.encoder.layers.5.self_attn.out_proj.bias', 'model.decoder.layers.8.self_attn.v_proj.bias', 'model.decoder.layers.2.final_layer_norm.bias', 'model.encoder.layers.10.fc1.bias', 'model.decoder.layers.5.self_attn.out_proj.bias', 'model.encoder.layers.1.self_attn_layer_norm.bias', 'model.encoder.layers.2.self_attn_layer_norm.weight', 'model.encoder.layers.1.self_attn.v_proj.weight', 'model.decoder.layers.7.fc2.bias', 'model.decoder.layers.5.encoder_attn_layer_norm.weight', 'model.encoder.layers.2.fc1.bias', 'model.encoder.layers.2.self_attn.out_proj.weight', 'model.encoder.layers.2.self_attn.v_proj.bias', 'model.decoder.layers.2.self_attn.k_proj.bias', 'model.encoder.layers.7.final_layer_norm.bias', 'model.decoder.layers.7.self_attn.k_proj.weight', 'model.decoder.layers.1.encoder_attn.k_proj.weight', 'model.encoder.layers.7.fc1.weight', 'model.decoder.layers.4.self_attn.q_proj.bias', 'model.encoder.layers.3.final_layer_norm.bias', 'model.decoder.layers.6.encoder_attn.k_proj.weight', 'model.encoder.layers.10.fc1.weight', 'model.encoder.layers.8.self_attn.q_proj.weight', 'model.decoder.layers.9.encoder_attn.q_proj.bias', 'model.encoder.layers.3.self_attn.k_proj.bias', 'model.encoder.layers.3.fc2.bias', 'model.decoder.layers.4.self_attn.k_proj.weight', 'model.decoder.layers.2.self_attn.v_proj.bias', 'model.encoder.layers.10.self_attn.q_proj.weight', 'model.decoder.layers.4.encoder_attn_layer_norm.bias', 'model.decoder.layers.8.encoder_attn.k_proj.bias', 'model.decoder.layers.8.final_layer_norm.bias', 'model.encoder.layers.11.self_attn_layer_norm.weight', 'model.encoder.layers.4.self_attn.k_proj.weight', 'model.encoder.layers.4.final_layer_norm.bias', 'model.encoder.layers.5.final_layer_norm.weight', 'model.encoder.layers.10.self_attn.v_proj.weight', 'model.encoder.layers.6.self_attn.k_proj.weight', 'model.decoder.layers.4.encoder_attn.q_proj.bias', 'model.encoder.layers.4.self_attn.k_proj.bias', 'model.decoder.layers.9.final_layer_norm.weight', 'model.decoder.layers.5.self_attn.q_proj.weight', 'model.encoder.layers.10.final_layer_norm.bias', 'model.decoder.layers.8.encoder_attn.v_proj.bias', 'model.decoder.layers.2.encoder_attn_layer_norm.bias', 'model.decoder.layers.1.final_layer_norm.weight', 'model.decoder.layers.11.self_attn.v_proj.bias', 'model.decoder.layers.4.encoder_attn.v_proj.weight', 'model.decoder.layers.8.fc2.bias', 'model.decoder.layers.5.encoder_attn.k_proj.weight', 'model.encoder.layers.3.self_attn.v_proj.weight', 'model.decoder.layers.10.fc1.weight', 'model.decoder.layers.4.self_attn.v_proj.weight', 'model.encoder.layers.6.self_attn.k_proj.bias', 'model.decoder.layers.11.self_attn.out_proj.bias', 'model.decoder.layers.1.fc1.bias', 'model.decoder.layers.11.encoder_attn.k_proj.weight', 'model.decoder.layers.8.self_attn.q_proj.weight', 'model.decoder.layers.2.self_attn.out_proj.weight', 'model.decoder.layers.7.encoder_attn_layer_norm.weight', 'model.decoder.layers.9.fc1.bias', 'model.decoder.layers.10.encoder_attn.v_proj.weight', 'model.decoder.layers.3.encoder_attn.v_proj.bias', 'model.encoder.layers.11.self_attn.out_proj.bias', 'model.decoder.layers.7.fc1.weight', 'model.decoder.layers.4.self_attn_layer_norm.weight', 'model.decoder.layers.10.encoder_attn_layer_norm.weight', 'model.encoder.layers.9.self_attn_layer_norm.bias', 'model.encoder.layers.2.self_attn.k_proj.weight', 'model.decoder.layers.6.encoder_attn.out_proj.weight', 'model.encoder.layers.3.self_attn.q_proj.bias', 'model.encoder.layers.1.fc1.weight', 'model.encoder.layers.7.self_attn.q_proj.bias', 'model.encoder.layers.2.self_attn.out_proj.bias', 'model.decoder.layers.7.encoder_attn.k_proj.bias', 'model.decoder.layers.11.self_attn.v_proj.weight', 'model.decoder.layers.4.self_attn.out_proj.bias', 'model.encoder.layers.2.final_layer_norm.bias', 'model.decoder.layers.7.encoder_attn.v_proj.weight', 'model.encoder.layers.3.self_attn.q_proj.weight', 'model.decoder.layers.5.final_layer_norm.weight', 'model.decoder.layers.7.self_attn.k_proj.bias', 'model.decoder.layers.1.encoder_attn.k_proj.bias', 'model.decoder.layers.2.fc1.bias', 'model.decoder.layers.2.encoder_attn.q_proj.weight', 'model.decoder.layers.3.encoder_attn.k_proj.bias', 'model.encoder.layers.8.self_attn_layer_norm.bias', 'model.encoder.layers.7.self_attn.k_proj.weight', 'model.encoder.layers.5.self_attn_layer_norm.bias', 'model.decoder.layers.9.encoder_attn.k_proj.weight', 'model.encoder.layers.5.self_attn.out_proj.weight', 'model.decoder.layers.5.self_attn.v_proj.bias', 'model.decoder.layers.11.self_attn_layer_norm.bias', 'model.decoder.layers.10.encoder_attn.k_proj.weight', 'model.encoder.layers.4.fc2.weight', 'model.decoder.layers.1.self_attn.out_proj.bias', 'model.decoder.layers.6.encoder_attn_layer_norm.bias', 'model.encoder.layers.5.final_layer_norm.bias', 'model.decoder.layers.8.encoder_attn.q_proj.weight', 'model.decoder.layers.5.fc2.bias', 'model.encoder.layers.9.self_attn.k_proj.weight', 'model.decoder.layers.3.encoder_attn.v_proj.weight', 'model.decoder.layers.3.final_layer_norm.weight', 'model.encoder.layers.11.fc1.weight', 'model.decoder.layers.11.encoder_attn.q_proj.weight', 'model.decoder.layers.11.encoder_attn.v_proj.weight', 'model.encoder.layers.10.final_layer_norm.weight', 'model.encoder.layers.7.self_attn.k_proj.bias', 'model.decoder.layers.9.encoder_attn.out_proj.weight', 'model.decoder.layers.3.fc2.bias', 'model.encoder.layers.8.self_attn.out_proj.weight', 'model.encoder.layers.9.self_attn.out_proj.weight', 'model.decoder.layers.10.self_attn_layer_norm.weight', 'model.decoder.layers.10.encoder_attn_layer_norm.bias', 'model.encoder.layers.1.self_attn.out_proj.weight', 'model.decoder.layers.4.fc2.weight', 'model.encoder.layers.8.fc2.weight', 'model.decoder.layers.10.self_attn.k_proj.weight', 'model.encoder.layers.10.self_attn.v_proj.bias', 'model.decoder.layers.3.encoder_attn.out_proj.bias', 'model.decoder.layers.8.encoder_attn.out_proj.weight', 'model.decoder.layers.11.encoder_attn_layer_norm.weight', 'model.encoder.layers.2.fc2.weight', 'model.decoder.layers.8.encoder_attn_layer_norm.weight', 'model.encoder.layers.6.self_attn.v_proj.bias', 'model.encoder.layers.3.self_attn.out_proj.weight', 'model.decoder.layers.4.encoder_attn.k_proj.bias', 'model.decoder.layers.7.encoder_attn_layer_norm.bias', 'model.decoder.layers.10.encoder_attn.q_proj.bias', 'model.encoder.layers.5.self_attn.v_proj.weight', 'model.encoder.layers.11.fc1.bias', 'model.decoder.layers.7.fc2.weight', 'model.decoder.layers.5.encoder_attn.q_proj.weight', 'model.encoder.layers.6.fc2.bias', 'model.encoder.layers.4.self_attn.v_proj.weight', 'model.decoder.layers.10.encoder_attn.out_proj.bias', 'model.encoder.layers.5.fc1.bias', 'model.encoder.layers.5.self_attn.k_proj.weight', 'model.decoder.layers.10.self_attn.v_proj.bias', 'model.encoder.layers.4.fc1.bias', 'model.decoder.layers.3.fc2.weight', 'model.encoder.layers.2.self_attn.v_proj.weight', 'model.encoder.layers.3.fc2.weight', 'model.encoder.layers.6.self_attn.out_proj.bias', 'model.encoder.layers.7.self_attn_layer_norm.bias', 'model.decoder.layers.1.encoder_attn.out_proj.bias', 'model.encoder.layers.2.self_attn.k_proj.bias', 'model.decoder.layers.10.self_attn.out_proj.bias', 'model.decoder.layers.7.self_attn_layer_norm.weight', 'model.decoder.layers.8.self_attn.k_proj.weight', 'model.encoder.layers.1.self_attn.q_proj.weight', 'model.encoder.layers.8.self_attn.k_proj.bias', 'model.encoder.layers.4.self_attn.q_proj.weight', 'model.encoder.layers.9.self_attn.v_proj.weight', 'model.decoder.layers.10.self_attn.v_proj.weight', 'model.decoder.layers.6.fc2.weight', 'model.encoder.layers.8.self_attn.v_proj.bias', 'model.encoder.layers.2.self_attn.q_proj.weight', 'model.decoder.layers.7.self_attn_layer_norm.bias', 'model.encoder.layers.11.self_attn.out_proj.weight', 'model.encoder.layers.4.fc2.bias', 'model.decoder.layers.9.encoder_attn.out_proj.bias', 'model.decoder.layers.11.self_attn_layer_norm.weight', 'model.decoder.layers.3.encoder_attn.q_proj.weight', 'model.decoder.layers.1.self_attn.k_proj.bias', 'model.decoder.layers.5.encoder_attn_layer_norm.bias', 'model.encoder.layers.7.self_attn.out_proj.bias', 'model.decoder.layers.1.encoder_attn.out_proj.weight', 'model.decoder.layers.10.final_layer_norm.weight', 'model.decoder.layers.3.encoder_attn.q_proj.bias', 'model.decoder.layers.4.fc1.weight', 'model.decoder.layers.5.self_attn.k_proj.weight', 'model.decoder.layers.5.fc1.weight', 'model.encoder.layers.7.self_attn.q_proj.weight', 'model.encoder.layers.11.self_attn.v_proj.weight', 'model.decoder.layers.3.self_attn.out_proj.weight', 'model.decoder.layers.1.self_attn.k_proj.weight', 'model.decoder.layers.11.encoder_attn_layer_norm.bias', 'model.encoder.layers.1.self_attn_layer_norm.weight', 'model.decoder.layers.3.fc1.weight', 'model.decoder.layers.10.fc2.weight', 'model.decoder.layers.3.final_layer_norm.bias', 'model.decoder.layers.9.encoder_attn.v_proj.weight', 'model.decoder.layers.1.self_attn.q_proj.weight', 'model.encoder.layers.11.self_attn.v_proj.bias', 'model.decoder.layers.9.self_attn.v_proj.weight', 'model.decoder.layers.4.encoder_attn.k_proj.weight', 'model.decoder.layers.2.self_attn.v_proj.weight', 'model.encoder.layers.9.fc1.bias', 'model.decoder.layers.5.self_attn_layer_norm.weight', 'model.decoder.layers.11.encoder_attn.v_proj.bias', 'model.decoder.layers.2.encoder_attn.out_proj.weight', 'model.decoder.layers.9.self_attn.q_proj.bias', 'model.decoder.layers.1.encoder_attn.q_proj.weight', 'model.decoder.layers.7.encoder_attn.k_proj.weight', 'model.decoder.layers.7.fc1.bias', 'model.decoder.layers.3.self_attn.q_proj.weight', 'model.decoder.layers.11.self_attn.q_proj.bias', 'model.decoder.layers.5.self_attn_layer_norm.bias', 'model.decoder.layers.11.self_attn.out_proj.weight', 'model.decoder.layers.6.encoder_attn.v_proj.weight', 'model.decoder.layers.11.fc1.bias', 'model.decoder.layers.8.encoder_attn.q_proj.bias', 'model.decoder.layers.4.encoder_attn.q_proj.weight', 'model.decoder.layers.9.encoder_attn.k_proj.bias', 'model.encoder.layers.9.self_attn.v_proj.bias', 'model.decoder.layers.3.self_attn.v_proj.bias', 'model.decoder.layers.4.self_attn.out_proj.weight', 'model.decoder.layers.3.encoder_attn.out_proj.weight', 'model.encoder.layers.8.fc1.bias', 'model.decoder.layers.2.encoder_attn.k_proj.weight', 'model.encoder.layers.10.fc2.bias', 'model.encoder.layers.5.self_attn.v_proj.bias', 'model.decoder.layers.9.self_attn.q_proj.weight', 'model.encoder.layers.5.self_attn.k_proj.bias', 'model.decoder.layers.7.self_attn.out_proj.bias', 'model.decoder.layers.11.self_attn.k_proj.weight', 'model.encoder.layers.6.final_layer_norm.bias', 'model.encoder.layers.1.fc2.weight', 'model.encoder.layers.8.final_layer_norm.bias', 'model.decoder.layers.11.fc2.weight', 'model.decoder.layers.6.fc1.bias', 'model.encoder.layers.11.self_attn.q_proj.weight', 'model.decoder.layers.11.fc2.bias', 'model.encoder.layers.7.self_attn_layer_norm.weight', 'model.decoder.layers.7.self_attn.v_proj.bias', 'model.decoder.layers.5.self_attn.k_proj.bias', 'model.decoder.layers.11.final_layer_norm.weight', 'model.decoder.layers.8.self_attn_layer_norm.weight', 'model.decoder.layers.4.final_layer_norm.weight', 'model.decoder.layers.9.self_attn.out_proj.weight', 'model.encoder.layers.11.fc2.bias', 'model.encoder.layers.6.self_attn_layer_norm.weight', 'model.encoder.layers.7.self_attn.v_proj.weight', 'model.decoder.layers.3.encoder_attn_layer_norm.bias', 'model.encoder.layers.3.self_attn_layer_norm.weight', 'model.encoder.layers.9.fc2.weight', 'model.encoder.layers.4.fc1.weight', 'model.decoder.layers.9.self_attn.k_proj.weight', 'model.decoder.layers.6.encoder_attn.out_proj.bias', 'model.encoder.layers.7.fc1.bias', 'model.encoder.layers.7.fc2.weight', 'model.decoder.layers.7.self_attn.v_proj.weight', 'model.decoder.layers.9.self_attn.v_proj.bias', 'model.encoder.layers.5.fc2.weight', 'model.encoder.layers.7.self_attn.v_proj.bias', 'model.decoder.layers.4.self_attn.q_proj.weight', 'model.decoder.layers.5.encoder_attn.v_proj.weight', 'model.decoder.layers.2.self_attn.out_proj.bias', 'model.encoder.layers.6.self_attn.q_proj.bias', 'model.encoder.layers.4.self_attn.out_proj.bias', 'model.encoder.layers.10.self_attn.out_proj.weight', 'model.decoder.layers.4.self_attn.k_proj.bias', 'model.decoder.layers.6.self_attn_layer_norm.weight', 'model.encoder.layers.3.self_attn.v_proj.bias', 'model.decoder.layers.10.self_attn.k_proj.bias', 'model.encoder.layers.4.self_attn.out_proj.weight', 'model.decoder.layers.2.self_attn_layer_norm.bias', 'model.encoder.layers.1.final_layer_norm.weight', 'model.encoder.layers.6.self_attn.v_proj.weight', 'model.decoder.layers.8.self_attn.out_proj.weight', 'model.encoder.layers.2.fc1.weight', 'model.decoder.layers.7.encoder_attn.out_proj.weight', 'model.encoder.layers.2.fc2.bias', 'model.encoder.layers.8.self_attn.out_proj.bias', 'model.decoder.layers.5.self_attn.q_proj.bias', 'model.decoder.layers.6.encoder_attn.q_proj.bias', 'model.decoder.layers.8.fc1.bias', 'model.decoder.layers.6.self_attn.q_proj.weight', 'model.decoder.layers.6.fc2.bias', 'model.decoder.layers.2.self_attn_layer_norm.weight', 'model.encoder.layers.6.self_attn.q_proj.weight', 'model.encoder.layers.5.self_attn_layer_norm.weight', 'model.decoder.layers.11.encoder_attn.out_proj.weight', 'model.decoder.layers.1.fc1.weight', 'model.decoder.layers.8.self_attn.k_proj.bias', 'model.encoder.layers.2.final_layer_norm.weight', 'model.decoder.layers.8.self_attn.v_proj.weight', 'model.decoder.layers.11.encoder_attn.q_proj.bias', 'model.encoder.layers.4.self_attn_layer_norm.weight', 'model.decoder.layers.7.self_attn.q_proj.weight', 'model.decoder.layers.11.encoder_attn.k_proj.bias', 'model.decoder.layers.2.fc1.weight', 'model.decoder.layers.8.fc2.weight', 'model.decoder.layers.6.self_attn_layer_norm.bias', 'model.decoder.layers.1.encoder_attn.q_proj.bias', 'model.decoder.layers.7.encoder_attn.q_proj.weight', 'model.encoder.layers.6.fc1.weight', 'model.encoder.layers.6.fc2.weight', 'model.decoder.layers.11.self_attn.q_proj.weight', 'model.decoder.layers.7.encoder_attn.q_proj.bias', 'model.decoder.layers.3.encoder_attn_layer_norm.weight', 'model.decoder.layers.8.self_attn_layer_norm.bias', 'model.decoder.layers.10.self_attn.q_proj.weight', 'model.decoder.layers.10.self_attn_layer_norm.bias', 'model.decoder.layers.8.self_attn.q_proj.bias', 'model.encoder.layers.1.final_layer_norm.bias', 'model.decoder.layers.7.final_layer_norm.weight', 'model.decoder.layers.11.encoder_attn.out_proj.bias', 'model.decoder.layers.5.encoder_attn.q_proj.bias', 'model.decoder.layers.11.fc1.weight', 'model.decoder.layers.2.fc2.weight', 'model.encoder.layers.3.self_attn.k_proj.weight', 'model.encoder.layers.10.self_attn.out_proj.bias', 'model.encoder.layers.11.self_attn.k_proj.weight', 'model.encoder.layers.1.fc2.bias', 'model.decoder.layers.10.self_attn.out_proj.weight', 'model.decoder.layers.8.final_layer_norm.weight']\n",
            "- This IS expected if you are initializing MBartForConditionalGeneration from the checkpoint of a model trained on another task or with another architecture (e.g. initializing a BertForSequenceClassification model from a BertForPreTraining model).\n",
            "- This IS NOT expected if you are initializing MBartForConditionalGeneration from the checkpoint of a model that you expect to be exactly identical (initializing a BertForSequenceClassification model from a BertForSequenceClassification model).\n"
          ]
        },
        {
          "data": {
            "application/vnd.jupyter.widget-view+json": {
              "model_id": "c0cbd4ed10894fb6a78bf2b115e8ca91",
              "version_major": 2,
              "version_minor": 0
            },
            "text/plain": [
              "Downloading:   0%|          | 0.00/529 [00:00<?, ?B/s]"
            ]
          },
          "metadata": {},
          "output_type": "display_data"
        },
        {
          "data": {
            "application/vnd.jupyter.widget-view+json": {
              "model_id": "ac8a18c07baf43f3b26581e6fc02c381",
              "version_major": 2,
              "version_minor": 0
            },
            "text/plain": [
              "Downloading:   0%|          | 0.00/5.07M [00:00<?, ?B/s]"
            ]
          },
          "metadata": {},
          "output_type": "display_data"
        },
        {
          "data": {
            "application/vnd.jupyter.widget-view+json": {
              "model_id": "8b174e9f94214f489bf65e7a47b6bd96",
              "version_major": 2,
              "version_minor": 0
            },
            "text/plain": [
              "Downloading:   0%|          | 0.00/649 [00:00<?, ?B/s]"
            ]
          },
          "metadata": {},
          "output_type": "display_data"
        }
      ],
      "source": [
        "# Load the metrics model and tokenizer for use in the next cell\n",
        "\n",
        "model = MBartForConditionalGeneration.from_pretrained(ORIGINAL_MODEL_CHECKPOINT, config=config)\n",
        "tokenizer = MBart50TokenizerFast.from_pretrained(ORIGINAL_MODEL_CHECKPOINT)\n",
        "#model = torch.load('Mbart/Model/epoch-1')"
      ]
    },
    {
      "cell_type": "code",
      "execution_count": null,
      "metadata": {
        "id": "CIiEDLXMbSg5"
      },
      "outputs": [],
      "source": [
        "def supervised_preprocessor(src_data, tgt_data, tokenizer, src_tkn, tgt_tkn):\n",
        "  tokenizer.src_lang = src_tkn\n",
        "  tokenizer.tgt_lang = tgt_tkn\n",
        " \n",
        "  inputs = tokenizer(\n",
        "        text=[np.array2string(src_data)],\n",
        "        text_target=[np.array2string(tgt_data)],\n",
        "        max_length=MAX_LENGTH,\n",
        "        padding='max_length',\n",
        "        truncation=TRUNCATION,\n",
        "        return_tensors=RETURN_TENSORS,\n",
        "        )\n",
        "\n",
        "  return {'input_ids':inputs.input_ids[0],\n",
        "           'attention_mask':inputs.attention_mask[0],\n",
        "           'labels':inputs.labels[0],\n",
        "          }"
      ]
    },
    {
      "cell_type": "code",
      "execution_count": null,
      "metadata": {
        "id": "HIdyJlNfU47I"
      },
      "outputs": [],
      "source": [
        " class TranslationDataIterator:\n",
        "    \n",
        "    def __init__(self,\n",
        "                 tokenizer,\n",
        "                 n_examples,\n",
        "                 max_load_at_once,\n",
        "                 data_filename,\n",
        "                  max_length=MAX_LENGTH,\n",
        "                 shuffle=True):\n",
        "        \n",
        "        self.tokenizer = tokenizer\n",
        "        self.n_examples = n_examples\n",
        "        self.max_load_at_once = max_load_at_once\n",
        "        self.data_filename = data_filename\n",
        "        self.max_length = max_length\n",
        "        self.shuffle = shuffle\n",
        "        \n",
        "        # Initialize row order, call on_epoch_end to shuffle row indices\n",
        "        self.row_order = np.arange(1, self.n_examples+1)\n",
        "        self.on_epoch_end()\n",
        "\n",
        "        # Load first chunk of max_load_at_once examples\n",
        "        self.df_curr_loaded = self._load_next_chunk(0)\n",
        "        self.curr_idx_in_load = 0\n",
        "    \n",
        "    def _load_next_chunk(self, idx):\n",
        "        load_start = idx\n",
        "        load_end = idx + self.max_load_at_once\n",
        "\n",
        "        # Indices to skip are the ones in the shuffled row_order before and\n",
        "        # after the chunk we'll use for this chunk\n",
        "        load_idx_skip = self.row_order[:load_start] + self.row_order[load_end:]\n",
        "        self.df_curr_loaded = pd.read_csv(self.data_filename, skiprows=load_idx_skip)\n",
        "    \n",
        "    def __len__(self):\n",
        "        return self.n_examples\n",
        "    \n",
        "    def __getitem__(self, idx):\n",
        "        if self.df_curr_loaded is None or self.curr_idx_in_load >= len(self.df_curr_loaded):\n",
        "            self._load_next_chunk(idx)\n",
        "            self.curr_idx_in_load = 0\n",
        "        \n",
        "        src_tkn = self.df_curr_loaded[['src_tkn']].values.astype(str)[self.curr_idx_in_load][0]\n",
        "        tgt_tkn = self.df_curr_loaded[['tgt_tkn']].values.astype(str)[self.curr_idx_in_load][0]\n",
        "        src_data = self.df_curr_loaded[['src']].values.astype(str)[self.curr_idx_in_load]\n",
        "        tgt_data = self.df_curr_loaded[['tgt']].values.astype(str)[self.curr_idx_in_load]\n",
        "\n",
        "        self.curr_idx_in_load += 1\n",
        "\n",
        "        item_data = supervised_preprocessor(\n",
        "            src_data,\n",
        "            tgt_data,\n",
        "            self.tokenizer,\n",
        "            src_tkn,\n",
        "            tgt_tkn,\n",
        "        )\n",
        "        \n",
        "        return item_data\n",
        "    \n",
        "    def __call__(self):\n",
        "        for i in range(self.__len__()):\n",
        "            yield self.__getitem__(i)\n",
        "            \n",
        "            if i == self.__len__()-1:\n",
        "                self.on_epoch_end()\n",
        "    \n",
        "    def on_epoch_end(self):\n",
        "        if self.shuffle:\n",
        "            self.row_order = list(np.random.permutation(self.row_order))"
      ]
    },
    {
      "cell_type": "code",
      "execution_count": null,
      "metadata": {
        "colab": {
          "base_uri": "https://localhost:8080/"
        },
        "id": "BQ5xzZ41QpOU",
        "outputId": "0e6e7aa5-c6ee-4b58-aa85-8ffebf5cd7be"
      },
      "outputs": [
        {
          "name": "stderr",
          "output_type": "stream",
          "text": [
            "PyTorch: setting up devices\n",
            "The default value for the training argument `--report_to` will change in v5 (from all installed integrations to none). In v5, you will need to use `--report_to all` to get the same behavior as now. You should start updating your code and make this info disappear :-).\n"
          ]
        }
      ],
      "source": [
        "MODEL_PATH=f\"Mbart/Model/Shuffled\"\n",
        "BATCH_SIZE=32\n",
        "\n",
        "TRAINER_PARAMS = TrainingArguments(\n",
        "    MODEL_PATH,\n",
        "    evaluation_strategy='no',\n",
        "    per_device_train_batch_size=BATCH_SIZE,\n",
        "    per_device_eval_batch_size=BATCH_SIZE,\n",
        "    num_train_epochs=1,\n",
        "    dataloader_drop_last=True,\n",
        "    resume_from_checkpoint=True,\n",
        "\n",
        ")"
      ]
    },
    {
      "cell_type": "code",
      "execution_count": null,
      "metadata": {
        "colab": {
          "background_save": true,
          "base_uri": "https://localhost:8080/",
          "height": 689
        },
        "id": "KbwarlBqU-aV",
        "outputId": "dcc82626-082a-44f8-d253-80584611174d"
      },
      "outputs": [
        {
          "name": "stdout",
          "output_type": "stream",
          "text": [
            "Training everything\n"
          ]
        },
        {
          "name": "stderr",
          "output_type": "stream",
          "text": [
            "/usr/local/lib/python3.7/dist-packages/transformers/optimization.py:310: FutureWarning: This implementation of AdamW is deprecated and will be removed in a future version. Use the PyTorch implementation torch.optim.AdamW instead, or set `no_deprecation_warning=True` to disable this warning\n",
            "  FutureWarning,\n",
            "***** Running training *****\n",
            "  Num examples = 400000\n",
            "  Num Epochs = 1\n",
            "  Instantaneous batch size per device = 32\n",
            "  Total train batch size (w. parallel, distributed & accumulation) = 32\n",
            "  Gradient Accumulation steps = 1\n",
            "  Total optimization steps = 12500\n",
            "  Number of trainable parameters = 287557632\n"
          ]
        },
        {
          "data": {
            "text/html": [
              "\n",
              "    <div>\n",
              "      \n",
              "      <progress value='4066' max='12500' style='width:300px; height:20px; vertical-align: middle;'></progress>\n",
              "      [ 4066/12500 23:30:54 < 48:48:03, 0.05 it/s, Epoch 0.33/1]\n",
              "    </div>\n",
              "    <table border=\"1\" class=\"dataframe\">\n",
              "  <thead>\n",
              " <tr style=\"text-align: left;\">\n",
              "      <th>Step</th>\n",
              "      <th>Training Loss</th>\n",
              "    </tr>\n",
              "  </thead>\n",
              "  <tbody>\n",
              "    <tr>\n",
              "      <td>500</td>\n",
              "      <td>4.859200</td>\n",
              "    </tr>\n",
              "    <tr>\n",
              "      <td>1000</td>\n",
              "      <td>3.167200</td>\n",
              "    </tr>\n",
              "    <tr>\n",
              "      <td>1500</td>\n",
              "      <td>2.852400</td>\n",
              "    </tr>\n",
              "    <tr>\n",
              "      <td>2000</td>\n",
              "      <td>2.590000</td>\n",
              "    </tr>\n",
              "    <tr>\n",
              "      <td>2500</td>\n",
              "      <td>2.945700</td>\n",
              "    </tr>\n",
              "    <tr>\n",
              "      <td>3000</td>\n",
              "      <td>4.347800</td>\n",
              "    </tr>\n",
              "    <tr>\n",
              "      <td>3500</td>\n",
              "      <td>3.955100</td>\n",
              "    </tr>\n",
              "    <tr>\n",
              "      <td>4000</td>\n",
              "      <td>3.399900</td>\n",
              "    </tr>\n",
              "  </tbody>\n",
              "</table><p>"
            ],
            "text/plain": [
              "<IPython.core.display.HTML object>"
            ]
          },
          "metadata": {},
          "output_type": "display_data"
        },
        {
          "name": "stderr",
          "output_type": "stream",
          "text": [
            "Saving model checkpoint to Mbart/Model/Shuffled/checkpoint-500\n",
            "Configuration saved in Mbart/Model/Shuffled/checkpoint-500/config.json\n",
            "Model weights saved in Mbart/Model/Shuffled/checkpoint-500/pytorch_model.bin\n",
            "Saving model checkpoint to Mbart/Model/Shuffled/checkpoint-1000\n",
            "Configuration saved in Mbart/Model/Shuffled/checkpoint-1000/config.json\n",
            "Model weights saved in Mbart/Model/Shuffled/checkpoint-1000/pytorch_model.bin\n",
            "Saving model checkpoint to Mbart/Model/Shuffled/checkpoint-1500\n",
            "Configuration saved in Mbart/Model/Shuffled/checkpoint-1500/config.json\n",
            "Model weights saved in Mbart/Model/Shuffled/checkpoint-1500/pytorch_model.bin\n",
            "Saving model checkpoint to Mbart/Model/Shuffled/checkpoint-2000\n",
            "Configuration saved in Mbart/Model/Shuffled/checkpoint-2000/config.json\n",
            "Model weights saved in Mbart/Model/Shuffled/checkpoint-2000/pytorch_model.bin\n",
            "Saving model checkpoint to Mbart/Model/Shuffled/checkpoint-2500\n",
            "Configuration saved in Mbart/Model/Shuffled/checkpoint-2500/config.json\n",
            "Model weights saved in Mbart/Model/Shuffled/checkpoint-2500/pytorch_model.bin\n",
            "Saving model checkpoint to Mbart/Model/Shuffled/checkpoint-3000\n",
            "Configuration saved in Mbart/Model/Shuffled/checkpoint-3000/config.json\n",
            "Model weights saved in Mbart/Model/Shuffled/checkpoint-3000/pytorch_model.bin\n",
            "Saving model checkpoint to Mbart/Model/Shuffled/checkpoint-3500\n",
            "Configuration saved in Mbart/Model/Shuffled/checkpoint-3500/config.json\n",
            "Model weights saved in Mbart/Model/Shuffled/checkpoint-3500/pytorch_model.bin\n",
            "Saving model checkpoint to Mbart/Model/Shuffled/checkpoint-4000\n",
            "Configuration saved in Mbart/Model/Shuffled/checkpoint-4000/config.json\n",
            "Model weights saved in Mbart/Model/Shuffled/checkpoint-4000/pytorch_model.bin\n"
          ]
        }
      ],
      "source": [
        "# Create the data generators for train and validation data, tensorflow version\n",
        "\n",
        "max_length = MAX_LENGTH\n",
        "max_load_at_once = 200 \n",
        "\n",
        "# Load individual dataset, score BLEU and BLEURT scores for dataset\n",
        "train_file = 'Mbart/Data/fixed_train_pairs.csv'\n",
        "\n",
        "print(\"Training everything\")\n",
        "\n",
        "train_data_generator = TranslationDataIterator(\n",
        "  tokenizer=tokenizer,\n",
        "  n_examples=400000,\n",
        "  max_load_at_once=max_load_at_once,\n",
        "  data_filename=train_file,\n",
        "  max_length=max_length,\n",
        ")\n",
        "\n",
        "mbart_trainer = Trainer(\n",
        "  model=model,\n",
        "  args=TRAINER_PARAMS,\n",
        "  train_dataset=train_data_generator,\n",
        "  eval_dataset=None,\n",
        "  compute_metrics=None,\n",
        ")\n",
        "mbart_trainer.train()\n",
        "torch.save(model, 'Mbart/Model/Shuffled/Shuffled-400k')\n",
        "    "
      ]
    },
    {
      "cell_type": "code",
      "execution_count": null,
      "metadata": {
        "id": "Ow3GACXTsFXm"
      },
      "outputs": [],
      "source": [
        "torch.save(model, 'Mbart/Model/Single/epoch-1')"
      ]
    },
    {
      "cell_type": "code",
      "execution_count": null,
      "metadata": {
        "id": "7lKIgz46sFak"
      },
      "outputs": [],
      "source": [
        "# torch.save(model.state_dict(), 'Mbart/Model/Tiny/epoch-2-state')"
      ]
    },
    {
      "cell_type": "code",
      "execution_count": null,
      "metadata": {
        "colab": {
          "base_uri": "https://localhost:8080/"
        },
        "id": "kObM0EREC74k",
        "outputId": "3d900b64-1626-47d2-ebcd-d0a456cecdeb"
      },
      "outputs": [
        {
          "name": "stdout",
          "output_type": "stream",
          "text": [
            "sample_data\n"
          ]
        }
      ],
      "source": [
        "!ls"
      ]
    },
    {
      "cell_type": "code",
      "execution_count": null,
      "metadata": {
        "colab": {
          "base_uri": "https://localhost:8080/",
          "height": 288
        },
        "id": "tLV0Q9GrsFe5",
        "outputId": "cd2c0947-8504-4a6d-99f1-f29b8abe1d77"
      },
      "outputs": [
        {
          "ename": "AttributeError",
          "evalue": "ignored",
          "output_type": "error",
          "traceback": [
            "\u001b[0;31m---------------------------------------------------------------------------\u001b[0m",
            "\u001b[0;31mAttributeError\u001b[0m                            Traceback (most recent call last)",
            "\u001b[0;32m<ipython-input-18-b8591eb44077>\u001b[0m in \u001b[0;36m<module>\u001b[0;34m\u001b[0m\n\u001b[0;32m----> 1\u001b[0;31m \u001b[0mmodel\u001b[0m\u001b[0;34m.\u001b[0m\u001b[0mshape\u001b[0m\u001b[0;34m\u001b[0m\u001b[0;34m\u001b[0m\u001b[0m\n\u001b[0m",
            "\u001b[0;32m/usr/local/lib/python3.7/dist-packages/torch/nn/modules/module.py\u001b[0m in \u001b[0;36m__getattr__\u001b[0;34m(self, name)\u001b[0m\n\u001b[1;32m   1206\u001b[0m                 \u001b[0;32mreturn\u001b[0m \u001b[0mmodules\u001b[0m\u001b[0;34m[\u001b[0m\u001b[0mname\u001b[0m\u001b[0;34m]\u001b[0m\u001b[0;34m\u001b[0m\u001b[0;34m\u001b[0m\u001b[0m\n\u001b[1;32m   1207\u001b[0m         raise AttributeError(\"'{}' object has no attribute '{}'\".format(\n\u001b[0;32m-> 1208\u001b[0;31m             type(self).__name__, name))\n\u001b[0m\u001b[1;32m   1209\u001b[0m \u001b[0;34m\u001b[0m\u001b[0m\n\u001b[1;32m   1210\u001b[0m     \u001b[0;32mdef\u001b[0m \u001b[0m__setattr__\u001b[0m\u001b[0;34m(\u001b[0m\u001b[0mself\u001b[0m\u001b[0;34m,\u001b[0m \u001b[0mname\u001b[0m\u001b[0;34m:\u001b[0m \u001b[0mstr\u001b[0m\u001b[0;34m,\u001b[0m \u001b[0mvalue\u001b[0m\u001b[0;34m:\u001b[0m \u001b[0mUnion\u001b[0m\u001b[0;34m[\u001b[0m\u001b[0mTensor\u001b[0m\u001b[0;34m,\u001b[0m \u001b[0;34m'Module'\u001b[0m\u001b[0;34m]\u001b[0m\u001b[0;34m)\u001b[0m \u001b[0;34m->\u001b[0m \u001b[0;32mNone\u001b[0m\u001b[0;34m:\u001b[0m\u001b[0;34m\u001b[0m\u001b[0;34m\u001b[0m\u001b[0m\n",
            "\u001b[0;31mAttributeError\u001b[0m: 'MBartForConditionalGeneration' object has no attribute 'shape'"
          ]
        }
      ],
      "source": []
    },
    {
      "cell_type": "code",
      "execution_count": null,
      "metadata": {
        "id": "CgOVEly4sFhx"
      },
      "outputs": [],
      "source": []
    },
    {
      "cell_type": "code",
      "execution_count": null,
      "metadata": {
        "id": "kDV61A09sFkp"
      },
      "outputs": [],
      "source": []
    },
    {
      "cell_type": "code",
      "execution_count": null,
      "metadata": {
        "colab": {
          "base_uri": "https://localhost:8080/"
        },
        "id": "m90W8pr-Db_1",
        "outputId": "2ba90c1c-c1af-4061-a1cf-a7c9d8737414"
      },
      "outputs": [
        {
          "data": {
            "text/plain": [
              "{'inputs': {'input_ids': tensor([[250025,    378,     25,   1189,  37415,   5714,      4,  26871,  55899,\n",
              "            17989,  60353, 226934,    264,  48616, 123843,   1988,     30, 124920,\n",
              "             1535,  37928,    213,   4617,   2920,   3300,  13447,     37,   5250,\n",
              "             2100,    213, 156455,   1420,  12590,  23470,   7447,   1493,  95539,\n",
              "                4,   1288,  27839,   1635,   1288,  48616,   4491,  27043,   5525,\n",
              "            11608,  53989,  32870,  72926,      2]], device='cuda:0'),\n",
              "  'attention_mask': tensor([[1, 1, 1, 1, 1, 1, 1, 1, 1, 1, 1, 1, 1, 1, 1, 1, 1, 1, 1, 1, 1, 1, 1, 1,\n",
              "           1, 1, 1, 1, 1, 1, 1, 1, 1, 1, 1, 1, 1, 1, 1, 1, 1, 1, 1, 1, 1, 1, 1, 1,\n",
              "           1, 1]], device='cuda:0'),\n",
              "  'decoder_input_ids': tensor(250005)},\n",
              " 'labels': tensor([[250005,    378,     25,    284,  26897,      8,    576, 110245,      7,\n",
              "               4,    576,  28214,  26850,      7,   6805,   1005, 190037,      7,\n",
              "             121,   1011,    377,  40578,     10,     21,  41767,   3812,      6,\n",
              "            2305,   3296,    113, 104388,      5,   6646,    279,    840,     22,\n",
              "           15127,   8797,    143,   3459,    113,  18316,    279,   4017,  18451,\n",
              "              22,    576,  77142,  55105,      2]], device='cuda:0')}"
            ]
          },
          "execution_count": 13,
          "metadata": {},
          "output_type": "execute_result"
        }
      ],
      "source": [
        "troubleshooting_data_generator[0]"
      ]
    },
    {
      "cell_type": "code",
      "execution_count": null,
      "metadata": {
        "colab": {
          "base_uri": "https://localhost:8080/",
          "height": 311
        },
        "id": "0AbHzeU_Gco2",
        "outputId": "2c6b5e19-a768-4a61-8dce-ea2e9f8f0aa3"
      },
      "outputs": [
        {
          "ename": "TypeError",
          "evalue": "ignored",
          "output_type": "error",
          "traceback": [
            "\u001b[0;31m---------------------------------------------------------------------------\u001b[0m",
            "\u001b[0;31mTypeError\u001b[0m                                 Traceback (most recent call last)",
            "\u001b[0;32m<ipython-input-14-51ea1ee089db>\u001b[0m in \u001b[0;36m<module>\u001b[0;34m\u001b[0m\n\u001b[0;32m----> 1\u001b[0;31m \u001b[0mtokenizer\u001b[0m\u001b[0;34m.\u001b[0m\u001b[0mdecode\u001b[0m\u001b[0;34m(\u001b[0m\u001b[0mtroubleshooting_data_generator\u001b[0m\u001b[0;34m[\u001b[0m\u001b[0;36m0\u001b[0m\u001b[0;34m]\u001b[0m\u001b[0;34m[\u001b[0m\u001b[0;34m'inputs'\u001b[0m\u001b[0;34m]\u001b[0m\u001b[0;34m[\u001b[0m\u001b[0;34m'input_ids'\u001b[0m\u001b[0;34m]\u001b[0m\u001b[0;34m)\u001b[0m\u001b[0;34m\u001b[0m\u001b[0;34m\u001b[0m\u001b[0m\n\u001b[0m",
            "\u001b[0;32m/usr/local/lib/python3.7/dist-packages/transformers/tokenization_utils_base.py\u001b[0m in \u001b[0;36mdecode\u001b[0;34m(self, token_ids, skip_special_tokens, clean_up_tokenization_spaces, **kwargs)\u001b[0m\n\u001b[1;32m   3438\u001b[0m             \u001b[0mskip_special_tokens\u001b[0m\u001b[0;34m=\u001b[0m\u001b[0mskip_special_tokens\u001b[0m\u001b[0;34m,\u001b[0m\u001b[0;34m\u001b[0m\u001b[0;34m\u001b[0m\u001b[0m\n\u001b[1;32m   3439\u001b[0m             \u001b[0mclean_up_tokenization_spaces\u001b[0m\u001b[0;34m=\u001b[0m\u001b[0mclean_up_tokenization_spaces\u001b[0m\u001b[0;34m,\u001b[0m\u001b[0;34m\u001b[0m\u001b[0;34m\u001b[0m\u001b[0m\n\u001b[0;32m-> 3440\u001b[0;31m             \u001b[0;34m**\u001b[0m\u001b[0mkwargs\u001b[0m\u001b[0;34m,\u001b[0m\u001b[0;34m\u001b[0m\u001b[0;34m\u001b[0m\u001b[0m\n\u001b[0m\u001b[1;32m   3441\u001b[0m         )\n\u001b[1;32m   3442\u001b[0m \u001b[0;34m\u001b[0m\u001b[0m\n",
            "\u001b[0;32m/usr/local/lib/python3.7/dist-packages/transformers/tokenization_utils_fast.py\u001b[0m in \u001b[0;36m_decode\u001b[0;34m(self, token_ids, skip_special_tokens, clean_up_tokenization_spaces, **kwargs)\u001b[0m\n\u001b[1;32m    549\u001b[0m         \u001b[0;32mif\u001b[0m \u001b[0misinstance\u001b[0m\u001b[0;34m(\u001b[0m\u001b[0mtoken_ids\u001b[0m\u001b[0;34m,\u001b[0m \u001b[0mint\u001b[0m\u001b[0;34m)\u001b[0m\u001b[0;34m:\u001b[0m\u001b[0;34m\u001b[0m\u001b[0;34m\u001b[0m\u001b[0m\n\u001b[1;32m    550\u001b[0m             \u001b[0mtoken_ids\u001b[0m \u001b[0;34m=\u001b[0m \u001b[0;34m[\u001b[0m\u001b[0mtoken_ids\u001b[0m\u001b[0;34m]\u001b[0m\u001b[0;34m\u001b[0m\u001b[0;34m\u001b[0m\u001b[0m\n\u001b[0;32m--> 551\u001b[0;31m         \u001b[0mtext\u001b[0m \u001b[0;34m=\u001b[0m \u001b[0mself\u001b[0m\u001b[0;34m.\u001b[0m\u001b[0m_tokenizer\u001b[0m\u001b[0;34m.\u001b[0m\u001b[0mdecode\u001b[0m\u001b[0;34m(\u001b[0m\u001b[0mtoken_ids\u001b[0m\u001b[0;34m,\u001b[0m \u001b[0mskip_special_tokens\u001b[0m\u001b[0;34m=\u001b[0m\u001b[0mskip_special_tokens\u001b[0m\u001b[0;34m)\u001b[0m\u001b[0;34m\u001b[0m\u001b[0;34m\u001b[0m\u001b[0m\n\u001b[0m\u001b[1;32m    552\u001b[0m \u001b[0;34m\u001b[0m\u001b[0m\n\u001b[1;32m    553\u001b[0m         \u001b[0;32mif\u001b[0m \u001b[0mclean_up_tokenization_spaces\u001b[0m\u001b[0;34m:\u001b[0m\u001b[0;34m\u001b[0m\u001b[0;34m\u001b[0m\u001b[0m\n",
            "\u001b[0;31mTypeError\u001b[0m: argument 'ids': 'list' object cannot be interpreted as an integer"
          ]
        }
      ],
      "source": [
        "tokenizer.decode(troubleshooting_data_generator[0]['inputs']['input_ids'])"
      ]
    },
    {
      "cell_type": "code",
      "execution_count": null,
      "metadata": {
        "id": "QaBv5yqtiYB7"
      },
      "outputs": [],
      "source": [
        "tokenizer.decode(troubleshooting_data_generator[0]['labels'])"
      ]
    },
    {
      "cell_type": "code",
      "execution_count": null,
      "metadata": {
        "id": "rvc3CLN5lOVz"
      },
      "outputs": [],
      "source": [
        "troubleshooting_data_generator[0]"
      ]
    },
    {
      "cell_type": "code",
      "execution_count": null,
      "metadata": {
        "id": "G9BcqSzvt_L-"
      },
      "outputs": [],
      "source": [
        "original = tokenizer.decode(troubleshooting_data_generator[0]['inputs']['input_ids'][0])\n",
        "original"
      ]
    },
    {
      "cell_type": "code",
      "execution_count": null,
      "metadata": {
        "id": "uUqoifAjvUJo"
      },
      "outputs": [],
      "source": [
        "generated_none = model.generate(input_ids=troubleshooting_data_generator[0]['inputs']['input_ids'], max_length=50)\n",
        "generated_none"
      ]
    },
    {
      "cell_type": "code",
      "execution_count": null,
      "metadata": {
        "id": "9PGOGLzIvb-I"
      },
      "outputs": [],
      "source": [
        "tokenizer.decode(generated_none[0])"
      ]
    },
    {
      "cell_type": "code",
      "execution_count": null,
      "metadata": {
        "id": "G4mC2yZzrW-X"
      },
      "outputs": [],
      "source": [
        "generated_zh = model.generate(input_ids=troubleshooting_data_generator[0]['inputs']['input_ids'], forced_bos_token_id=tokenizer.lang_code_to_id['zh_CN'], max_length=50)\n",
        "generated_zh"
      ]
    },
    {
      "cell_type": "code",
      "execution_count": null,
      "metadata": {
        "id": "vTm6FkR5teMJ"
      },
      "outputs": [],
      "source": [
        "tokenizer.decode(generated_zh[0])"
      ]
    },
    {
      "cell_type": "code",
      "execution_count": null,
      "metadata": {
        "id": "vqPzlxfpur6J"
      },
      "outputs": [],
      "source": [
        "generated_es = model.generate(input_ids=troubleshooting_data_generator[0]['inputs']['input_ids'], forced_bos_token_id=tokenizer.lang_code_to_id['es_XX'], max_length=50)\n",
        "generated_es"
      ]
    },
    {
      "cell_type": "code",
      "execution_count": null,
      "metadata": {
        "id": "o165vW0qu8nQ"
      },
      "outputs": [],
      "source": [
        "tokenizer.decode(generated_es[0])"
      ]
    },
    {
      "cell_type": "markdown",
      "metadata": {
        "id": "C8SLN1AvsZOG"
      },
      "source": []
    },
    {
      "cell_type": "code",
      "execution_count": null,
      "metadata": {
        "id": "AAq8AhX4ihQl"
      },
      "outputs": [],
      "source": [
        "model.config"
      ]
    },
    {
      "cell_type": "markdown",
      "metadata": {
        "id": "IRnvLPDWGc0t"
      },
      "source": []
    },
    {
      "cell_type": "code",
      "execution_count": null,
      "metadata": {
        "id": "y9bEWjiXDcFL"
      },
      "outputs": [],
      "source": [
        "src_tkn"
      ]
    },
    {
      "cell_type": "code",
      "execution_count": null,
      "metadata": {
        "id": "oclES5prDbQe"
      },
      "outputs": [],
      "source": [
        "    mbart_trainer.train()"
      ]
    },
    {
      "cell_type": "code",
      "execution_count": null,
      "metadata": {
        "id": "hU8dCm9hgINe"
      },
      "outputs": [],
      "source": [
        "print(torch.cuda.memory_summary())"
      ]
    },
    {
      "cell_type": "code",
      "execution_count": null,
      "metadata": {
        "id": "QWqjuHDo-wDs"
      },
      "outputs": [],
      "source": [
        "model.train()"
      ]
    },
    {
      "cell_type": "code",
      "execution_count": null,
      "metadata": {
        "id": "YXsPYmRc-7Ag"
      },
      "outputs": [],
      "source": [
        "print(torch.cuda.memory_summary())"
      ]
    },
    {
      "cell_type": "code",
      "execution_count": null,
      "metadata": {
        "id": "PlgP0KLM-8Ri"
      },
      "outputs": [],
      "source": [
        " torch.cuda.synchronize()\n",
        " torch.cuda.empty_cache()"
      ]
    },
    {
      "cell_type": "code",
      "execution_count": null,
      "metadata": {
        "id": "GeUTYvko_iKa"
      },
      "outputs": [],
      "source": []
    }
  ],
  "metadata": {
    "accelerator": "GPU",
    "colab": {
      "machine_shape": "hm",
      "provenance": [],
      "include_colab_link": true
    },
    "gpuClass": "standard",
    "kernelspec": {
      "display_name": "Python 3",
      "name": "python3"
    },
    "language_info": {
      "name": "python"
    },
    "widgets": {
      "application/vnd.jupyter.widget-state+json": {
        "02f3168780bf4bf99a4e95e60e7847f6": {
          "model_module": "@jupyter-widgets/base",
          "model_module_version": "1.2.0",
          "model_name": "LayoutModel",
          "state": {
            "_model_module": "@jupyter-widgets/base",
            "_model_module_version": "1.2.0",
            "_model_name": "LayoutModel",
            "_view_count": null,
            "_view_module": "@jupyter-widgets/base",
            "_view_module_version": "1.2.0",
            "_view_name": "LayoutView",
            "align_content": null,
            "align_items": null,
            "align_self": null,
            "border": null,
            "bottom": null,
            "display": null,
            "flex": null,
            "flex_flow": null,
            "grid_area": null,
            "grid_auto_columns": null,
            "grid_auto_flow": null,
            "grid_auto_rows": null,
            "grid_column": null,
            "grid_gap": null,
            "grid_row": null,
            "grid_template_areas": null,
            "grid_template_columns": null,
            "grid_template_rows": null,
            "height": null,
            "justify_content": null,
            "justify_items": null,
            "left": null,
            "margin": null,
            "max_height": null,
            "max_width": null,
            "min_height": null,
            "min_width": null,
            "object_fit": null,
            "object_position": null,
            "order": null,
            "overflow": null,
            "overflow_x": null,
            "overflow_y": null,
            "padding": null,
            "right": null,
            "top": null,
            "visibility": null,
            "width": null
          }
        },
        "055e83fb817a4daeb6b8a9df259bb373": {
          "model_module": "@jupyter-widgets/base",
          "model_module_version": "1.2.0",
          "model_name": "LayoutModel",
          "state": {
            "_model_module": "@jupyter-widgets/base",
            "_model_module_version": "1.2.0",
            "_model_name": "LayoutModel",
            "_view_count": null,
            "_view_module": "@jupyter-widgets/base",
            "_view_module_version": "1.2.0",
            "_view_name": "LayoutView",
            "align_content": null,
            "align_items": null,
            "align_self": null,
            "border": null,
            "bottom": null,
            "display": null,
            "flex": null,
            "flex_flow": null,
            "grid_area": null,
            "grid_auto_columns": null,
            "grid_auto_flow": null,
            "grid_auto_rows": null,
            "grid_column": null,
            "grid_gap": null,
            "grid_row": null,
            "grid_template_areas": null,
            "grid_template_columns": null,
            "grid_template_rows": null,
            "height": null,
            "justify_content": null,
            "justify_items": null,
            "left": null,
            "margin": null,
            "max_height": null,
            "max_width": null,
            "min_height": null,
            "min_width": null,
            "object_fit": null,
            "object_position": null,
            "order": null,
            "overflow": null,
            "overflow_x": null,
            "overflow_y": null,
            "padding": null,
            "right": null,
            "top": null,
            "visibility": null,
            "width": null
          }
        },
        "059665a1bbb1411b8cb1e170dcfd6d38": {
          "model_module": "@jupyter-widgets/controls",
          "model_module_version": "1.5.0",
          "model_name": "DescriptionStyleModel",
          "state": {
            "_model_module": "@jupyter-widgets/controls",
            "_model_module_version": "1.5.0",
            "_model_name": "DescriptionStyleModel",
            "_view_count": null,
            "_view_module": "@jupyter-widgets/base",
            "_view_module_version": "1.2.0",
            "_view_name": "StyleView",
            "description_width": ""
          }
        },
        "09e09df05cc848b9a35c5f75d764176f": {
          "model_module": "@jupyter-widgets/base",
          "model_module_version": "1.2.0",
          "model_name": "LayoutModel",
          "state": {
            "_model_module": "@jupyter-widgets/base",
            "_model_module_version": "1.2.0",
            "_model_name": "LayoutModel",
            "_view_count": null,
            "_view_module": "@jupyter-widgets/base",
            "_view_module_version": "1.2.0",
            "_view_name": "LayoutView",
            "align_content": null,
            "align_items": null,
            "align_self": null,
            "border": null,
            "bottom": null,
            "display": null,
            "flex": null,
            "flex_flow": null,
            "grid_area": null,
            "grid_auto_columns": null,
            "grid_auto_flow": null,
            "grid_auto_rows": null,
            "grid_column": null,
            "grid_gap": null,
            "grid_row": null,
            "grid_template_areas": null,
            "grid_template_columns": null,
            "grid_template_rows": null,
            "height": null,
            "justify_content": null,
            "justify_items": null,
            "left": null,
            "margin": null,
            "max_height": null,
            "max_width": null,
            "min_height": null,
            "min_width": null,
            "object_fit": null,
            "object_position": null,
            "order": null,
            "overflow": null,
            "overflow_x": null,
            "overflow_y": null,
            "padding": null,
            "right": null,
            "top": null,
            "visibility": null,
            "width": null
          }
        },
        "0b66760deb3c4b99afebe3df524d8a71": {
          "model_module": "@jupyter-widgets/controls",
          "model_module_version": "1.5.0",
          "model_name": "HTMLModel",
          "state": {
            "_dom_classes": [],
            "_model_module": "@jupyter-widgets/controls",
            "_model_module_version": "1.5.0",
            "_model_name": "HTMLModel",
            "_view_count": null,
            "_view_module": "@jupyter-widgets/controls",
            "_view_module_version": "1.5.0",
            "_view_name": "HTMLView",
            "description": "",
            "description_tooltip": null,
            "layout": "IPY_MODEL_c45bc410d6984c59bd9bce01a9f7f22e",
            "placeholder": "​",
            "style": "IPY_MODEL_0c8363b1fa0040bb879f1fc28c736ae8",
            "value": "Downloading: 100%"
          }
        },
        "0c8363b1fa0040bb879f1fc28c736ae8": {
          "model_module": "@jupyter-widgets/controls",
          "model_module_version": "1.5.0",
          "model_name": "DescriptionStyleModel",
          "state": {
            "_model_module": "@jupyter-widgets/controls",
            "_model_module_version": "1.5.0",
            "_model_name": "DescriptionStyleModel",
            "_view_count": null,
            "_view_module": "@jupyter-widgets/base",
            "_view_module_version": "1.2.0",
            "_view_name": "StyleView",
            "description_width": ""
          }
        },
        "0d7174983aee4b518adea491bdcd0c91": {
          "model_module": "@jupyter-widgets/base",
          "model_module_version": "1.2.0",
          "model_name": "LayoutModel",
          "state": {
            "_model_module": "@jupyter-widgets/base",
            "_model_module_version": "1.2.0",
            "_model_name": "LayoutModel",
            "_view_count": null,
            "_view_module": "@jupyter-widgets/base",
            "_view_module_version": "1.2.0",
            "_view_name": "LayoutView",
            "align_content": null,
            "align_items": null,
            "align_self": null,
            "border": null,
            "bottom": null,
            "display": null,
            "flex": null,
            "flex_flow": null,
            "grid_area": null,
            "grid_auto_columns": null,
            "grid_auto_flow": null,
            "grid_auto_rows": null,
            "grid_column": null,
            "grid_gap": null,
            "grid_row": null,
            "grid_template_areas": null,
            "grid_template_columns": null,
            "grid_template_rows": null,
            "height": null,
            "justify_content": null,
            "justify_items": null,
            "left": null,
            "margin": null,
            "max_height": null,
            "max_width": null,
            "min_height": null,
            "min_width": null,
            "object_fit": null,
            "object_position": null,
            "order": null,
            "overflow": null,
            "overflow_x": null,
            "overflow_y": null,
            "padding": null,
            "right": null,
            "top": null,
            "visibility": null,
            "width": null
          }
        },
        "2c0aa0969d494117b4bb2e1661f89ed6": {
          "model_module": "@jupyter-widgets/controls",
          "model_module_version": "1.5.0",
          "model_name": "FloatProgressModel",
          "state": {
            "_dom_classes": [],
            "_model_module": "@jupyter-widgets/controls",
            "_model_module_version": "1.5.0",
            "_model_name": "FloatProgressModel",
            "_view_count": null,
            "_view_module": "@jupyter-widgets/controls",
            "_view_module_version": "1.5.0",
            "_view_name": "ProgressView",
            "bar_style": "success",
            "description": "",
            "description_tooltip": null,
            "layout": "IPY_MODEL_09e09df05cc848b9a35c5f75d764176f",
            "max": 2444714899,
            "min": 0,
            "orientation": "horizontal",
            "style": "IPY_MODEL_835f3a6dbad84a689f243e84a1abca1f",
            "value": 2444714899
          }
        },
        "35f73ead62dd47cda4d4f560d2532f4e": {
          "model_module": "@jupyter-widgets/controls",
          "model_module_version": "1.5.0",
          "model_name": "DescriptionStyleModel",
          "state": {
            "_model_module": "@jupyter-widgets/controls",
            "_model_module_version": "1.5.0",
            "_model_name": "DescriptionStyleModel",
            "_view_count": null,
            "_view_module": "@jupyter-widgets/base",
            "_view_module_version": "1.2.0",
            "_view_name": "StyleView",
            "description_width": ""
          }
        },
        "3d529eba5e8c47bc8c14b52a801c8358": {
          "model_module": "@jupyter-widgets/base",
          "model_module_version": "1.2.0",
          "model_name": "LayoutModel",
          "state": {
            "_model_module": "@jupyter-widgets/base",
            "_model_module_version": "1.2.0",
            "_model_name": "LayoutModel",
            "_view_count": null,
            "_view_module": "@jupyter-widgets/base",
            "_view_module_version": "1.2.0",
            "_view_name": "LayoutView",
            "align_content": null,
            "align_items": null,
            "align_self": null,
            "border": null,
            "bottom": null,
            "display": null,
            "flex": null,
            "flex_flow": null,
            "grid_area": null,
            "grid_auto_columns": null,
            "grid_auto_flow": null,
            "grid_auto_rows": null,
            "grid_column": null,
            "grid_gap": null,
            "grid_row": null,
            "grid_template_areas": null,
            "grid_template_columns": null,
            "grid_template_rows": null,
            "height": null,
            "justify_content": null,
            "justify_items": null,
            "left": null,
            "margin": null,
            "max_height": null,
            "max_width": null,
            "min_height": null,
            "min_width": null,
            "object_fit": null,
            "object_position": null,
            "order": null,
            "overflow": null,
            "overflow_x": null,
            "overflow_y": null,
            "padding": null,
            "right": null,
            "top": null,
            "visibility": null,
            "width": null
          }
        },
        "4208af9cb9a942ed86beffac2ce446e0": {
          "model_module": "@jupyter-widgets/controls",
          "model_module_version": "1.5.0",
          "model_name": "DescriptionStyleModel",
          "state": {
            "_model_module": "@jupyter-widgets/controls",
            "_model_module_version": "1.5.0",
            "_model_name": "DescriptionStyleModel",
            "_view_count": null,
            "_view_module": "@jupyter-widgets/base",
            "_view_module_version": "1.2.0",
            "_view_name": "StyleView",
            "description_width": ""
          }
        },
        "4992c30dc7c349208faf647912b4cfd2": {
          "model_module": "@jupyter-widgets/controls",
          "model_module_version": "1.5.0",
          "model_name": "ProgressStyleModel",
          "state": {
            "_model_module": "@jupyter-widgets/controls",
            "_model_module_version": "1.5.0",
            "_model_name": "ProgressStyleModel",
            "_view_count": null,
            "_view_module": "@jupyter-widgets/base",
            "_view_module_version": "1.2.0",
            "_view_name": "StyleView",
            "bar_color": null,
            "description_width": ""
          }
        },
        "5136d04e03dc4e359699e35c9b60d9fb": {
          "model_module": "@jupyter-widgets/base",
          "model_module_version": "1.2.0",
          "model_name": "LayoutModel",
          "state": {
            "_model_module": "@jupyter-widgets/base",
            "_model_module_version": "1.2.0",
            "_model_name": "LayoutModel",
            "_view_count": null,
            "_view_module": "@jupyter-widgets/base",
            "_view_module_version": "1.2.0",
            "_view_name": "LayoutView",
            "align_content": null,
            "align_items": null,
            "align_self": null,
            "border": null,
            "bottom": null,
            "display": null,
            "flex": null,
            "flex_flow": null,
            "grid_area": null,
            "grid_auto_columns": null,
            "grid_auto_flow": null,
            "grid_auto_rows": null,
            "grid_column": null,
            "grid_gap": null,
            "grid_row": null,
            "grid_template_areas": null,
            "grid_template_columns": null,
            "grid_template_rows": null,
            "height": null,
            "justify_content": null,
            "justify_items": null,
            "left": null,
            "margin": null,
            "max_height": null,
            "max_width": null,
            "min_height": null,
            "min_width": null,
            "object_fit": null,
            "object_position": null,
            "order": null,
            "overflow": null,
            "overflow_x": null,
            "overflow_y": null,
            "padding": null,
            "right": null,
            "top": null,
            "visibility": null,
            "width": null
          }
        },
        "613ec59edde6401ca7156c25005ce965": {
          "model_module": "@jupyter-widgets/controls",
          "model_module_version": "1.5.0",
          "model_name": "HTMLModel",
          "state": {
            "_dom_classes": [],
            "_model_module": "@jupyter-widgets/controls",
            "_model_module_version": "1.5.0",
            "_model_name": "HTMLModel",
            "_view_count": null,
            "_view_module": "@jupyter-widgets/controls",
            "_view_module_version": "1.5.0",
            "_view_name": "HTMLView",
            "description": "",
            "description_tooltip": null,
            "layout": "IPY_MODEL_96e3ba4c63b24bcb97a76e46d5973ea3",
            "placeholder": "​",
            "style": "IPY_MODEL_728008cddaf149998063c870390c87a1",
            "value": "Downloading: 100%"
          }
        },
        "65b2b6218b33435ea3d99b94b5ddb1ca": {
          "model_module": "@jupyter-widgets/controls",
          "model_module_version": "1.5.0",
          "model_name": "HTMLModel",
          "state": {
            "_dom_classes": [],
            "_model_module": "@jupyter-widgets/controls",
            "_model_module_version": "1.5.0",
            "_model_name": "HTMLModel",
            "_view_count": null,
            "_view_module": "@jupyter-widgets/controls",
            "_view_module_version": "1.5.0",
            "_view_name": "HTMLView",
            "description": "",
            "description_tooltip": null,
            "layout": "IPY_MODEL_ccb229df120a48e1968f2a9ae51b1955",
            "placeholder": "​",
            "style": "IPY_MODEL_4208af9cb9a942ed86beffac2ce446e0",
            "value": "Downloading: 100%"
          }
        },
        "728008cddaf149998063c870390c87a1": {
          "model_module": "@jupyter-widgets/controls",
          "model_module_version": "1.5.0",
          "model_name": "DescriptionStyleModel",
          "state": {
            "_model_module": "@jupyter-widgets/controls",
            "_model_module_version": "1.5.0",
            "_model_name": "DescriptionStyleModel",
            "_view_count": null,
            "_view_module": "@jupyter-widgets/base",
            "_view_module_version": "1.2.0",
            "_view_name": "StyleView",
            "description_width": ""
          }
        },
        "7c9d0ff6322b4a43bb21899094b2c72e": {
          "model_module": "@jupyter-widgets/controls",
          "model_module_version": "1.5.0",
          "model_name": "DescriptionStyleModel",
          "state": {
            "_model_module": "@jupyter-widgets/controls",
            "_model_module_version": "1.5.0",
            "_model_name": "DescriptionStyleModel",
            "_view_count": null,
            "_view_module": "@jupyter-widgets/base",
            "_view_module_version": "1.2.0",
            "_view_name": "StyleView",
            "description_width": ""
          }
        },
        "7eddaeef62814fbbb115812dc798697f": {
          "model_module": "@jupyter-widgets/controls",
          "model_module_version": "1.5.0",
          "model_name": "FloatProgressModel",
          "state": {
            "_dom_classes": [],
            "_model_module": "@jupyter-widgets/controls",
            "_model_module_version": "1.5.0",
            "_model_name": "FloatProgressModel",
            "_view_count": null,
            "_view_module": "@jupyter-widgets/controls",
            "_view_module_version": "1.5.0",
            "_view_name": "ProgressView",
            "bar_style": "success",
            "description": "",
            "description_tooltip": null,
            "layout": "IPY_MODEL_02f3168780bf4bf99a4e95e60e7847f6",
            "max": 529,
            "min": 0,
            "orientation": "horizontal",
            "style": "IPY_MODEL_ebf36f09c7d144d78fc0e2b5af809416",
            "value": 529
          }
        },
        "835f3a6dbad84a689f243e84a1abca1f": {
          "model_module": "@jupyter-widgets/controls",
          "model_module_version": "1.5.0",
          "model_name": "ProgressStyleModel",
          "state": {
            "_model_module": "@jupyter-widgets/controls",
            "_model_module_version": "1.5.0",
            "_model_name": "ProgressStyleModel",
            "_view_count": null,
            "_view_module": "@jupyter-widgets/base",
            "_view_module_version": "1.2.0",
            "_view_name": "StyleView",
            "bar_color": null,
            "description_width": ""
          }
        },
        "8b174e9f94214f489bf65e7a47b6bd96": {
          "model_module": "@jupyter-widgets/controls",
          "model_module_version": "1.5.0",
          "model_name": "HBoxModel",
          "state": {
            "_dom_classes": [],
            "_model_module": "@jupyter-widgets/controls",
            "_model_module_version": "1.5.0",
            "_model_name": "HBoxModel",
            "_view_count": null,
            "_view_module": "@jupyter-widgets/controls",
            "_view_module_version": "1.5.0",
            "_view_name": "HBoxView",
            "box_style": "",
            "children": [
              "IPY_MODEL_ef19ab46223c4b28991249c93d5923ce",
              "IPY_MODEL_dc311eae5ec148859dddb14779238a3f",
              "IPY_MODEL_ae7d44adfc1d4b169d9c78935a84d816"
            ],
            "layout": "IPY_MODEL_9a5cbfcdd9c2446f8471e0b40c3e1fbf"
          }
        },
        "96e3ba4c63b24bcb97a76e46d5973ea3": {
          "model_module": "@jupyter-widgets/base",
          "model_module_version": "1.2.0",
          "model_name": "LayoutModel",
          "state": {
            "_model_module": "@jupyter-widgets/base",
            "_model_module_version": "1.2.0",
            "_model_name": "LayoutModel",
            "_view_count": null,
            "_view_module": "@jupyter-widgets/base",
            "_view_module_version": "1.2.0",
            "_view_name": "LayoutView",
            "align_content": null,
            "align_items": null,
            "align_self": null,
            "border": null,
            "bottom": null,
            "display": null,
            "flex": null,
            "flex_flow": null,
            "grid_area": null,
            "grid_auto_columns": null,
            "grid_auto_flow": null,
            "grid_auto_rows": null,
            "grid_column": null,
            "grid_gap": null,
            "grid_row": null,
            "grid_template_areas": null,
            "grid_template_columns": null,
            "grid_template_rows": null,
            "height": null,
            "justify_content": null,
            "justify_items": null,
            "left": null,
            "margin": null,
            "max_height": null,
            "max_width": null,
            "min_height": null,
            "min_width": null,
            "object_fit": null,
            "object_position": null,
            "order": null,
            "overflow": null,
            "overflow_x": null,
            "overflow_y": null,
            "padding": null,
            "right": null,
            "top": null,
            "visibility": null,
            "width": null
          }
        },
        "9a5cbfcdd9c2446f8471e0b40c3e1fbf": {
          "model_module": "@jupyter-widgets/base",
          "model_module_version": "1.2.0",
          "model_name": "LayoutModel",
          "state": {
            "_model_module": "@jupyter-widgets/base",
            "_model_module_version": "1.2.0",
            "_model_name": "LayoutModel",
            "_view_count": null,
            "_view_module": "@jupyter-widgets/base",
            "_view_module_version": "1.2.0",
            "_view_name": "LayoutView",
            "align_content": null,
            "align_items": null,
            "align_self": null,
            "border": null,
            "bottom": null,
            "display": null,
            "flex": null,
            "flex_flow": null,
            "grid_area": null,
            "grid_auto_columns": null,
            "grid_auto_flow": null,
            "grid_auto_rows": null,
            "grid_column": null,
            "grid_gap": null,
            "grid_row": null,
            "grid_template_areas": null,
            "grid_template_columns": null,
            "grid_template_rows": null,
            "height": null,
            "justify_content": null,
            "justify_items": null,
            "left": null,
            "margin": null,
            "max_height": null,
            "max_width": null,
            "min_height": null,
            "min_width": null,
            "object_fit": null,
            "object_position": null,
            "order": null,
            "overflow": null,
            "overflow_x": null,
            "overflow_y": null,
            "padding": null,
            "right": null,
            "top": null,
            "visibility": null,
            "width": null
          }
        },
        "a2dfe470480a442c9f80bb59c8f339f3": {
          "model_module": "@jupyter-widgets/base",
          "model_module_version": "1.2.0",
          "model_name": "LayoutModel",
          "state": {
            "_model_module": "@jupyter-widgets/base",
            "_model_module_version": "1.2.0",
            "_model_name": "LayoutModel",
            "_view_count": null,
            "_view_module": "@jupyter-widgets/base",
            "_view_module_version": "1.2.0",
            "_view_name": "LayoutView",
            "align_content": null,
            "align_items": null,
            "align_self": null,
            "border": null,
            "bottom": null,
            "display": null,
            "flex": null,
            "flex_flow": null,
            "grid_area": null,
            "grid_auto_columns": null,
            "grid_auto_flow": null,
            "grid_auto_rows": null,
            "grid_column": null,
            "grid_gap": null,
            "grid_row": null,
            "grid_template_areas": null,
            "grid_template_columns": null,
            "grid_template_rows": null,
            "height": null,
            "justify_content": null,
            "justify_items": null,
            "left": null,
            "margin": null,
            "max_height": null,
            "max_width": null,
            "min_height": null,
            "min_width": null,
            "object_fit": null,
            "object_position": null,
            "order": null,
            "overflow": null,
            "overflow_x": null,
            "overflow_y": null,
            "padding": null,
            "right": null,
            "top": null,
            "visibility": null,
            "width": null
          }
        },
        "a98768657633488a9135fdb95c23db8e": {
          "model_module": "@jupyter-widgets/base",
          "model_module_version": "1.2.0",
          "model_name": "LayoutModel",
          "state": {
            "_model_module": "@jupyter-widgets/base",
            "_model_module_version": "1.2.0",
            "_model_name": "LayoutModel",
            "_view_count": null,
            "_view_module": "@jupyter-widgets/base",
            "_view_module_version": "1.2.0",
            "_view_name": "LayoutView",
            "align_content": null,
            "align_items": null,
            "align_self": null,
            "border": null,
            "bottom": null,
            "display": null,
            "flex": null,
            "flex_flow": null,
            "grid_area": null,
            "grid_auto_columns": null,
            "grid_auto_flow": null,
            "grid_auto_rows": null,
            "grid_column": null,
            "grid_gap": null,
            "grid_row": null,
            "grid_template_areas": null,
            "grid_template_columns": null,
            "grid_template_rows": null,
            "height": null,
            "justify_content": null,
            "justify_items": null,
            "left": null,
            "margin": null,
            "max_height": null,
            "max_width": null,
            "min_height": null,
            "min_width": null,
            "object_fit": null,
            "object_position": null,
            "order": null,
            "overflow": null,
            "overflow_x": null,
            "overflow_y": null,
            "padding": null,
            "right": null,
            "top": null,
            "visibility": null,
            "width": null
          }
        },
        "ac8a18c07baf43f3b26581e6fc02c381": {
          "model_module": "@jupyter-widgets/controls",
          "model_module_version": "1.5.0",
          "model_name": "HBoxModel",
          "state": {
            "_dom_classes": [],
            "_model_module": "@jupyter-widgets/controls",
            "_model_module_version": "1.5.0",
            "_model_name": "HBoxModel",
            "_view_count": null,
            "_view_module": "@jupyter-widgets/controls",
            "_view_module_version": "1.5.0",
            "_view_name": "HBoxView",
            "box_style": "",
            "children": [
              "IPY_MODEL_65b2b6218b33435ea3d99b94b5ddb1ca",
              "IPY_MODEL_ef390fa9533a41808166ec9da2448f6b",
              "IPY_MODEL_f8e6799aed824050be8dfbe5e92d8dfe"
            ],
            "layout": "IPY_MODEL_5136d04e03dc4e359699e35c9b60d9fb"
          }
        },
        "ae7d44adfc1d4b169d9c78935a84d816": {
          "model_module": "@jupyter-widgets/controls",
          "model_module_version": "1.5.0",
          "model_name": "HTMLModel",
          "state": {
            "_dom_classes": [],
            "_model_module": "@jupyter-widgets/controls",
            "_model_module_version": "1.5.0",
            "_model_name": "HTMLModel",
            "_view_count": null,
            "_view_module": "@jupyter-widgets/controls",
            "_view_module_version": "1.5.0",
            "_view_name": "HTMLView",
            "description": "",
            "description_tooltip": null,
            "layout": "IPY_MODEL_a98768657633488a9135fdb95c23db8e",
            "placeholder": "​",
            "style": "IPY_MODEL_059665a1bbb1411b8cb1e170dcfd6d38",
            "value": " 649/649 [00:00&lt;00:00, 25.3kB/s]"
          }
        },
        "bcddefb725b84648a9b66736a9dd86fa": {
          "model_module": "@jupyter-widgets/controls",
          "model_module_version": "1.5.0",
          "model_name": "ProgressStyleModel",
          "state": {
            "_model_module": "@jupyter-widgets/controls",
            "_model_module_version": "1.5.0",
            "_model_name": "ProgressStyleModel",
            "_view_count": null,
            "_view_module": "@jupyter-widgets/base",
            "_view_module_version": "1.2.0",
            "_view_name": "StyleView",
            "bar_color": null,
            "description_width": ""
          }
        },
        "be7bf1cf96504343b8bd04a716af6feb": {
          "model_module": "@jupyter-widgets/base",
          "model_module_version": "1.2.0",
          "model_name": "LayoutModel",
          "state": {
            "_model_module": "@jupyter-widgets/base",
            "_model_module_version": "1.2.0",
            "_model_name": "LayoutModel",
            "_view_count": null,
            "_view_module": "@jupyter-widgets/base",
            "_view_module_version": "1.2.0",
            "_view_name": "LayoutView",
            "align_content": null,
            "align_items": null,
            "align_self": null,
            "border": null,
            "bottom": null,
            "display": null,
            "flex": null,
            "flex_flow": null,
            "grid_area": null,
            "grid_auto_columns": null,
            "grid_auto_flow": null,
            "grid_auto_rows": null,
            "grid_column": null,
            "grid_gap": null,
            "grid_row": null,
            "grid_template_areas": null,
            "grid_template_columns": null,
            "grid_template_rows": null,
            "height": null,
            "justify_content": null,
            "justify_items": null,
            "left": null,
            "margin": null,
            "max_height": null,
            "max_width": null,
            "min_height": null,
            "min_width": null,
            "object_fit": null,
            "object_position": null,
            "order": null,
            "overflow": null,
            "overflow_x": null,
            "overflow_y": null,
            "padding": null,
            "right": null,
            "top": null,
            "visibility": null,
            "width": null
          }
        },
        "bf9bba94ded347079a39cc874f32832b": {
          "model_module": "@jupyter-widgets/controls",
          "model_module_version": "1.5.0",
          "model_name": "HBoxModel",
          "state": {
            "_dom_classes": [],
            "_model_module": "@jupyter-widgets/controls",
            "_model_module_version": "1.5.0",
            "_model_name": "HBoxModel",
            "_view_count": null,
            "_view_module": "@jupyter-widgets/controls",
            "_view_module_version": "1.5.0",
            "_view_name": "HBoxView",
            "box_style": "",
            "children": [
              "IPY_MODEL_0b66760deb3c4b99afebe3df524d8a71",
              "IPY_MODEL_2c0aa0969d494117b4bb2e1661f89ed6",
              "IPY_MODEL_d20e7b1c61614585bf4d8e2ad720f167"
            ],
            "layout": "IPY_MODEL_055e83fb817a4daeb6b8a9df259bb373"
          }
        },
        "c0cbd4ed10894fb6a78bf2b115e8ca91": {
          "model_module": "@jupyter-widgets/controls",
          "model_module_version": "1.5.0",
          "model_name": "HBoxModel",
          "state": {
            "_dom_classes": [],
            "_model_module": "@jupyter-widgets/controls",
            "_model_module_version": "1.5.0",
            "_model_name": "HBoxModel",
            "_view_count": null,
            "_view_module": "@jupyter-widgets/controls",
            "_view_module_version": "1.5.0",
            "_view_name": "HBoxView",
            "box_style": "",
            "children": [
              "IPY_MODEL_613ec59edde6401ca7156c25005ce965",
              "IPY_MODEL_7eddaeef62814fbbb115812dc798697f",
              "IPY_MODEL_ecd19fb0939b47fe83d6ecd9e91c81a9"
            ],
            "layout": "IPY_MODEL_3d529eba5e8c47bc8c14b52a801c8358"
          }
        },
        "c45bc410d6984c59bd9bce01a9f7f22e": {
          "model_module": "@jupyter-widgets/base",
          "model_module_version": "1.2.0",
          "model_name": "LayoutModel",
          "state": {
            "_model_module": "@jupyter-widgets/base",
            "_model_module_version": "1.2.0",
            "_model_name": "LayoutModel",
            "_view_count": null,
            "_view_module": "@jupyter-widgets/base",
            "_view_module_version": "1.2.0",
            "_view_name": "LayoutView",
            "align_content": null,
            "align_items": null,
            "align_self": null,
            "border": null,
            "bottom": null,
            "display": null,
            "flex": null,
            "flex_flow": null,
            "grid_area": null,
            "grid_auto_columns": null,
            "grid_auto_flow": null,
            "grid_auto_rows": null,
            "grid_column": null,
            "grid_gap": null,
            "grid_row": null,
            "grid_template_areas": null,
            "grid_template_columns": null,
            "grid_template_rows": null,
            "height": null,
            "justify_content": null,
            "justify_items": null,
            "left": null,
            "margin": null,
            "max_height": null,
            "max_width": null,
            "min_height": null,
            "min_width": null,
            "object_fit": null,
            "object_position": null,
            "order": null,
            "overflow": null,
            "overflow_x": null,
            "overflow_y": null,
            "padding": null,
            "right": null,
            "top": null,
            "visibility": null,
            "width": null
          }
        },
        "ccb229df120a48e1968f2a9ae51b1955": {
          "model_module": "@jupyter-widgets/base",
          "model_module_version": "1.2.0",
          "model_name": "LayoutModel",
          "state": {
            "_model_module": "@jupyter-widgets/base",
            "_model_module_version": "1.2.0",
            "_model_name": "LayoutModel",
            "_view_count": null,
            "_view_module": "@jupyter-widgets/base",
            "_view_module_version": "1.2.0",
            "_view_name": "LayoutView",
            "align_content": null,
            "align_items": null,
            "align_self": null,
            "border": null,
            "bottom": null,
            "display": null,
            "flex": null,
            "flex_flow": null,
            "grid_area": null,
            "grid_auto_columns": null,
            "grid_auto_flow": null,
            "grid_auto_rows": null,
            "grid_column": null,
            "grid_gap": null,
            "grid_row": null,
            "grid_template_areas": null,
            "grid_template_columns": null,
            "grid_template_rows": null,
            "height": null,
            "justify_content": null,
            "justify_items": null,
            "left": null,
            "margin": null,
            "max_height": null,
            "max_width": null,
            "min_height": null,
            "min_width": null,
            "object_fit": null,
            "object_position": null,
            "order": null,
            "overflow": null,
            "overflow_x": null,
            "overflow_y": null,
            "padding": null,
            "right": null,
            "top": null,
            "visibility": null,
            "width": null
          }
        },
        "ce6c84a654e54795a72d5181616d3db3": {
          "model_module": "@jupyter-widgets/base",
          "model_module_version": "1.2.0",
          "model_name": "LayoutModel",
          "state": {
            "_model_module": "@jupyter-widgets/base",
            "_model_module_version": "1.2.0",
            "_model_name": "LayoutModel",
            "_view_count": null,
            "_view_module": "@jupyter-widgets/base",
            "_view_module_version": "1.2.0",
            "_view_name": "LayoutView",
            "align_content": null,
            "align_items": null,
            "align_self": null,
            "border": null,
            "bottom": null,
            "display": null,
            "flex": null,
            "flex_flow": null,
            "grid_area": null,
            "grid_auto_columns": null,
            "grid_auto_flow": null,
            "grid_auto_rows": null,
            "grid_column": null,
            "grid_gap": null,
            "grid_row": null,
            "grid_template_areas": null,
            "grid_template_columns": null,
            "grid_template_rows": null,
            "height": null,
            "justify_content": null,
            "justify_items": null,
            "left": null,
            "margin": null,
            "max_height": null,
            "max_width": null,
            "min_height": null,
            "min_width": null,
            "object_fit": null,
            "object_position": null,
            "order": null,
            "overflow": null,
            "overflow_x": null,
            "overflow_y": null,
            "padding": null,
            "right": null,
            "top": null,
            "visibility": null,
            "width": null
          }
        },
        "d20e7b1c61614585bf4d8e2ad720f167": {
          "model_module": "@jupyter-widgets/controls",
          "model_module_version": "1.5.0",
          "model_name": "HTMLModel",
          "state": {
            "_dom_classes": [],
            "_model_module": "@jupyter-widgets/controls",
            "_model_module_version": "1.5.0",
            "_model_name": "HTMLModel",
            "_view_count": null,
            "_view_module": "@jupyter-widgets/controls",
            "_view_module_version": "1.5.0",
            "_view_name": "HTMLView",
            "description": "",
            "description_tooltip": null,
            "layout": "IPY_MODEL_0d7174983aee4b518adea491bdcd0c91",
            "placeholder": "​",
            "style": "IPY_MODEL_f5af84e2797e401191eb011d9707e96e",
            "value": " 2.44G/2.44G [00:40&lt;00:00, 64.5MB/s]"
          }
        },
        "dc311eae5ec148859dddb14779238a3f": {
          "model_module": "@jupyter-widgets/controls",
          "model_module_version": "1.5.0",
          "model_name": "FloatProgressModel",
          "state": {
            "_dom_classes": [],
            "_model_module": "@jupyter-widgets/controls",
            "_model_module_version": "1.5.0",
            "_model_name": "FloatProgressModel",
            "_view_count": null,
            "_view_module": "@jupyter-widgets/controls",
            "_view_module_version": "1.5.0",
            "_view_name": "ProgressView",
            "bar_style": "success",
            "description": "",
            "description_tooltip": null,
            "layout": "IPY_MODEL_e01e39f54f5f4f10a53d97cff1346e73",
            "max": 649,
            "min": 0,
            "orientation": "horizontal",
            "style": "IPY_MODEL_bcddefb725b84648a9b66736a9dd86fa",
            "value": 649
          }
        },
        "e01e39f54f5f4f10a53d97cff1346e73": {
          "model_module": "@jupyter-widgets/base",
          "model_module_version": "1.2.0",
          "model_name": "LayoutModel",
          "state": {
            "_model_module": "@jupyter-widgets/base",
            "_model_module_version": "1.2.0",
            "_model_name": "LayoutModel",
            "_view_count": null,
            "_view_module": "@jupyter-widgets/base",
            "_view_module_version": "1.2.0",
            "_view_name": "LayoutView",
            "align_content": null,
            "align_items": null,
            "align_self": null,
            "border": null,
            "bottom": null,
            "display": null,
            "flex": null,
            "flex_flow": null,
            "grid_area": null,
            "grid_auto_columns": null,
            "grid_auto_flow": null,
            "grid_auto_rows": null,
            "grid_column": null,
            "grid_gap": null,
            "grid_row": null,
            "grid_template_areas": null,
            "grid_template_columns": null,
            "grid_template_rows": null,
            "height": null,
            "justify_content": null,
            "justify_items": null,
            "left": null,
            "margin": null,
            "max_height": null,
            "max_width": null,
            "min_height": null,
            "min_width": null,
            "object_fit": null,
            "object_position": null,
            "order": null,
            "overflow": null,
            "overflow_x": null,
            "overflow_y": null,
            "padding": null,
            "right": null,
            "top": null,
            "visibility": null,
            "width": null
          }
        },
        "eadefb37c1c84d2499e89cb45abe530f": {
          "model_module": "@jupyter-widgets/controls",
          "model_module_version": "1.5.0",
          "model_name": "DescriptionStyleModel",
          "state": {
            "_model_module": "@jupyter-widgets/controls",
            "_model_module_version": "1.5.0",
            "_model_name": "DescriptionStyleModel",
            "_view_count": null,
            "_view_module": "@jupyter-widgets/base",
            "_view_module_version": "1.2.0",
            "_view_name": "StyleView",
            "description_width": ""
          }
        },
        "ebf36f09c7d144d78fc0e2b5af809416": {
          "model_module": "@jupyter-widgets/controls",
          "model_module_version": "1.5.0",
          "model_name": "ProgressStyleModel",
          "state": {
            "_model_module": "@jupyter-widgets/controls",
            "_model_module_version": "1.5.0",
            "_model_name": "ProgressStyleModel",
            "_view_count": null,
            "_view_module": "@jupyter-widgets/base",
            "_view_module_version": "1.2.0",
            "_view_name": "StyleView",
            "bar_color": null,
            "description_width": ""
          }
        },
        "ecd19fb0939b47fe83d6ecd9e91c81a9": {
          "model_module": "@jupyter-widgets/controls",
          "model_module_version": "1.5.0",
          "model_name": "HTMLModel",
          "state": {
            "_dom_classes": [],
            "_model_module": "@jupyter-widgets/controls",
            "_model_module_version": "1.5.0",
            "_model_name": "HTMLModel",
            "_view_count": null,
            "_view_module": "@jupyter-widgets/controls",
            "_view_module_version": "1.5.0",
            "_view_name": "HTMLView",
            "description": "",
            "description_tooltip": null,
            "layout": "IPY_MODEL_a2dfe470480a442c9f80bb59c8f339f3",
            "placeholder": "​",
            "style": "IPY_MODEL_7c9d0ff6322b4a43bb21899094b2c72e",
            "value": " 529/529 [00:00&lt;00:00, 19.6kB/s]"
          }
        },
        "ef19ab46223c4b28991249c93d5923ce": {
          "model_module": "@jupyter-widgets/controls",
          "model_module_version": "1.5.0",
          "model_name": "HTMLModel",
          "state": {
            "_dom_classes": [],
            "_model_module": "@jupyter-widgets/controls",
            "_model_module_version": "1.5.0",
            "_model_name": "HTMLModel",
            "_view_count": null,
            "_view_module": "@jupyter-widgets/controls",
            "_view_module_version": "1.5.0",
            "_view_name": "HTMLView",
            "description": "",
            "description_tooltip": null,
            "layout": "IPY_MODEL_ce6c84a654e54795a72d5181616d3db3",
            "placeholder": "​",
            "style": "IPY_MODEL_35f73ead62dd47cda4d4f560d2532f4e",
            "value": "Downloading: 100%"
          }
        },
        "ef390fa9533a41808166ec9da2448f6b": {
          "model_module": "@jupyter-widgets/controls",
          "model_module_version": "1.5.0",
          "model_name": "FloatProgressModel",
          "state": {
            "_dom_classes": [],
            "_model_module": "@jupyter-widgets/controls",
            "_model_module_version": "1.5.0",
            "_model_name": "FloatProgressModel",
            "_view_count": null,
            "_view_module": "@jupyter-widgets/controls",
            "_view_module_version": "1.5.0",
            "_view_name": "ProgressView",
            "bar_style": "success",
            "description": "",
            "description_tooltip": null,
            "layout": "IPY_MODEL_be7bf1cf96504343b8bd04a716af6feb",
            "max": 5069051,
            "min": 0,
            "orientation": "horizontal",
            "style": "IPY_MODEL_4992c30dc7c349208faf647912b4cfd2",
            "value": 5069051
          }
        },
        "f5af84e2797e401191eb011d9707e96e": {
          "model_module": "@jupyter-widgets/controls",
          "model_module_version": "1.5.0",
          "model_name": "DescriptionStyleModel",
          "state": {
            "_model_module": "@jupyter-widgets/controls",
            "_model_module_version": "1.5.0",
            "_model_name": "DescriptionStyleModel",
            "_view_count": null,
            "_view_module": "@jupyter-widgets/base",
            "_view_module_version": "1.2.0",
            "_view_name": "StyleView",
            "description_width": ""
          }
        },
        "f8078d9a190f41aca52d24d40daa7f48": {
          "model_module": "@jupyter-widgets/base",
          "model_module_version": "1.2.0",
          "model_name": "LayoutModel",
          "state": {
            "_model_module": "@jupyter-widgets/base",
            "_model_module_version": "1.2.0",
            "_model_name": "LayoutModel",
            "_view_count": null,
            "_view_module": "@jupyter-widgets/base",
            "_view_module_version": "1.2.0",
            "_view_name": "LayoutView",
            "align_content": null,
            "align_items": null,
            "align_self": null,
            "border": null,
            "bottom": null,
            "display": null,
            "flex": null,
            "flex_flow": null,
            "grid_area": null,
            "grid_auto_columns": null,
            "grid_auto_flow": null,
            "grid_auto_rows": null,
            "grid_column": null,
            "grid_gap": null,
            "grid_row": null,
            "grid_template_areas": null,
            "grid_template_columns": null,
            "grid_template_rows": null,
            "height": null,
            "justify_content": null,
            "justify_items": null,
            "left": null,
            "margin": null,
            "max_height": null,
            "max_width": null,
            "min_height": null,
            "min_width": null,
            "object_fit": null,
            "object_position": null,
            "order": null,
            "overflow": null,
            "overflow_x": null,
            "overflow_y": null,
            "padding": null,
            "right": null,
            "top": null,
            "visibility": null,
            "width": null
          }
        },
        "f8e6799aed824050be8dfbe5e92d8dfe": {
          "model_module": "@jupyter-widgets/controls",
          "model_module_version": "1.5.0",
          "model_name": "HTMLModel",
          "state": {
            "_dom_classes": [],
            "_model_module": "@jupyter-widgets/controls",
            "_model_module_version": "1.5.0",
            "_model_name": "HTMLModel",
            "_view_count": null,
            "_view_module": "@jupyter-widgets/controls",
            "_view_module_version": "1.5.0",
            "_view_name": "HTMLView",
            "description": "",
            "description_tooltip": null,
            "layout": "IPY_MODEL_f8078d9a190f41aca52d24d40daa7f48",
            "placeholder": "​",
            "style": "IPY_MODEL_eadefb37c1c84d2499e89cb45abe530f",
            "value": " 5.07M/5.07M [00:00&lt;00:00, 49.0MB/s]"
          }
        }
      }
    }
  },
  "nbformat": 4,
  "nbformat_minor": 0
}